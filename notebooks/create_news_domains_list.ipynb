{
 "cells": [
  {
   "cell_type": "code",
   "execution_count": 1,
   "metadata": {},
   "outputs": [],
   "source": [
    "import pandas as pd\n",
    "from bs4 import BeautifulSoup\n",
    "from urllib.request import urlopen\n",
    "from urllib.parse import urlparse\n",
    "import json"
   ]
  },
  {
   "cell_type": "code",
   "execution_count": 2,
   "metadata": {},
   "outputs": [],
   "source": [
    "news = pd.read_csv(\"uci-news-aggregator.csv\")"
   ]
  },
  {
   "cell_type": "markdown",
   "metadata": {},
   "source": [
    "# utils"
   ]
  },
  {
   "cell_type": "code",
   "execution_count": 3,
   "metadata": {},
   "outputs": [],
   "source": [
    "def remove_www(x):\n",
    "    dot_split = x.split(\".\")\n",
    "    if len(dot_split) > 2:\n",
    "        return \".\".join(dot_split[1:])\n",
    "    else:\n",
    "        return x"
   ]
  },
  {
   "cell_type": "markdown",
   "metadata": {},
   "source": [
    "# cleaning list"
   ]
  },
  {
   "cell_type": "code",
   "execution_count": 4,
   "metadata": {},
   "outputs": [],
   "source": [
    "news[\"HOSTNAME\"] = news.HOSTNAME.apply(remove_www)"
   ]
  },
  {
   "cell_type": "code",
   "execution_count": 5,
   "metadata": {
    "scrolled": true
   },
   "outputs": [],
   "source": [
    "news = news.drop_duplicates(subset=\"HOSTNAME\", keep=\"last\")"
   ]
  },
  {
   "cell_type": "code",
   "execution_count": 6,
   "metadata": {},
   "outputs": [],
   "source": [
    "news_domains = news.HOSTNAME.unique().tolist()"
   ]
  },
  {
   "cell_type": "code",
   "execution_count": 7,
   "metadata": {},
   "outputs": [
    {
     "data": {
      "text/plain": [
       "9549"
      ]
     },
     "execution_count": 7,
     "metadata": {},
     "output_type": "execute_result"
    }
   ],
   "source": [
    "for i in news_domains:\n",
    "    if \".edu\" in i:\n",
    "        news_domains.remove(i)\n",
    "len(news_domains)"
   ]
  },
  {
   "cell_type": "code",
   "execution_count": 8,
   "metadata": {},
   "outputs": [
    {
     "name": "stdout",
     "output_type": "stream",
     "text": [
      "hawaii.edu\n",
      "uconn.edu\n",
      "buffalo.edu\n",
      "iwu.edu\n",
      "uiowa.edu\n"
     ]
    }
   ],
   "source": [
    "for i in news_domains:\n",
    "    if \".edu\" in i:\n",
    "        print(i)"
   ]
  },
  {
   "cell_type": "code",
   "execution_count": 9,
   "metadata": {},
   "outputs": [
    {
     "data": {
      "text/plain": [
       "9545"
      ]
     },
     "execution_count": 9,
     "metadata": {},
     "output_type": "execute_result"
    }
   ],
   "source": [
    "for i in news_domains:\n",
    "    if \".edu\" in i:\n",
    "        news_domains.remove(i)\n",
    "len(news_domains)"
   ]
  },
  {
   "cell_type": "code",
   "execution_count": 10,
   "metadata": {},
   "outputs": [],
   "source": [
    "to_rem = [\n",
    "    \"youtube.com\",\n",
    "    \"co.ke\",\n",
    "    \"co.nz\",\n",
    "    \"co.tt\",\n",
    "    \"co.tz\",\n",
    "    \"co.ug\",\n",
    "    \"co.uk\",\n",
    "    \"co.za\",\n",
    "    \"com.au\",\n",
    "    \"com.lb\",\n",
    "    \"com.ng\",\n",
    "    \"com.ph\",\n",
    "    \"com.pk\",\n",
    "    \"com.sg\",\n",
    "    \"com.ua\",\n",
    "    \"linkedin.com\",\n",
    "    \"techcrunch.com\",\n",
    "]"
   ]
  },
  {
   "cell_type": "code",
   "execution_count": 11,
   "metadata": {},
   "outputs": [
    {
     "data": {
      "text/plain": [
       "9529"
      ]
     },
     "execution_count": 11,
     "metadata": {},
     "output_type": "execute_result"
    }
   ],
   "source": [
    "news_domains = [x for x in news_domains if x not in to_rem]\n",
    "len(news_domains)"
   ]
  },
  {
   "cell_type": "code",
   "execution_count": 12,
   "metadata": {},
   "outputs": [
    {
     "data": {
      "text/plain": [
       "9538"
      ]
     },
     "execution_count": 12,
     "metadata": {},
     "output_type": "execute_result"
    }
   ],
   "source": [
    "to_add = [\n",
    "    \"techmeme.com\",\n",
    "    \"news.sky.com\",\n",
    "    \"bellingcat.com\",\n",
    "    \"apnews.com\",\n",
    "    \"nbcnews.to\",\n",
    "    \"buzzfeednews.com\",\n",
    "    \"coindesk.com\",\n",
    "    \"tvnz.co.nz\",\n",
    "    \"faz.net\"\n",
    "]\n",
    "for i in to_add:\n",
    "    news_domains.append(i)\n",
    "len(news_domains)"
   ]
  },
  {
   "cell_type": "code",
   "execution_count": 13,
   "metadata": {},
   "outputs": [
    {
     "name": "stderr",
     "output_type": "stream",
     "text": [
      "<ipython-input-13-fe44ee9e608c>:10: SettingWithCopyWarning: \n",
      "A value is trying to be set on a copy of a slice from a DataFrame.\n",
      "Try using .loc[row_indexer,col_indexer] = value instead\n",
      "\n",
      "See the caveats in the documentation: https://pandas.pydata.org/pandas-docs/stable/user_guide/indexing.html#returning-a-view-versus-a-copy\n",
      "  df[\"is_news\"] = df.is_news.astype(int)\n"
     ]
    }
   ],
   "source": [
    "# # use short url list\n",
    "with open(\"short_url.json\") as json_file:\n",
    "    short_url = json.load(json_file)\n",
    "\n",
    "short_url = pd.DataFrame.from_dict(short_url)\n",
    "# select only short urls, if their long url is in news\n",
    "short_url_news = short_url[short_url.is_news == True].short_url.unique().tolist()\n",
    "\n",
    "df = short_url[short_url.short_url.isin(short_url_news)]\n",
    "df[\"is_news\"] = df.is_news.astype(int)\n",
    "\n",
    "# calculate procentage of times short url domain leads to news site\n",
    "dfgb = df.groupby(by=[\"short_url\"]).sum()\n",
    "s = df.short_url.value_counts()\n",
    "df = dfgb.merge(s.rename(\"all\"), left_index=True, right_index=True)\n",
    "df.index.name = \"short_url\"\n",
    "df.reset_index(inplace=True)\n",
    "df[\"perc\"] = df[\"is_news\"] / df[\"all\"] * 100\n",
    "\n",
    "# # create list of short urls, I more then 50% times it leads to news site\n",
    "short_url_list = df[df[\"perc\"] > 50].short_url.tolist()"
   ]
  },
  {
   "cell_type": "code",
   "execution_count": 14,
   "metadata": {
    "scrolled": true
   },
   "outputs": [
    {
     "data": {
      "text/plain": [
       "['1843m.ag',\n",
       " '4NN.cx',\n",
       " '53eig.ht',\n",
       " '808ne.ws',\n",
       " 'WhiteHouse.gov',\n",
       " 'Whitehouse.gov',\n",
       " 'abc30.tv',\n",
       " 'abc7.la',\n",
       " 'abc7ne.ws',\n",
       " 'action.consumerreports.org',\n",
       " 'afp.com',\n",
       " 'apne.ws',\n",
       " 'b-gat.es',\n",
       " 'bbc.in',\n",
       " 'bloom.bg',\n",
       " 'bos.gl',\n",
       " 'buildbackbetter.gov',\n",
       " 'cbsn.ws',\n",
       " 'cityjourn.al',\n",
       " 'cnb.cx',\n",
       " 'cnet.co',\n",
       " 'cnn.it',\n",
       " 'cntrvlr.co',\n",
       " 'cos.lv',\n",
       " 'dailym.ai',\n",
       " 'econ.st',\n",
       " 'ellemag.co',\n",
       " 'engt.co',\n",
       " 'google.it',\n",
       " 'hill.cm',\n",
       " 'ja.ma',\n",
       " 'jtim.es',\n",
       " 'mol.im',\n",
       " 'mtr.cool',\n",
       " 'natgeo.com',\n",
       " 'nationalenquirer.com',\n",
       " 'nie.mn',\n",
       " 'nym.ag',\n",
       " 'nyti.ms',\n",
       " 'nytimes.com',\n",
       " 'nzzl.us',\n",
       " 'on.mktw.net',\n",
       " 'on.theatln.tc',\n",
       " 'p4k.in',\n",
       " 'petitions.whitehouse.gov',\n",
       " 'pewrsr.ch',\n",
       " 'propub.li',\n",
       " 'rdcu.be',\n",
       " 'reut.rs',\n",
       " 'rol.st',\n",
       " 'sabahdai.ly',\n",
       " 'sc.mp',\n",
       " 'slate.trib.al',\n",
       " 'st.news',\n",
       " 'str.sg',\n",
       " 'tcrn.ch',\n",
       " 'tdrt.io',\n",
       " 'thr.cm',\n",
       " 'ti.me',\n",
       " 'tmz.me',\n",
       " 'to.pbs.org',\n",
       " 'trib.al',\n",
       " 'vntyfr.com',\n",
       " 'vult.re',\n",
       " 'wapo.st',\n",
       " 'washex.am',\n",
       " 'wdrb.news',\n",
       " 'whitehouse.gov.',\n",
       " 'wired.trib.al',\n",
       " 'yhoo.it',\n",
       " 'zd.net']"
      ]
     },
     "execution_count": 14,
     "metadata": {},
     "output_type": "execute_result"
    }
   ],
   "source": [
    "short_url_list"
   ]
  },
  {
   "cell_type": "code",
   "execution_count": 15,
   "metadata": {},
   "outputs": [
    {
     "data": {
      "text/plain": [
       "9609"
      ]
     },
     "execution_count": 15,
     "metadata": {},
     "output_type": "execute_result"
    }
   ],
   "source": [
    "for i in short_url_list:\n",
    "    news_domains.append(i)\n",
    "len(news_domains)"
   ]
  },
  {
   "cell_type": "code",
   "execution_count": 16,
   "metadata": {},
   "outputs": [],
   "source": [
    "with open(\"news_domains.txt\", \"w\") as f:\n",
    "    f.write(json.dumps(news_domains))"
   ]
  },
  {
   "cell_type": "code",
   "execution_count": null,
   "metadata": {},
   "outputs": [],
   "source": []
  },
  {
   "cell_type": "code",
   "execution_count": null,
   "metadata": {},
   "outputs": [],
   "source": []
  },
  {
   "cell_type": "code",
   "execution_count": null,
   "metadata": {},
   "outputs": [],
   "source": []
  }
 ],
 "metadata": {
  "kernelspec": {
   "display_name": "Python 3",
   "language": "python",
   "name": "python3"
  },
  "language_info": {
   "codemirror_mode": {
    "name": "ipython",
    "version": 3
   },
   "file_extension": ".py",
   "mimetype": "text/x-python",
   "name": "python",
   "nbconvert_exporter": "python",
   "pygments_lexer": "ipython3",
   "version": "3.8.5"
  },
  "varInspector": {
   "cols": {
    "lenName": 16,
    "lenType": 16,
    "lenVar": 40
   },
   "kernels_config": {
    "python": {
     "delete_cmd_postfix": "",
     "delete_cmd_prefix": "del ",
     "library": "var_list.py",
     "varRefreshCmd": "print(var_dic_list())"
    },
    "r": {
     "delete_cmd_postfix": ") ",
     "delete_cmd_prefix": "rm(",
     "library": "var_list.r",
     "varRefreshCmd": "cat(var_dic_list()) "
    }
   },
   "types_to_exclude": [
    "module",
    "function",
    "builtin_function_or_method",
    "instance",
    "_Feature"
   ],
   "window_display": false
  }
 },
 "nbformat": 4,
 "nbformat_minor": 4
}