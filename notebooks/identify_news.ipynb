{
 "cells": [
  {
   "cell_type": "markdown",
   "metadata": {},
   "source": [
    "# load data"
   ]
  },
  {
   "cell_type": "code",
   "execution_count": 1,
   "metadata": {},
   "outputs": [],
   "source": [
    "custom_newsfeedcustom_newsfeed"
   ]
  },
  {
   "cell_type": "code",
   "execution_count": 2,
   "metadata": {},
   "outputs": [],
   "source": [
    "cnx = sqlite3.connect(\"../home.db\")\n",
    "df_tweets = pd.read_sql_query(\"SELECT id, full_text FROM tweets\", cnx)\n",
    "df_tweets_2 = df_tweets.copy()"
   ]
  },
  {
   "cell_type": "code",
   "execution_count": 3,
   "metadata": {},
   "outputs": [],
   "source": [
    "with open('news_domains.txt', 'r') as f:\n",
    "    news_domains = json.loads(f.read())"
   ]
  },
  {
   "cell_type": "markdown",
   "metadata": {},
   "source": [
    "# utils"
   ]
  },
  {
   "cell_type": "code",
   "execution_count": 4,
   "metadata": {},
   "outputs": [],
   "source": [
    "def find_url(tweet):\n",
    "    return re.findall(\"http\\S+\", tweet)\n",
    "\n",
    "def clean_links(tweet):\n",
    "    tweet = re.sub(r'bit.ly/\\S+', '', tweet)\n",
    "    tweet = re.sub(r't.co/\\S+', '', tweet)\n",
    "    tweet = re.sub(r'buff.ly/\\S+', '', tweet)\n",
    "    tweet = re.sub(r'twitter.com/\\S+', '', tweet)\n",
    "    return tweet\n",
    "\n",
    "def get_domain(url):\n",
    "    domain = urlparse(url).netloc\n",
    "    dot_split = domain.split(\".\")\n",
    "    if len(dot_split) > 2:\n",
    "        return \".\".join(dot_split[1:])\n",
    "    else:\n",
    "        return domain\n",
    "    \n",
    "def remove_empty_str(l):\n",
    "    for i in l:\n",
    "        if len(i) == 0:\n",
    "            l.remove(i)\n",
    "    return(l)"
   ]
  },
  {
   "cell_type": "markdown",
   "metadata": {},
   "source": [
    "# function for df"
   ]
  },
  {
   "cell_type": "code",
   "execution_count": 5,
   "metadata": {
    "code_folding": []
   },
   "outputs": [],
   "source": [
    "def find_news(df):\n",
    "\n",
    "    df[\"urls\"] = df[\"full_text\"].apply(find_url)\n",
    "    df[\"urls\"] = df.urls.apply(lambda x: [clean_links(d) for d in x])\n",
    "    df[\"domains\"] = df.urls.apply(lambda x: [get_domain(d) for d in x])\n",
    "    df[\"domains\"] = df.domains.apply(remove_empty_str)\n",
    "    df.drop([\"urls\"], axis=1, inplace=True)\n",
    "\n",
    "\n",
    "    new_columns_list = []\n",
    "    max_nr_dom = df.domains.str.len().max()\n",
    "    for i in range(max_nr_dom):\n",
    "        new_columns_list.append(f\"domain{i+1}\")\n",
    "    df[new_columns_list] = pd.DataFrame(df.domains.tolist())\n",
    "\n",
    "\n",
    "    for col in new_columns_list:\n",
    "        df[col] = df[col].isin(news_domains)\n",
    "\n",
    "    df.drop([\"domains\"], axis=1, inplace=True)\n",
    "\n",
    "    df[\"contains_news\"] = df[new_columns_list].sum(axis=1)\n",
    "    df[\"contains_news\"] = df.contains_news.apply(lambda x: x if x == 0 else 1)\n",
    "    df.drop(new_columns_list, axis=1, inplace=True)\n",
    "    \n",
    "    return df\n"
   ]
  },
  {
   "cell_type": "code",
   "execution_count": 6,
   "metadata": {},
   "outputs": [
    {
     "name": "stdout",
     "output_type": "stream",
     "text": [
      "CPU times: user 569 ms, sys: 7.93 ms, total: 577 ms\n",
      "Wall time: 577 ms\n"
     ]
    }
   ],
   "source": [
    "%%time\n",
    "df_tweets = find_news(df_tweets)"
   ]
  },
  {
   "cell_type": "code",
   "execution_count": 8,
   "metadata": {},
   "outputs": [
    {
     "data": {
      "text/html": [
       "<div>\n",
       "<style scoped>\n",
       "    .dataframe tbody tr th:only-of-type {\n",
       "        vertical-align: middle;\n",
       "    }\n",
       "\n",
       "    .dataframe tbody tr th {\n",
       "        vertical-align: top;\n",
       "    }\n",
       "\n",
       "    .dataframe thead th {\n",
       "        text-align: right;\n",
       "    }\n",
       "</style>\n",
       "<table border=\"1\" class=\"dataframe\">\n",
       "  <thead>\n",
       "    <tr style=\"text-align: right;\">\n",
       "      <th></th>\n",
       "      <th>id</th>\n",
       "      <th>full_text</th>\n",
       "      <th>contains_news</th>\n",
       "    </tr>\n",
       "  </thead>\n",
       "  <tbody>\n",
       "    <tr>\n",
       "      <th>96</th>\n",
       "      <td>986941808348409856</td>\n",
       "      <td>My comments in The Guardian on implementation ...</td>\n",
       "      <td>1</td>\n",
       "    </tr>\n",
       "    <tr>\n",
       "      <th>150</th>\n",
       "      <td>1083458327143739392</td>\n",
       "      <td>Cyber insurance experts agree they're not sure...</td>\n",
       "      <td>1</td>\n",
       "    </tr>\n",
       "    <tr>\n",
       "      <th>188</th>\n",
       "      <td>1121030235108118528</td>\n",
       "      <td>@wmarybeard @Lord_Keynes2 @Steve_Sailer The Yo...</td>\n",
       "      <td>1</td>\n",
       "    </tr>\n",
       "    <tr>\n",
       "      <th>196</th>\n",
       "      <td>1129155364404858880</td>\n",
       "      <td>Peasants in medieval England ate a diet of mea...</td>\n",
       "      <td>1</td>\n",
       "    </tr>\n",
       "    <tr>\n",
       "      <th>222</th>\n",
       "      <td>1153145699086680069</td>\n",
       "      <td>The Finns know the score: regular sauna usage ...</td>\n",
       "      <td>1</td>\n",
       "    </tr>\n",
       "    <tr>\n",
       "      <th>...</th>\n",
       "      <td>...</td>\n",
       "      <td>...</td>\n",
       "      <td>...</td>\n",
       "    </tr>\n",
       "    <tr>\n",
       "      <th>50173</th>\n",
       "      <td>1350121300925313028</td>\n",
       "      <td>Individual contributions dominate in Canada, a...</td>\n",
       "      <td>1</td>\n",
       "    </tr>\n",
       "    <tr>\n",
       "      <th>50203</th>\n",
       "      <td>1350126505339346957</td>\n",
       "      <td>A Webflow founder posts how Hackernews saved t...</td>\n",
       "      <td>1</td>\n",
       "    </tr>\n",
       "    <tr>\n",
       "      <th>50215</th>\n",
       "      <td>1350129672529481728</td>\n",
       "      <td>Sources: at an all-hands staff meeting, incomi...</td>\n",
       "      <td>1</td>\n",
       "    </tr>\n",
       "    <tr>\n",
       "      <th>50216</th>\n",
       "      <td>1350129720311115777</td>\n",
       "      <td>In 10 years: In order to train our new model, ...</td>\n",
       "      <td>1</td>\n",
       "    </tr>\n",
       "    <tr>\n",
       "      <th>50274</th>\n",
       "      <td>1350137248981811207</td>\n",
       "      <td>Sources: Apple is discussing launching a new s...</td>\n",
       "      <td>1</td>\n",
       "    </tr>\n",
       "  </tbody>\n",
       "</table>\n",
       "<p>2236 rows × 3 columns</p>\n",
       "</div>"
      ],
      "text/plain": [
       "                        id                                          full_text  \\\n",
       "96      986941808348409856  My comments in The Guardian on implementation ...   \n",
       "150    1083458327143739392  Cyber insurance experts agree they're not sure...   \n",
       "188    1121030235108118528  @wmarybeard @Lord_Keynes2 @Steve_Sailer The Yo...   \n",
       "196    1129155364404858880  Peasants in medieval England ate a diet of mea...   \n",
       "222    1153145699086680069  The Finns know the score: regular sauna usage ...   \n",
       "...                    ...                                                ...   \n",
       "50173  1350121300925313028  Individual contributions dominate in Canada, a...   \n",
       "50203  1350126505339346957  A Webflow founder posts how Hackernews saved t...   \n",
       "50215  1350129672529481728  Sources: at an all-hands staff meeting, incomi...   \n",
       "50216  1350129720311115777  In 10 years: In order to train our new model, ...   \n",
       "50274  1350137248981811207  Sources: Apple is discussing launching a new s...   \n",
       "\n",
       "       contains_news  \n",
       "96                 1  \n",
       "150                1  \n",
       "188                1  \n",
       "196                1  \n",
       "222                1  \n",
       "...              ...  \n",
       "50173              1  \n",
       "50203              1  \n",
       "50215              1  \n",
       "50216              1  \n",
       "50274              1  \n",
       "\n",
       "[2236 rows x 3 columns]"
      ]
     },
     "execution_count": 8,
     "metadata": {},
     "output_type": "execute_result"
    }
   ],
   "source": [
    "df_tweets[df_tweets[\"contains_news\"] > 0]"
   ]
  },
  {
   "cell_type": "markdown",
   "metadata": {},
   "source": [
    "# function for single tweet"
   ]
  },
  {
   "cell_type": "code",
   "execution_count": 9,
   "metadata": {},
   "outputs": [
    {
     "name": "stdout",
     "output_type": "stream",
     "text": [
      "I wish I had kept my 1,700 BTC @ $0.06 instead of selling them at $0.30, now that they're $8.00! #bitcoin\n"
     ]
    }
   ],
   "source": [
    "tweet1 = df_tweets_2.iloc[0]\n",
    "print(tweet1.full_text)"
   ]
  },
  {
   "cell_type": "code",
   "execution_count": 10,
   "metadata": {},
   "outputs": [],
   "source": [
    "def find_news(tweet_full_text):\n",
    "    urls = find_url(tweet_full_text)\n",
    "    urls = [clean_links(d) for d in urls]\n",
    "    domains = [get_domain(d) for d in urls]\n",
    "    domains = remove_empty_str(domains)\n",
    "    contains_news = 0\n",
    "    for i in domains:\n",
    "        if i in news_domains:\n",
    "            contains_news = 1\n",
    "            break\n",
    "            \n",
    "    return contains_news"
   ]
  },
  {
   "cell_type": "code",
   "execution_count": 11,
   "metadata": {},
   "outputs": [
    {
     "data": {
      "text/plain": [
       "False"
      ]
     },
     "execution_count": 11,
     "metadata": {},
     "output_type": "execute_result"
    }
   ],
   "source": [
    "find_news(tweet1.full_text) is True"
   ]
  },
  {
   "cell_type": "code",
   "execution_count": 13,
   "metadata": {},
   "outputs": [
    {
     "name": "stdout",
     "output_type": "stream",
     "text": [
      "CPU times: user 1.95 s, sys: 0 ns, total: 1.95 s\n",
      "Wall time: 1.95 s\n"
     ]
    }
   ],
   "source": [
    "%%time\n",
    "df_tweets_2[\"contains_news\"] = df_tweets_2.full_text.apply(find_news)"
   ]
  },
  {
   "cell_type": "code",
   "execution_count": 14,
   "metadata": {
    "scrolled": false
   },
   "outputs": [
    {
     "data": {
      "text/html": [
       "<div>\n",
       "<style scoped>\n",
       "    .dataframe tbody tr th:only-of-type {\n",
       "        vertical-align: middle;\n",
       "    }\n",
       "\n",
       "    .dataframe tbody tr th {\n",
       "        vertical-align: top;\n",
       "    }\n",
       "\n",
       "    .dataframe thead th {\n",
       "        text-align: right;\n",
       "    }\n",
       "</style>\n",
       "<table border=\"1\" class=\"dataframe\">\n",
       "  <thead>\n",
       "    <tr style=\"text-align: right;\">\n",
       "      <th></th>\n",
       "      <th>id</th>\n",
       "      <th>full_text</th>\n",
       "      <th>contains_news</th>\n",
       "    </tr>\n",
       "  </thead>\n",
       "  <tbody>\n",
       "    <tr>\n",
       "      <th>96</th>\n",
       "      <td>986941808348409856</td>\n",
       "      <td>My comments in The Guardian on implementation ...</td>\n",
       "      <td>1</td>\n",
       "    </tr>\n",
       "    <tr>\n",
       "      <th>150</th>\n",
       "      <td>1083458327143739392</td>\n",
       "      <td>Cyber insurance experts agree they're not sure...</td>\n",
       "      <td>1</td>\n",
       "    </tr>\n",
       "    <tr>\n",
       "      <th>188</th>\n",
       "      <td>1121030235108118528</td>\n",
       "      <td>@wmarybeard @Lord_Keynes2 @Steve_Sailer The Yo...</td>\n",
       "      <td>1</td>\n",
       "    </tr>\n",
       "    <tr>\n",
       "      <th>196</th>\n",
       "      <td>1129155364404858880</td>\n",
       "      <td>Peasants in medieval England ate a diet of mea...</td>\n",
       "      <td>1</td>\n",
       "    </tr>\n",
       "    <tr>\n",
       "      <th>222</th>\n",
       "      <td>1153145699086680069</td>\n",
       "      <td>The Finns know the score: regular sauna usage ...</td>\n",
       "      <td>1</td>\n",
       "    </tr>\n",
       "    <tr>\n",
       "      <th>...</th>\n",
       "      <td>...</td>\n",
       "      <td>...</td>\n",
       "      <td>...</td>\n",
       "    </tr>\n",
       "    <tr>\n",
       "      <th>50173</th>\n",
       "      <td>1350121300925313028</td>\n",
       "      <td>Individual contributions dominate in Canada, a...</td>\n",
       "      <td>1</td>\n",
       "    </tr>\n",
       "    <tr>\n",
       "      <th>50203</th>\n",
       "      <td>1350126505339346957</td>\n",
       "      <td>A Webflow founder posts how Hackernews saved t...</td>\n",
       "      <td>1</td>\n",
       "    </tr>\n",
       "    <tr>\n",
       "      <th>50215</th>\n",
       "      <td>1350129672529481728</td>\n",
       "      <td>Sources: at an all-hands staff meeting, incomi...</td>\n",
       "      <td>1</td>\n",
       "    </tr>\n",
       "    <tr>\n",
       "      <th>50216</th>\n",
       "      <td>1350129720311115777</td>\n",
       "      <td>In 10 years: In order to train our new model, ...</td>\n",
       "      <td>1</td>\n",
       "    </tr>\n",
       "    <tr>\n",
       "      <th>50274</th>\n",
       "      <td>1350137248981811207</td>\n",
       "      <td>Sources: Apple is discussing launching a new s...</td>\n",
       "      <td>1</td>\n",
       "    </tr>\n",
       "  </tbody>\n",
       "</table>\n",
       "<p>2236 rows × 3 columns</p>\n",
       "</div>"
      ],
      "text/plain": [
       "                        id                                          full_text  \\\n",
       "96      986941808348409856  My comments in The Guardian on implementation ...   \n",
       "150    1083458327143739392  Cyber insurance experts agree they're not sure...   \n",
       "188    1121030235108118528  @wmarybeard @Lord_Keynes2 @Steve_Sailer The Yo...   \n",
       "196    1129155364404858880  Peasants in medieval England ate a diet of mea...   \n",
       "222    1153145699086680069  The Finns know the score: regular sauna usage ...   \n",
       "...                    ...                                                ...   \n",
       "50173  1350121300925313028  Individual contributions dominate in Canada, a...   \n",
       "50203  1350126505339346957  A Webflow founder posts how Hackernews saved t...   \n",
       "50215  1350129672529481728  Sources: at an all-hands staff meeting, incomi...   \n",
       "50216  1350129720311115777  In 10 years: In order to train our new model, ...   \n",
       "50274  1350137248981811207  Sources: Apple is discussing launching a new s...   \n",
       "\n",
       "       contains_news  \n",
       "96                 1  \n",
       "150                1  \n",
       "188                1  \n",
       "196                1  \n",
       "222                1  \n",
       "...              ...  \n",
       "50173              1  \n",
       "50203              1  \n",
       "50215              1  \n",
       "50216              1  \n",
       "50274              1  \n",
       "\n",
       "[2236 rows x 3 columns]"
      ]
     },
     "execution_count": 14,
     "metadata": {},
     "output_type": "execute_result"
    }
   ],
   "source": [
    "df_tweets_2[df_tweets_2[\"contains_news\"] > 0]"
   ]
  },
  {
   "cell_type": "code",
   "execution_count": 15,
   "metadata": {},
   "outputs": [
    {
     "data": {
      "text/html": [
       "<div>\n",
       "<style scoped>\n",
       "    .dataframe tbody tr th:only-of-type {\n",
       "        vertical-align: middle;\n",
       "    }\n",
       "\n",
       "    .dataframe tbody tr th {\n",
       "        vertical-align: top;\n",
       "    }\n",
       "\n",
       "    .dataframe thead th {\n",
       "        text-align: right;\n",
       "    }\n",
       "</style>\n",
       "<table border=\"1\" class=\"dataframe\">\n",
       "  <thead>\n",
       "    <tr style=\"text-align: right;\">\n",
       "      <th></th>\n",
       "      <th>id</th>\n",
       "      <th>full_text</th>\n",
       "      <th>contains_news</th>\n",
       "    </tr>\n",
       "  </thead>\n",
       "  <tbody>\n",
       "  </tbody>\n",
       "</table>\n",
       "</div>"
      ],
      "text/plain": [
       "Empty DataFrame\n",
       "Columns: [id, full_text, contains_news]\n",
       "Index: []"
      ]
     },
     "execution_count": 15,
     "metadata": {},
     "output_type": "execute_result"
    }
   ],
   "source": [
    "df_tweets[df_tweets[\"contains_news\"] != df_tweets_2[\"contains_news\"]]"
   ]
  },
  {
   "cell_type": "code",
   "execution_count": null,
   "metadata": {},
   "outputs": [],
   "source": []
  }
 ],
 "metadata": {
  "kernelspec": {
   "display_name": "Python 3",
   "language": "python",
   "name": "python3"
  },
  "language_info": {
   "codemirror_mode": {
    "name": "ipython",
    "version": 3
   },
   "file_extension": ".py",
   "mimetype": "text/x-python",
   "name": "python",
   "nbconvert_exporter": "python",
   "pygments_lexer": "ipython3",
   "version": "3.8.5"
  },
  "varInspector": {
   "cols": {
    "lenName": 16,
    "lenType": 16,
    "lenVar": 40
   },
   "kernels_config": {
    "python": {
     "delete_cmd_postfix": "",
     "delete_cmd_prefix": "del ",
     "library": "var_list.py",
     "varRefreshCmd": "print(var_dic_list())"
    },
    "r": {
     "delete_cmd_postfix": ") ",
     "delete_cmd_prefix": "rm(",
     "library": "var_list.r",
     "varRefreshCmd": "cat(var_dic_list()) "
    }
   },
   "types_to_exclude": [
    "module",
    "function",
    "builtin_function_or_method",
    "instance",
    "_Feature"
   ],
   "window_display": false
  }
 },
 "nbformat": 4,
 "nbformat_minor": 4
}
