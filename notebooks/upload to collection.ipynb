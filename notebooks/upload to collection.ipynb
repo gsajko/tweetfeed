{
 "cells": [
  {
   "cell_type": "code",
   "execution_count": 4,
   "metadata": {},
   "outputs": [],
   "source": [
    "import os\n",
    "from twitter_to_sqlite import utils"
   ]
  },
  {
   "cell_type": "code",
   "execution_count": 5,
   "metadata": {},
   "outputs": [],
   "source": [
    "#get likes\n",
    "#create collection\n",
    "#upload likes there"
   ]
  },
  {
   "cell_type": "code",
   "execution_count": 6,
   "metadata": {},
   "outputs": [],
   "source": [
    "auth = json.load(open(\"../auth/auth.json\"))"
   ]
  },
  {
   "cell_type": "markdown",
   "metadata": {},
   "source": [
    "## get likes"
   ]
  },
  {
   "cell_type": "code",
   "execution_count": 12,
   "metadata": {},
   "outputs": [],
   "source": [
    "url = \"https://api.twitter.com/1.1/favorites/list.json?count=10&screen_name=saiko_grzegorz\""
   ]
  },
  {
   "cell_type": "code",
   "execution_count": 13,
   "metadata": {},
   "outputs": [],
   "source": [
    "session = utils.session_for_auth(auth)\n",
    "response = session.get(url)\n",
    "tweets = response.json()"
   ]
  },
  {
   "cell_type": "code",
   "execution_count": 14,
   "metadata": {},
   "outputs": [],
   "source": [
    "tweets = response.json()"
   ]
  },
  {
   "cell_type": "code",
   "execution_count": 15,
   "metadata": {
    "scrolled": false
   },
   "outputs": [
    {
     "data": {
      "text/plain": [
       "10"
      ]
     },
     "execution_count": 15,
     "metadata": {},
     "output_type": "execute_result"
    }
   ],
   "source": [
    "len(tweets)"
   ]
  },
  {
   "cell_type": "code",
   "execution_count": 17,
   "metadata": {
    "scrolled": false
   },
   "outputs": [
    {
     "data": {
      "text/plain": [
       "{'created_at': 'Fri Dec 18 05:10:29 +0000 2020',\n",
       " 'id': 1339800179340394498,\n",
       " 'id_str': '1339800179340394498',\n",
       " 'text': 'Lenin and a drunk snowman. https://t.co/oqq03FqeJQ',\n",
       " 'truncated': False,\n",
       " 'entities': {'hashtags': [],\n",
       "  'symbols': [],\n",
       "  'user_mentions': [],\n",
       "  'urls': [],\n",
       "  'media': [{'id': 1339800085203447808,\n",
       "    'id_str': '1339800085203447808',\n",
       "    'indices': [27, 50],\n",
       "    'media_url': 'http://pbs.twimg.com/media/EpftFDSW8AAjiC6.jpg',\n",
       "    'media_url_https': 'https://pbs.twimg.com/media/EpftFDSW8AAjiC6.jpg',\n",
       "    'url': 'https://t.co/oqq03FqeJQ',\n",
       "    'display_url': 'pic.twitter.com/oqq03FqeJQ',\n",
       "    'expanded_url': 'https://twitter.com/burkov/status/1339800179340394498/photo/1',\n",
       "    'type': 'photo',\n",
       "    'sizes': {'thumb': {'w': 150, 'h': 150, 'resize': 'crop'},\n",
       "     'large': {'w': 700, 'h': 429, 'resize': 'fit'},\n",
       "     'small': {'w': 680, 'h': 417, 'resize': 'fit'},\n",
       "     'medium': {'w': 700, 'h': 429, 'resize': 'fit'}}}]},\n",
       " 'extended_entities': {'media': [{'id': 1339800085203447808,\n",
       "    'id_str': '1339800085203447808',\n",
       "    'indices': [27, 50],\n",
       "    'media_url': 'http://pbs.twimg.com/media/EpftFDSW8AAjiC6.jpg',\n",
       "    'media_url_https': 'https://pbs.twimg.com/media/EpftFDSW8AAjiC6.jpg',\n",
       "    'url': 'https://t.co/oqq03FqeJQ',\n",
       "    'display_url': 'pic.twitter.com/oqq03FqeJQ',\n",
       "    'expanded_url': 'https://twitter.com/burkov/status/1339800179340394498/photo/1',\n",
       "    'type': 'photo',\n",
       "    'sizes': {'thumb': {'w': 150, 'h': 150, 'resize': 'crop'},\n",
       "     'large': {'w': 700, 'h': 429, 'resize': 'fit'},\n",
       "     'small': {'w': 680, 'h': 417, 'resize': 'fit'},\n",
       "     'medium': {'w': 700, 'h': 429, 'resize': 'fit'}}}]},\n",
       " 'source': '<a href=\"https://mobile.twitter.com\" rel=\"nofollow\">Twitter Web App</a>',\n",
       " 'in_reply_to_status_id': None,\n",
       " 'in_reply_to_status_id_str': None,\n",
       " 'in_reply_to_user_id': None,\n",
       " 'in_reply_to_user_id_str': None,\n",
       " 'in_reply_to_screen_name': None,\n",
       " 'user': {'id': 47126544,\n",
       "  'id_str': '47126544',\n",
       "  'name': 'Andriy Burkov',\n",
       "  'screen_name': 'burkov',\n",
       "  'location': 'Québec, Canada',\n",
       "  'description': 'Author of 📖 The Hundred-Page Machine Learning Book and the 📖 Machine Learning Engineering book',\n",
       "  'url': 'https://t.co/2uOLialmfG',\n",
       "  'entities': {'url': {'urls': [{'url': 'https://t.co/2uOLialmfG',\n",
       "      'expanded_url': 'http://themlbook.com',\n",
       "      'display_url': 'themlbook.com',\n",
       "      'indices': [0, 23]}]},\n",
       "   'description': {'urls': []}},\n",
       "  'protected': False,\n",
       "  'followers_count': 4792,\n",
       "  'friends_count': 128,\n",
       "  'listed_count': 86,\n",
       "  'created_at': 'Sun Jun 14 16:56:23 +0000 2009',\n",
       "  'favourites_count': 1654,\n",
       "  'utc_offset': None,\n",
       "  'time_zone': None,\n",
       "  'geo_enabled': False,\n",
       "  'verified': False,\n",
       "  'statuses_count': 3056,\n",
       "  'lang': None,\n",
       "  'contributors_enabled': False,\n",
       "  'is_translator': False,\n",
       "  'is_translation_enabled': False,\n",
       "  'profile_background_color': 'C0DEED',\n",
       "  'profile_background_image_url': 'http://abs.twimg.com/images/themes/theme1/bg.png',\n",
       "  'profile_background_image_url_https': 'https://abs.twimg.com/images/themes/theme1/bg.png',\n",
       "  'profile_background_tile': False,\n",
       "  'profile_image_url': 'http://pbs.twimg.com/profile_images/663827278502170624/lJjdhs6X_normal.jpg',\n",
       "  'profile_image_url_https': 'https://pbs.twimg.com/profile_images/663827278502170624/lJjdhs6X_normal.jpg',\n",
       "  'profile_banner_url': 'https://pbs.twimg.com/profile_banners/47126544/1601769420',\n",
       "  'profile_link_color': '1DA1F2',\n",
       "  'profile_sidebar_border_color': 'C0DEED',\n",
       "  'profile_sidebar_fill_color': 'DDEEF6',\n",
       "  'profile_text_color': '333333',\n",
       "  'profile_use_background_image': True,\n",
       "  'has_extended_profile': False,\n",
       "  'default_profile': True,\n",
       "  'default_profile_image': False,\n",
       "  'following': True,\n",
       "  'follow_request_sent': False,\n",
       "  'notifications': False,\n",
       "  'translator_type': 'none'},\n",
       " 'geo': None,\n",
       " 'coordinates': None,\n",
       " 'place': None,\n",
       " 'contributors': None,\n",
       " 'is_quote_status': False,\n",
       " 'retweet_count': 1,\n",
       " 'favorite_count': 11,\n",
       " 'favorited': True,\n",
       " 'retweeted': False,\n",
       " 'possibly_sensitive': False,\n",
       " 'lang': 'en'}"
      ]
     },
     "execution_count": 17,
     "metadata": {},
     "output_type": "execute_result"
    }
   ],
   "source": [
    "tweets[1]"
   ]
  },
  {
   "cell_type": "code",
   "execution_count": 21,
   "metadata": {},
   "outputs": [
    {
     "name": "stdout",
     "output_type": "stream",
     "text": [
      "1335562978037559298\n",
      "1335405235641217025\n",
      "1335388692597239810\n",
      "1335237496981041153\n",
      "1335175674152312832\n",
      "1335172080271319043\n",
      "1335072654907166720\n",
      "1335062019687337990\n",
      "1334976380254228483\n",
      "1334964487011639298\n"
     ]
    }
   ],
   "source": [
    "for tweet in tweets[:10]:\n",
    "    print(tweet[\"id\"])"
   ]
  },
  {
   "cell_type": "code",
   "execution_count": 22,
   "metadata": {
    "scrolled": true
   },
   "outputs": [
    {
     "data": {
      "text/plain": [
       "{'created_at': 'Sun Dec 06 12:33:22 +0000 2020',\n",
       " 'id': 1335562978037559298,\n",
       " 'id_str': '1335562978037559298',\n",
       " 'text': '🙌 https://t.co/7E2NBJknG3',\n",
       " 'truncated': False,\n",
       " 'entities': {'hashtags': [],\n",
       "  'symbols': [],\n",
       "  'user_mentions': [],\n",
       "  'urls': [{'url': 'https://t.co/7E2NBJknG3',\n",
       "    'expanded_url': 'https://twitter.com/StanleySBill/status/1335536780704149505',\n",
       "    'display_url': 'twitter.com/StanleySBill/s…',\n",
       "    'indices': [2, 25]}]},\n",
       " 'source': '<a href=\"https://mobile.twitter.com\" rel=\"nofollow\">Twitter Web App</a>',\n",
       " 'in_reply_to_status_id': None,\n",
       " 'in_reply_to_status_id_str': None,\n",
       " 'in_reply_to_user_id': None,\n",
       " 'in_reply_to_user_id_str': None,\n",
       " 'in_reply_to_screen_name': None,\n",
       " 'user': {'id': 2574493753,\n",
       "  'id_str': '2574493753',\n",
       "  'name': 'Piotr Grudzień',\n",
       "  'screen_name': 'GruPiotr',\n",
       "  'location': 'Warszawa, Polska',\n",
       "  'description': 'Cofounder at https://t.co/3KOuNc3Hgo | been at Y Combinator (S18), Microsoft London, University of Cambridge',\n",
       "  'url': 'https://t.co/j4UXvinq6L',\n",
       "  'entities': {'url': {'urls': [{'url': 'https://t.co/j4UXvinq6L',\n",
       "      'expanded_url': 'http://piotrgru.com',\n",
       "      'display_url': 'piotrgru.com',\n",
       "      'indices': [0, 23]}]},\n",
       "   'description': {'urls': [{'url': 'https://t.co/3KOuNc3Hgo',\n",
       "      'expanded_url': 'http://Quickchat.ai',\n",
       "      'display_url': 'Quickchat.ai',\n",
       "      'indices': [13, 36]}]}},\n",
       "  'protected': False,\n",
       "  'followers_count': 343,\n",
       "  'friends_count': 696,\n",
       "  'listed_count': 17,\n",
       "  'created_at': 'Wed Jun 18 09:07:56 +0000 2014',\n",
       "  'favourites_count': 1301,\n",
       "  'utc_offset': None,\n",
       "  'time_zone': None,\n",
       "  'geo_enabled': False,\n",
       "  'verified': False,\n",
       "  'statuses_count': 707,\n",
       "  'lang': None,\n",
       "  'contributors_enabled': False,\n",
       "  'is_translator': False,\n",
       "  'is_translation_enabled': False,\n",
       "  'profile_background_color': 'C0DEED',\n",
       "  'profile_background_image_url': 'http://abs.twimg.com/images/themes/theme1/bg.png',\n",
       "  'profile_background_image_url_https': 'https://abs.twimg.com/images/themes/theme1/bg.png',\n",
       "  'profile_background_tile': False,\n",
       "  'profile_image_url': 'http://pbs.twimg.com/profile_images/1318274903611723780/eSWvQee2_normal.jpg',\n",
       "  'profile_image_url_https': 'https://pbs.twimg.com/profile_images/1318274903611723780/eSWvQee2_normal.jpg',\n",
       "  'profile_banner_url': 'https://pbs.twimg.com/profile_banners/2574493753/1403118529',\n",
       "  'profile_link_color': '1DA1F2',\n",
       "  'profile_sidebar_border_color': 'C0DEED',\n",
       "  'profile_sidebar_fill_color': 'DDEEF6',\n",
       "  'profile_text_color': '333333',\n",
       "  'profile_use_background_image': True,\n",
       "  'has_extended_profile': False,\n",
       "  'default_profile': True,\n",
       "  'default_profile_image': False,\n",
       "  'following': True,\n",
       "  'follow_request_sent': False,\n",
       "  'notifications': False,\n",
       "  'translator_type': 'none'},\n",
       " 'geo': None,\n",
       " 'coordinates': None,\n",
       " 'place': None,\n",
       " 'contributors': None,\n",
       " 'is_quote_status': True,\n",
       " 'quoted_status_id': 1335536780704149505,\n",
       " 'quoted_status_id_str': '1335536780704149505',\n",
       " 'quoted_status': {'created_at': 'Sun Dec 06 10:49:16 +0000 2020',\n",
       "  'id': 1335536780704149505,\n",
       "  'id_str': '1335536780704149505',\n",
       "  'text': 'Polish word of the day: grudzień (December). While English uses the obsolete Latin \"tenth month\", the Polish word d… https://t.co/X0VjhlokUN',\n",
       "  'truncated': True,\n",
       "  'entities': {'hashtags': [],\n",
       "   'symbols': [],\n",
       "   'user_mentions': [],\n",
       "   'urls': [{'url': 'https://t.co/X0VjhlokUN',\n",
       "     'expanded_url': 'https://twitter.com/i/web/status/1335536780704149505',\n",
       "     'display_url': 'twitter.com/i/web/status/1…',\n",
       "     'indices': [117, 140]}]},\n",
       "  'source': '<a href=\"https://mobile.twitter.com\" rel=\"nofollow\">Twitter Web App</a>',\n",
       "  'in_reply_to_status_id': None,\n",
       "  'in_reply_to_status_id_str': None,\n",
       "  'in_reply_to_user_id': None,\n",
       "  'in_reply_to_user_id_str': None,\n",
       "  'in_reply_to_screen_name': None,\n",
       "  'user': {'id': 2319336781,\n",
       "   'id_str': '2319336781',\n",
       "   'name': 'Stanley Bill',\n",
       "   'screen_name': 'StanleySBill',\n",
       "   'location': 'Cambridge, United Kingdom',\n",
       "   'description': 'Polish politics and culture. Senior Lecturer at University of Cambridge: https://t.co/b2K6lGvzK2.\\nFounder and editor-at-large of @notesfrompoland.',\n",
       "   'url': 'http://t.co/MFXvN8quSm',\n",
       "   'entities': {'url': {'urls': [{'url': 'http://t.co/MFXvN8quSm',\n",
       "       'expanded_url': 'http://notesfrompoland.com/',\n",
       "       'display_url': 'notesfrompoland.com',\n",
       "       'indices': [0, 22]}]},\n",
       "    'description': {'urls': [{'url': 'https://t.co/b2K6lGvzK2',\n",
       "       'expanded_url': 'https://www.mmll.cam.ac.uk/sb2054',\n",
       "       'display_url': 'mmll.cam.ac.uk/sb2054',\n",
       "       'indices': [73, 96]}]}},\n",
       "   'protected': False,\n",
       "   'followers_count': 10480,\n",
       "   'friends_count': 682,\n",
       "   'listed_count': 107,\n",
       "   'created_at': 'Thu Jan 30 18:09:04 +0000 2014',\n",
       "   'favourites_count': 5837,\n",
       "   'utc_offset': None,\n",
       "   'time_zone': None,\n",
       "   'geo_enabled': False,\n",
       "   'verified': False,\n",
       "   'statuses_count': 4069,\n",
       "   'lang': None,\n",
       "   'contributors_enabled': False,\n",
       "   'is_translator': False,\n",
       "   'is_translation_enabled': False,\n",
       "   'profile_background_color': 'C0DEED',\n",
       "   'profile_background_image_url': 'http://abs.twimg.com/images/themes/theme1/bg.png',\n",
       "   'profile_background_image_url_https': 'https://abs.twimg.com/images/themes/theme1/bg.png',\n",
       "   'profile_background_tile': False,\n",
       "   'profile_image_url': 'http://pbs.twimg.com/profile_images/1276240192777736194/7UvUqVmO_normal.jpg',\n",
       "   'profile_image_url_https': 'https://pbs.twimg.com/profile_images/1276240192777736194/7UvUqVmO_normal.jpg',\n",
       "   'profile_banner_url': 'https://pbs.twimg.com/profile_banners/2319336781/1559051126',\n",
       "   'profile_link_color': '1DA1F2',\n",
       "   'profile_sidebar_border_color': 'C0DEED',\n",
       "   'profile_sidebar_fill_color': 'DDEEF6',\n",
       "   'profile_text_color': '333333',\n",
       "   'profile_use_background_image': True,\n",
       "   'has_extended_profile': False,\n",
       "   'default_profile': True,\n",
       "   'default_profile_image': False,\n",
       "   'following': False,\n",
       "   'follow_request_sent': False,\n",
       "   'notifications': False,\n",
       "   'translator_type': 'none'},\n",
       "  'geo': None,\n",
       "  'coordinates': None,\n",
       "  'place': None,\n",
       "  'contributors': None,\n",
       "  'is_quote_status': False,\n",
       "  'retweet_count': 82,\n",
       "  'favorite_count': 481,\n",
       "  'favorited': False,\n",
       "  'retweeted': False,\n",
       "  'possibly_sensitive': False,\n",
       "  'lang': 'en'},\n",
       " 'retweet_count': 0,\n",
       " 'favorite_count': 3,\n",
       " 'favorited': True,\n",
       " 'retweeted': False,\n",
       " 'possibly_sensitive': False,\n",
       " 'lang': 'und'}"
      ]
     },
     "execution_count": 22,
     "metadata": {},
     "output_type": "execute_result"
    }
   ],
   "source": [
    "tweets[0]"
   ]
  },
  {
   "cell_type": "markdown",
   "metadata": {},
   "source": [
    "## create collection"
   ]
  },
  {
   "cell_type": "code",
   "execution_count": 122,
   "metadata": {},
   "outputs": [],
   "source": [
    "url = \"https://api.twitter.com/1.1/collections/list.json?screen_name=gSajko\"\n",
    "session = utils.session_for_auth(auth)\n",
    "response = session.get(url)\n",
    "\n",
    "collections = response.json()\n",
    "\n",
    "collections = collections[\"objects\"][\"timelines\"]"
   ]
  },
  {
   "cell_type": "code",
   "execution_count": 123,
   "metadata": {},
   "outputs": [
    {
     "data": {
      "text/plain": [
       "['custom-1332229761427529731',\n",
       " 'custom-1332694084415262720',\n",
       " 'custom-1331518916829589505',\n",
       " 'custom-1332227210212757506',\n",
       " 'custom-1331518951097069571',\n",
       " 'custom-1332226194868228096',\n",
       " 'custom-1332229810324725761']"
      ]
     },
     "execution_count": 123,
     "metadata": {},
     "output_type": "execute_result"
    }
   ],
   "source": [
    "list(collections)"
   ]
  },
  {
   "cell_type": "code",
   "execution_count": 133,
   "metadata": {
    "scrolled": true
   },
   "outputs": [
    {
     "name": "stdout",
     "output_type": "stream",
     "text": [
      "custom-1332229761427529731 see_more\n",
      "custom-1332694084415262720 Tweets_to_classify\n",
      "custom-1331518916829589505 golden_standard\n",
      "custom-1332227210212757506 interesting\n",
      "custom-1331518951097069571 test2\n",
      "custom-1332226194868228096 useful\n",
      "custom-1332229810324725761 see_less\n"
     ]
    }
   ],
   "source": [
    "for k in collections.keys():\n",
    "    print(k, collections[k][\"name\"])"
   ]
  },
  {
   "cell_type": "code",
   "execution_count": 134,
   "metadata": {},
   "outputs": [],
   "source": [
    "coll_list = [\"custom-1332229761427529731\",\"custom-1332694084415262720\",\"custom-1332229810324725761\"]"
   ]
  },
  {
   "cell_type": "code",
   "execution_count": 139,
   "metadata": {
    "scrolled": true
   },
   "outputs": [
    {
     "name": "stdout",
     "output_type": "stream",
     "text": [
      "16\n",
      "20\n",
      "9\n"
     ]
    }
   ],
   "source": [
    "colltw_ids = []\n",
    "for collection_id in coll_list:\n",
    "    url = f\"https://api.twitter.com/1.1/collections/entries.json?id={collection_id}\"\n",
    "    try:\n",
    "        response = session.get(url)\n",
    "        collection_tweets = response.json()\n",
    "        collection_tweets = list(collection_tweets[\"objects\"][\"tweets\"])\n",
    "        print(len(collection_tweets))\n",
    "        colltw_ids += collection_tweets\n",
    "    except:\n",
    "      pass"
   ]
  },
  {
   "cell_type": "code",
   "execution_count": 171,
   "metadata": {
    "scrolled": true
   },
   "outputs": [
    {
     "data": {
      "text/plain": [
       "154"
      ]
     },
     "execution_count": 171,
     "metadata": {},
     "output_type": "execute_result"
    }
   ],
   "source": [
    "assert type(fave_ids[0]) == type(colltw_ids[0])\n",
    "to_classify = set(fave_ids) - set(colltw_ids)\n",
    "len(to_classify)"
   ]
  },
  {
   "cell_type": "code",
   "execution_count": 90,
   "metadata": {},
   "outputs": [
    {
     "data": {
      "text/plain": [
       "<Response [200]>"
      ]
     },
     "execution_count": 90,
     "metadata": {},
     "output_type": "execute_result"
    }
   ],
   "source": [
    "# url = \"https://api.twitter.com/1.1/collections/create.json?name=Tweets_to_classify\"\n",
    "# session.post(url)"
   ]
  },
  {
   "cell_type": "code",
   "execution_count": 170,
   "metadata": {},
   "outputs": [],
   "source": [
    "fave_ids = [str(tweet[\"id\"]) for tweet in tweets]"
   ]
  },
  {
   "cell_type": "code",
   "execution_count": 94,
   "metadata": {
    "collapsed": true
   },
   "outputs": [
    {
     "name": "stdout",
     "output_type": "stream",
     "text": [
      "1\n",
      "<Response [200]>\n",
      "2\n",
      "<Response [200]>\n",
      "3\n",
      "<Response [200]>\n",
      "4\n",
      "<Response [200]>\n",
      "5\n",
      "<Response [200]>\n",
      "6\n",
      "<Response [200]>\n",
      "7\n",
      "<Response [200]>\n",
      "8\n",
      "<Response [200]>\n",
      "9\n",
      "<Response [200]>\n",
      "10\n",
      "<Response [200]>\n",
      "11\n",
      "<Response [200]>\n",
      "12\n",
      "<Response [200]>\n",
      "13\n",
      "<Response [200]>\n",
      "14\n",
      "<Response [200]>\n",
      "15\n",
      "<Response [200]>\n",
      "16\n",
      "<Response [200]>\n",
      "17\n",
      "<Response [200]>\n",
      "18\n",
      "<Response [200]>\n",
      "19\n",
      "<Response [200]>\n",
      "20\n",
      "<Response [200]>\n",
      "21\n",
      "<Response [200]>\n",
      "22\n",
      "<Response [200]>\n",
      "23\n",
      "<Response [200]>\n",
      "24\n",
      "<Response [200]>\n",
      "25\n",
      "<Response [200]>\n",
      "26\n",
      "<Response [200]>\n",
      "27\n",
      "<Response [200]>\n",
      "28\n",
      "<Response [200]>\n",
      "29\n",
      "<Response [200]>\n",
      "30\n",
      "<Response [200]>\n",
      "31\n",
      "<Response [200]>\n",
      "32\n",
      "<Response [200]>\n",
      "33\n",
      "<Response [200]>\n",
      "34\n",
      "<Response [200]>\n",
      "35\n",
      "<Response [200]>\n",
      "36\n",
      "<Response [200]>\n",
      "37\n",
      "<Response [200]>\n",
      "38\n",
      "<Response [200]>\n",
      "39\n",
      "<Response [200]>\n",
      "40\n",
      "<Response [200]>\n",
      "41\n",
      "<Response [200]>\n",
      "42\n",
      "<Response [200]>\n",
      "43\n",
      "<Response [200]>\n",
      "44\n",
      "<Response [200]>\n",
      "45\n",
      "<Response [200]>\n",
      "46\n",
      "<Response [200]>\n",
      "47\n",
      "<Response [200]>\n",
      "48\n",
      "<Response [200]>\n",
      "49\n",
      "<Response [200]>\n",
      "50\n",
      "<Response [200]>\n",
      "51\n",
      "<Response [200]>\n",
      "52\n",
      "<Response [200]>\n",
      "53\n",
      "<Response [200]>\n",
      "54\n",
      "<Response [200]>\n",
      "55\n",
      "<Response [200]>\n",
      "56\n",
      "<Response [200]>\n",
      "57\n",
      "<Response [200]>\n",
      "58\n",
      "<Response [200]>\n",
      "59\n",
      "<Response [200]>\n",
      "60\n",
      "<Response [200]>\n",
      "61\n",
      "<Response [200]>\n",
      "62\n",
      "<Response [200]>\n",
      "63\n",
      "<Response [200]>\n",
      "64\n",
      "<Response [200]>\n",
      "65\n",
      "<Response [200]>\n",
      "66\n",
      "<Response [200]>\n",
      "67\n",
      "<Response [200]>\n",
      "68\n",
      "<Response [200]>\n",
      "69\n",
      "<Response [200]>\n",
      "70\n",
      "<Response [200]>\n",
      "71\n",
      "<Response [200]>\n",
      "72\n",
      "<Response [200]>\n",
      "73\n",
      "<Response [200]>\n",
      "74\n",
      "<Response [200]>\n",
      "75\n",
      "<Response [200]>\n",
      "76\n",
      "<Response [200]>\n",
      "77\n",
      "<Response [200]>\n",
      "78\n",
      "<Response [200]>\n",
      "79\n",
      "<Response [200]>\n",
      "80\n",
      "<Response [200]>\n",
      "81\n",
      "<Response [200]>\n",
      "82\n",
      "<Response [200]>\n",
      "83\n",
      "<Response [200]>\n",
      "84\n",
      "<Response [200]>\n",
      "85\n",
      "<Response [200]>\n",
      "86\n",
      "<Response [200]>\n",
      "87\n",
      "<Response [200]>\n",
      "88\n",
      "<Response [200]>\n",
      "89\n",
      "<Response [200]>\n",
      "90\n",
      "<Response [200]>\n",
      "91\n",
      "<Response [200]>\n",
      "92\n",
      "<Response [200]>\n",
      "93\n",
      "<Response [200]>\n",
      "94\n",
      "<Response [200]>\n",
      "95\n",
      "<Response [200]>\n",
      "96\n",
      "<Response [200]>\n",
      "97\n",
      "<Response [200]>\n",
      "98\n",
      "<Response [200]>\n",
      "99\n",
      "<Response [200]>\n",
      "100\n",
      "<Response [200]>\n",
      "101\n",
      "<Response [200]>\n",
      "102\n",
      "<Response [200]>\n",
      "103\n",
      "<Response [200]>\n",
      "104\n",
      "<Response [200]>\n",
      "105\n",
      "<Response [200]>\n",
      "106\n",
      "<Response [200]>\n",
      "107\n",
      "<Response [200]>\n",
      "108\n",
      "<Response [200]>\n",
      "109\n",
      "<Response [200]>\n",
      "110\n",
      "<Response [200]>\n",
      "111\n",
      "<Response [200]>\n",
      "112\n",
      "<Response [200]>\n",
      "113\n",
      "<Response [200]>\n",
      "114\n",
      "<Response [200]>\n",
      "115\n",
      "<Response [200]>\n",
      "116\n",
      "<Response [200]>\n",
      "117\n",
      "<Response [200]>\n",
      "118\n",
      "<Response [200]>\n",
      "119\n",
      "<Response [200]>\n",
      "120\n",
      "<Response [200]>\n",
      "121\n",
      "<Response [200]>\n",
      "122\n",
      "<Response [200]>\n",
      "123\n",
      "<Response [200]>\n",
      "124\n",
      "<Response [200]>\n",
      "125\n",
      "<Response [200]>\n",
      "126\n",
      "<Response [200]>\n",
      "127\n",
      "<Response [200]>\n",
      "128\n",
      "<Response [200]>\n",
      "129\n",
      "<Response [200]>\n",
      "130\n",
      "<Response [200]>\n",
      "131\n",
      "<Response [200]>\n",
      "132\n",
      "<Response [200]>\n",
      "133\n",
      "<Response [200]>\n",
      "134\n",
      "<Response [200]>\n",
      "135\n",
      "<Response [200]>\n",
      "136\n",
      "<Response [200]>\n",
      "137\n",
      "<Response [200]>\n",
      "138\n",
      "<Response [200]>\n",
      "139\n",
      "<Response [200]>\n",
      "140\n",
      "<Response [200]>\n",
      "141\n",
      "<Response [200]>\n",
      "142\n",
      "<Response [200]>\n",
      "143\n",
      "<Response [200]>\n",
      "144\n",
      "<Response [200]>\n",
      "145\n",
      "<Response [200]>\n",
      "146\n",
      "<Response [200]>\n",
      "147\n",
      "<Response [200]>\n",
      "148\n",
      "<Response [200]>\n",
      "149\n",
      "<Response [200]>\n",
      "150\n",
      "<Response [200]>\n",
      "151\n",
      "<Response [200]>\n",
      "152\n",
      "<Response [200]>\n",
      "153\n",
      "<Response [200]>\n",
      "154\n",
      "<Response [200]>\n",
      "155\n",
      "<Response [200]>\n",
      "156\n",
      "<Response [200]>\n",
      "157\n",
      "<Response [200]>\n",
      "158\n",
      "<Response [200]>\n",
      "159\n",
      "<Response [200]>\n",
      "160\n",
      "<Response [200]>\n",
      "161\n",
      "<Response [200]>\n",
      "162\n",
      "<Response [200]>\n",
      "163\n",
      "<Response [200]>\n",
      "164\n",
      "<Response [200]>\n",
      "165\n",
      "<Response [200]>\n",
      "166\n",
      "<Response [200]>\n",
      "167\n",
      "<Response [200]>\n",
      "168\n",
      "<Response [200]>\n",
      "169\n",
      "<Response [200]>\n",
      "170\n",
      "<Response [200]>\n",
      "171\n",
      "<Response [200]>\n",
      "172\n",
      "<Response [200]>\n",
      "173\n",
      "<Response [200]>\n",
      "174\n",
      "<Response [200]>\n",
      "175\n",
      "<Response [200]>\n",
      "176\n",
      "<Response [200]>\n",
      "177\n",
      "<Response [200]>\n",
      "178\n",
      "<Response [200]>\n",
      "179\n",
      "<Response [200]>\n",
      "180\n",
      "<Response [200]>\n",
      "181\n",
      "<Response [200]>\n",
      "182\n",
      "<Response [200]>\n",
      "183\n",
      "<Response [200]>\n",
      "184\n",
      "<Response [200]>\n",
      "185\n",
      "<Response [200]>\n",
      "186\n",
      "<Response [200]>\n",
      "187\n",
      "<Response [200]>\n",
      "188\n",
      "<Response [200]>\n",
      "189\n",
      "<Response [200]>\n",
      "190\n",
      "<Response [200]>\n",
      "191\n",
      "<Response [200]>\n",
      "192\n",
      "<Response [200]>\n",
      "193\n",
      "<Response [200]>\n",
      "194\n",
      "<Response [200]>\n",
      "195\n",
      "<Response [200]>\n",
      "196\n",
      "<Response [200]>\n",
      "197\n",
      "<Response [200]>\n",
      "198\n",
      "<Response [200]>\n"
     ]
    }
   ],
   "source": [
    "# add fav tweets to collection\n",
    "collection_id = \"custom-1332694084415262720\"\n",
    "counter = 0\n",
    "for tweet_id in fave_ids:\n",
    "    counter += 1\n",
    "    url = f\"https://api.twitter.com/1.1/collections/entries/add.json?tweet_id={tweet_id}&id={collection_id}\"\n",
    "    response = session.post(url)"
   ]
  },
  {
   "cell_type": "code",
   "execution_count": 176,
   "metadata": {},
   "outputs": [],
   "source": [
    "Tweets_to_classify = \"custom-1332694084415262720\"\n",
    "coll_list = [\"custom-1332229761427529731\", \"custom-1332229810324725761\"]"
   ]
  },
  {
   "cell_type": "code",
   "execution_count": 177,
   "metadata": {},
   "outputs": [
    {
     "name": "stdout",
     "output_type": "stream",
     "text": [
      "20\n",
      "13\n"
     ]
    }
   ],
   "source": [
    "rm_colltw_ids = []\n",
    "\n",
    "for collection_id in coll_list:\n",
    "    url = f\"https://api.twitter.com/1.1/collections/entries.json?id={collection_id}\"\n",
    "    try:\n",
    "        response = session.get(url)\n",
    "        collection_tweets = response.json()\n",
    "        collection_tweets = list(collection_tweets[\"objects\"][\"tweets\"])\n",
    "        print(len(collection_tweets))\n",
    "        rm_colltw_ids += collection_tweets\n",
    "    except:\n",
    "      pass"
   ]
  },
  {
   "cell_type": "code",
   "execution_count": 178,
   "metadata": {},
   "outputs": [
    {
     "data": {
      "text/plain": [
       "33"
      ]
     },
     "execution_count": 178,
     "metadata": {},
     "output_type": "execute_result"
    }
   ],
   "source": [
    "len(rm_colltw_ids)"
   ]
  },
  {
   "cell_type": "code",
   "execution_count": 179,
   "metadata": {},
   "outputs": [
    {
     "data": {
      "text/plain": [
       "20"
      ]
     },
     "execution_count": 179,
     "metadata": {},
     "output_type": "execute_result"
    }
   ],
   "source": [
    "url = f\"https://api.twitter.com/1.1/collections/entries.json?id={Tweets_to_classify}\"\n",
    "response = session.get(url)\n",
    "collection_tweets = response.json()\n",
    "Tweets_to_classify = list(collection_tweets[\"objects\"][\"tweets\"])\n",
    "len(Tweets_to_classify)\n"
   ]
  },
  {
   "cell_type": "code",
   "execution_count": 182,
   "metadata": {},
   "outputs": [],
   "source": [
    "assert type(rm_colltw_ids[0]) == type(Tweets_to_classify[0])\n",
    "to_remove = set(rm_colltw_ids) & set(Tweets_to_classify)"
   ]
  },
  {
   "cell_type": "code",
   "execution_count": 183,
   "metadata": {},
   "outputs": [
    {
     "data": {
      "text/plain": [
       "{'1320158483908616198', '1321109146784194562', '1321229420015816707'}"
      ]
     },
     "execution_count": 183,
     "metadata": {},
     "output_type": "execute_result"
    }
   ],
   "source": [
    "to_remove"
   ]
  },
  {
   "cell_type": "code",
   "execution_count": null,
   "metadata": {},
   "outputs": [],
   "source": []
  },
  {
   "cell_type": "code",
   "execution_count": null,
   "metadata": {},
   "outputs": [],
   "source": []
  },
  {
   "cell_type": "markdown",
   "metadata": {},
   "source": [
    "`POST https://api.twitter.com/1.1/collections/entries/remove.json?id=custom-388061495298244609&tweet_id=390890231215292416`"
   ]
  },
  {
   "cell_type": "code",
   "execution_count": null,
   "metadata": {},
   "outputs": [],
   "source": []
  },
  {
   "cell_type": "code",
   "execution_count": null,
   "metadata": {},
   "outputs": [],
   "source": [
    "https://api.twitter.com/1.1/collections/list.json?screen_name=twittermusic&count=1"
   ]
  },
  {
   "cell_type": "code",
   "execution_count": null,
   "metadata": {},
   "outputs": [],
   "source": [
    "# how many days old is tweet?\n",
    "tweets = tweepy.Cursor(api.favorites, id=\"vboykis\").items()\n",
    "for tweet in tweets:\n",
    "    days_old = (datetime.datetime.now() - tweet.created_at).days\n",
    "    if days_old > 2:\n",
    "      break\n",
    "    print(tweet.id)\n",
    "    print(tweet.created_at)\n",
    "    print(days_old)\n"
   ]
  },
  {
   "cell_type": "code",
   "execution_count": null,
   "metadata": {},
   "outputs": [],
   "source": [
    "import datetime, time"
   ]
  }
 ],
 "metadata": {
  "kernelspec": {
   "display_name": "Python 3",
   "language": "python",
   "name": "python3"
  },
  "language_info": {
   "codemirror_mode": {
    "name": "ipython",
    "version": 3
   },
   "file_extension": ".py",
   "mimetype": "text/x-python",
   "name": "python",
   "nbconvert_exporter": "python",
   "pygments_lexer": "ipython3",
   "version": "3.8.5"
  },
  "varInspector": {
   "cols": {
    "lenName": 16,
    "lenType": 16,
    "lenVar": 40
   },
   "kernels_config": {
    "python": {
     "delete_cmd_postfix": "",
     "delete_cmd_prefix": "del ",
     "library": "var_list.py",
     "varRefreshCmd": "print(var_dic_list())"
    },
    "r": {
     "delete_cmd_postfix": ") ",
     "delete_cmd_prefix": "rm(",
     "library": "var_list.r",
     "varRefreshCmd": "cat(var_dic_list()) "
    }
   },
   "types_to_exclude": [
    "module",
    "function",
    "builtin_function_or_method",
    "instance",
    "_Feature"
   ],
   "window_display": false
  }
 },
 "nbformat": 4,
 "nbformat_minor": 4
}
