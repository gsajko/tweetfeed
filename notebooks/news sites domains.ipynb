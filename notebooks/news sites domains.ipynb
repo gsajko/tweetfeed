{
 "cells": [
  {
   "cell_type": "code",
   "execution_count": 13,
   "metadata": {},
   "outputs": [],
   "source": [
    "import pandas as pd\n",
    "from bs4 import BeautifulSoup\n",
    "from urllib.request import urlopen\n",
    "from urllib.parse import urlparse"
   ]
  },
  {
   "cell_type": "code",
   "execution_count": 60,
   "metadata": {},
   "outputs": [],
   "source": [
    "news = pd.read_csv(\"uci-news-aggregator.csv\")"
   ]
  },
  {
   "cell_type": "code",
   "execution_count": 85,
   "metadata": {},
   "outputs": [
    {
     "data": {
      "text/html": [
       "<div>\n",
       "<style scoped>\n",
       "    .dataframe tbody tr th:only-of-type {\n",
       "        vertical-align: middle;\n",
       "    }\n",
       "\n",
       "    .dataframe tbody tr th {\n",
       "        vertical-align: top;\n",
       "    }\n",
       "\n",
       "    .dataframe thead th {\n",
       "        text-align: right;\n",
       "    }\n",
       "</style>\n",
       "<table border=\"1\" class=\"dataframe\">\n",
       "  <thead>\n",
       "    <tr style=\"text-align: right;\">\n",
       "      <th></th>\n",
       "      <th>ID</th>\n",
       "      <th>TITLE</th>\n",
       "      <th>URL</th>\n",
       "      <th>PUBLISHER</th>\n",
       "      <th>CATEGORY</th>\n",
       "      <th>STORY</th>\n",
       "      <th>HOSTNAME</th>\n",
       "      <th>TIMESTAMP</th>\n",
       "      <th>domains</th>\n",
       "      <th>HOSTNAME1</th>\n",
       "    </tr>\n",
       "  </thead>\n",
       "  <tbody>\n",
       "    <tr>\n",
       "      <th>418739</th>\n",
       "      <td>419258</td>\n",
       "      <td>Judge Rejects Apple's Attempt to Block Sale of...</td>\n",
       "      <td>http://www.1011now.com/home/headlines/Judge-Re...</td>\n",
       "      <td>1011now</td>\n",
       "      <td>t</td>\n",
       "      <td>dZ_8x5lVHdOV3OMSqo3kJlCBY3hdM</td>\n",
       "      <td>www.1011now.com</td>\n",
       "      <td>1409204592031</td>\n",
       "      <td>1011now.com</td>\n",
       "      <td>1011now.com</td>\n",
       "    </tr>\n",
       "    <tr>\n",
       "      <th>418379</th>\n",
       "      <td>418898</td>\n",
       "      <td>Spiders have forced Suzuki to recall more than...</td>\n",
       "      <td>http://www.10news.com/money/consumer/spiders-f...</td>\n",
       "      <td>10News</td>\n",
       "      <td>t</td>\n",
       "      <td>dBfDgNwT03XA8wMpl6xZVsqkpPeAM</td>\n",
       "      <td>www.10news.com</td>\n",
       "      <td>1409200768287</td>\n",
       "      <td>10news.com</td>\n",
       "      <td>10news.com</td>\n",
       "    </tr>\n",
       "    <tr>\n",
       "      <th>412210</th>\n",
       "      <td>412729</td>\n",
       "      <td>S&amp;P tops 2000... Fewer new homes bought... Son...</td>\n",
       "      <td>http://www.10tv.com/content/stories/apexchange...</td>\n",
       "      <td>10TV</td>\n",
       "      <td>b</td>\n",
       "      <td>dk6ynYIHv7N1ZfME3VPp1B6TrZCnM</td>\n",
       "      <td>www.10tv.com</td>\n",
       "      <td>1408994657924</td>\n",
       "      <td>10tv.com</td>\n",
       "      <td>10tv.com</td>\n",
       "    </tr>\n",
       "    <tr>\n",
       "      <th>211769</th>\n",
       "      <td>212215</td>\n",
       "      <td>Student debt-laden college grads under 40 have...</td>\n",
       "      <td>http://www.1150wima.com/articles/national-news...</td>\n",
       "      <td>WIMA</td>\n",
       "      <td>b</td>\n",
       "      <td>d2ZI8O50kacERzMVzH40TPizKhQKM</td>\n",
       "      <td>www.1150wima.com</td>\n",
       "      <td>1400372498604</td>\n",
       "      <td>1150wima.com</td>\n",
       "      <td>1150wima.com</td>\n",
       "    </tr>\n",
       "    <tr>\n",
       "      <th>415635</th>\n",
       "      <td>416154</td>\n",
       "      <td>Beyonce Gives Flawless Performance, Accepts Vi...</td>\n",
       "      <td>http://www.1190kex.com/articles/entertainment-...</td>\n",
       "      <td>KEX</td>\n",
       "      <td>e</td>\n",
       "      <td>dGQEVNbJW9QVL5MuoTBlFVEDBYiwM</td>\n",
       "      <td>www.1190kex.com</td>\n",
       "      <td>1409025935804</td>\n",
       "      <td>1190kex.com</td>\n",
       "      <td>1190kex.com</td>\n",
       "    </tr>\n",
       "  </tbody>\n",
       "</table>\n",
       "</div>"
      ],
      "text/plain": [
       "            ID                                              TITLE  \\\n",
       "418739  419258  Judge Rejects Apple's Attempt to Block Sale of...   \n",
       "418379  418898  Spiders have forced Suzuki to recall more than...   \n",
       "412210  412729  S&P tops 2000... Fewer new homes bought... Son...   \n",
       "211769  212215  Student debt-laden college grads under 40 have...   \n",
       "415635  416154  Beyonce Gives Flawless Performance, Accepts Vi...   \n",
       "\n",
       "                                                      URL PUBLISHER CATEGORY  \\\n",
       "418739  http://www.1011now.com/home/headlines/Judge-Re...   1011now        t   \n",
       "418379  http://www.10news.com/money/consumer/spiders-f...    10News        t   \n",
       "412210  http://www.10tv.com/content/stories/apexchange...      10TV        b   \n",
       "211769  http://www.1150wima.com/articles/national-news...      WIMA        b   \n",
       "415635  http://www.1190kex.com/articles/entertainment-...       KEX        e   \n",
       "\n",
       "                                STORY          HOSTNAME      TIMESTAMP  \\\n",
       "418739  dZ_8x5lVHdOV3OMSqo3kJlCBY3hdM   www.1011now.com  1409204592031   \n",
       "418379  dBfDgNwT03XA8wMpl6xZVsqkpPeAM    www.10news.com  1409200768287   \n",
       "412210  dk6ynYIHv7N1ZfME3VPp1B6TrZCnM      www.10tv.com  1408994657924   \n",
       "211769  d2ZI8O50kacERzMVzH40TPizKhQKM  www.1150wima.com  1400372498604   \n",
       "415635  dGQEVNbJW9QVL5MuoTBlFVEDBYiwM   www.1190kex.com  1409025935804   \n",
       "\n",
       "             domains     HOSTNAME1  \n",
       "418739   1011now.com   1011now.com  \n",
       "418379    10news.com    10news.com  \n",
       "412210      10tv.com      10tv.com  \n",
       "211769  1150wima.com  1150wima.com  \n",
       "415635   1190kex.com   1190kex.com  "
      ]
     },
     "execution_count": 85,
     "metadata": {},
     "output_type": "execute_result"
    }
   ],
   "source": [
    "news.head()"
   ]
  },
  {
   "cell_type": "code",
   "execution_count": 84,
   "metadata": {},
   "outputs": [
    {
     "data": {
      "text/plain": [
       "'www.10news.com'"
      ]
     },
     "execution_count": 84,
     "metadata": {},
     "output_type": "execute_result"
    }
   ],
   "source": [
    "news.iloc[1].HOSTNAME"
   ]
  },
  {
   "cell_type": "code",
   "execution_count": 62,
   "metadata": {},
   "outputs": [
    {
     "data": {
      "text/plain": [
       "11236"
      ]
     },
     "execution_count": 62,
     "metadata": {},
     "output_type": "execute_result"
    }
   ],
   "source": [
    "news.HOSTNAME.unique().size"
   ]
  },
  {
   "cell_type": "code",
   "execution_count": 63,
   "metadata": {},
   "outputs": [],
   "source": [
    "def get_domain(url):\n",
    "    domain = urlparse(url).netloc\n",
    "    dot_split = domain.split(\".\")\n",
    "    if len(dot_split) > 2:\n",
    "        return \".\".join(dot_split[1:])\n",
    "    else:\n",
    "        return domain"
   ]
  },
  {
   "cell_type": "code",
   "execution_count": 64,
   "metadata": {},
   "outputs": [],
   "source": [
    "news['domains'] = news.URL.apply(get_domain)"
   ]
  },
  {
   "cell_type": "code",
   "execution_count": 75,
   "metadata": {},
   "outputs": [],
   "source": [
    "def remove_www(x):\n",
    "    dot_split = x.split(\".\")\n",
    "    if len(dot_split) > 2:\n",
    "        return \".\".join(dot_split[1:])\n",
    "    else:\n",
    "        return x"
   ]
  },
  {
   "cell_type": "code",
   "execution_count": 76,
   "metadata": {},
   "outputs": [],
   "source": [
    "news[\"HOSTNAME1\"] = news.HOSTNAME.apply(remove_www)"
   ]
  },
  {
   "cell_type": "code",
   "execution_count": 77,
   "metadata": {},
   "outputs": [
    {
     "data": {
      "text/html": [
       "<div>\n",
       "<style scoped>\n",
       "    .dataframe tbody tr th:only-of-type {\n",
       "        vertical-align: middle;\n",
       "    }\n",
       "\n",
       "    .dataframe tbody tr th {\n",
       "        vertical-align: top;\n",
       "    }\n",
       "\n",
       "    .dataframe thead th {\n",
       "        text-align: right;\n",
       "    }\n",
       "</style>\n",
       "<table border=\"1\" class=\"dataframe\">\n",
       "  <thead>\n",
       "    <tr style=\"text-align: right;\">\n",
       "      <th></th>\n",
       "      <th>ID</th>\n",
       "      <th>TITLE</th>\n",
       "      <th>URL</th>\n",
       "      <th>PUBLISHER</th>\n",
       "      <th>CATEGORY</th>\n",
       "      <th>STORY</th>\n",
       "      <th>HOSTNAME</th>\n",
       "      <th>TIMESTAMP</th>\n",
       "      <th>domains</th>\n",
       "      <th>HOSTNAME1</th>\n",
       "    </tr>\n",
       "  </thead>\n",
       "  <tbody>\n",
       "    <tr>\n",
       "      <th>0</th>\n",
       "      <td>1</td>\n",
       "      <td>Fed official says weak data caused by weather,...</td>\n",
       "      <td>http://www.latimes.com/business/money/la-fi-mo...</td>\n",
       "      <td>Los Angeles Times</td>\n",
       "      <td>b</td>\n",
       "      <td>ddUyU0VZz0BRneMioxUPQVP6sIxvM</td>\n",
       "      <td>www.latimes.com</td>\n",
       "      <td>1394470370698</td>\n",
       "      <td>latimes.com</td>\n",
       "      <td>latimes.com</td>\n",
       "    </tr>\n",
       "    <tr>\n",
       "      <th>1</th>\n",
       "      <td>2</td>\n",
       "      <td>Fed's Charles Plosser sees high bar for change...</td>\n",
       "      <td>http://www.livemint.com/Politics/H2EvwJSK2VE6O...</td>\n",
       "      <td>Livemint</td>\n",
       "      <td>b</td>\n",
       "      <td>ddUyU0VZz0BRneMioxUPQVP6sIxvM</td>\n",
       "      <td>www.livemint.com</td>\n",
       "      <td>1394470371207</td>\n",
       "      <td>livemint.com</td>\n",
       "      <td>livemint.com</td>\n",
       "    </tr>\n",
       "    <tr>\n",
       "      <th>2</th>\n",
       "      <td>3</td>\n",
       "      <td>US open: Stocks fall after Fed official hints ...</td>\n",
       "      <td>http://www.ifamagazine.com/news/us-open-stocks...</td>\n",
       "      <td>IFA Magazine</td>\n",
       "      <td>b</td>\n",
       "      <td>ddUyU0VZz0BRneMioxUPQVP6sIxvM</td>\n",
       "      <td>www.ifamagazine.com</td>\n",
       "      <td>1394470371550</td>\n",
       "      <td>ifamagazine.com</td>\n",
       "      <td>ifamagazine.com</td>\n",
       "    </tr>\n",
       "    <tr>\n",
       "      <th>3</th>\n",
       "      <td>4</td>\n",
       "      <td>Fed risks falling 'behind the curve', Charles ...</td>\n",
       "      <td>http://www.ifamagazine.com/news/fed-risks-fall...</td>\n",
       "      <td>IFA Magazine</td>\n",
       "      <td>b</td>\n",
       "      <td>ddUyU0VZz0BRneMioxUPQVP6sIxvM</td>\n",
       "      <td>www.ifamagazine.com</td>\n",
       "      <td>1394470371793</td>\n",
       "      <td>ifamagazine.com</td>\n",
       "      <td>ifamagazine.com</td>\n",
       "    </tr>\n",
       "    <tr>\n",
       "      <th>4</th>\n",
       "      <td>5</td>\n",
       "      <td>Fed's Plosser: Nasty Weather Has Curbed Job Gr...</td>\n",
       "      <td>http://www.moneynews.com/Economy/federal-reser...</td>\n",
       "      <td>Moneynews</td>\n",
       "      <td>b</td>\n",
       "      <td>ddUyU0VZz0BRneMioxUPQVP6sIxvM</td>\n",
       "      <td>www.moneynews.com</td>\n",
       "      <td>1394470372027</td>\n",
       "      <td>moneynews.com</td>\n",
       "      <td>moneynews.com</td>\n",
       "    </tr>\n",
       "  </tbody>\n",
       "</table>\n",
       "</div>"
      ],
      "text/plain": [
       "   ID                                              TITLE  \\\n",
       "0   1  Fed official says weak data caused by weather,...   \n",
       "1   2  Fed's Charles Plosser sees high bar for change...   \n",
       "2   3  US open: Stocks fall after Fed official hints ...   \n",
       "3   4  Fed risks falling 'behind the curve', Charles ...   \n",
       "4   5  Fed's Plosser: Nasty Weather Has Curbed Job Gr...   \n",
       "\n",
       "                                                 URL          PUBLISHER  \\\n",
       "0  http://www.latimes.com/business/money/la-fi-mo...  Los Angeles Times   \n",
       "1  http://www.livemint.com/Politics/H2EvwJSK2VE6O...           Livemint   \n",
       "2  http://www.ifamagazine.com/news/us-open-stocks...       IFA Magazine   \n",
       "3  http://www.ifamagazine.com/news/fed-risks-fall...       IFA Magazine   \n",
       "4  http://www.moneynews.com/Economy/federal-reser...          Moneynews   \n",
       "\n",
       "  CATEGORY                          STORY             HOSTNAME      TIMESTAMP  \\\n",
       "0        b  ddUyU0VZz0BRneMioxUPQVP6sIxvM      www.latimes.com  1394470370698   \n",
       "1        b  ddUyU0VZz0BRneMioxUPQVP6sIxvM     www.livemint.com  1394470371207   \n",
       "2        b  ddUyU0VZz0BRneMioxUPQVP6sIxvM  www.ifamagazine.com  1394470371550   \n",
       "3        b  ddUyU0VZz0BRneMioxUPQVP6sIxvM  www.ifamagazine.com  1394470371793   \n",
       "4        b  ddUyU0VZz0BRneMioxUPQVP6sIxvM    www.moneynews.com  1394470372027   \n",
       "\n",
       "           domains        HOSTNAME1  \n",
       "0      latimes.com      latimes.com  \n",
       "1     livemint.com     livemint.com  \n",
       "2  ifamagazine.com  ifamagazine.com  \n",
       "3  ifamagazine.com  ifamagazine.com  \n",
       "4    moneynews.com    moneynews.com  "
      ]
     },
     "execution_count": 77,
     "metadata": {},
     "output_type": "execute_result"
    }
   ],
   "source": [
    "news.head()"
   ]
  },
  {
   "cell_type": "code",
   "execution_count": 78,
   "metadata": {},
   "outputs": [
    {
     "data": {
      "text/html": [
       "<div>\n",
       "<style scoped>\n",
       "    .dataframe tbody tr th:only-of-type {\n",
       "        vertical-align: middle;\n",
       "    }\n",
       "\n",
       "    .dataframe tbody tr th {\n",
       "        vertical-align: top;\n",
       "    }\n",
       "\n",
       "    .dataframe thead th {\n",
       "        text-align: right;\n",
       "    }\n",
       "</style>\n",
       "<table border=\"1\" class=\"dataframe\">\n",
       "  <thead>\n",
       "    <tr style=\"text-align: right;\">\n",
       "      <th></th>\n",
       "      <th>ID</th>\n",
       "      <th>TITLE</th>\n",
       "      <th>URL</th>\n",
       "      <th>PUBLISHER</th>\n",
       "      <th>CATEGORY</th>\n",
       "      <th>STORY</th>\n",
       "      <th>HOSTNAME</th>\n",
       "      <th>TIMESTAMP</th>\n",
       "      <th>domains</th>\n",
       "      <th>HOSTNAME1</th>\n",
       "    </tr>\n",
       "  </thead>\n",
       "  <tbody>\n",
       "    <tr>\n",
       "      <th>112713</th>\n",
       "      <td>112949</td>\n",
       "      <td>Google Glass on sale in the US for $1500 and o...</td>\n",
       "      <td>http://di-ve.com:8080/business-technology/goog...</td>\n",
       "      <td>Di-Ve.com</td>\n",
       "      <td>t</td>\n",
       "      <td>ds-c0hCe-TNfsiM2X6ng2OUYDZ93M</td>\n",
       "      <td>di-ve.com</td>\n",
       "      <td>1397512295989</td>\n",
       "      <td>di-ve.com:8080</td>\n",
       "      <td>di-ve.com</td>\n",
       "    </tr>\n",
       "  </tbody>\n",
       "</table>\n",
       "</div>"
      ],
      "text/plain": [
       "            ID                                              TITLE  \\\n",
       "112713  112949  Google Glass on sale in the US for $1500 and o...   \n",
       "\n",
       "                                                      URL  PUBLISHER CATEGORY  \\\n",
       "112713  http://di-ve.com:8080/business-technology/goog...  Di-Ve.com        t   \n",
       "\n",
       "                                STORY   HOSTNAME      TIMESTAMP  \\\n",
       "112713  ds-c0hCe-TNfsiM2X6ng2OUYDZ93M  di-ve.com  1397512295989   \n",
       "\n",
       "               domains  HOSTNAME1  \n",
       "112713  di-ve.com:8080  di-ve.com  "
      ]
     },
     "execution_count": 78,
     "metadata": {},
     "output_type": "execute_result"
    }
   ],
   "source": [
    "news[news.HOSTNAME1 != news.domains]"
   ]
  },
  {
   "cell_type": "code",
   "execution_count": 79,
   "metadata": {},
   "outputs": [],
   "source": [
    "news = news.drop_duplicates(subset=\"HOSTNAME1\", keep=\"last\").sort_values(by=\"domains\")"
   ]
  },
  {
   "cell_type": "code",
   "execution_count": 80,
   "metadata": {},
   "outputs": [
    {
     "data": {
      "text/plain": [
       "9630"
      ]
     },
     "execution_count": 80,
     "metadata": {},
     "output_type": "execute_result"
    }
   ],
   "source": [
    "news.HOSTNAME1.unique().size"
   ]
  },
  {
   "cell_type": "code",
   "execution_count": 81,
   "metadata": {},
   "outputs": [
    {
     "data": {
      "text/html": [
       "<div>\n",
       "<style scoped>\n",
       "    .dataframe tbody tr th:only-of-type {\n",
       "        vertical-align: middle;\n",
       "    }\n",
       "\n",
       "    .dataframe tbody tr th {\n",
       "        vertical-align: top;\n",
       "    }\n",
       "\n",
       "    .dataframe thead th {\n",
       "        text-align: right;\n",
       "    }\n",
       "</style>\n",
       "<table border=\"1\" class=\"dataframe\">\n",
       "  <thead>\n",
       "    <tr style=\"text-align: right;\">\n",
       "      <th></th>\n",
       "      <th>ID</th>\n",
       "      <th>TITLE</th>\n",
       "      <th>URL</th>\n",
       "      <th>PUBLISHER</th>\n",
       "      <th>CATEGORY</th>\n",
       "      <th>STORY</th>\n",
       "      <th>HOSTNAME</th>\n",
       "      <th>TIMESTAMP</th>\n",
       "      <th>domains</th>\n",
       "      <th>HOSTNAME1</th>\n",
       "    </tr>\n",
       "  </thead>\n",
       "  <tbody>\n",
       "    <tr>\n",
       "      <th>418739</th>\n",
       "      <td>419258</td>\n",
       "      <td>Judge Rejects Apple's Attempt to Block Sale of...</td>\n",
       "      <td>http://www.1011now.com/home/headlines/Judge-Re...</td>\n",
       "      <td>1011now</td>\n",
       "      <td>t</td>\n",
       "      <td>dZ_8x5lVHdOV3OMSqo3kJlCBY3hdM</td>\n",
       "      <td>www.1011now.com</td>\n",
       "      <td>1409204592031</td>\n",
       "      <td>1011now.com</td>\n",
       "      <td>1011now.com</td>\n",
       "    </tr>\n",
       "    <tr>\n",
       "      <th>418379</th>\n",
       "      <td>418898</td>\n",
       "      <td>Spiders have forced Suzuki to recall more than...</td>\n",
       "      <td>http://www.10news.com/money/consumer/spiders-f...</td>\n",
       "      <td>10News</td>\n",
       "      <td>t</td>\n",
       "      <td>dBfDgNwT03XA8wMpl6xZVsqkpPeAM</td>\n",
       "      <td>www.10news.com</td>\n",
       "      <td>1409200768287</td>\n",
       "      <td>10news.com</td>\n",
       "      <td>10news.com</td>\n",
       "    </tr>\n",
       "    <tr>\n",
       "      <th>412210</th>\n",
       "      <td>412729</td>\n",
       "      <td>S&amp;P tops 2000... Fewer new homes bought... Son...</td>\n",
       "      <td>http://www.10tv.com/content/stories/apexchange...</td>\n",
       "      <td>10TV</td>\n",
       "      <td>b</td>\n",
       "      <td>dk6ynYIHv7N1ZfME3VPp1B6TrZCnM</td>\n",
       "      <td>www.10tv.com</td>\n",
       "      <td>1408994657924</td>\n",
       "      <td>10tv.com</td>\n",
       "      <td>10tv.com</td>\n",
       "    </tr>\n",
       "    <tr>\n",
       "      <th>211769</th>\n",
       "      <td>212215</td>\n",
       "      <td>Student debt-laden college grads under 40 have...</td>\n",
       "      <td>http://www.1150wima.com/articles/national-news...</td>\n",
       "      <td>WIMA</td>\n",
       "      <td>b</td>\n",
       "      <td>d2ZI8O50kacERzMVzH40TPizKhQKM</td>\n",
       "      <td>www.1150wima.com</td>\n",
       "      <td>1400372498604</td>\n",
       "      <td>1150wima.com</td>\n",
       "      <td>1150wima.com</td>\n",
       "    </tr>\n",
       "    <tr>\n",
       "      <th>415635</th>\n",
       "      <td>416154</td>\n",
       "      <td>Beyonce Gives Flawless Performance, Accepts Vi...</td>\n",
       "      <td>http://www.1190kex.com/articles/entertainment-...</td>\n",
       "      <td>KEX</td>\n",
       "      <td>e</td>\n",
       "      <td>dGQEVNbJW9QVL5MuoTBlFVEDBYiwM</td>\n",
       "      <td>www.1190kex.com</td>\n",
       "      <td>1409025935804</td>\n",
       "      <td>1190kex.com</td>\n",
       "      <td>1190kex.com</td>\n",
       "    </tr>\n",
       "  </tbody>\n",
       "</table>\n",
       "</div>"
      ],
      "text/plain": [
       "            ID                                              TITLE  \\\n",
       "418739  419258  Judge Rejects Apple's Attempt to Block Sale of...   \n",
       "418379  418898  Spiders have forced Suzuki to recall more than...   \n",
       "412210  412729  S&P tops 2000... Fewer new homes bought... Son...   \n",
       "211769  212215  Student debt-laden college grads under 40 have...   \n",
       "415635  416154  Beyonce Gives Flawless Performance, Accepts Vi...   \n",
       "\n",
       "                                                      URL PUBLISHER CATEGORY  \\\n",
       "418739  http://www.1011now.com/home/headlines/Judge-Re...   1011now        t   \n",
       "418379  http://www.10news.com/money/consumer/spiders-f...    10News        t   \n",
       "412210  http://www.10tv.com/content/stories/apexchange...      10TV        b   \n",
       "211769  http://www.1150wima.com/articles/national-news...      WIMA        b   \n",
       "415635  http://www.1190kex.com/articles/entertainment-...       KEX        e   \n",
       "\n",
       "                                STORY          HOSTNAME      TIMESTAMP  \\\n",
       "418739  dZ_8x5lVHdOV3OMSqo3kJlCBY3hdM   www.1011now.com  1409204592031   \n",
       "418379  dBfDgNwT03XA8wMpl6xZVsqkpPeAM    www.10news.com  1409200768287   \n",
       "412210  dk6ynYIHv7N1ZfME3VPp1B6TrZCnM      www.10tv.com  1408994657924   \n",
       "211769  d2ZI8O50kacERzMVzH40TPizKhQKM  www.1150wima.com  1400372498604   \n",
       "415635  dGQEVNbJW9QVL5MuoTBlFVEDBYiwM   www.1190kex.com  1409025935804   \n",
       "\n",
       "             domains     HOSTNAME1  \n",
       "418739   1011now.com   1011now.com  \n",
       "418379    10news.com    10news.com  \n",
       "412210      10tv.com      10tv.com  \n",
       "211769  1150wima.com  1150wima.com  \n",
       "415635   1190kex.com   1190kex.com  "
      ]
     },
     "execution_count": 81,
     "metadata": {},
     "output_type": "execute_result"
    }
   ],
   "source": [
    "news.head()"
   ]
  },
  {
   "cell_type": "code",
   "execution_count": 82,
   "metadata": {},
   "outputs": [],
   "source": [
    "news.HOSTNAME1.to_csv(\"news_sites.csv\")"
   ]
  },
  {
   "cell_type": "code",
   "execution_count": 38,
   "metadata": {},
   "outputs": [
    {
     "name": "stdout",
     "output_type": "stream",
     "text": [
      "'auth and get friends.ipynb'   old_db.py\r\n",
      " auth.json\t\t       old_utils.py\r\n",
      " cli_click.py\t\t       plan.md\r\n",
      " db.ipynb\t\t       __pycache__\r\n",
      " db.py\t\t\t      'save profile.ipynb'\r\n",
      " dbsw.py\t\t       t\r\n",
      "'embed tweet.ipynb'\t      'twitter api 2 context annotations.ipynb'\r\n",
      "'extract from url.ipynb'       twitter.db\r\n",
      "'hud queries.ipynb'\t       uci-news-aggregator.csv\r\n",
      " __init__.py\t\t       Untitled.ipynb\r\n",
      " news_sites.csv\t\t      'upload to collection.ipynb'\r\n",
      "'news sites domains.ipynb'\r\n"
     ]
    }
   ],
   "source": [
    "!ls"
   ]
  },
  {
   "cell_type": "code",
   "execution_count": null,
   "metadata": {},
   "outputs": [],
   "source": []
  }
 ],
 "metadata": {
  "kernelspec": {
   "display_name": "Python 3",
   "language": "python",
   "name": "python3"
  },
  "language_info": {
   "codemirror_mode": {
    "name": "ipython",
    "version": 3
   },
   "file_extension": ".py",
   "mimetype": "text/x-python",
   "name": "python",
   "nbconvert_exporter": "python",
   "pygments_lexer": "ipython3",
   "version": "3.8.5"
  },
  "varInspector": {
   "cols": {
    "lenName": 16,
    "lenType": 16,
    "lenVar": 40
   },
   "kernels_config": {
    "python": {
     "delete_cmd_postfix": "",
     "delete_cmd_prefix": "del ",
     "library": "var_list.py",
     "varRefreshCmd": "print(var_dic_list())"
    },
    "r": {
     "delete_cmd_postfix": ") ",
     "delete_cmd_prefix": "rm(",
     "library": "var_list.r",
     "varRefreshCmd": "cat(var_dic_list()) "
    }
   },
   "types_to_exclude": [
    "module",
    "function",
    "builtin_function_or_method",
    "instance",
    "_Feature"
   ],
   "window_display": false
  }
 },
 "nbformat": 4,
 "nbformat_minor": 4
}
