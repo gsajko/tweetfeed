{
 "cells": [
  {
   "cell_type": "markdown",
   "metadata": {},
   "source": [
    "# load data"
   ]
  },
  {
   "cell_type": "code",
   "execution_count": 3,
   "metadata": {},
   "outputs": [],
   "source": [
    "import sqlite3\n",
    "import pandas as pd\n",
    "import re\n",
    "from urllib.parse import urlparse"
   ]
  },
  {
   "cell_type": "code",
   "execution_count": 26,
   "metadata": {},
   "outputs": [],
   "source": [
    "from datetime import date\n",
    "from datetime import timedelta"
   ]
  },
  {
   "cell_type": "code",
   "execution_count": 33,
   "metadata": {},
   "outputs": [],
   "source": [
    "two_weeks_old = date.today() - timedelta(days=14)"
   ]
  },
  {
   "cell_type": "code",
   "execution_count": 35,
   "metadata": {},
   "outputs": [
    {
     "data": {
      "text/plain": [
       "'2021-01-04'"
      ]
     },
     "execution_count": 35,
     "metadata": {},
     "output_type": "execute_result"
    }
   ],
   "source": [
    "str(two_weeks_old)"
   ]
  },
  {
   "cell_type": "code",
   "execution_count": 43,
   "metadata": {},
   "outputs": [
    {
     "name": "stdout",
     "output_type": "stream",
     "text": [
      "SELECT id, full_text, created_at FROM tweets WHERE created_at < '2021-01-04'\n"
     ]
    }
   ],
   "source": [
    "cnx = sqlite3.connect(\"../home.db\")\n",
    "query = f\"SELECT id, full_text, created_at FROM tweets WHERE created_at < '{str(two_weeks_old)}'\"\n",
    "print(query)\n",
    "df_tweets = pd.read_sql_query(\n",
    "    query,\n",
    "    cnx,\n",
    ")"
   ]
  },
  {
   "cell_type": "code",
   "execution_count": 44,
   "metadata": {},
   "outputs": [
    {
     "data": {
      "text/html": [
       "<div>\n",
       "<style scoped>\n",
       "    .dataframe tbody tr th:only-of-type {\n",
       "        vertical-align: middle;\n",
       "    }\n",
       "\n",
       "    .dataframe tbody tr th {\n",
       "        vertical-align: top;\n",
       "    }\n",
       "\n",
       "    .dataframe thead th {\n",
       "        text-align: right;\n",
       "    }\n",
       "</style>\n",
       "<table border=\"1\" class=\"dataframe\">\n",
       "  <thead>\n",
       "    <tr style=\"text-align: right;\">\n",
       "      <th></th>\n",
       "      <th>id</th>\n",
       "      <th>full_text</th>\n",
       "      <th>created_at</th>\n",
       "    </tr>\n",
       "  </thead>\n",
       "  <tbody>\n",
       "    <tr>\n",
       "      <th>0</th>\n",
       "      <td>2627602600</td>\n",
       "      <td>Went on a USO trip to Guantanamo Bay, Cuba a f...</td>\n",
       "      <td>2009-07-14T05:15:27+00:00</td>\n",
       "    </tr>\n",
       "    <tr>\n",
       "      <th>1</th>\n",
       "      <td>70261648811761665</td>\n",
       "      <td>I wish I had kept my 1,700 BTC @ $0.06 instead...</td>\n",
       "      <td>2011-05-16T22:57:37+00:00</td>\n",
       "    </tr>\n",
       "    <tr>\n",
       "      <th>2</th>\n",
       "      <td>303962112307363840</td>\n",
       "      <td>If corporate America built its own low orbit i...</td>\n",
       "      <td>2013-02-19T20:19:49+00:00</td>\n",
       "    </tr>\n",
       "    <tr>\n",
       "      <th>3</th>\n",
       "      <td>320150923336892416</td>\n",
       "      <td>These two books contain the sum total of all h...</td>\n",
       "      <td>2013-04-05T12:28:23+00:00</td>\n",
       "    </tr>\n",
       "    <tr>\n",
       "      <th>4</th>\n",
       "      <td>334391242395906048</td>\n",
       "      <td>I really do enjoy following @Aelkus.</td>\n",
       "      <td>2013-05-14T19:34:19+00:00</td>\n",
       "    </tr>\n",
       "  </tbody>\n",
       "</table>\n",
       "</div>"
      ],
      "text/plain": [
       "                   id                                          full_text  \\\n",
       "0          2627602600  Went on a USO trip to Guantanamo Bay, Cuba a f...   \n",
       "1   70261648811761665  I wish I had kept my 1,700 BTC @ $0.06 instead...   \n",
       "2  303962112307363840  If corporate America built its own low orbit i...   \n",
       "3  320150923336892416  These two books contain the sum total of all h...   \n",
       "4  334391242395906048               I really do enjoy following @Aelkus.   \n",
       "\n",
       "                  created_at  \n",
       "0  2009-07-14T05:15:27+00:00  \n",
       "1  2011-05-16T22:57:37+00:00  \n",
       "2  2013-02-19T20:19:49+00:00  \n",
       "3  2013-04-05T12:28:23+00:00  \n",
       "4  2013-05-14T19:34:19+00:00  "
      ]
     },
     "execution_count": 44,
     "metadata": {},
     "output_type": "execute_result"
    }
   ],
   "source": [
    "df_tweets.head()"
   ]
  },
  {
   "cell_type": "code",
   "execution_count": 45,
   "metadata": {},
   "outputs": [
    {
     "data": {
      "text/html": [
       "<div>\n",
       "<style scoped>\n",
       "    .dataframe tbody tr th:only-of-type {\n",
       "        vertical-align: middle;\n",
       "    }\n",
       "\n",
       "    .dataframe tbody tr th {\n",
       "        vertical-align: top;\n",
       "    }\n",
       "\n",
       "    .dataframe thead th {\n",
       "        text-align: right;\n",
       "    }\n",
       "</style>\n",
       "<table border=\"1\" class=\"dataframe\">\n",
       "  <thead>\n",
       "    <tr style=\"text-align: right;\">\n",
       "      <th></th>\n",
       "      <th>id</th>\n",
       "      <th>full_text</th>\n",
       "      <th>created_at</th>\n",
       "    </tr>\n",
       "  </thead>\n",
       "  <tbody>\n",
       "    <tr>\n",
       "      <th>36953</th>\n",
       "      <td>1345881625062727680</td>\n",
       "      <td>I'm thinking about people who can afford to be...</td>\n",
       "      <td>2021-01-03T23:55:59+00:00</td>\n",
       "    </tr>\n",
       "    <tr>\n",
       "      <th>36954</th>\n",
       "      <td>1345881793442922497</td>\n",
       "      <td>and since they're somewhere between 26 and 34 ...</td>\n",
       "      <td>2021-01-03T23:56:39+00:00</td>\n",
       "    </tr>\n",
       "    <tr>\n",
       "      <th>36955</th>\n",
       "      <td>1345882147844853760</td>\n",
       "      <td>So... I found this, on the IO box.\\nA customer...</td>\n",
       "      <td>2021-01-03T23:58:03+00:00</td>\n",
       "    </tr>\n",
       "    <tr>\n",
       "      <th>36956</th>\n",
       "      <td>1345882354854727681</td>\n",
       "      <td>R might be \"registers\". Given the size of the ...</td>\n",
       "      <td>2021-01-03T23:58:53+00:00</td>\n",
       "    </tr>\n",
       "    <tr>\n",
       "      <th>36957</th>\n",
       "      <td>1345882580663603201</td>\n",
       "      <td>*The end of the Republican Party would be the ...</td>\n",
       "      <td>2021-01-03T23:59:47+00:00</td>\n",
       "    </tr>\n",
       "  </tbody>\n",
       "</table>\n",
       "</div>"
      ],
      "text/plain": [
       "                        id                                          full_text  \\\n",
       "36953  1345881625062727680  I'm thinking about people who can afford to be...   \n",
       "36954  1345881793442922497  and since they're somewhere between 26 and 34 ...   \n",
       "36955  1345882147844853760  So... I found this, on the IO box.\\nA customer...   \n",
       "36956  1345882354854727681  R might be \"registers\". Given the size of the ...   \n",
       "36957  1345882580663603201  *The end of the Republican Party would be the ...   \n",
       "\n",
       "                      created_at  \n",
       "36953  2021-01-03T23:55:59+00:00  \n",
       "36954  2021-01-03T23:56:39+00:00  \n",
       "36955  2021-01-03T23:58:03+00:00  \n",
       "36956  2021-01-03T23:58:53+00:00  \n",
       "36957  2021-01-03T23:59:47+00:00  "
      ]
     },
     "execution_count": 45,
     "metadata": {},
     "output_type": "execute_result"
    }
   ],
   "source": [
    "df_tweets.tail()"
   ]
  },
  {
   "cell_type": "code",
   "execution_count": 46,
   "metadata": {},
   "outputs": [],
   "source": [
    "with open('news_domains.txt', 'r') as f:\n",
    "    news_domains = json.loads(f.read())"
   ]
  },
  {
   "cell_type": "markdown",
   "metadata": {},
   "source": [
    "# utils"
   ]
  },
  {
   "cell_type": "code",
   "execution_count": 48,
   "metadata": {},
   "outputs": [],
   "source": [
    "def find_url(tweet):\n",
    "    return re.findall(\"http\\S+\", tweet)\n",
    "\n",
    "def clean_links(tweet):\n",
    "    tweet = re.sub(r'bit.ly/\\S+', '', tweet)\n",
    "    tweet = re.sub(r't.co/\\S+', '', tweet)\n",
    "    tweet = re.sub(r'buff.ly/\\S+', '', tweet)\n",
    "    tweet = re.sub(r'twitter.com/\\S+', '', tweet)\n",
    "    return tweet\n",
    "\n",
    "def get_domain(url):\n",
    "    domain = urlparse(url).netloc\n",
    "    dot_split = domain.split(\".\")\n",
    "    if len(dot_split) > 2:\n",
    "        return \".\".join(dot_split[1:])\n",
    "    else:\n",
    "        return domain\n",
    "    \n",
    "def remove_empty_str(l):\n",
    "    for i in l:\n",
    "        if len(i) == 0:\n",
    "            l.remove(i)\n",
    "    return(l)"
   ]
  },
  {
   "cell_type": "markdown",
   "metadata": {},
   "source": [
    "# function for df"
   ]
  },
  {
   "cell_type": "code",
   "execution_count": 49,
   "metadata": {
    "code_folding": []
   },
   "outputs": [],
   "source": [
    "def find_news(df):\n",
    "\n",
    "    df[\"urls\"] = df[\"full_text\"].apply(find_url)\n",
    "    df[\"urls\"] = df.urls.apply(lambda x: [clean_links(d) for d in x])\n",
    "    df[\"domains\"] = df.urls.apply(lambda x: [get_domain(d) for d in x])\n",
    "    df[\"domains\"] = df.domains.apply(remove_empty_str)\n",
    "    df.drop([\"urls\"], axis=1, inplace=True)\n",
    "\n",
    "\n",
    "    new_columns_list = []\n",
    "    max_nr_dom = df.domains.str.len().max()\n",
    "    for i in range(max_nr_dom):\n",
    "        new_columns_list.append(f\"domain{i+1}\")\n",
    "    df[new_columns_list] = pd.DataFrame(df.domains.tolist())\n",
    "\n",
    "\n",
    "    for col in new_columns_list:\n",
    "        df[col] = df[col].isin(news_domains)\n",
    "\n",
    "    df.drop([\"domains\"], axis=1, inplace=True)\n",
    "\n",
    "    df[\"contains_news\"] = df[new_columns_list].sum(axis=1)\n",
    "    df[\"contains_news\"] = df.contains_news.apply(lambda x: x if x == 0 else 1)\n",
    "    df.drop(new_columns_list, axis=1, inplace=True)\n",
    "    \n",
    "    return df\n"
   ]
  },
  {
   "cell_type": "code",
   "execution_count": 50,
   "metadata": {},
   "outputs": [
    {
     "name": "stdout",
     "output_type": "stream",
     "text": [
      "CPU times: user 446 ms, sys: 7.9 ms, total: 454 ms\n",
      "Wall time: 457 ms\n"
     ]
    }
   ],
   "source": [
    "%%time\n",
    "df_tweets = find_news(df_tweets)"
   ]
  },
  {
   "cell_type": "code",
   "execution_count": null,
   "metadata": {},
   "outputs": [],
   "source": [
    "# suffle them!"
   ]
  },
  {
   "cell_type": "code",
   "execution_count": 59,
   "metadata": {
    "scrolled": true
   },
   "outputs": [],
   "source": [
    "to_custom_news_feed = df_tweets[df_tweets[\"contains_news\"] == 0][\"id\"].sample(frac=1).reset_index(drop=True)[:1000]"
   ]
  },
  {
   "cell_type": "code",
   "execution_count": 60,
   "metadata": {},
   "outputs": [
    {
     "data": {
      "text/plain": [
       "0      1337875267096875015\n",
       "1      1335698027537969155\n",
       "2      1345699105385959435\n",
       "3      1336874318882467842\n",
       "4      1337717825629253633\n",
       "              ...         \n",
       "995    1341640996686278662\n",
       "996    1340790897630437376\n",
       "997    1341883276487700481\n",
       "998    1336753706012987399\n",
       "999    1342002012204851201\n",
       "Name: id, Length: 1000, dtype: int64"
      ]
     },
     "execution_count": 60,
     "metadata": {},
     "output_type": "execute_result"
    }
   ],
   "source": [
    "to_custom_news_feed"
   ]
  },
  {
   "cell_type": "code",
   "execution_count": 61,
   "metadata": {},
   "outputs": [
    {
     "data": {
      "text/plain": [
       "pandas.core.series.Series"
      ]
     },
     "execution_count": 61,
     "metadata": {},
     "output_type": "execute_result"
    }
   ],
   "source": [
    "type(to_custom_news_feed)"
   ]
  },
  {
   "cell_type": "code",
   "execution_count": 64,
   "metadata": {},
   "outputs": [],
   "source": [
    "to_custom_news_feed.to_csv(\"first_batch.csv\")"
   ]
  },
  {
   "cell_type": "code",
   "execution_count": null,
   "metadata": {},
   "outputs": [],
   "source": []
  }
 ],
 "metadata": {
  "kernelspec": {
   "display_name": "Python 3",
   "language": "python",
   "name": "python3"
  },
  "language_info": {
   "codemirror_mode": {
    "name": "ipython",
    "version": 3
   },
   "file_extension": ".py",
   "mimetype": "text/x-python",
   "name": "python",
   "nbconvert_exporter": "python",
   "pygments_lexer": "ipython3",
   "version": "3.8.5"
  },
  "varInspector": {
   "cols": {
    "lenName": 16,
    "lenType": 16,
    "lenVar": 40
   },
   "kernels_config": {
    "python": {
     "delete_cmd_postfix": "",
     "delete_cmd_prefix": "del ",
     "library": "var_list.py",
     "varRefreshCmd": "print(var_dic_list())"
    },
    "r": {
     "delete_cmd_postfix": ") ",
     "delete_cmd_prefix": "rm(",
     "library": "var_list.r",
     "varRefreshCmd": "cat(var_dic_list()) "
    }
   },
   "types_to_exclude": [
    "module",
    "function",
    "builtin_function_or_method",
    "instance",
    "_Feature"
   ],
   "window_display": false
  }
 },
 "nbformat": 4,
 "nbformat_minor": 4
}
