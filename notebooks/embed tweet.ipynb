{
 "cells": [
  {
   "cell_type": "code",
   "execution_count": 8,
   "metadata": {},
   "outputs": [],
   "source": [
    "import os\n",
    "from twitter_to_sqlite import utils"
   ]
  },
  {
   "cell_type": "code",
   "execution_count": 9,
   "metadata": {},
   "outputs": [],
   "source": [
    "auth = json.load(open(\"../auth/auth.json\"))\n",
    "session = utils.session_for_auth(auth)"
   ]
  },
  {
   "cell_type": "code",
   "execution_count": 10,
   "metadata": {},
   "outputs": [],
   "source": [
    "# lookup tweet"
   ]
  },
  {
   "cell_type": "code",
   "execution_count": 13,
   "metadata": {
    "scrolled": true
   },
   "outputs": [
    {
     "name": "stdout",
     "output_type": "stream",
     "text": [
      "{'created_at': 'Wed Feb 10 21:19:12 +0000 2016', 'id': 697530278495977472, 'id_str': '697530278495977472', 'text': 'Great perspective and advice for those wanting to move to Swift without rewriting perfectly good code: https://t.co/vqqSdcVkfc', 'truncated': False, 'entities': {'hashtags': [], 'symbols': [], 'user_mentions': [], 'urls': [{'url': 'https://t.co/vqqSdcVkfc', 'expanded_url': 'https://twitter.com/codevoyagers/status/697066672998449152', 'display_url': 'twitter.com/codevoyagers/s…', 'indices': [103, 126]}]}, 'source': '<a href=\"http://twitter.com/download/iphone\" rel=\"nofollow\">Twitter for iPhone</a>', 'in_reply_to_status_id': None, 'in_reply_to_status_id_str': None, 'in_reply_to_user_id': None, 'in_reply_to_user_id_str': None, 'in_reply_to_screen_name': None, 'user': {'id': 2543588034, 'id_str': '2543588034', 'name': 'Chris Lattner', 'screen_name': 'clattner_llvm', 'location': '', 'description': 'World class engineering, incredible systems hardware/software, and first-principles design leads to compounding interest that can change the world: @sifive ⚡️🦊', 'url': 'https://t.co/dAh0GmfvQG', 'entities': {'url': {'urls': [{'url': 'https://t.co/dAh0GmfvQG', 'expanded_url': 'http://nondot.org/sabre', 'display_url': 'nondot.org/sabre', 'indices': [0, 23]}]}, 'description': {'urls': []}}, 'protected': False, 'followers_count': 61950, 'friends_count': 127, 'listed_count': 1628, 'created_at': 'Tue Jun 03 14:07:07 +0000 2014', 'favourites_count': 1586, 'utc_offset': None, 'time_zone': None, 'geo_enabled': False, 'verified': False, 'statuses_count': 1109, 'lang': None, 'contributors_enabled': False, 'is_translator': False, 'is_translation_enabled': False, 'profile_background_color': 'C0DEED', 'profile_background_image_url': 'http://abs.twimg.com/images/themes/theme1/bg.png', 'profile_background_image_url_https': 'https://abs.twimg.com/images/themes/theme1/bg.png', 'profile_background_tile': False, 'profile_image_url': 'http://pbs.twimg.com/profile_images/1243929685299355650/djwad0y9_normal.jpg', 'profile_image_url_https': 'https://pbs.twimg.com/profile_images/1243929685299355650/djwad0y9_normal.jpg', 'profile_link_color': '1DA1F2', 'profile_sidebar_border_color': 'C0DEED', 'profile_sidebar_fill_color': 'DDEEF6', 'profile_text_color': '333333', 'profile_use_background_image': True, 'has_extended_profile': False, 'default_profile': True, 'default_profile_image': False, 'following': True, 'follow_request_sent': False, 'notifications': False, 'translator_type': 'none'}, 'geo': None, 'coordinates': None, 'place': None, 'contributors': None, 'is_quote_status': True, 'quoted_status_id': 697066672998449152, 'quoted_status_id_str': '697066672998449152', 'quoted_status': {'created_at': 'Tue Feb 09 14:37:00 +0000 2016', 'id': 697066672998449152, 'id_str': '697066672998449152', 'text': 'New post up from @GergelyOrosz: Transitioning From Objective C to @SwiftLang  Without Rewriting The Existing Code: https://t.co/NTGA0uYSlt', 'truncated': False, 'entities': {'hashtags': [], 'symbols': [], 'user_mentions': [{'screen_name': 'GergelyOrosz', 'name': 'Gergely Orosz', 'id': 30192824, 'id_str': '30192824', 'indices': [17, 30]}, {'screen_name': 'SwiftLang', 'name': 'Swift Language', 'id': 2526229286, 'id_str': '2526229286', 'indices': [66, 76]}], 'urls': [{'url': 'https://t.co/NTGA0uYSlt', 'expanded_url': 'http://bit.ly/1PzttYP', 'display_url': 'bit.ly/1PzttYP', 'indices': [115, 138]}]}, 'source': '<a href=\"https://www.sprinklr.com\" rel=\"nofollow\">Sprinklr</a>', 'in_reply_to_status_id': None, 'in_reply_to_status_id_str': None, 'in_reply_to_user_id': None, 'in_reply_to_user_id_str': None, 'in_reply_to_screen_name': None, 'user': {'id': 249696542, 'id_str': '249696542', 'name': 'Skyscanner Engineering', 'screen_name': 'SkyscannerEng', 'location': 'Everywhere', 'description': \"Build without limits. We're the company changing how the world travels.\", 'url': 'https://t.co/RaUTgtnkLx', 'entities': {'url': {'urls': [{'url': 'https://t.co/RaUTgtnkLx', 'expanded_url': 'https://medium.com/@skyscannereng', 'display_url': 'medium.com/@skyscannereng', 'indices': [0, 23]}]}, 'description': {'urls': []}}, 'protected': False, 'followers_count': 2791, 'friends_count': 611, 'listed_count': 73, 'created_at': 'Wed Feb 09 15:55:17 +0000 2011', 'favourites_count': 695, 'utc_offset': None, 'time_zone': None, 'geo_enabled': True, 'verified': True, 'statuses_count': 1968, 'lang': None, 'contributors_enabled': False, 'is_translator': False, 'is_translation_enabled': False, 'profile_background_color': 'FFFFFF', 'profile_background_image_url': 'http://abs.twimg.com/images/themes/theme1/bg.png', 'profile_background_image_url_https': 'https://abs.twimg.com/images/themes/theme1/bg.png', 'profile_background_tile': False, 'profile_image_url': 'http://pbs.twimg.com/profile_images/1176425638913335297/g2Cm4mYy_normal.png', 'profile_image_url_https': 'https://pbs.twimg.com/profile_images/1176425638913335297/g2Cm4mYy_normal.png', 'profile_banner_url': 'https://pbs.twimg.com/profile_banners/249696542/1569316707', 'profile_link_color': 'ABB8C2', 'profile_sidebar_border_color': 'C0DEED', 'profile_sidebar_fill_color': 'DDEEF6', 'profile_text_color': '333333', 'profile_use_background_image': True, 'has_extended_profile': False, 'default_profile': False, 'default_profile_image': False, 'following': False, 'follow_request_sent': False, 'notifications': False, 'translator_type': 'none'}, 'geo': None, 'coordinates': None, 'place': None, 'contributors': None, 'is_quote_status': False, 'retweet_count': 19, 'favorite_count': 49, 'favorited': False, 'retweeted': False, 'possibly_sensitive': False, 'possibly_sensitive_appealable': False, 'lang': 'en'}, 'retweet_count': 54, 'favorite_count': 104, 'favorited': False, 'retweeted': False, 'possibly_sensitive': False, 'possibly_sensitive_appealable': False, 'lang': 'en'}\n"
     ]
    }
   ],
   "source": [
    "url = \"https://api.twitter.com/1.1/statuses/show.json?id=697530278495977472\"\n",
    "response = session.get(url)\n",
    "tweet = response.json()\n",
    "print(tweet)"
   ]
  },
  {
   "cell_type": "markdown",
   "metadata": {},
   "source": [
    "## get likes"
   ]
  },
  {
   "cell_type": "code",
   "execution_count": 4,
   "metadata": {},
   "outputs": [],
   "source": [
    "url = \"https://api.twitter.com/1.1/favorites/list.json?count=10&screen_name=saiko_grzegorz\""
   ]
  },
  {
   "cell_type": "code",
   "execution_count": 5,
   "metadata": {},
   "outputs": [],
   "source": [
    "response = session.get(url)\n",
    "tweets = response.json()"
   ]
  },
  {
   "cell_type": "code",
   "execution_count": 6,
   "metadata": {},
   "outputs": [],
   "source": [
    "tweets = response.json()"
   ]
  },
  {
   "cell_type": "code",
   "execution_count": null,
   "metadata": {},
   "outputs": [],
   "source": []
  },
  {
   "cell_type": "code",
   "execution_count": 7,
   "metadata": {
    "scrolled": false
   },
   "outputs": [
    {
     "data": {
      "text/plain": [
       "10"
      ]
     },
     "execution_count": 7,
     "metadata": {},
     "output_type": "execute_result"
    }
   ],
   "source": [
    "len(tweets)"
   ]
  },
  {
   "cell_type": "code",
   "execution_count": 8,
   "metadata": {
    "scrolled": true
   },
   "outputs": [
    {
     "data": {
      "text/plain": [
       "{'created_at': 'Fri Dec 18 05:10:29 +0000 2020',\n",
       " 'id': 1339800179340394498,\n",
       " 'id_str': '1339800179340394498',\n",
       " 'text': 'Lenin and a drunk snowman. https://t.co/oqq03FqeJQ',\n",
       " 'truncated': False,\n",
       " 'entities': {'hashtags': [],\n",
       "  'symbols': [],\n",
       "  'user_mentions': [],\n",
       "  'urls': [],\n",
       "  'media': [{'id': 1339800085203447808,\n",
       "    'id_str': '1339800085203447808',\n",
       "    'indices': [27, 50],\n",
       "    'media_url': 'http://pbs.twimg.com/media/EpftFDSW8AAjiC6.jpg',\n",
       "    'media_url_https': 'https://pbs.twimg.com/media/EpftFDSW8AAjiC6.jpg',\n",
       "    'url': 'https://t.co/oqq03FqeJQ',\n",
       "    'display_url': 'pic.twitter.com/oqq03FqeJQ',\n",
       "    'expanded_url': 'https://twitter.com/burkov/status/1339800179340394498/photo/1',\n",
       "    'type': 'photo',\n",
       "    'sizes': {'thumb': {'w': 150, 'h': 150, 'resize': 'crop'},\n",
       "     'large': {'w': 700, 'h': 429, 'resize': 'fit'},\n",
       "     'small': {'w': 680, 'h': 417, 'resize': 'fit'},\n",
       "     'medium': {'w': 700, 'h': 429, 'resize': 'fit'}}}]},\n",
       " 'extended_entities': {'media': [{'id': 1339800085203447808,\n",
       "    'id_str': '1339800085203447808',\n",
       "    'indices': [27, 50],\n",
       "    'media_url': 'http://pbs.twimg.com/media/EpftFDSW8AAjiC6.jpg',\n",
       "    'media_url_https': 'https://pbs.twimg.com/media/EpftFDSW8AAjiC6.jpg',\n",
       "    'url': 'https://t.co/oqq03FqeJQ',\n",
       "    'display_url': 'pic.twitter.com/oqq03FqeJQ',\n",
       "    'expanded_url': 'https://twitter.com/burkov/status/1339800179340394498/photo/1',\n",
       "    'type': 'photo',\n",
       "    'sizes': {'thumb': {'w': 150, 'h': 150, 'resize': 'crop'},\n",
       "     'large': {'w': 700, 'h': 429, 'resize': 'fit'},\n",
       "     'small': {'w': 680, 'h': 417, 'resize': 'fit'},\n",
       "     'medium': {'w': 700, 'h': 429, 'resize': 'fit'}}}]},\n",
       " 'source': '<a href=\"https://mobile.twitter.com\" rel=\"nofollow\">Twitter Web App</a>',\n",
       " 'in_reply_to_status_id': None,\n",
       " 'in_reply_to_status_id_str': None,\n",
       " 'in_reply_to_user_id': None,\n",
       " 'in_reply_to_user_id_str': None,\n",
       " 'in_reply_to_screen_name': None,\n",
       " 'user': {'id': 47126544,\n",
       "  'id_str': '47126544',\n",
       "  'name': 'Andriy Burkov',\n",
       "  'screen_name': 'burkov',\n",
       "  'location': 'Québec, Canada',\n",
       "  'description': 'Author of 📖 The Hundred-Page Machine Learning Book and the 📖 Machine Learning Engineering book',\n",
       "  'url': 'https://t.co/2uOLialmfG',\n",
       "  'entities': {'url': {'urls': [{'url': 'https://t.co/2uOLialmfG',\n",
       "      'expanded_url': 'http://themlbook.com',\n",
       "      'display_url': 'themlbook.com',\n",
       "      'indices': [0, 23]}]},\n",
       "   'description': {'urls': []}},\n",
       "  'protected': False,\n",
       "  'followers_count': 4792,\n",
       "  'friends_count': 128,\n",
       "  'listed_count': 86,\n",
       "  'created_at': 'Sun Jun 14 16:56:23 +0000 2009',\n",
       "  'favourites_count': 1654,\n",
       "  'utc_offset': None,\n",
       "  'time_zone': None,\n",
       "  'geo_enabled': False,\n",
       "  'verified': False,\n",
       "  'statuses_count': 3056,\n",
       "  'lang': None,\n",
       "  'contributors_enabled': False,\n",
       "  'is_translator': False,\n",
       "  'is_translation_enabled': False,\n",
       "  'profile_background_color': 'C0DEED',\n",
       "  'profile_background_image_url': 'http://abs.twimg.com/images/themes/theme1/bg.png',\n",
       "  'profile_background_image_url_https': 'https://abs.twimg.com/images/themes/theme1/bg.png',\n",
       "  'profile_background_tile': False,\n",
       "  'profile_image_url': 'http://pbs.twimg.com/profile_images/663827278502170624/lJjdhs6X_normal.jpg',\n",
       "  'profile_image_url_https': 'https://pbs.twimg.com/profile_images/663827278502170624/lJjdhs6X_normal.jpg',\n",
       "  'profile_banner_url': 'https://pbs.twimg.com/profile_banners/47126544/1601769420',\n",
       "  'profile_link_color': '1DA1F2',\n",
       "  'profile_sidebar_border_color': 'C0DEED',\n",
       "  'profile_sidebar_fill_color': 'DDEEF6',\n",
       "  'profile_text_color': '333333',\n",
       "  'profile_use_background_image': True,\n",
       "  'has_extended_profile': False,\n",
       "  'default_profile': True,\n",
       "  'default_profile_image': False,\n",
       "  'following': True,\n",
       "  'follow_request_sent': False,\n",
       "  'notifications': False,\n",
       "  'translator_type': 'none'},\n",
       " 'geo': None,\n",
       " 'coordinates': None,\n",
       " 'place': None,\n",
       " 'contributors': None,\n",
       " 'is_quote_status': False,\n",
       " 'retweet_count': 1,\n",
       " 'favorite_count': 11,\n",
       " 'favorited': True,\n",
       " 'retweeted': False,\n",
       " 'possibly_sensitive': False,\n",
       " 'lang': 'en'}"
      ]
     },
     "execution_count": 8,
     "metadata": {},
     "output_type": "execute_result"
    }
   ],
   "source": [
    "tweets[1]"
   ]
  },
  {
   "cell_type": "markdown",
   "metadata": {},
   "source": [
    "## GET statuses/oembed"
   ]
  },
  {
   "cell_type": "code",
   "execution_count": 12,
   "metadata": {},
   "outputs": [],
   "source": [
    "import tweepy\n",
    "#auth = tweepy.OAuthHandler(consumer_key, consumer_secret)\n",
    "api = tweepy.API(wait_on_rate_limit=True)"
   ]
  },
  {
   "cell_type": "code",
   "execution_count": 1,
   "metadata": {},
   "outputs": [
    {
     "ename": "NameError",
     "evalue": "name 'api' is not defined",
     "output_type": "error",
     "traceback": [
      "\u001b[0;31m---------------------------------------------------------------------------\u001b[0m",
      "\u001b[0;31mNameError\u001b[0m                                 Traceback (most recent call last)",
      "\u001b[0;32m<ipython-input-1-ffa3277229e5>\u001b[0m in \u001b[0;36m<module>\u001b[0;34m\u001b[0m\n\u001b[0;32m----> 1\u001b[0;31m \u001b[0mapi\u001b[0m\u001b[0;34m.\u001b[0m\u001b[0mget_oembed\u001b[0m\u001b[0;34m(\u001b[0m\u001b[0;34m\"1354872948226732046\"\u001b[0m\u001b[0;34m)\u001b[0m\u001b[0;34m\u001b[0m\u001b[0;34m\u001b[0m\u001b[0m\n\u001b[0m",
      "\u001b[0;31mNameError\u001b[0m: name 'api' is not defined"
     ]
    }
   ],
   "source": [
    "api.get_oembed(\"1354872948226732046\")"
   ]
  },
  {
   "cell_type": "code",
   "execution_count": 17,
   "metadata": {},
   "outputs": [
    {
     "data": {
      "text/plain": [
       "'<blockquote class=\"twitter-tweet\"><p lang=\"en\" dir=\"ltr\">Lenin and a drunk snowman. <a href=\"https://t.co/oqq03FqeJQ\">pic.twitter.com/oqq03FqeJQ</a></p>&mdash; Andriy Burkov (@burkov) <a href=\"https://twitter.com/burkov/status/1339800179340394498?ref_src=twsrc%5Etfw\">December 18, 2020</a></blockquote>\\n<script async src=\"https://platform.twitter.com/widgets.js\" charset=\"utf-8\"></script>\\n'"
      ]
     },
     "execution_count": 17,
     "metadata": {},
     "output_type": "execute_result"
    }
   ],
   "source": [
    "api.get_oembed(\"1339800179340394498\")[\"html\"]"
   ]
  },
  {
   "cell_type": "code",
   "execution_count": null,
   "metadata": {},
   "outputs": [],
   "source": []
  },
  {
   "cell_type": "code",
   "execution_count": null,
   "metadata": {},
   "outputs": [],
   "source": [
    "https://publish.twitter.com/oembed?\n",
    "  url=https://twitter.com/Interior/status/463440424141459456"
   ]
  },
  {
   "cell_type": "code",
   "execution_count": 19,
   "metadata": {},
   "outputs": [
    {
     "name": "stdout",
     "output_type": "stream",
     "text": [
      "{\"message\":\"bad url, reason: no protocol: 463440424141459456\"}"
     ]
    }
   ],
   "source": [
    "!curl \"https://publish.twitter.com/oembed?url=463440424141459456\""
   ]
  },
  {
   "cell_type": "code",
   "execution_count": 10,
   "metadata": {},
   "outputs": [
    {
     "name": "stdout",
     "output_type": "stream",
     "text": [
      "{\"url\":\"https:\\/\\/twitter.com\\/Interior\\/status\\/507185938620219395\",\"author_name\":\"US Department of the Interior\",\"author_url\":\"https:\\/\\/twitter.com\\/Interior\",\"html\":\"\\u003Cblockquote class=\\\"twitter-tweet\\\"\\u003E\\u003Cp lang=\\\"en\\\" dir=\\\"ltr\\\"\\u003EHappy 50th anniversary to the Wilderness Act! Here&#39;s a great wilderness photo from \\u003Ca href=\\\"https:\\/\\/twitter.com\\/YosemiteNPS?ref_src=twsrc%5Etfw\\\"\\u003E@YosemiteNPS\\u003C\\/a\\u003E. \\u003Ca href=\\\"https:\\/\\/twitter.com\\/hashtag\\/Wilderness50?src=hash&amp;ref_src=twsrc%5Etfw\\\"\\u003E#Wilderness50\\u003C\\/a\\u003E \\u003Ca href=\\\"http:\\/\\/t.co\\/HMhbyTg18X\\\"\\u003Epic.twitter.com\\/HMhbyTg18X\\u003C\\/a\\u003E\\u003C\\/p\\u003E&mdash; US Department of the Interior (@Interior) \\u003Ca href=\\\"https:\\/\\/twitter.com\\/Interior\\/status\\/507185938620219395?ref_src=twsrc%5Etfw\\\"\\u003ESeptember 3, 2014\\u003C\\/a\\u003E\\u003C\\/blockquote\\u003E\\n\\u003Cscript async src=\\\"https:\\/\\/platform.twitter.com\\/widgets.js\\\" charset=\\\"utf-8\\\"\\u003E\\u003C\\/script\\u003E\\n\",\"width\":550,\"height\":null,\"type\":\"rich\",\"cache_age\":\"3153600000\",\"provider_name\":\"Twitter\",\"provider_url\":\"https:\\/\\/twitter.com\",\"version\":\"1.0\"}"
     ]
    }
   ],
   "source": [
    "!curl 'https://publish.twitter.com/oembed?url=https%3A%2F%2Ftwitter.com%2FInterior%2Fstatus%2F507185938620219395'"
   ]
  },
  {
   "cell_type": "code",
   "execution_count": null,
   "metadata": {},
   "outputs": [],
   "source": []
  }
 ],
 "metadata": {
  "kernelspec": {
   "display_name": "Python 3",
   "language": "python",
   "name": "python3"
  },
  "language_info": {
   "codemirror_mode": {
    "name": "ipython",
    "version": 3
   },
   "file_extension": ".py",
   "mimetype": "text/x-python",
   "name": "python",
   "nbconvert_exporter": "python",
   "pygments_lexer": "ipython3",
   "version": "3.8.5"
  },
  "varInspector": {
   "cols": {
    "lenName": 16,
    "lenType": 16,
    "lenVar": 40
   },
   "kernels_config": {
    "python": {
     "delete_cmd_postfix": "",
     "delete_cmd_prefix": "del ",
     "library": "var_list.py",
     "varRefreshCmd": "print(var_dic_list())"
    },
    "r": {
     "delete_cmd_postfix": ") ",
     "delete_cmd_prefix": "rm(",
     "library": "var_list.r",
     "varRefreshCmd": "cat(var_dic_list()) "
    }
   },
   "types_to_exclude": [
    "module",
    "function",
    "builtin_function_or_method",
    "instance",
    "_Feature"
   ],
   "window_display": false
  }
 },
 "nbformat": 4,
 "nbformat_minor": 4
}
