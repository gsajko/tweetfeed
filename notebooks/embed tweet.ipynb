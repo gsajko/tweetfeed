{
 "cells": [
  {
   "cell_type": "code",
   "execution_count": 2,
   "metadata": {},
   "outputs": [],
   "source": [
    "import os\n",
    "from twitter_to_sqlite import utils\n"
   ]
  },
  {
   "cell_type": "code",
   "execution_count": 3,
   "metadata": {},
   "outputs": [],
   "source": [
    "import os\n",
    "import sys\n",
    "module_path = os.path.abspath(os.path.join('..'))\n",
    "if module_path not in sys.path:\n",
    "    sys.path.append(module_path+\"/src\")\n",
    "    \n",
    "from pipeline_functions import find_url"
   ]
  },
  {
   "cell_type": "code",
   "execution_count": 4,
   "metadata": {},
   "outputs": [],
   "source": [
    "auth = json.load(open(\"../auth/auth.json\"))\n",
    "session = utils.session_for_auth(auth)"
   ]
  },
  {
   "cell_type": "code",
   "execution_count": 5,
   "metadata": {},
   "outputs": [
    {
     "data": {
      "text/plain": [
       "1357738374057050112"
      ]
     },
     "execution_count": 5,
     "metadata": {},
     "output_type": "execute_result"
    }
   ],
   "source": [
    "GET https://api.twitter.com/1.1/statuses/show.json?id=210462857140252672"
   ]
  },
  {
   "cell_type": "code",
   "execution_count": 8,
   "metadata": {},
   "outputs": [
    {
     "data": {
      "text/plain": [
       "{'created_at': 'Fri Feb 05 17:10:28 +0000 2021',\n",
       " 'id': 1357738374057050112,\n",
       " 'id_str': '1357738374057050112',\n",
       " 'text': 'context\\n\\nhttps://t.co/LvO77LtgAX',\n",
       " 'truncated': False,\n",
       " 'entities': {'hashtags': [],\n",
       "  'symbols': [],\n",
       "  'user_mentions': [],\n",
       "  'urls': [{'url': 'https://t.co/LvO77LtgAX',\n",
       "    'expanded_url': 'https://twitter.com/csmaje/status/1357641238418194432',\n",
       "    'display_url': 'twitter.com/csmaje/status/…',\n",
       "    'indices': [9, 32]}]},\n",
       " 'source': '<a href=\"https://mobile.twitter.com\" rel=\"nofollow\">Twitter Web App</a>',\n",
       " 'in_reply_to_status_id': 1357737913283452931,\n",
       " 'in_reply_to_status_id_str': '1357737913283452931',\n",
       " 'in_reply_to_user_id': 40426297,\n",
       " 'in_reply_to_user_id_str': '40426297',\n",
       " 'in_reply_to_screen_name': 'cognazor',\n",
       " 'user': {'id': 40426297,\n",
       "  'id_str': '40426297',\n",
       "  'name': 'Jason Snyder',\n",
       "  'screen_name': 'cognazor',\n",
       "  'location': 'Southern Appalachia ',\n",
       "  'description': 'Metamodern localist | homesteading, permaculture, bioregional regeneration | meditation, self-inquiry, embodied cognition | PhD @MSUAFRE, faculty @SDAPPSTATE',\n",
       "  'url': None,\n",
       "  'entities': {'description': {'urls': []}},\n",
       "  'protected': False,\n",
       "  'followers_count': 7401,\n",
       "  'friends_count': 1074,\n",
       "  'listed_count': 205,\n",
       "  'created_at': 'Sat May 16 07:08:06 +0000 2009',\n",
       "  'favourites_count': 57942,\n",
       "  'utc_offset': None,\n",
       "  'time_zone': None,\n",
       "  'geo_enabled': False,\n",
       "  'verified': False,\n",
       "  'statuses_count': 28434,\n",
       "  'lang': None,\n",
       "  'contributors_enabled': False,\n",
       "  'is_translator': False,\n",
       "  'is_translation_enabled': False,\n",
       "  'profile_background_color': '709397',\n",
       "  'profile_background_image_url': 'http://abs.twimg.com/images/themes/theme6/bg.gif',\n",
       "  'profile_background_image_url_https': 'https://abs.twimg.com/images/themes/theme6/bg.gif',\n",
       "  'profile_background_tile': False,\n",
       "  'profile_image_url': 'http://pbs.twimg.com/profile_images/1315801934658494467/-SHG1lAp_normal.jpg',\n",
       "  'profile_image_url_https': 'https://pbs.twimg.com/profile_images/1315801934658494467/-SHG1lAp_normal.jpg',\n",
       "  'profile_banner_url': 'https://pbs.twimg.com/profile_banners/40426297/1589397459',\n",
       "  'profile_link_color': 'FF3300',\n",
       "  'profile_sidebar_border_color': '86A4A6',\n",
       "  'profile_sidebar_fill_color': 'A0C5C7',\n",
       "  'profile_text_color': '333333',\n",
       "  'profile_use_background_image': True,\n",
       "  'has_extended_profile': False,\n",
       "  'default_profile': False,\n",
       "  'default_profile_image': False,\n",
       "  'following': True,\n",
       "  'follow_request_sent': False,\n",
       "  'notifications': False,\n",
       "  'translator_type': 'none'},\n",
       " 'geo': None,\n",
       " 'coordinates': None,\n",
       " 'place': None,\n",
       " 'contributors': None,\n",
       " 'is_quote_status': True,\n",
       " 'quoted_status_id': 1357641238418194432,\n",
       " 'quoted_status_id_str': '1357641238418194432',\n",
       " 'quoted_status': {'created_at': 'Fri Feb 05 10:44:29 +0000 2021',\n",
       "  'id': 1357641238418194432,\n",
       "  'id_str': '1357641238418194432',\n",
       "  'text': 'A thread prompted by @doctorow on the crossovers between organic-pastoral ideologies &amp; fascism… https://t.co/LhyazIKopj',\n",
       "  'truncated': True,\n",
       "  'entities': {'hashtags': [],\n",
       "   'symbols': [],\n",
       "   'user_mentions': [{'screen_name': 'doctorow',\n",
       "     'name': 'Cory Doctorow #BLM',\n",
       "     'id': 2729061,\n",
       "     'id_str': '2729061',\n",
       "     'indices': [21, 30]}],\n",
       "   'urls': [{'url': 'https://t.co/LhyazIKopj',\n",
       "     'expanded_url': 'https://twitter.com/i/web/status/1357641238418194432',\n",
       "     'display_url': 'twitter.com/i/web/status/1…',\n",
       "     'indices': [100, 123]}]},\n",
       "  'source': '<a href=\"https://mobile.twitter.com\" rel=\"nofollow\">Twitter Web App</a>',\n",
       "  'in_reply_to_status_id': None,\n",
       "  'in_reply_to_status_id_str': None,\n",
       "  'in_reply_to_user_id': None,\n",
       "  'in_reply_to_user_id_str': None,\n",
       "  'in_reply_to_screen_name': None,\n",
       "  'user': {'id': 1198521571,\n",
       "   'id_str': '1198521571',\n",
       "   'name': 'Chris Smaje',\n",
       "   'screen_name': 'csmaje',\n",
       "   'location': 'Somerset',\n",
       "   'description': \"Grower, writer, social scientist, blogs at https://t.co/qtHzekW8Qa. Employer = self. Views = own.\\n\\nBook 'A Small Farm Future' now out!\",\n",
       "   'url': 'http://t.co/cowM97jl',\n",
       "   'entities': {'url': {'urls': [{'url': 'http://t.co/cowM97jl',\n",
       "       'expanded_url': 'http://www.smallfarmfuture.org.uk',\n",
       "       'display_url': 'smallfarmfuture.org.uk',\n",
       "       'indices': [0, 20]}]},\n",
       "    'description': {'urls': [{'url': 'https://t.co/qtHzekW8Qa',\n",
       "       'expanded_url': 'http://smallfarmfuture.org.uk',\n",
       "       'display_url': 'smallfarmfuture.org.uk',\n",
       "       'indices': [43, 66]}]}},\n",
       "   'protected': False,\n",
       "   'followers_count': 1518,\n",
       "   'friends_count': 407,\n",
       "   'listed_count': 36,\n",
       "   'created_at': 'Tue Feb 19 20:06:45 +0000 2013',\n",
       "   'favourites_count': 341,\n",
       "   'utc_offset': None,\n",
       "   'time_zone': None,\n",
       "   'geo_enabled': False,\n",
       "   'verified': False,\n",
       "   'statuses_count': 828,\n",
       "   'lang': None,\n",
       "   'contributors_enabled': False,\n",
       "   'is_translator': False,\n",
       "   'is_translation_enabled': False,\n",
       "   'profile_background_color': 'C0DEED',\n",
       "   'profile_background_image_url': 'http://abs.twimg.com/images/themes/theme1/bg.png',\n",
       "   'profile_background_image_url_https': 'https://abs.twimg.com/images/themes/theme1/bg.png',\n",
       "   'profile_background_tile': False,\n",
       "   'profile_image_url': 'http://pbs.twimg.com/profile_images/378800000438892038/6d6be7b67151aa3da954438dddb6f91a_normal.jpeg',\n",
       "   'profile_image_url_https': 'https://pbs.twimg.com/profile_images/378800000438892038/6d6be7b67151aa3da954438dddb6f91a_normal.jpeg',\n",
       "   'profile_banner_url': 'https://pbs.twimg.com/profile_banners/1198521571/1611042279',\n",
       "   'profile_link_color': '1DA1F2',\n",
       "   'profile_sidebar_border_color': 'C0DEED',\n",
       "   'profile_sidebar_fill_color': 'DDEEF6',\n",
       "   'profile_text_color': '333333',\n",
       "   'profile_use_background_image': True,\n",
       "   'has_extended_profile': False,\n",
       "   'default_profile': True,\n",
       "   'default_profile_image': False,\n",
       "   'following': False,\n",
       "   'follow_request_sent': False,\n",
       "   'notifications': False,\n",
       "   'translator_type': 'none'},\n",
       "  'geo': None,\n",
       "  'coordinates': None,\n",
       "  'place': None,\n",
       "  'contributors': None,\n",
       "  'is_quote_status': True,\n",
       "  'quoted_status_id': 1357384535403425793,\n",
       "  'quoted_status_id_str': '1357384535403425793',\n",
       "  'retweet_count': 11,\n",
       "  'favorite_count': 22,\n",
       "  'favorited': False,\n",
       "  'retweeted': False,\n",
       "  'possibly_sensitive': False,\n",
       "  'possibly_sensitive_appealable': False,\n",
       "  'lang': 'en'},\n",
       " 'retweet_count': 0,\n",
       " 'favorite_count': 10,\n",
       " 'favorited': False,\n",
       " 'retweeted': False,\n",
       " 'possibly_sensitive': False,\n",
       " 'possibly_sensitive_appealable': False,\n",
       " 'lang': 'en'}"
      ]
     },
     "execution_count": 8,
     "metadata": {},
     "output_type": "execute_result"
    }
   ],
   "source": [
    "url = \"https://api.twitter.com/1.1/statuses/show.json?id=1357738374057050112\"\n",
    "response = session.get(url)\n",
    "tweet = response.json()\n",
    "tweet"
   ]
  },
  {
   "cell_type": "code",
   "execution_count": 24,
   "metadata": {},
   "outputs": [],
   "source": [
    "# lookup tweet"
   ]
  },
  {
   "cell_type": "code",
   "execution_count": 25,
   "metadata": {},
   "outputs": [],
   "source": [
    "# def find_url(tweet):\n",
    "#     return re.findall(r\"http\\S+\", tweet)"
   ]
  },
  {
   "cell_type": "code",
   "execution_count": 26,
   "metadata": {},
   "outputs": [],
   "source": [
    "tweet = \"Check out Anusha Nagabandi's blog post about our latest work on dexterous manipulation with model-based RL! https://bair.berkeley.edu/blog/2019/09/30/deep-dynamics/\""
   ]
  },
  {
   "cell_type": "code",
   "execution_count": 27,
   "metadata": {},
   "outputs": [
    {
     "data": {
      "text/plain": [
       "['https://bair.berkeley.edu/blog/2019/09/30/deep-dynamics/']"
      ]
     },
     "execution_count": 27,
     "metadata": {},
     "output_type": "execute_result"
    }
   ],
   "source": [
    "find_url(tweet)"
   ]
  },
  {
   "cell_type": "markdown",
   "metadata": {},
   "source": [
    "## get likes"
   ]
  },
  {
   "cell_type": "code",
   "execution_count": 4,
   "metadata": {},
   "outputs": [],
   "source": [
    "url = \"https://api.twitter.com/1.1/favorites/list.json?count=10&screen_name=saiko_grzegorz\""
   ]
  },
  {
   "cell_type": "code",
   "execution_count": 5,
   "metadata": {},
   "outputs": [],
   "source": [
    "response = session.get(url)\n",
    "tweets = response.json()"
   ]
  },
  {
   "cell_type": "code",
   "execution_count": 6,
   "metadata": {},
   "outputs": [],
   "source": [
    "tweets = response.json()"
   ]
  },
  {
   "cell_type": "code",
   "execution_count": null,
   "metadata": {},
   "outputs": [],
   "source": []
  },
  {
   "cell_type": "code",
   "execution_count": 7,
   "metadata": {
    "scrolled": false
   },
   "outputs": [
    {
     "data": {
      "text/plain": [
       "10"
      ]
     },
     "execution_count": 7,
     "metadata": {},
     "output_type": "execute_result"
    }
   ],
   "source": [
    "len(tweets)"
   ]
  },
  {
   "cell_type": "code",
   "execution_count": 8,
   "metadata": {
    "scrolled": false
   },
   "outputs": [
    {
     "data": {
      "text/plain": [
       "{'created_at': 'Fri Dec 18 05:10:29 +0000 2020',\n",
       " 'id': 1339800179340394498,\n",
       " 'id_str': '1339800179340394498',\n",
       " 'text': 'Lenin and a drunk snowman. https://t.co/oqq03FqeJQ',\n",
       " 'truncated': False,\n",
       " 'entities': {'hashtags': [],\n",
       "  'symbols': [],\n",
       "  'user_mentions': [],\n",
       "  'urls': [],\n",
       "  'media': [{'id': 1339800085203447808,\n",
       "    'id_str': '1339800085203447808',\n",
       "    'indices': [27, 50],\n",
       "    'media_url': 'http://pbs.twimg.com/media/EpftFDSW8AAjiC6.jpg',\n",
       "    'media_url_https': 'https://pbs.twimg.com/media/EpftFDSW8AAjiC6.jpg',\n",
       "    'url': 'https://t.co/oqq03FqeJQ',\n",
       "    'display_url': 'pic.twitter.com/oqq03FqeJQ',\n",
       "    'expanded_url': 'https://twitter.com/burkov/status/1339800179340394498/photo/1',\n",
       "    'type': 'photo',\n",
       "    'sizes': {'thumb': {'w': 150, 'h': 150, 'resize': 'crop'},\n",
       "     'large': {'w': 700, 'h': 429, 'resize': 'fit'},\n",
       "     'small': {'w': 680, 'h': 417, 'resize': 'fit'},\n",
       "     'medium': {'w': 700, 'h': 429, 'resize': 'fit'}}}]},\n",
       " 'extended_entities': {'media': [{'id': 1339800085203447808,\n",
       "    'id_str': '1339800085203447808',\n",
       "    'indices': [27, 50],\n",
       "    'media_url': 'http://pbs.twimg.com/media/EpftFDSW8AAjiC6.jpg',\n",
       "    'media_url_https': 'https://pbs.twimg.com/media/EpftFDSW8AAjiC6.jpg',\n",
       "    'url': 'https://t.co/oqq03FqeJQ',\n",
       "    'display_url': 'pic.twitter.com/oqq03FqeJQ',\n",
       "    'expanded_url': 'https://twitter.com/burkov/status/1339800179340394498/photo/1',\n",
       "    'type': 'photo',\n",
       "    'sizes': {'thumb': {'w': 150, 'h': 150, 'resize': 'crop'},\n",
       "     'large': {'w': 700, 'h': 429, 'resize': 'fit'},\n",
       "     'small': {'w': 680, 'h': 417, 'resize': 'fit'},\n",
       "     'medium': {'w': 700, 'h': 429, 'resize': 'fit'}}}]},\n",
       " 'source': '<a href=\"https://mobile.twitter.com\" rel=\"nofollow\">Twitter Web App</a>',\n",
       " 'in_reply_to_status_id': None,\n",
       " 'in_reply_to_status_id_str': None,\n",
       " 'in_reply_to_user_id': None,\n",
       " 'in_reply_to_user_id_str': None,\n",
       " 'in_reply_to_screen_name': None,\n",
       " 'user': {'id': 47126544,\n",
       "  'id_str': '47126544',\n",
       "  'name': 'Andriy Burkov',\n",
       "  'screen_name': 'burkov',\n",
       "  'location': 'Québec, Canada',\n",
       "  'description': 'Author of 📖 The Hundred-Page Machine Learning Book and the 📖 Machine Learning Engineering book',\n",
       "  'url': 'https://t.co/2uOLialmfG',\n",
       "  'entities': {'url': {'urls': [{'url': 'https://t.co/2uOLialmfG',\n",
       "      'expanded_url': 'http://themlbook.com',\n",
       "      'display_url': 'themlbook.com',\n",
       "      'indices': [0, 23]}]},\n",
       "   'description': {'urls': []}},\n",
       "  'protected': False,\n",
       "  'followers_count': 4792,\n",
       "  'friends_count': 128,\n",
       "  'listed_count': 86,\n",
       "  'created_at': 'Sun Jun 14 16:56:23 +0000 2009',\n",
       "  'favourites_count': 1654,\n",
       "  'utc_offset': None,\n",
       "  'time_zone': None,\n",
       "  'geo_enabled': False,\n",
       "  'verified': False,\n",
       "  'statuses_count': 3056,\n",
       "  'lang': None,\n",
       "  'contributors_enabled': False,\n",
       "  'is_translator': False,\n",
       "  'is_translation_enabled': False,\n",
       "  'profile_background_color': 'C0DEED',\n",
       "  'profile_background_image_url': 'http://abs.twimg.com/images/themes/theme1/bg.png',\n",
       "  'profile_background_image_url_https': 'https://abs.twimg.com/images/themes/theme1/bg.png',\n",
       "  'profile_background_tile': False,\n",
       "  'profile_image_url': 'http://pbs.twimg.com/profile_images/663827278502170624/lJjdhs6X_normal.jpg',\n",
       "  'profile_image_url_https': 'https://pbs.twimg.com/profile_images/663827278502170624/lJjdhs6X_normal.jpg',\n",
       "  'profile_banner_url': 'https://pbs.twimg.com/profile_banners/47126544/1601769420',\n",
       "  'profile_link_color': '1DA1F2',\n",
       "  'profile_sidebar_border_color': 'C0DEED',\n",
       "  'profile_sidebar_fill_color': 'DDEEF6',\n",
       "  'profile_text_color': '333333',\n",
       "  'profile_use_background_image': True,\n",
       "  'has_extended_profile': False,\n",
       "  'default_profile': True,\n",
       "  'default_profile_image': False,\n",
       "  'following': True,\n",
       "  'follow_request_sent': False,\n",
       "  'notifications': False,\n",
       "  'translator_type': 'none'},\n",
       " 'geo': None,\n",
       " 'coordinates': None,\n",
       " 'place': None,\n",
       " 'contributors': None,\n",
       " 'is_quote_status': False,\n",
       " 'retweet_count': 1,\n",
       " 'favorite_count': 11,\n",
       " 'favorited': True,\n",
       " 'retweeted': False,\n",
       " 'possibly_sensitive': False,\n",
       " 'lang': 'en'}"
      ]
     },
     "execution_count": 8,
     "metadata": {},
     "output_type": "execute_result"
    }
   ],
   "source": [
    "tweets[1]"
   ]
  },
  {
   "cell_type": "markdown",
   "metadata": {},
   "source": [
    "## GET statuses/oembed"
   ]
  },
  {
   "cell_type": "code",
   "execution_count": 12,
   "metadata": {},
   "outputs": [],
   "source": [
    "import tweepy\n",
    "#auth = tweepy.OAuthHandler(consumer_key, consumer_secret)\n",
    "api = tweepy.API(wait_on_rate_limit=True)"
   ]
  },
  {
   "cell_type": "code",
   "execution_count": 1,
   "metadata": {},
   "outputs": [
    {
     "ename": "NameError",
     "evalue": "name 'api' is not defined",
     "output_type": "error",
     "traceback": [
      "\u001b[0;31m---------------------------------------------------------------------------\u001b[0m",
      "\u001b[0;31mNameError\u001b[0m                                 Traceback (most recent call last)",
      "\u001b[0;32m<ipython-input-1-ffa3277229e5>\u001b[0m in \u001b[0;36m<module>\u001b[0;34m\u001b[0m\n\u001b[0;32m----> 1\u001b[0;31m \u001b[0mapi\u001b[0m\u001b[0;34m.\u001b[0m\u001b[0mget_oembed\u001b[0m\u001b[0;34m(\u001b[0m\u001b[0;34m\"1354872948226732046\"\u001b[0m\u001b[0;34m)\u001b[0m\u001b[0;34m\u001b[0m\u001b[0;34m\u001b[0m\u001b[0m\n\u001b[0m",
      "\u001b[0;31mNameError\u001b[0m: name 'api' is not defined"
     ]
    }
   ],
   "source": [
    "api.get_oembed(\"1354872948226732046\")"
   ]
  },
  {
   "cell_type": "code",
   "execution_count": 17,
   "metadata": {},
   "outputs": [
    {
     "data": {
      "text/plain": [
       "'<blockquote class=\"twitter-tweet\"><p lang=\"en\" dir=\"ltr\">Lenin and a drunk snowman. <a href=\"https://t.co/oqq03FqeJQ\">pic.twitter.com/oqq03FqeJQ</a></p>&mdash; Andriy Burkov (@burkov) <a href=\"https://twitter.com/burkov/status/1339800179340394498?ref_src=twsrc%5Etfw\">December 18, 2020</a></blockquote>\\n<script async src=\"https://platform.twitter.com/widgets.js\" charset=\"utf-8\"></script>\\n'"
      ]
     },
     "execution_count": 17,
     "metadata": {},
     "output_type": "execute_result"
    }
   ],
   "source": [
    "api.get_oembed(\"1339800179340394498\")[\"html\"]"
   ]
  },
  {
   "cell_type": "code",
   "execution_count": null,
   "metadata": {},
   "outputs": [],
   "source": []
  },
  {
   "cell_type": "code",
   "execution_count": null,
   "metadata": {},
   "outputs": [],
   "source": [
    "https://publish.twitter.com/oembed?\n",
    "  url=https://twitter.com/Interior/status/463440424141459456"
   ]
  },
  {
   "cell_type": "code",
   "execution_count": 19,
   "metadata": {},
   "outputs": [
    {
     "name": "stdout",
     "output_type": "stream",
     "text": [
      "{\"message\":\"bad url, reason: no protocol: 463440424141459456\"}"
     ]
    }
   ],
   "source": [
    "!curl \"https://publish.twitter.com/oembed?url=463440424141459456\""
   ]
  },
  {
   "cell_type": "code",
   "execution_count": 10,
   "metadata": {},
   "outputs": [
    {
     "name": "stdout",
     "output_type": "stream",
     "text": [
      "{\"url\":\"https:\\/\\/twitter.com\\/Interior\\/status\\/507185938620219395\",\"author_name\":\"US Department of the Interior\",\"author_url\":\"https:\\/\\/twitter.com\\/Interior\",\"html\":\"\\u003Cblockquote class=\\\"twitter-tweet\\\"\\u003E\\u003Cp lang=\\\"en\\\" dir=\\\"ltr\\\"\\u003EHappy 50th anniversary to the Wilderness Act! Here&#39;s a great wilderness photo from \\u003Ca href=\\\"https:\\/\\/twitter.com\\/YosemiteNPS?ref_src=twsrc%5Etfw\\\"\\u003E@YosemiteNPS\\u003C\\/a\\u003E. \\u003Ca href=\\\"https:\\/\\/twitter.com\\/hashtag\\/Wilderness50?src=hash&amp;ref_src=twsrc%5Etfw\\\"\\u003E#Wilderness50\\u003C\\/a\\u003E \\u003Ca href=\\\"http:\\/\\/t.co\\/HMhbyTg18X\\\"\\u003Epic.twitter.com\\/HMhbyTg18X\\u003C\\/a\\u003E\\u003C\\/p\\u003E&mdash; US Department of the Interior (@Interior) \\u003Ca href=\\\"https:\\/\\/twitter.com\\/Interior\\/status\\/507185938620219395?ref_src=twsrc%5Etfw\\\"\\u003ESeptember 3, 2014\\u003C\\/a\\u003E\\u003C\\/blockquote\\u003E\\n\\u003Cscript async src=\\\"https:\\/\\/platform.twitter.com\\/widgets.js\\\" charset=\\\"utf-8\\\"\\u003E\\u003C\\/script\\u003E\\n\",\"width\":550,\"height\":null,\"type\":\"rich\",\"cache_age\":\"3153600000\",\"provider_name\":\"Twitter\",\"provider_url\":\"https:\\/\\/twitter.com\",\"version\":\"1.0\"}"
     ]
    }
   ],
   "source": [
    "!curl 'https://publish.twitter.com/oembed?url=https%3A%2F%2Ftwitter.com%2FInterior%2Fstatus%2F507185938620219395'"
   ]
  },
  {
   "cell_type": "code",
   "execution_count": null,
   "metadata": {},
   "outputs": [],
   "source": []
  }
 ],
 "metadata": {
  "kernelspec": {
   "display_name": "Python 3",
   "language": "python",
   "name": "python3"
  },
  "language_info": {
   "codemirror_mode": {
    "name": "ipython",
    "version": 3
   },
   "file_extension": ".py",
   "mimetype": "text/x-python",
   "name": "python",
   "nbconvert_exporter": "python",
   "pygments_lexer": "ipython3",
   "version": "3.8.5"
  },
  "varInspector": {
   "cols": {
    "lenName": 16,
    "lenType": 16,
    "lenVar": 40
   },
   "kernels_config": {
    "python": {
     "delete_cmd_postfix": "",
     "delete_cmd_prefix": "del ",
     "library": "var_list.py",
     "varRefreshCmd": "print(var_dic_list())"
    },
    "r": {
     "delete_cmd_postfix": ") ",
     "delete_cmd_prefix": "rm(",
     "library": "var_list.r",
     "varRefreshCmd": "cat(var_dic_list()) "
    }
   },
   "types_to_exclude": [
    "module",
    "function",
    "builtin_function_or_method",
    "instance",
    "_Feature"
   ],
   "window_display": false
  }
 },
 "nbformat": 4,
 "nbformat_minor": 4
}
