{
 "cells": [
  {
   "cell_type": "code",
   "execution_count": 15,
   "metadata": {},
   "outputs": [],
   "source": [
    "import os\n",
    "from twitter_to_sqlite import utils\n",
    "import pandas as pd\n",
    "import time"
   ]
  },
  {
   "cell_type": "code",
   "execution_count": 6,
   "metadata": {},
   "outputs": [],
   "source": [
    "auth = json.load(open(\"../auth/auth.json\"))\n",
    "owner_id = \"143058191\"\n",
    "session = utils.session_for_auth(auth)"
   ]
  },
  {
   "cell_type": "code",
   "execution_count": 10,
   "metadata": {},
   "outputs": [],
   "source": [
    "tweets_df = pd.read_csv(\"seen.csv\")"
   ]
  },
  {
   "cell_type": "code",
   "execution_count": 8,
   "metadata": {},
   "outputs": [
    {
     "data": {
      "text/plain": [
       "<Response [200]>"
      ]
     },
     "execution_count": 8,
     "metadata": {},
     "output_type": "execute_result"
    }
   ],
   "source": [
    "c = \"to_process\"\n",
    "url = f\"https://api.twitter.com/1.1/collections/create.json?name={c}\"\n",
    "session.post(url)"
   ]
  },
  {
   "cell_type": "code",
   "execution_count": 9,
   "metadata": {},
   "outputs": [
    {
     "name": "stdout",
     "output_type": "stream",
     "text": [
      "custom-1351839030959288320 to_process\n",
      "custom-1351555076024893440 custom_newsfeed\n",
      "custom-1351093543385899011 not_relevant\n"
     ]
    }
   ],
   "source": [
    "url = f\"https://api.twitter.com/1.1/collections/list.json?user_id={owner_id}\"\n",
    "response = session.get(url)\n",
    "collections = response.json()[\"objects\"][\"timelines\"]\n",
    "for k in collections.keys():\n",
    "    print(k, collections[k][\"name\"])\n",
    "collections_list = [collections[k][\"name\"] for k in collections.keys()]"
   ]
  },
  {
   "cell_type": "code",
   "execution_count": 11,
   "metadata": {},
   "outputs": [],
   "source": [
    "tweet_list = tweets_df[\"id\"]"
   ]
  },
  {
   "cell_type": "code",
   "execution_count": 12,
   "metadata": {},
   "outputs": [],
   "source": [
    "def proccecing_list(collection_id, tweet_list):\n",
    "    \n",
    "    collection_id = collection_id\n",
    "    procc_list = []\n",
    "    for counter, tweet_id in enumerate(tweet_list):\n",
    "        if (counter+1) % 20 == 0:\n",
    "            print(f\"{(counter+1)} / {len(tweet_list)}\")\n",
    "        url = f\"https://api.twitter.com/1.1/collections/entries/add.json?tweet_id={tweet_id}&id={collection_id}\"\n",
    "        response = session.post(url)\n",
    "        if response.reason == \"OK\":\n",
    "            errors = response.json()[\"response\"][\"errors\"]\n",
    "            if len(errors) > 0:\n",
    "                procc_list.append({\"tweet_id\": tweet_id, \"err_reason\" : errors[0][\"reason\"]})\n",
    "            else:\n",
    "                procc_list.append({\"tweet_id\": tweet_id, \"err_reason\" : \"\"})\n",
    "        else:\n",
    "            print(counter)\n",
    "            print(response.reason)\n",
    "            break\n",
    "\n",
    "    df = pd.DataFrame(procc_list)\n",
    "    print(df[\"err_reason\"].value_counts())\n",
    "    return df"
   ]
  },
  {
   "cell_type": "code",
   "execution_count": null,
   "metadata": {},
   "outputs": [],
   "source": [
    "# while respons is not ok = sleep for 60s\n"
   ]
  },
  {
   "cell_type": "code",
   "execution_count": 14,
   "metadata": {},
   "outputs": [
    {
     "name": "stdout",
     "output_type": "stream",
     "text": [
      "20 / 1600\n",
      "40 / 1600\n",
      "60 / 1600\n",
      "80 / 1600\n",
      "100 / 1600\n",
      "120 / 1600\n",
      "140 / 1600\n",
      "160 / 1600\n",
      "180 / 1600\n",
      "200 / 1600\n",
      "220 / 1600\n",
      "240 / 1600\n",
      "260 / 1600\n",
      "280 / 1600\n",
      "300 / 1600\n",
      "320 / 1600\n",
      "340 / 1600\n",
      "360 / 1600\n",
      "380 / 1600\n",
      "400 / 1600\n",
      "420 / 1600\n",
      "440 / 1600\n",
      "460 / 1600\n",
      "480 / 1600\n",
      "500 / 1600\n",
      "520 / 1600\n",
      "540 / 1600\n",
      "560 / 1600\n",
      "580 / 1600\n",
      "600 / 1600\n",
      "620 / 1600\n",
      "640 / 1600\n",
      "660 / 1600\n",
      "680 / 1600\n",
      "700 / 1600\n",
      "720 / 1600\n",
      "740 / 1600\n",
      "760 / 1600\n",
      "770\n",
      "Too Many Requests\n",
      "                   571\n",
      "not_found          189\n",
      "protected_tweet     10\n",
      "Name: err_reason, dtype: int64\n"
     ]
    }
   ],
   "source": [
    "df = proccecing_list(\"custom-1351839030959288320\", tweet_list.tolist())"
   ]
  },
  {
   "cell_type": "code",
   "execution_count": 21,
   "metadata": {},
   "outputs": [
    {
     "data": {
      "text/plain": [
       "(770, 2)"
      ]
     },
     "execution_count": 21,
     "metadata": {},
     "output_type": "execute_result"
    }
   ],
   "source": [
    "df.shape"
   ]
  },
  {
   "cell_type": "code",
   "execution_count": 22,
   "metadata": {},
   "outputs": [
    {
     "name": "stdout",
     "output_type": "stream",
     "text": [
      "20 / 840\n",
      "40 / 840\n",
      "60 / 840\n",
      "80 / 840\n",
      "100 / 840\n",
      "120 / 840\n",
      "140 / 840\n",
      "160 / 840\n",
      "180 / 840\n",
      "200 / 840\n",
      "220 / 840\n",
      "240 / 840\n",
      "260 / 840\n",
      "280 / 840\n",
      "300 / 840\n",
      "320 / 840\n",
      "340 / 840\n",
      "360 / 840\n",
      "380 / 840\n",
      "400 / 840\n",
      "420 / 840\n",
      "440 / 840\n",
      "460 / 840\n",
      "480 / 840\n",
      "500 / 840\n",
      "520 / 840\n",
      "540 / 840\n",
      "560 / 840\n",
      "580 / 840\n",
      "600 / 840\n",
      "620 / 840\n",
      "640 / 840\n",
      "660 / 840\n",
      "680 / 840\n",
      "700 / 840\n",
      "720 / 840\n",
      "740 / 840\n",
      "760 / 840\n",
      "780 / 840\n",
      "800 / 840\n",
      "820 / 840\n",
      "840 / 840\n",
      "                   616\n",
      "not_found          202\n",
      "protected_tweet     14\n",
      "duplicate            8\n",
      "Name: err_reason, dtype: int64\n"
     ]
    }
   ],
   "source": [
    "df2 = proccecing_list(\"custom-1351839030959288320\", tweet_list.tolist()[760:])"
   ]
  },
  {
   "cell_type": "code",
   "execution_count": 23,
   "metadata": {},
   "outputs": [
    {
     "data": {
      "text/html": [
       "<div>\n",
       "<style scoped>\n",
       "    .dataframe tbody tr th:only-of-type {\n",
       "        vertical-align: middle;\n",
       "    }\n",
       "\n",
       "    .dataframe tbody tr th {\n",
       "        vertical-align: top;\n",
       "    }\n",
       "\n",
       "    .dataframe thead th {\n",
       "        text-align: right;\n",
       "    }\n",
       "</style>\n",
       "<table border=\"1\" class=\"dataframe\">\n",
       "  <thead>\n",
       "    <tr style=\"text-align: right;\">\n",
       "      <th></th>\n",
       "      <th>tweet_id</th>\n",
       "      <th>err_reason</th>\n",
       "    </tr>\n",
       "  </thead>\n",
       "  <tbody>\n",
       "    <tr>\n",
       "      <th>0</th>\n",
       "      <td>1337875267096875015</td>\n",
       "      <td></td>\n",
       "    </tr>\n",
       "    <tr>\n",
       "      <th>1</th>\n",
       "      <td>1335698027537969155</td>\n",
       "      <td></td>\n",
       "    </tr>\n",
       "    <tr>\n",
       "      <th>2</th>\n",
       "      <td>1345699105385959435</td>\n",
       "      <td>not_found</td>\n",
       "    </tr>\n",
       "    <tr>\n",
       "      <th>3</th>\n",
       "      <td>1336874318882467842</td>\n",
       "      <td></td>\n",
       "    </tr>\n",
       "    <tr>\n",
       "      <th>4</th>\n",
       "      <td>1337717825629253633</td>\n",
       "      <td>not_found</td>\n",
       "    </tr>\n",
       "    <tr>\n",
       "      <th>...</th>\n",
       "      <td>...</td>\n",
       "      <td>...</td>\n",
       "    </tr>\n",
       "    <tr>\n",
       "      <th>765</th>\n",
       "      <td>1336759256041840645</td>\n",
       "      <td></td>\n",
       "    </tr>\n",
       "    <tr>\n",
       "      <th>766</th>\n",
       "      <td>755026645069750272</td>\n",
       "      <td></td>\n",
       "    </tr>\n",
       "    <tr>\n",
       "      <th>767</th>\n",
       "      <td>1336457867235364867</td>\n",
       "      <td></td>\n",
       "    </tr>\n",
       "    <tr>\n",
       "      <th>768</th>\n",
       "      <td>1339354804435341314</td>\n",
       "      <td></td>\n",
       "    </tr>\n",
       "    <tr>\n",
       "      <th>769</th>\n",
       "      <td>1336466296800649217</td>\n",
       "      <td></td>\n",
       "    </tr>\n",
       "  </tbody>\n",
       "</table>\n",
       "<p>770 rows × 2 columns</p>\n",
       "</div>"
      ],
      "text/plain": [
       "                tweet_id err_reason\n",
       "0    1337875267096875015           \n",
       "1    1335698027537969155           \n",
       "2    1345699105385959435  not_found\n",
       "3    1336874318882467842           \n",
       "4    1337717825629253633  not_found\n",
       "..                   ...        ...\n",
       "765  1336759256041840645           \n",
       "766   755026645069750272           \n",
       "767  1336457867235364867           \n",
       "768  1339354804435341314           \n",
       "769  1336466296800649217           \n",
       "\n",
       "[770 rows x 2 columns]"
      ]
     },
     "execution_count": 23,
     "metadata": {},
     "output_type": "execute_result"
    }
   ],
   "source": [
    "df"
   ]
  },
  {
   "cell_type": "code",
   "execution_count": 24,
   "metadata": {},
   "outputs": [
    {
     "data": {
      "text/html": [
       "<div>\n",
       "<style scoped>\n",
       "    .dataframe tbody tr th:only-of-type {\n",
       "        vertical-align: middle;\n",
       "    }\n",
       "\n",
       "    .dataframe tbody tr th {\n",
       "        vertical-align: top;\n",
       "    }\n",
       "\n",
       "    .dataframe thead th {\n",
       "        text-align: right;\n",
       "    }\n",
       "</style>\n",
       "<table border=\"1\" class=\"dataframe\">\n",
       "  <thead>\n",
       "    <tr style=\"text-align: right;\">\n",
       "      <th></th>\n",
       "      <th>tweet_id</th>\n",
       "      <th>err_reason</th>\n",
       "    </tr>\n",
       "  </thead>\n",
       "  <tbody>\n",
       "    <tr>\n",
       "      <th>0</th>\n",
       "      <td>1340113559712350211</td>\n",
       "      <td>not_found</td>\n",
       "    </tr>\n",
       "    <tr>\n",
       "      <th>1</th>\n",
       "      <td>1337484424909209601</td>\n",
       "      <td>duplicate</td>\n",
       "    </tr>\n",
       "    <tr>\n",
       "      <th>2</th>\n",
       "      <td>1345334329698877441</td>\n",
       "      <td>duplicate</td>\n",
       "    </tr>\n",
       "    <tr>\n",
       "      <th>3</th>\n",
       "      <td>1339020019951349762</td>\n",
       "      <td>duplicate</td>\n",
       "    </tr>\n",
       "    <tr>\n",
       "      <th>4</th>\n",
       "      <td>1337920190340681729</td>\n",
       "      <td>not_found</td>\n",
       "    </tr>\n",
       "    <tr>\n",
       "      <th>...</th>\n",
       "      <td>...</td>\n",
       "      <td>...</td>\n",
       "    </tr>\n",
       "    <tr>\n",
       "      <th>835</th>\n",
       "      <td>1337184446789931008</td>\n",
       "      <td>not_found</td>\n",
       "    </tr>\n",
       "    <tr>\n",
       "      <th>836</th>\n",
       "      <td>1341250063876550656</td>\n",
       "      <td></td>\n",
       "    </tr>\n",
       "    <tr>\n",
       "      <th>837</th>\n",
       "      <td>1336231355110322177</td>\n",
       "      <td>not_found</td>\n",
       "    </tr>\n",
       "    <tr>\n",
       "      <th>838</th>\n",
       "      <td>1344289183456768002</td>\n",
       "      <td></td>\n",
       "    </tr>\n",
       "    <tr>\n",
       "      <th>839</th>\n",
       "      <td>1344038663760576520</td>\n",
       "      <td>protected_tweet</td>\n",
       "    </tr>\n",
       "  </tbody>\n",
       "</table>\n",
       "<p>840 rows × 2 columns</p>\n",
       "</div>"
      ],
      "text/plain": [
       "                tweet_id       err_reason\n",
       "0    1340113559712350211        not_found\n",
       "1    1337484424909209601        duplicate\n",
       "2    1345334329698877441        duplicate\n",
       "3    1339020019951349762        duplicate\n",
       "4    1337920190340681729        not_found\n",
       "..                   ...              ...\n",
       "835  1337184446789931008        not_found\n",
       "836  1341250063876550656                 \n",
       "837  1336231355110322177        not_found\n",
       "838  1344289183456768002                 \n",
       "839  1344038663760576520  protected_tweet\n",
       "\n",
       "[840 rows x 2 columns]"
      ]
     },
     "execution_count": 24,
     "metadata": {},
     "output_type": "execute_result"
    }
   ],
   "source": [
    "df2"
   ]
  },
  {
   "cell_type": "code",
   "execution_count": 26,
   "metadata": {},
   "outputs": [],
   "source": [
    "frames = [df, df2]"
   ]
  },
  {
   "cell_type": "code",
   "execution_count": 27,
   "metadata": {},
   "outputs": [],
   "source": [
    "result = pd.concat(frames)"
   ]
  },
  {
   "cell_type": "code",
   "execution_count": 31,
   "metadata": {},
   "outputs": [],
   "source": [
    "result.drop_duplicates(subset=\"tweet_id\",  inplace=True)"
   ]
  },
  {
   "cell_type": "code",
   "execution_count": 32,
   "metadata": {},
   "outputs": [
    {
     "data": {
      "text/html": [
       "<div>\n",
       "<style scoped>\n",
       "    .dataframe tbody tr th:only-of-type {\n",
       "        vertical-align: middle;\n",
       "    }\n",
       "\n",
       "    .dataframe tbody tr th {\n",
       "        vertical-align: top;\n",
       "    }\n",
       "\n",
       "    .dataframe thead th {\n",
       "        text-align: right;\n",
       "    }\n",
       "</style>\n",
       "<table border=\"1\" class=\"dataframe\">\n",
       "  <thead>\n",
       "    <tr style=\"text-align: right;\">\n",
       "      <th></th>\n",
       "      <th>tweet_id</th>\n",
       "      <th>err_reason</th>\n",
       "    </tr>\n",
       "  </thead>\n",
       "  <tbody>\n",
       "    <tr>\n",
       "      <th>0</th>\n",
       "      <td>1337875267096875015</td>\n",
       "      <td></td>\n",
       "    </tr>\n",
       "    <tr>\n",
       "      <th>1</th>\n",
       "      <td>1335698027537969155</td>\n",
       "      <td></td>\n",
       "    </tr>\n",
       "    <tr>\n",
       "      <th>2</th>\n",
       "      <td>1345699105385959435</td>\n",
       "      <td>not_found</td>\n",
       "    </tr>\n",
       "    <tr>\n",
       "      <th>3</th>\n",
       "      <td>1336874318882467842</td>\n",
       "      <td></td>\n",
       "    </tr>\n",
       "    <tr>\n",
       "      <th>4</th>\n",
       "      <td>1337717825629253633</td>\n",
       "      <td>not_found</td>\n",
       "    </tr>\n",
       "    <tr>\n",
       "      <th>...</th>\n",
       "      <td>...</td>\n",
       "      <td>...</td>\n",
       "    </tr>\n",
       "    <tr>\n",
       "      <th>835</th>\n",
       "      <td>1337184446789931008</td>\n",
       "      <td>not_found</td>\n",
       "    </tr>\n",
       "    <tr>\n",
       "      <th>836</th>\n",
       "      <td>1341250063876550656</td>\n",
       "      <td></td>\n",
       "    </tr>\n",
       "    <tr>\n",
       "      <th>837</th>\n",
       "      <td>1336231355110322177</td>\n",
       "      <td>not_found</td>\n",
       "    </tr>\n",
       "    <tr>\n",
       "      <th>838</th>\n",
       "      <td>1344289183456768002</td>\n",
       "      <td></td>\n",
       "    </tr>\n",
       "    <tr>\n",
       "      <th>839</th>\n",
       "      <td>1344038663760576520</td>\n",
       "      <td>protected_tweet</td>\n",
       "    </tr>\n",
       "  </tbody>\n",
       "</table>\n",
       "<p>1600 rows × 2 columns</p>\n",
       "</div>"
      ],
      "text/plain": [
       "                tweet_id       err_reason\n",
       "0    1337875267096875015                 \n",
       "1    1335698027537969155                 \n",
       "2    1345699105385959435        not_found\n",
       "3    1336874318882467842                 \n",
       "4    1337717825629253633        not_found\n",
       "..                   ...              ...\n",
       "835  1337184446789931008        not_found\n",
       "836  1341250063876550656                 \n",
       "837  1336231355110322177        not_found\n",
       "838  1344289183456768002                 \n",
       "839  1344038663760576520  protected_tweet\n",
       "\n",
       "[1600 rows x 2 columns]"
      ]
     },
     "execution_count": 32,
     "metadata": {},
     "output_type": "execute_result"
    }
   ],
   "source": [
    "result"
   ]
  },
  {
   "cell_type": "code",
   "execution_count": 34,
   "metadata": {},
   "outputs": [
    {
     "data": {
      "text/plain": [
       "                   1187\n",
       "not_found           389\n",
       "protected_tweet      24\n",
       "Name: err_reason, dtype: int64"
      ]
     },
     "execution_count": 34,
     "metadata": {},
     "output_type": "execute_result"
    }
   ],
   "source": [
    "result[\"err_reason\"].value_counts()"
   ]
  },
  {
   "cell_type": "code",
   "execution_count": 35,
   "metadata": {},
   "outputs": [],
   "source": [
    "result.to_csv('seen.csv', index=False)"
   ]
  },
  {
   "cell_type": "code",
   "execution_count": null,
   "metadata": {},
   "outputs": [],
   "source": []
  },
  {
   "cell_type": "code",
   "execution_count": null,
   "metadata": {},
   "outputs": [],
   "source": []
  }
 ],
 "metadata": {
  "kernelspec": {
   "display_name": "Python 3",
   "language": "python",
   "name": "python3"
  },
  "language_info": {
   "codemirror_mode": {
    "name": "ipython",
    "version": 3
   },
   "file_extension": ".py",
   "mimetype": "text/x-python",
   "name": "python",
   "nbconvert_exporter": "python",
   "pygments_lexer": "ipython3",
   "version": "3.8.5"
  },
  "varInspector": {
   "cols": {
    "lenName": 16,
    "lenType": 16,
    "lenVar": 40
   },
   "kernels_config": {
    "python": {
     "delete_cmd_postfix": "",
     "delete_cmd_prefix": "del ",
     "library": "var_list.py",
     "varRefreshCmd": "print(var_dic_list())"
    },
    "r": {
     "delete_cmd_postfix": ") ",
     "delete_cmd_prefix": "rm(",
     "library": "var_list.r",
     "varRefreshCmd": "cat(var_dic_list()) "
    }
   },
   "types_to_exclude": [
    "module",
    "function",
    "builtin_function_or_method",
    "instance",
    "_Feature"
   ],
   "window_display": false
  }
 },
 "nbformat": 4,
 "nbformat_minor": 4
}
