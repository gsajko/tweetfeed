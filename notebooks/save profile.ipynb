{
 "cells": [
  {
   "cell_type": "code",
   "execution_count": 4,
   "metadata": {
    "scrolled": true
   },
   "outputs": [],
   "source": [
    "import sys\n",
    "\n",
    "sys.path.append(\"../\")  # go to parent dir\n",
    "import sqlite3\n",
    "import os\n",
    "import tweepy\n",
    "from src import utils\n",
    "from src import db"
   ]
  },
  {
   "cell_type": "code",
   "execution_count": 5,
   "metadata": {},
   "outputs": [],
   "source": [
    "api = utils.twitter_auth()\n",
    "path_to_db = \"../data/test.db\""
   ]
  },
  {
   "cell_type": "code",
   "execution_count": 6,
   "metadata": {},
   "outputs": [],
   "source": [
    "conn = sqlite3.connect(path_to_db)\n",
    "c = conn.cursor()"
   ]
  },
  {
   "cell_type": "code",
   "execution_count": 7,
   "metadata": {},
   "outputs": [
    {
     "ename": "OperationalError",
     "evalue": "no such table: information_schema.tables",
     "output_type": "error",
     "traceback": [
      "\u001b[0;31m---------------------------------------------------------------------------\u001b[0m",
      "\u001b[0;31mOperationalError\u001b[0m                          Traceback (most recent call last)",
      "\u001b[0;32m<ipython-input-7-57392fe8b122>\u001b[0m in \u001b[0;36m<module>\u001b[0;34m\u001b[0m\n\u001b[0;32m----> 1\u001b[0;31m \u001b[0mc\u001b[0m\u001b[0;34m.\u001b[0m\u001b[0mexecute\u001b[0m\u001b[0;34m(\u001b[0m\u001b[0;34m\"\"\"SELECT * FROM information_schema.tables WHERE table_name = 'profiles' \"\"\"\u001b[0m\u001b[0;34m)\u001b[0m\u001b[0;34m\u001b[0m\u001b[0;34m\u001b[0m\u001b[0m\n\u001b[0m",
      "\u001b[0;31mOperationalError\u001b[0m: no such table: information_schema.tables"
     ]
    }
   ],
   "source": [
    "c.execute(\"\"\"SELECT * FROM information_schema.tables WHERE table_name = 'profiles' \"\"\")"
   ]
  },
  {
   "cell_type": "code",
   "execution_count": 9,
   "metadata": {},
   "outputs": [
    {
     "data": {
      "text/plain": [
       "False"
      ]
     },
     "execution_count": 9,
     "metadata": {},
     "output_type": "execute_result"
    }
   ],
   "source": [
    "db.check_table_exist(\"profiles\", path_to_db)"
   ]
  },
  {
   "cell_type": "code",
   "execution_count": 10,
   "metadata": {},
   "outputs": [
    {
     "data": {
      "text/plain": [
       "[]"
      ]
     },
     "execution_count": 10,
     "metadata": {},
     "output_type": "execute_result"
    }
   ],
   "source": [
    "c.execute(\"SELECT * FROM profiles\")\n",
    "c.fetchall()"
   ]
  },
  {
   "cell_type": "code",
   "execution_count": 11,
   "metadata": {},
   "outputs": [
    {
     "name": "stdout",
     "output_type": "stream",
     "text": [
      "dupa\n"
     ]
    }
   ],
   "source": [
    "utils.save_profile(\"143058191\", path_to_db)"
   ]
  },
  {
   "cell_type": "code",
   "execution_count": 12,
   "metadata": {},
   "outputs": [],
   "source": [
    "user = utils.get_profile(\"143058191\")"
   ]
  },
  {
   "cell_type": "code",
   "execution_count": 13,
   "metadata": {
    "collapsed": true
   },
   "outputs": [
    {
     "data": {
      "text/plain": [
       "{'id': 143058191,\n",
       " 'id_str': '143058191',\n",
       " 'name': 'g.sajko',\n",
       " 'screen_name': 'gSajko',\n",
       " 'location': 'Polska',\n",
       " 'profile_location': {'id': 'd9074951d5976bdf',\n",
       "  'url': 'https://api.twitter.com/1.1/geo/id/d9074951d5976bdf.json',\n",
       "  'place_type': 'unknown',\n",
       "  'name': 'Polska',\n",
       "  'full_name': 'Polska',\n",
       "  'country_code': '',\n",
       "  'country': '',\n",
       "  'contained_within': [],\n",
       "  'bounding_box': None,\n",
       "  'attributes': {}},\n",
       " 'description': 'looking for most suitable encodings.\\n\"Remember that all models are wrong; the practical question is how wrong do they have to be not to be useful\"',\n",
       " 'url': None,\n",
       " 'entities': {'description': {'urls': []}},\n",
       " 'protected': False,\n",
       " 'followers_count': 103,\n",
       " 'friends_count': 523,\n",
       " 'listed_count': 4,\n",
       " 'created_at': 'Wed May 12 13:32:43 +0000 2010',\n",
       " 'favourites_count': 851,\n",
       " 'utc_offset': None,\n",
       " 'time_zone': None,\n",
       " 'geo_enabled': False,\n",
       " 'verified': False,\n",
       " 'statuses_count': 59,\n",
       " 'lang': None,\n",
       " 'status': {'created_at': 'Tue Oct 20 10:05:11 +0000 2020',\n",
       "  'id': 1318493457292300290,\n",
       "  'id_str': '1318493457292300290',\n",
       "  'text': '@burkov Have you read Tao of Capital? Or just taoist stuff? They talk about it a lot.',\n",
       "  'truncated': False,\n",
       "  'entities': {'hashtags': [],\n",
       "   'symbols': [],\n",
       "   'user_mentions': [{'screen_name': 'burkov',\n",
       "     'name': 'Andriy Burkov',\n",
       "     'id': 47126544,\n",
       "     'id_str': '47126544',\n",
       "     'indices': [0, 7]}],\n",
       "   'urls': []},\n",
       "  'source': '<a href=\"https://mobile.twitter.com\" rel=\"nofollow\">Twitter Web App</a>',\n",
       "  'in_reply_to_status_id': 1318394506060988418,\n",
       "  'in_reply_to_status_id_str': '1318394506060988418',\n",
       "  'in_reply_to_user_id': 47126544,\n",
       "  'in_reply_to_user_id_str': '47126544',\n",
       "  'in_reply_to_screen_name': 'burkov',\n",
       "  'geo': None,\n",
       "  'coordinates': None,\n",
       "  'place': None,\n",
       "  'contributors': None,\n",
       "  'is_quote_status': False,\n",
       "  'retweet_count': 0,\n",
       "  'favorite_count': 0,\n",
       "  'favorited': False,\n",
       "  'retweeted': False,\n",
       "  'lang': 'en'},\n",
       " 'contributors_enabled': False,\n",
       " 'is_translator': False,\n",
       " 'is_translation_enabled': False,\n",
       " 'profile_background_color': '000000',\n",
       " 'profile_background_image_url': 'http://abs.twimg.com/images/themes/theme1/bg.png',\n",
       " 'profile_background_image_url_https': 'https://abs.twimg.com/images/themes/theme1/bg.png',\n",
       " 'profile_background_tile': False,\n",
       " 'profile_image_url': 'http://pbs.twimg.com/profile_images/1262066878647808000/l6iqdnXt_normal.jpg',\n",
       " 'profile_image_url_https': 'https://pbs.twimg.com/profile_images/1262066878647808000/l6iqdnXt_normal.jpg',\n",
       " 'profile_banner_url': 'https://pbs.twimg.com/profile_banners/143058191/1536419747',\n",
       " 'profile_link_color': '137752',\n",
       " 'profile_sidebar_border_color': '000000',\n",
       " 'profile_sidebar_fill_color': '000000',\n",
       " 'profile_text_color': '000000',\n",
       " 'profile_use_background_image': False,\n",
       " 'has_extended_profile': False,\n",
       " 'default_profile': False,\n",
       " 'default_profile_image': False,\n",
       " 'following': None,\n",
       " 'follow_request_sent': None,\n",
       " 'notifications': None,\n",
       " 'translator_type': 'none'}"
      ]
     },
     "execution_count": 13,
     "metadata": {},
     "output_type": "execute_result"
    }
   ],
   "source": [
    "user"
   ]
  },
  {
   "cell_type": "code",
   "execution_count": 7,
   "metadata": {},
   "outputs": [
    {
     "ename": "OperationalError",
     "evalue": "no such table: information_schema.tables",
     "output_type": "error",
     "traceback": [
      "\u001b[0;31m---------------------------------------------------------------------------\u001b[0m",
      "\u001b[0;31mOperationalError\u001b[0m                          Traceback (most recent call last)",
      "\u001b[0;32m<ipython-input-7-75774b2fbea6>\u001b[0m in \u001b[0;36m<module>\u001b[0;34m\u001b[0m\n\u001b[0;32m----> 1\u001b[0;31m asf = c.execute(\n\u001b[0m\u001b[1;32m      2\u001b[0m     \u001b[0;34m\"\"\"SELECT * FROM information_schema.tables WHERE table_name = 'profiles' \"\"\"\u001b[0m\u001b[0;34m\u001b[0m\u001b[0;34m\u001b[0m\u001b[0m\n\u001b[1;32m      3\u001b[0m )\n",
      "\u001b[0;31mOperationalError\u001b[0m: no such table: information_schema.tables"
     ]
    }
   ],
   "source": [
    "asf = c.execute(\n",
    "    \"\"\"SELECT * FROM information_schema.tables WHERE table_name = 'profiles' \"\"\"\n",
    ")"
   ]
  },
  {
   "cell_type": "code",
   "execution_count": null,
   "metadata": {},
   "outputs": [],
   "source": [
    "c.fetchone()"
   ]
  },
  {
   "cell_type": "code",
   "execution_count": null,
   "metadata": {},
   "outputs": [],
   "source": [
    "c.fetchall()"
   ]
  },
  {
   "cell_type": "code",
   "execution_count": null,
   "metadata": {},
   "outputs": [],
   "source": [
    "c.execute(\n",
    "    \"\"\"CREATE TABLE profiles(\n",
    "    id integer PRIMARY KEY, \n",
    "    screen_name text NOT NULL, \n",
    "    name text NOT NULL, \n",
    "    description text NOT NULL,\n",
    "    location text NOT NULL)\"\"\"\n",
    ")"
   ]
  },
  {
   "cell_type": "code",
   "execution_count": null,
   "metadata": {},
   "outputs": [],
   "source": [
    "c.execute(\n",
    "    \"INSERT INTO profiles VALUES (?,?,?,?,?)\",\n",
    "    [\n",
    "        user[\"id\"],\n",
    "        user[\"screen_name\"],\n",
    "        user[\"name\"],\n",
    "        user[\"description\"],\n",
    "        user[\"location\"],\n",
    "    ],\n",
    ")"
   ]
  },
  {
   "cell_type": "code",
   "execution_count": null,
   "metadata": {},
   "outputs": [],
   "source": [
    "c.execute(\"SELECT * FROM profiles\")"
   ]
  },
  {
   "cell_type": "code",
   "execution_count": null,
   "metadata": {},
   "outputs": [],
   "source": [
    "c.fetchall()"
   ]
  },
  {
   "cell_type": "code",
   "execution_count": null,
   "metadata": {},
   "outputs": [],
   "source": [
    "# changes don't appear in database! they need to be commited!"
   ]
  },
  {
   "cell_type": "code",
   "execution_count": null,
   "metadata": {},
   "outputs": [],
   "source": [
    "conn.commit()"
   ]
  },
  {
   "cell_type": "code",
   "execution_count": null,
   "metadata": {},
   "outputs": [],
   "source": [
    "user[\"description\"] and \"description\" in user.get(\"entities\", {})"
   ]
  },
  {
   "cell_type": "code",
   "execution_count": null,
   "metadata": {},
   "outputs": [],
   "source": [
    "    if \"users\" not in table_names:\n",
    "        db[\"users\"].create(\n",
    "            {\n",
    "                \"id\": int,\n",
    "                \"screen_name\": str,\n",
    "                \"name\": str,\n",
    "                \"description\": str,\n",
    "                \"location\": str,\n",
    "            },\n",
    "            pk=\"id\",\n",
    "        )"
   ]
  }
 ],
 "metadata": {
  "kernelspec": {
   "display_name": "Python 3",
   "language": "python",
   "name": "python3"
  },
  "language_info": {
   "codemirror_mode": {
    "name": "ipython",
    "version": 3
   },
   "file_extension": ".py",
   "mimetype": "text/x-python",
   "name": "python",
   "nbconvert_exporter": "python",
   "pygments_lexer": "ipython3",
   "version": "3.8.3"
  }
 },
 "nbformat": 4,
 "nbformat_minor": 4
}
