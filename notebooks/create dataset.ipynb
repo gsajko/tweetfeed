{
 "cells": [
  {
   "cell_type": "markdown",
   "metadata": {},
   "source": [
    "# load data"
   ]
  },
  {
   "cell_type": "code",
   "execution_count": 1,
   "metadata": {},
   "outputs": [],
   "source": [
    "import sqlite3\n",
    "import pandas as pd\n",
    "import re\n",
    "from urllib.parse import urlparse\n",
    "import requests\n",
    "from datetime import date\n",
    "from datetime import timedelta"
   ]
  },
  {
   "cell_type": "code",
   "execution_count": 2,
   "metadata": {},
   "outputs": [
    {
     "ename": "NameError",
     "evalue": "name 'sys' is not defined",
     "output_type": "error",
     "traceback": [
      "\u001b[0;31m---------------------------------------------------------------------------\u001b[0m",
      "\u001b[0;31mNameError\u001b[0m                                 Traceback (most recent call last)",
      "\u001b[0;32m<ipython-input-2-6fccc34c10a1>\u001b[0m in \u001b[0;36m<module>\u001b[0;34m\u001b[0m\n\u001b[1;32m      1\u001b[0m \u001b[0;32mimport\u001b[0m \u001b[0mos\u001b[0m\u001b[0;34m\u001b[0m\u001b[0;34m\u001b[0m\u001b[0m\n\u001b[1;32m      2\u001b[0m \u001b[0mmodule_path\u001b[0m \u001b[0;34m=\u001b[0m \u001b[0mos\u001b[0m\u001b[0;34m.\u001b[0m\u001b[0mpath\u001b[0m\u001b[0;34m.\u001b[0m\u001b[0mabspath\u001b[0m\u001b[0;34m(\u001b[0m\u001b[0mos\u001b[0m\u001b[0;34m.\u001b[0m\u001b[0mpath\u001b[0m\u001b[0;34m.\u001b[0m\u001b[0mjoin\u001b[0m\u001b[0;34m(\u001b[0m\u001b[0;34m'..'\u001b[0m\u001b[0;34m)\u001b[0m\u001b[0;34m)\u001b[0m\u001b[0;34m\u001b[0m\u001b[0;34m\u001b[0m\u001b[0m\n\u001b[0;32m----> 3\u001b[0;31m \u001b[0;32mif\u001b[0m \u001b[0mmodule_path\u001b[0m \u001b[0;32mnot\u001b[0m \u001b[0;32min\u001b[0m \u001b[0msys\u001b[0m\u001b[0;34m.\u001b[0m\u001b[0mpath\u001b[0m\u001b[0;34m:\u001b[0m\u001b[0;34m\u001b[0m\u001b[0;34m\u001b[0m\u001b[0m\n\u001b[0m\u001b[1;32m      4\u001b[0m     \u001b[0msys\u001b[0m\u001b[0;34m.\u001b[0m\u001b[0mpath\u001b[0m\u001b[0;34m.\u001b[0m\u001b[0mappend\u001b[0m\u001b[0;34m(\u001b[0m\u001b[0mmodule_path\u001b[0m\u001b[0;34m+\u001b[0m\u001b[0;34m\"/src\"\u001b[0m\u001b[0;34m)\u001b[0m\u001b[0;34m\u001b[0m\u001b[0;34m\u001b[0m\u001b[0m\n\u001b[1;32m      5\u001b[0m \u001b[0;34m\u001b[0m\u001b[0m\n",
      "\u001b[0;31mNameError\u001b[0m: name 'sys' is not defined"
     ]
    }
   ],
   "source": [
    "import os\n",
    "module_path = os.path.abspath(os.path.join('..'))\n",
    "if module_path not in sys.path:\n",
    "    sys.path.append(module_path+\"/src\")\n",
    "    \n",
    "from pipeline_functions import load_tweets"
   ]
  },
  {
   "cell_type": "markdown",
   "metadata": {},
   "source": [
    "## load tweets older then two weeks"
   ]
  },
  {
   "cell_type": "code",
   "execution_count": 28,
   "metadata": {},
   "outputs": [],
   "source": [
    "df_tweets = load_tweets(\"../home.db\", 21)"
   ]
  },
  {
   "cell_type": "markdown",
   "metadata": {},
   "source": [
    "# utils"
   ]
  },
  {
   "cell_type": "code",
   "execution_count": 29,
   "metadata": {},
   "outputs": [
    {
     "data": {
      "text/html": [
       "<div>\n",
       "<style scoped>\n",
       "    .dataframe tbody tr th:only-of-type {\n",
       "        vertical-align: middle;\n",
       "    }\n",
       "\n",
       "    .dataframe tbody tr th {\n",
       "        vertical-align: top;\n",
       "    }\n",
       "\n",
       "    .dataframe thead th {\n",
       "        text-align: right;\n",
       "    }\n",
       "</style>\n",
       "<table border=\"1\" class=\"dataframe\">\n",
       "  <thead>\n",
       "    <tr style=\"text-align: right;\">\n",
       "      <th></th>\n",
       "      <th>id</th>\n",
       "      <th>user</th>\n",
       "      <th>full_text</th>\n",
       "      <th>created_at</th>\n",
       "      <th>lang</th>\n",
       "      <th>retweeted_status</th>\n",
       "      <th>quoted_status</th>\n",
       "      <th>is_quote_status</th>\n",
       "      <th>in_reply_to_status_id</th>\n",
       "    </tr>\n",
       "  </thead>\n",
       "  <tbody>\n",
       "    <tr>\n",
       "      <th>47699</th>\n",
       "      <td>1349143306261782532</td>\n",
       "      <td>28623584</td>\n",
       "      <td>RT @SerenaMalyon: Seeing all of your work this...</td>\n",
       "      <td>2021-01-12T23:56:44+00:00</td>\n",
       "      <td>en</td>\n",
       "      <td>1349120805637025796</td>\n",
       "      <td>N/A</td>\n",
       "      <td>0</td>\n",
       "      <td>None</td>\n",
       "    </tr>\n",
       "    <tr>\n",
       "      <th>47700</th>\n",
       "      <td>1349143755278848004</td>\n",
       "      <td>28623584</td>\n",
       "      <td>RT @nezumiyasha: #PortfolioDay I'm Nez, freela...</td>\n",
       "      <td>2021-01-12T23:58:31+00:00</td>\n",
       "      <td>en</td>\n",
       "      <td>1349116778828472324</td>\n",
       "      <td>N/A</td>\n",
       "      <td>0</td>\n",
       "      <td>None</td>\n",
       "    </tr>\n",
       "    <tr>\n",
       "      <th>47701</th>\n",
       "      <td>1349143840435924992</td>\n",
       "      <td>28623584</td>\n",
       "      <td>RT @JanainaArt: Hi #portfolioday I'm Janaina, ...</td>\n",
       "      <td>2021-01-12T23:58:52+00:00</td>\n",
       "      <td>en</td>\n",
       "      <td>1349060159591641089</td>\n",
       "      <td>N/A</td>\n",
       "      <td>0</td>\n",
       "      <td>None</td>\n",
       "    </tr>\n",
       "    <tr>\n",
       "      <th>47702</th>\n",
       "      <td>1349143921801134081</td>\n",
       "      <td>28623584</td>\n",
       "      <td>RT @ZackRock: Hey #PortifolioDay, it’s me, Zac...</td>\n",
       "      <td>2021-01-12T23:59:11+00:00</td>\n",
       "      <td>en</td>\n",
       "      <td>1349115167448199168</td>\n",
       "      <td>N/A</td>\n",
       "      <td>0</td>\n",
       "      <td>None</td>\n",
       "    </tr>\n",
       "    <tr>\n",
       "      <th>47703</th>\n",
       "      <td>1349143989010661377</td>\n",
       "      <td>28623584</td>\n",
       "      <td>RT @LaurenBlakeArt: It's the first 2021 #Portf...</td>\n",
       "      <td>2021-01-12T23:59:27+00:00</td>\n",
       "      <td>en</td>\n",
       "      <td>1349021226052808705</td>\n",
       "      <td>N/A</td>\n",
       "      <td>0</td>\n",
       "      <td>None</td>\n",
       "    </tr>\n",
       "  </tbody>\n",
       "</table>\n",
       "</div>"
      ],
      "text/plain": [
       "                        id      user  \\\n",
       "47699  1349143306261782532  28623584   \n",
       "47700  1349143755278848004  28623584   \n",
       "47701  1349143840435924992  28623584   \n",
       "47702  1349143921801134081  28623584   \n",
       "47703  1349143989010661377  28623584   \n",
       "\n",
       "                                               full_text  \\\n",
       "47699  RT @SerenaMalyon: Seeing all of your work this...   \n",
       "47700  RT @nezumiyasha: #PortfolioDay I'm Nez, freela...   \n",
       "47701  RT @JanainaArt: Hi #portfolioday I'm Janaina, ...   \n",
       "47702  RT @ZackRock: Hey #PortifolioDay, it’s me, Zac...   \n",
       "47703  RT @LaurenBlakeArt: It's the first 2021 #Portf...   \n",
       "\n",
       "                      created_at lang     retweeted_status quoted_status  \\\n",
       "47699  2021-01-12T23:56:44+00:00   en  1349120805637025796           N/A   \n",
       "47700  2021-01-12T23:58:31+00:00   en  1349116778828472324           N/A   \n",
       "47701  2021-01-12T23:58:52+00:00   en  1349060159591641089           N/A   \n",
       "47702  2021-01-12T23:59:11+00:00   en  1349115167448199168           N/A   \n",
       "47703  2021-01-12T23:59:27+00:00   en  1349021226052808705           N/A   \n",
       "\n",
       "       is_quote_status in_reply_to_status_id  \n",
       "47699                0                  None  \n",
       "47700                0                  None  \n",
       "47701                0                  None  \n",
       "47702                0                  None  \n",
       "47703                0                  None  "
      ]
     },
     "execution_count": 29,
     "metadata": {},
     "output_type": "execute_result"
    }
   ],
   "source": [
    "df_tweets.tail()"
   ]
  },
  {
   "cell_type": "code",
   "execution_count": 33,
   "metadata": {},
   "outputs": [],
   "source": [
    "def find_twitter(tweet):\n",
    "    twitter_url = re.findall(r\"twitter.com/\\S+\", tweet)\n",
    "    if len(twitter_url) > 0:\n",
    "        return twitter_url\n",
    "    else:\n",
    "        return 0"
   ]
  },
  {
   "cell_type": "code",
   "execution_count": 34,
   "metadata": {},
   "outputs": [
    {
     "data": {
      "text/plain": [
       "'697066672998449152'"
      ]
     },
     "execution_count": 34,
     "metadata": {},
     "output_type": "execute_result"
    }
   ],
   "source": [
    "find_twitter(df_tweets.iloc[47].full_text)[-1].split(\"/status/\")[1]"
   ]
  },
  {
   "cell_type": "code",
   "execution_count": 35,
   "metadata": {},
   "outputs": [
    {
     "data": {
      "text/plain": [
       "0"
      ]
     },
     "execution_count": 35,
     "metadata": {},
     "output_type": "execute_result"
    }
   ],
   "source": [
    "find_twitter(df_tweets.iloc[47656].full_text)"
   ]
  },
  {
   "cell_type": "code",
   "execution_count": 40,
   "metadata": {},
   "outputs": [],
   "source": [
    "df_tweets[\"twitter_links\"] =  df_tweets.full_text.apply(find_twitter)"
   ]
  },
  {
   "cell_type": "code",
   "execution_count": 15,
   "metadata": {},
   "outputs": [],
   "source": [
    "# qt_without_status = df_tweets[(df_tweets.is_quote_status == 1) & (df_tweets.quoted_status == 0)].id.tolist()"
   ]
  },
  {
   "cell_type": "code",
   "execution_count": 16,
   "metadata": {
    "scrolled": true
   },
   "outputs": [],
   "source": [
    "asdf = df_tweets[df_tweets.retweeted_status > 0].retweeted_status.value_counts()"
   ]
  },
  {
   "cell_type": "code",
   "execution_count": 17,
   "metadata": {},
   "outputs": [
    {
     "data": {
      "text/plain": [
       "count    16167.000000\n",
       "mean         1.021711\n",
       "std          0.179931\n",
       "min          1.000000\n",
       "25%          1.000000\n",
       "50%          1.000000\n",
       "75%          1.000000\n",
       "max          6.000000\n",
       "Name: retweeted_status, dtype: float64"
      ]
     },
     "execution_count": 17,
     "metadata": {},
     "output_type": "execute_result"
    }
   ],
   "source": [
    "asdf.describe()"
   ]
  },
  {
   "cell_type": "code",
   "execution_count": 18,
   "metadata": {},
   "outputs": [
    {
     "data": {
      "text/plain": [
       "290"
      ]
     },
     "execution_count": 18,
     "metadata": {},
     "output_type": "execute_result"
    }
   ],
   "source": [
    "len(asdf[asdf > 1])"
   ]
  },
  {
   "cell_type": "code",
   "execution_count": 20,
   "metadata": {},
   "outputs": [
    {
     "data": {
      "text/html": [
       "<div>\n",
       "<style scoped>\n",
       "    .dataframe tbody tr th:only-of-type {\n",
       "        vertical-align: middle;\n",
       "    }\n",
       "\n",
       "    .dataframe tbody tr th {\n",
       "        vertical-align: top;\n",
       "    }\n",
       "\n",
       "    .dataframe thead th {\n",
       "        text-align: right;\n",
       "    }\n",
       "</style>\n",
       "<table border=\"1\" class=\"dataframe\">\n",
       "  <thead>\n",
       "    <tr style=\"text-align: right;\">\n",
       "      <th></th>\n",
       "      <th>id</th>\n",
       "      <th>user</th>\n",
       "      <th>full_text</th>\n",
       "      <th>created_at</th>\n",
       "      <th>lang</th>\n",
       "      <th>retweeted_status</th>\n",
       "      <th>quoted_status</th>\n",
       "      <th>is_quote_status</th>\n",
       "      <th>in_reply_to_status_id</th>\n",
       "      <th>twitter_links</th>\n",
       "    </tr>\n",
       "  </thead>\n",
       "  <tbody>\n",
       "    <tr>\n",
       "      <th>27092</th>\n",
       "      <td>1341955209979899910</td>\n",
       "      <td>916052708930588672</td>\n",
       "      <td>RT @circleboom: Why should I delete tweets abo...</td>\n",
       "      <td>2020-12-24T03:53:49+00:00</td>\n",
       "      <td>en</td>\n",
       "      <td>1339969022549487616</td>\n",
       "      <td>0</td>\n",
       "      <td>0</td>\n",
       "      <td>None</td>\n",
       "      <td>0</td>\n",
       "    </tr>\n",
       "    <tr>\n",
       "      <th>28715</th>\n",
       "      <td>1342864505093705728</td>\n",
       "      <td>916052708930588672</td>\n",
       "      <td>RT @circleboom: Why should I delete tweets abo...</td>\n",
       "      <td>2020-12-26T16:07:01+00:00</td>\n",
       "      <td>en</td>\n",
       "      <td>1339969022549487616</td>\n",
       "      <td>0</td>\n",
       "      <td>0</td>\n",
       "      <td>None</td>\n",
       "      <td>0</td>\n",
       "    </tr>\n",
       "    <tr>\n",
       "      <th>35938</th>\n",
       "      <td>1345468530205065218</td>\n",
       "      <td>916052708930588672</td>\n",
       "      <td>RT @circleboom: Why should I delete tweets abo...</td>\n",
       "      <td>2021-01-02T20:34:29+00:00</td>\n",
       "      <td>en</td>\n",
       "      <td>1339969022549487616</td>\n",
       "      <td>0</td>\n",
       "      <td>0</td>\n",
       "      <td>None</td>\n",
       "      <td>0</td>\n",
       "    </tr>\n",
       "    <tr>\n",
       "      <th>53831</th>\n",
       "      <td>1351334760136769538</td>\n",
       "      <td>916052708930588672</td>\n",
       "      <td>RT @circleboom: Why should I delete tweets abo...</td>\n",
       "      <td>2021-01-19T01:04:48+00:00</td>\n",
       "      <td>en</td>\n",
       "      <td>1339969022549487616</td>\n",
       "      <td>0</td>\n",
       "      <td>0</td>\n",
       "      <td>None</td>\n",
       "      <td>0</td>\n",
       "    </tr>\n",
       "    <tr>\n",
       "      <th>55093</th>\n",
       "      <td>1351646941860536320</td>\n",
       "      <td>916052708930588672</td>\n",
       "      <td>RT @circleboom: Why should I delete tweets abo...</td>\n",
       "      <td>2021-01-19T21:45:17+00:00</td>\n",
       "      <td>en</td>\n",
       "      <td>1339969022549487616</td>\n",
       "      <td>0</td>\n",
       "      <td>0</td>\n",
       "      <td>None</td>\n",
       "      <td>0</td>\n",
       "    </tr>\n",
       "    <tr>\n",
       "      <th>59437</th>\n",
       "      <td>1352604904951607298</td>\n",
       "      <td>916052708930588672</td>\n",
       "      <td>RT @circleboom: Why should I delete tweets abo...</td>\n",
       "      <td>2021-01-22T13:11:54+00:00</td>\n",
       "      <td>en</td>\n",
       "      <td>1339969022549487616</td>\n",
       "      <td>0</td>\n",
       "      <td>0</td>\n",
       "      <td>None</td>\n",
       "      <td>0</td>\n",
       "    </tr>\n",
       "  </tbody>\n",
       "</table>\n",
       "</div>"
      ],
      "text/plain": [
       "                        id                user  \\\n",
       "27092  1341955209979899910  916052708930588672   \n",
       "28715  1342864505093705728  916052708930588672   \n",
       "35938  1345468530205065218  916052708930588672   \n",
       "53831  1351334760136769538  916052708930588672   \n",
       "55093  1351646941860536320  916052708930588672   \n",
       "59437  1352604904951607298  916052708930588672   \n",
       "\n",
       "                                               full_text  \\\n",
       "27092  RT @circleboom: Why should I delete tweets abo...   \n",
       "28715  RT @circleboom: Why should I delete tweets abo...   \n",
       "35938  RT @circleboom: Why should I delete tweets abo...   \n",
       "53831  RT @circleboom: Why should I delete tweets abo...   \n",
       "55093  RT @circleboom: Why should I delete tweets abo...   \n",
       "59437  RT @circleboom: Why should I delete tweets abo...   \n",
       "\n",
       "                      created_at lang     retweeted_status  quoted_status  \\\n",
       "27092  2020-12-24T03:53:49+00:00   en  1339969022549487616              0   \n",
       "28715  2020-12-26T16:07:01+00:00   en  1339969022549487616              0   \n",
       "35938  2021-01-02T20:34:29+00:00   en  1339969022549487616              0   \n",
       "53831  2021-01-19T01:04:48+00:00   en  1339969022549487616              0   \n",
       "55093  2021-01-19T21:45:17+00:00   en  1339969022549487616              0   \n",
       "59437  2021-01-22T13:11:54+00:00   en  1339969022549487616              0   \n",
       "\n",
       "       is_quote_status in_reply_to_status_id twitter_links  \n",
       "27092                0                  None             0  \n",
       "28715                0                  None             0  \n",
       "35938                0                  None             0  \n",
       "53831                0                  None             0  \n",
       "55093                0                  None             0  \n",
       "59437                0                  None             0  "
      ]
     },
     "execution_count": 20,
     "metadata": {},
     "output_type": "execute_result"
    }
   ],
   "source": [
    "df_tweets[df_tweets.retweeted_status == 1339969022549487616]"
   ]
  },
  {
   "cell_type": "code",
   "execution_count": 19,
   "metadata": {},
   "outputs": [
    {
     "data": {
      "text/plain": [
       "1339969022549487616    6\n",
       "1345610869149937664    6\n",
       "1317485210896896000    5\n",
       "1338933782452314112    5\n",
       "1341542597177864192    4\n",
       "1336421397883711488    4\n",
       "1334920409624563712    4\n",
       "1327008283769630720    4\n",
       "1339257875034566656    4\n",
       "1354600999835607040    4\n",
       "1352284823486754816    4\n",
       "1349819426799960064    4\n",
       "1341463081004752896    4\n",
       "1330216172537733120    4\n",
       "1341783834287878144    4\n",
       "1354547622133051392    3\n",
       "1320715294210428928    3\n",
       "1347872328013778944    3\n",
       "1335707643156062208    3\n",
       "1345130408170541056    3\n",
       "1304481380110397440    3\n",
       "1353691134682345472    3\n",
       "1345568606973792256    3\n",
       "1341479406104162304    3\n",
       "1353850378438070272    3\n",
       "1352429784115122176    3\n",
       "1352319762253156352    3\n",
       "1351313539151982592    3\n",
       "1313176921522479104    3\n",
       "1352289036854046720    3\n",
       "1335976036174073856    3\n",
       "1355497971538939904    3\n",
       "1351522763681443840    3\n",
       "1348131824367783936    3\n",
       "1201271295297622016    3\n",
       "1237423058861916160    3\n",
       "1334958223540019200    3\n",
       "1354099325996048384    3\n",
       "1355074685566939136    3\n",
       "1344032210077298688    3\n",
       "1335638633970348032    2\n",
       "1353708005272006656    2\n",
       "1346868200915533824    2\n",
       "1351965327337218048    2\n",
       "1354815736158425088    2\n",
       "1339948819702800384    2\n",
       "1340352198132248576    2\n",
       "1337537809242935296    2\n",
       "1350885413460746240    2\n",
       "1349225436153319424    2\n",
       "Name: retweeted_status, dtype: int64"
      ]
     },
     "execution_count": 19,
     "metadata": {},
     "output_type": "execute_result"
    }
   ],
   "source": [
    "asdf[:50]"
   ]
  },
  {
   "cell_type": "code",
   "execution_count": null,
   "metadata": {},
   "outputs": [],
   "source": []
  },
  {
   "cell_type": "code",
   "execution_count": null,
   "metadata": {},
   "outputs": [],
   "source": [
    "def news_in_qt_rt(df):\n",
    "    #TODO refractor this\n",
    "    df[\"all_news\"] = df[\"contains_news\"].copy()\n",
    "\n",
    "    df_qt = df[[\"id\", \"contains_news\"]].copy()\n",
    "    df_qt.columns = [\"quoted_status\", \"qt_news\"]\n",
    "    df = df.merge(df_qt, on=\"quoted_status\", how=\"left\")\n",
    "    df[\"qt_news\"] = df[\"qt_news\"].fillna(0).astype(np.int64)\n",
    "    df[\"all_news\"] = df[\"qt_news\"].astype(np.int64) + df[\"contains_news\"].astype(np.int64)\n",
    "\n",
    "    df_qt = df[[\"id\", \"contains_news\"]].copy()\n",
    "    df_qt.columns = [\"in_reply_to_status_id\", \"rt_news\"]\n",
    "    df = df.merge(df_qt, on=\"in_reply_to_status_id\", how=\"left\")\n",
    "    df[\"rt_news\"] = df[\"rt_news\"].fillna(0).astype(np.int64)\n",
    "    df[\"all_news\"] = df[\"rt_news\"].astype(np.int64) + df[\"all_news\"].astype(np.int64)\n",
    "    \n",
    "    return df"
   ]
  },
  {
   "cell_type": "code",
   "execution_count": null,
   "metadata": {},
   "outputs": [],
   "source": [
    "def find_url(tweet):\n",
    "    url = re.findall(r\"http\\S+\", tweet)\n",
    "    return url\n",
    "\n",
    "\n",
    "def clean_links(tweet):\n",
    "    tweet = re.sub(r\"bit.ly/\\S+\", \"\", tweet)\n",
    "    tweet = re.sub(r\"t.co/\\S+\", \"\", tweet)\n",
    "    tweet = re.sub(r\"buff.ly/\\S+\", \"\", tweet)\n",
    "    tweet = re.sub(r\"https://twitter.com/\\S+\", \"\", tweet)\n",
    "    tweet = re.sub(r\"http://twitter.com/\\S+\", \"\", tweet)\n",
    "    return tweet\n",
    "\n",
    "def remove_tw_urls(tweet):\n",
    "    tweet = re.sub(r\"https://twitter.com/\\S+\", \"\", tweet)\n",
    "    tweet = re.sub(r\"http://twitter.com/\\S+\", \"\", tweet)\n",
    "    return tweet\n",
    "\n",
    "def expand_link(url):\n",
    "    if url in [\"https://\", \"http://\"]:\n",
    "        return url\n",
    "    else:\n",
    "        try:\n",
    "            session = requests.Session()\n",
    "            resp = session.head(url, allow_redirects=True)\n",
    "            long_url = resp.url\n",
    "            return long_url\n",
    "        except:\n",
    "            return url\n",
    "\n",
    "def get_domain(url):\n",
    "    domain = urlparse(url).netloc\n",
    "    dot_split = domain.split(\".\")\n",
    "    if domain == \"twitter.com\":\n",
    "        pass\n",
    "    if len(dot_split) > 2:\n",
    "        return \".\".join(dot_split[1:])\n",
    "    else:\n",
    "        return domain\n",
    "\n",
    "\n",
    "def remove_empty_str(l):\n",
    "    for i in l:\n",
    "        if len(i) == 0:\n",
    "            l.remove(i)\n",
    "    return l"
   ]
  },
  {
   "cell_type": "code",
   "execution_count": null,
   "metadata": {},
   "outputs": [],
   "source": [
    "def find_news(df, news_domains_list):\n",
    "    df[\"clean_text\"] = df[\"full_text\"].apply(remove_tw_urls)\n",
    "    df[\"urls\"] = df[\"clean_text\"].apply(find_url)\n",
    "    df[\"urls\"] = df.urls.apply(lambda x: [clean_links(d) for d in x])\n",
    "    df[\"domains\"] = df.urls.apply(lambda x: [get_domain(d) for d in x])\n",
    "    df[\"domains\"] = df.domains.apply(remove_empty_str)\n",
    "\n",
    "    new_columns_list = []\n",
    "    max_nr_dom = df.domains.str.len().max()\n",
    "    for i in range(max_nr_dom):\n",
    "        new_columns_list.append(f\"domain{i+1}\")\n",
    "    df[new_columns_list] = pd.DataFrame(df.domains.tolist())\n",
    "\n",
    "    for col in new_columns_list:\n",
    "        df[col] = df[col].isin(news_domains_list)\n",
    "\n",
    "    df[\"contains_news\"] = df[new_columns_list].sum(axis=1)\n",
    "    df[\"contains_news\"] = df.contains_news.apply(lambda x: x if x == 0 else 1)\n",
    "    df.drop(new_columns_list, axis=1, inplace=True)\n",
    "\n",
    "    return df\n",
    "\n",
    "def drop_contains(df, column_name, word_list):\n",
    "    for string in word_list:\n",
    "        df[\"lower\"] = df[\"full_text\"].str.lower()\n",
    "        df = df[df[\"lower\"].str.contains(string)]\n",
    "        df.drop([\"lower\"], axis=1, inplace=True)\n",
    "    return df"
   ]
  },
  {
   "cell_type": "markdown",
   "metadata": {},
   "source": [
    "# searching for not-expanded news urls"
   ]
  },
  {
   "cell_type": "code",
   "execution_count": null,
   "metadata": {},
   "outputs": [],
   "source": [
    "dfz = df_tweets.copy()"
   ]
  },
  {
   "cell_type": "code",
   "execution_count": null,
   "metadata": {},
   "outputs": [],
   "source": [
    "with open(\"news_domains.txt\", \"r\") as f:\n",
    "    news_domains = json.loads(f.read())\n",
    "dfz = find_news(dfz, news_domains)"
   ]
  },
  {
   "cell_type": "code",
   "execution_count": null,
   "metadata": {},
   "outputs": [],
   "source": [
    "dfz[\"has_domain\"] = dfz.domains.apply(lambda x: len(x))"
   ]
  },
  {
   "cell_type": "code",
   "execution_count": null,
   "metadata": {},
   "outputs": [],
   "source": [
    "dfz.head()"
   ]
  },
  {
   "cell_type": "code",
   "execution_count": null,
   "metadata": {},
   "outputs": [],
   "source": [
    "# dfz[\"has_domain\"] = dfz.domains.apply(lambda x: 1 if len(x) > 0 else 0)\n",
    "dfz[\"has_domain\"] = dfz.domains.apply(lambda x: len(x))"
   ]
  },
  {
   "cell_type": "code",
   "execution_count": null,
   "metadata": {},
   "outputs": [],
   "source": [
    "dfz = dfz[dfz.has_domain > 0]\n",
    "dfz.shape"
   ]
  },
  {
   "cell_type": "code",
   "execution_count": null,
   "metadata": {},
   "outputs": [],
   "source": [
    "dfz = dfz[dfz.contains_news == 0]\n",
    "dfz.shape"
   ]
  },
  {
   "cell_type": "code",
   "execution_count": null,
   "metadata": {},
   "outputs": [],
   "source": [
    "dfz.head()"
   ]
  },
  {
   "cell_type": "code",
   "execution_count": null,
   "metadata": {},
   "outputs": [],
   "source": []
  },
  {
   "cell_type": "code",
   "execution_count": null,
   "metadata": {},
   "outputs": [],
   "source": [
    "domain_list = dfz.domains.tolist()"
   ]
  },
  {
   "cell_type": "code",
   "execution_count": null,
   "metadata": {
    "scrolled": false
   },
   "outputs": [],
   "source": [
    "domains = []\n",
    "for i in domain_list:\n",
    "    for d in i:\n",
    "        if d in domains:\n",
    "            pass\n",
    "        else:\n",
    "            domains.append(d)"
   ]
  },
  {
   "cell_type": "code",
   "execution_count": null,
   "metadata": {},
   "outputs": [],
   "source": [
    "dfz[\"urls_exp\"] = 0"
   ]
  },
  {
   "cell_type": "code",
   "execution_count": null,
   "metadata": {},
   "outputs": [],
   "source": [
    "dfz.head()"
   ]
  },
  {
   "cell_type": "code",
   "execution_count": null,
   "metadata": {},
   "outputs": [],
   "source": [
    "# import json\n",
    "# short_url =[]\n",
    "# for c, i in enumerate(dfz.urls):\n",
    "#     print(c)\n",
    "#     if (c + 1) % 100 == 0:\n",
    "#         print(f\"{(c+1)} / {len(dfz.urls)}\")\n",
    "#     for d in i:\n",
    "#         dd = get_domain(d)\n",
    "#         e = expand_link(d)\n",
    "#         de = get_domain(e)\n",
    "#         if not (de == dd):\n",
    "#             short_url.append({\"short_url\": dd, \"long_url\": de, \"is_news\": (de in news_domains)})\n",
    "#     with open('short_url', 'w') as file:\n",
    "#         file.write(json.dumps(short_url, indent=4))\n",
    "\n"
   ]
  },
  {
   "cell_type": "code",
   "execution_count": null,
   "metadata": {},
   "outputs": [],
   "source": [
    "with open('short_url') as json_file:\n",
    "    short_url = json.load(json_file)"
   ]
  },
  {
   "cell_type": "code",
   "execution_count": null,
   "metadata": {},
   "outputs": [],
   "source": [
    "short_url[1]"
   ]
  },
  {
   "cell_type": "code",
   "execution_count": null,
   "metadata": {},
   "outputs": [],
   "source": [
    "# expand_link(url)"
   ]
  },
  {
   "cell_type": "code",
   "execution_count": null,
   "metadata": {},
   "outputs": [],
   "source": [
    "dfz.urls[921:922]"
   ]
  },
  {
   "cell_type": "code",
   "execution_count": null,
   "metadata": {},
   "outputs": [],
   "source": [
    "# x = 922\n",
    "# for c, i in enumerate(dfz.urls[x:]):\n",
    "#     print(c+x, i)\n",
    "#     if (c + x + 1) % 100 == 0:\n",
    "#         print(f\"{(c+1)} / {len(dfz.urls)}\")\n",
    "#     for d in i:\n",
    "#         dd = get_domain(d)\n",
    "#         e = expand_link(d)\n",
    "#         de = get_domain(e)\n",
    "#         if not (de == dd):\n",
    "#             short_url.append({\"short_url\": dd, \"long_url\": de, \"is_news\": (de in news_domains)})\n",
    "#     with open('short_url', 'w') as file:\n",
    "#         file.write(json.dumps(short_url, indent=4))"
   ]
  },
  {
   "cell_type": "code",
   "execution_count": null,
   "metadata": {},
   "outputs": [],
   "source": [
    "dfz.urls[1100:1101]"
   ]
  },
  {
   "cell_type": "code",
   "execution_count": null,
   "metadata": {},
   "outputs": [],
   "source": [
    "# x = 1101\n",
    "# for c, i in enumerate(dfz.urls[x:]):\n",
    "#     print(c+x, i)\n",
    "#     if (c + x + 1) % 100 == 0:\n",
    "#         print(f\"{(c+1)} / {len(dfz.urls)}\")\n",
    "#     for d in i:\n",
    "#         dd = get_domain(d)\n",
    "#         e = expand_link(d)\n",
    "#         de = get_domain(e)\n",
    "#         if not (de == dd):\n",
    "#             short_url.append({\"short_url\": dd, \"long_url\": de, \"is_news\": (de in news_domains)})\n",
    "#     with open('short_url', 'w') as file:\n",
    "#         file.write(json.dumps(short_url, indent=4))"
   ]
  },
  {
   "cell_type": "code",
   "execution_count": null,
   "metadata": {},
   "outputs": [],
   "source": [
    "dfz.urls[3295:3296]"
   ]
  },
  {
   "cell_type": "code",
   "execution_count": null,
   "metadata": {},
   "outputs": [],
   "source": [
    "# x = 3296\n",
    "# for c, i in enumerate(dfz.urls[x:]):\n",
    "#     print(c+x, i)\n",
    "#     if (c+x+1) % 100 == 0:\n",
    "#         print(f\"{(c+x+1)} / {len(dfz.urls)}\")\n",
    "#     for d in i:\n",
    "#         dd = get_domain(d)\n",
    "#         e = expand_link(d)\n",
    "#         de = get_domain(e)\n",
    "#         if not (de == dd):\n",
    "#             short_url.append({\"short_url\": dd, \"long_url\": de, \"is_news\": (de in news_domains)})\n",
    "#     with open('short_url', 'w') as file:\n",
    "#         file.write(json.dumps(short_url, indent=4))"
   ]
  },
  {
   "cell_type": "code",
   "execution_count": null,
   "metadata": {},
   "outputs": [],
   "source": [
    "dfz.urls[5652:5653]"
   ]
  },
  {
   "cell_type": "code",
   "execution_count": null,
   "metadata": {
    "scrolled": true
   },
   "outputs": [],
   "source": [
    "x = 5653\n",
    "for c, i in enumerate(dfz.urls[x:]):\n",
    "    print(c+x, i)\n",
    "    if (c+x+1) % 100 == 0:\n",
    "        print(f\"{(c+x+1)} / {len(dfz.urls)}\")\n",
    "    for d in i:\n",
    "        dd = get_domain(d)\n",
    "        e = expand_link(d)\n",
    "        de = get_domain(e)\n",
    "        if not (de == dd):\n",
    "            short_url.append({\"short_url\": dd, \"long_url\": de, \"is_news\": (de in news_domains)})\n",
    "    with open('short_url', 'w') as file:\n",
    "        file.write(json.dumps(short_url, indent=4))"
   ]
  }
 ],
 "metadata": {
  "kernelspec": {
   "display_name": "Python 3",
   "language": "python",
   "name": "python3"
  },
  "language_info": {
   "codemirror_mode": {
    "name": "ipython",
    "version": 3
   },
   "file_extension": ".py",
   "mimetype": "text/x-python",
   "name": "python",
   "nbconvert_exporter": "python",
   "pygments_lexer": "ipython3",
   "version": "3.8.5"
  },
  "varInspector": {
   "cols": {
    "lenName": 16,
    "lenType": 16,
    "lenVar": 40
   },
   "kernels_config": {
    "python": {
     "delete_cmd_postfix": "",
     "delete_cmd_prefix": "del ",
     "library": "var_list.py",
     "varRefreshCmd": "print(var_dic_list())"
    },
    "r": {
     "delete_cmd_postfix": ") ",
     "delete_cmd_prefix": "rm(",
     "library": "var_list.r",
     "varRefreshCmd": "cat(var_dic_list()) "
    }
   },
   "position": {
    "height": "642.15px",
    "left": "1714.93px",
    "right": "20px",
    "top": "120px",
    "width": "409.067px"
   },
   "types_to_exclude": [
    "module",
    "function",
    "builtin_function_or_method",
    "instance",
    "_Feature"
   ],
   "window_display": false
  }
 },
 "nbformat": 4,
 "nbformat_minor": 4
}
