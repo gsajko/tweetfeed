{
 "cells": [
  {
   "cell_type": "code",
   "execution_count": 6,
   "metadata": {},
   "outputs": [],
   "source": [
    "import requests\n",
    "import os\n",
    "import json"
   ]
  },
  {
   "cell_type": "code",
   "execution_count": 2,
   "metadata": {},
   "outputs": [],
   "source": [
    "#get likes\n",
    "#create collection\n",
    "#upload likes there"
   ]
  },
  {
   "cell_type": "code",
   "execution_count": 3,
   "metadata": {},
   "outputs": [],
   "source": [
    "auth = json.load(open(\"../auth/auth.json\"))"
   ]
  },
  {
   "cell_type": "code",
   "execution_count": 12,
   "metadata": {},
   "outputs": [],
   "source": [
    "bearer_token = auth[\"bearer_token\"]"
   ]
  },
  {
   "cell_type": "markdown",
   "metadata": {},
   "source": [
    "my id:\n",
    "```json\n",
    "'user': {'id': 143058191,\n",
    "  'id_str': '143058191',\n",
    "  'name': 'g.sajko',\n",
    "  'screen_name': 'gSajko'}\n",
    "```"
   ]
  },
  {
   "cell_type": "code",
   "execution_count": 90,
   "metadata": {},
   "outputs": [],
   "source": [
    "def create_url():\n",
    "    tweet_fields = \"tweet.fields=lang,author_id,entities,context_annotations,conversation_id,referenced_tweets,in_reply_to_user_id\"\n",
    "    # Tweet fields are adjustable.\n",
    "    # Options include:\n",
    "    # attachments, author_id, context_annotations,\n",
    "    # conversation_id, created_at, entities, geo, id,\n",
    "    # in_reply_to_user_id, lang, non_public_metrics, organic_metrics,\n",
    "    # possibly_sensitive, promoted_metrics, public_metrics, referenced_tweets,\n",
    "    # source, text, and withheld\n",
    "    ids = \"ids=1336248932373049344,1335405235641217025,1335388692597239810,1335237496981041153,1335175674152312832,1335172080271319043,1335072654907166720,1335062019687337990,1334976380254228483,1334964487011639298\"\n",
    "    # You can adjust ids to include a single Tweets.\n",
    "    # Or you can add to up to 100 comma-separated IDs\n",
    "    url = \"https://api.twitter.com/2/tweets?{}&{}\".format(ids, tweet_fields)\n",
    "    return url"
   ]
  },
  {
   "cell_type": "code",
   "execution_count": 48,
   "metadata": {},
   "outputs": [],
   "source": [
    "def create_headers(bearer_token):\n",
    "    headers = {\"Authorization\": \"Bearer {}\".format(bearer_token)}\n",
    "    return headers"
   ]
  },
  {
   "cell_type": "code",
   "execution_count": 49,
   "metadata": {},
   "outputs": [],
   "source": [
    "def connect_to_endpoint(url, headers):\n",
    "    response = requests.request(\"GET\", url, headers=headers)\n",
    "    print(response.status_code)\n",
    "    if response.status_code != 200:\n",
    "        raise Exception(\n",
    "            \"Request returned an error: {} {}\".format(\n",
    "                response.status_code, response.text\n",
    "            )\n",
    "        )\n",
    "    return response.json()"
   ]
  },
  {
   "cell_type": "code",
   "execution_count": 91,
   "metadata": {},
   "outputs": [],
   "source": [
    "url = create_url()\n",
    "headers = create_headers(bearer_token)"
   ]
  },
  {
   "cell_type": "code",
   "execution_count": 92,
   "metadata": {
    "scrolled": true
   },
   "outputs": [
    {
     "name": "stdout",
     "output_type": "stream",
     "text": [
      "200\n"
     ]
    }
   ],
   "source": [
    "json_response = connect_to_endpoint(url, headers)\n",
    "# print(json.dumps(json_response, indent=4, sort_keys=True))"
   ]
  },
  {
   "cell_type": "code",
   "execution_count": 93,
   "metadata": {
    "scrolled": true
   },
   "outputs": [
    {
     "data": {
      "text/plain": [
       "{'data': [{'conversation_id': '1336248932373049344',\n",
       "   'id': '1336248932373049344',\n",
       "   'text': 'Picked up the \"Break Into Tech With Twitter\" book out of curiosity.\\n\\nIt\\'s written by @willjohnsonio and shares how he got a *lot* of value (and opportunities!) out of tech Twitter. It\\'s short but refreshingly honest, genuine &amp; practical. \\n\\nRecommended: \\nhttps://t.co/pLOs4jQuMZ https://t.co/ZqcmBJStt9',\n",
       "   'context_annotations': [{'domain': {'id': '46',\n",
       "      'name': 'Brand Category',\n",
       "      'description': 'Categories within Brand Verticals that narrow down the scope of Brands'},\n",
       "     'entity': {'id': '781974596752842752', 'name': 'Services'}},\n",
       "    {'domain': {'id': '47',\n",
       "      'name': 'Brand',\n",
       "      'description': 'Brands and Companies'},\n",
       "     'entity': {'id': '10045225402', 'name': 'Twitter'}}],\n",
       "   'entities': {'urls': [{'start': 258,\n",
       "      'end': 281,\n",
       "      'url': 'https://t.co/pLOs4jQuMZ',\n",
       "      'expanded_url': 'https://www.breakintotech.dev/break-into-tech-with-twitter',\n",
       "      'display_url': 'breakintotech.dev/break-into-tec…',\n",
       "      'images': [{'url': 'https://pbs.twimg.com/news_img/1336125945481138177/EZAYKIw3?format=jpg&name=orig',\n",
       "        'width': 1200,\n",
       "        'height': 630},\n",
       "       {'url': 'https://pbs.twimg.com/news_img/1336125945481138177/EZAYKIw3?format=jpg&name=150x150',\n",
       "        'width': 150,\n",
       "        'height': 150}],\n",
       "      'status': 200,\n",
       "      'title': 'Break Into Tech With Twitter',\n",
       "      'description': \"Most job postings want a senior developer, others want to see a portfolio. If you're strugg ling to get your first job as a developer, then you're about to discover the little know tips that will finally get you the job you want. Here you are in another soul-crushing job search. You know the drill. You send in resume after resume just to be told: “You don’t have any experience.” It hits like a punch to the stomach. It shouldn't be like that You should just be able to brush it off. But when 50 companies\",\n",
       "      'unwound_url': 'https://www.breakintotech.dev/break-into-tech-with-twitter'},\n",
       "     {'start': 282,\n",
       "      'end': 305,\n",
       "      'url': 'https://t.co/ZqcmBJStt9',\n",
       "      'expanded_url': 'https://twitter.com/GergelyOrosz/status/1336248932373049344/photo/1',\n",
       "      'display_url': 'pic.twitter.com/ZqcmBJStt9'},\n",
       "     {'start': 282,\n",
       "      'end': 305,\n",
       "      'url': 'https://t.co/ZqcmBJStt9',\n",
       "      'expanded_url': 'https://twitter.com/GergelyOrosz/status/1336248932373049344/photo/1',\n",
       "      'display_url': 'pic.twitter.com/ZqcmBJStt9'},\n",
       "     {'start': 282,\n",
       "      'end': 305,\n",
       "      'url': 'https://t.co/ZqcmBJStt9',\n",
       "      'expanded_url': 'https://twitter.com/GergelyOrosz/status/1336248932373049344/photo/1',\n",
       "      'display_url': 'pic.twitter.com/ZqcmBJStt9'},\n",
       "     {'start': 282,\n",
       "      'end': 305,\n",
       "      'url': 'https://t.co/ZqcmBJStt9',\n",
       "      'expanded_url': 'https://twitter.com/GergelyOrosz/status/1336248932373049344/photo/1',\n",
       "      'display_url': 'pic.twitter.com/ZqcmBJStt9'}],\n",
       "    'annotations': [{'start': 15,\n",
       "      'end': 42,\n",
       "      'probability': 0.2414,\n",
       "      'type': 'Other',\n",
       "      'normalized_text': 'Break Into Tech With Twitter'},\n",
       "     {'start': 172,\n",
       "      'end': 178,\n",
       "      'probability': 0.6976,\n",
       "      'type': 'Product',\n",
       "      'normalized_text': 'Twitter'}],\n",
       "    'mentions': [{'start': 85, 'end': 99, 'username': 'willjohnsonio'}]},\n",
       "   'author_id': '30192824',\n",
       "   'lang': 'en'},\n",
       "  {'conversation_id': '1335405235641217025',\n",
       "   'id': '1335405235641217025',\n",
       "   'text': 'Currently reading. Might seem overly pessimistic to some, but definitely worth reading if you are interested in implications of a constrained energy future https://t.co/sMRpcryBy3',\n",
       "   'entities': {'urls': [{'start': 156,\n",
       "      'end': 179,\n",
       "      'url': 'https://t.co/sMRpcryBy3',\n",
       "      'expanded_url': 'https://twitter.com/cognazor/status/1335405235641217025/photo/1',\n",
       "      'display_url': 'pic.twitter.com/sMRpcryBy3'}]},\n",
       "   'author_id': '40426297',\n",
       "   'lang': 'en'},\n",
       "  {'conversation_id': '1335388692597239810',\n",
       "   'id': '1335388692597239810',\n",
       "   'text': 'https://t.co/oFRjMD6v3P',\n",
       "   'entities': {'urls': [{'start': 0,\n",
       "      'end': 23,\n",
       "      'url': 'https://t.co/oFRjMD6v3P',\n",
       "      'expanded_url': 'https://twitter.com/mat_kelcey/status/1335388692597239810/photo/1',\n",
       "      'display_url': 'pic.twitter.com/oFRjMD6v3P'}]},\n",
       "   'author_id': '26970530',\n",
       "   'lang': 'und'},\n",
       "  {'conversation_id': '1335237496981041153',\n",
       "   'id': '1335237496981041153',\n",
       "   'text': 'Please enjoy these ducks changing their minds. https://t.co/v1jvCTNMmK',\n",
       "   'entities': {'urls': [{'start': 47,\n",
       "      'end': 70,\n",
       "      'url': 'https://t.co/v1jvCTNMmK',\n",
       "      'expanded_url': 'https://twitter.com/DickKingSmith/status/1335237496981041153/video/1',\n",
       "      'display_url': 'pic.twitter.com/v1jvCTNMmK'}]},\n",
       "   'author_id': '2275883743',\n",
       "   'lang': 'en'},\n",
       "  {'conversation_id': '1334953632719011840',\n",
       "   'id': '1335175674152312832',\n",
       "   'text': '@JeffDean There are two lies in just the first sentence.',\n",
       "   'referenced_tweets': [{'type': 'replied_to', 'id': '1334953632719011840'}],\n",
       "   'in_reply_to_user_id': '911297187664949248',\n",
       "   'author_id': '2664299401',\n",
       "   'lang': 'en',\n",
       "   'entities': {'mentions': [{'start': 0, 'end': 9, 'username': 'JeffDean'}]}},\n",
       "  {'conversation_id': '1335172080271319043',\n",
       "   'id': '1335172080271319043',\n",
       "   'text': 'Focus, as Steve Jobs said, is about saying no. \\n\\nThe only dangerous competitors are focused ones.\\n\\nErgo there are things that even the most dangerous competitors say no to, and it would be worth thinking explicitly about what those are.',\n",
       "   'context_annotations': [{'domain': {'id': '10',\n",
       "      'name': 'Person',\n",
       "      'description': 'Named people in the world like Nelson Mandela'},\n",
       "     'entity': {'id': '1032977830613676034',\n",
       "      'name': 'Steve Jobs',\n",
       "      'description': 'Steve Jobs'}},\n",
       "    {'domain': {'id': '65',\n",
       "      'name': 'Interests and Hobbies Vertical',\n",
       "      'description': 'Top level interests and hobbies groupings, like Food or Travel'},\n",
       "     'entity': {'id': '847529762566230016',\n",
       "      'name': 'Business and finance',\n",
       "      'description': 'Business'}},\n",
       "    {'domain': {'id': '66',\n",
       "      'name': 'Interests and Hobbies Category',\n",
       "      'description': 'A grouping of interests and hobbies entities, like Novelty Food or Destinations'},\n",
       "     'entity': {'id': '857878777191211008',\n",
       "      'name': 'Leadership',\n",
       "      'description': 'Leadership'}}],\n",
       "   'entities': {'annotations': [{'start': 10,\n",
       "      'end': 19,\n",
       "      'probability': 0.7014,\n",
       "      'type': 'Person',\n",
       "      'normalized_text': 'Steve Jobs'}]},\n",
       "   'author_id': '183749519',\n",
       "   'lang': 'en'},\n",
       "  {'conversation_id': '1335072654907166720',\n",
       "   'id': '1335072654907166720',\n",
       "   'text': '“If you are writing, you are the product. Not the writing.”\\n\\nShorter version of \\nThe product any writer has to sell is not the subject being written about, but who he or she is. - William Zinsser\\n\\nI think it’s good time to reread his book On writing well.\\n\\nhttps://t.co/mpIepytjaG',\n",
       "   'entities': {'urls': [{'start': 257,\n",
       "      'end': 280,\n",
       "      'url': 'https://t.co/mpIepytjaG',\n",
       "      'expanded_url': 'https://www.betaglyph.com/on-writing-well/',\n",
       "      'display_url': 'betaglyph.com/on-writing-wel…',\n",
       "      'images': [{'url': 'https://pbs.twimg.com/news_img/1335072655163019269/d8ZfaUTf?format=jpg&name=orig',\n",
       "        'width': 331,\n",
       "        'height': 499},\n",
       "       {'url': 'https://pbs.twimg.com/news_img/1335072655163019269/d8ZfaUTf?format=jpg&name=150x150',\n",
       "        'width': 150,\n",
       "        'height': 150}],\n",
       "      'status': 200,\n",
       "      'title': 'A timeless advice about writing',\n",
       "      'description': 'On Writing Well, by William Zinsser (1976) Pages: 320, Final verdict: Great-read Imagine you strive to improve your writing skill. You wonder where to start, from whom to take advice. How would you feel if I told you there is a book about writing written by a long-time journalist, by',\n",
       "      'unwound_url': 'https://www.betaglyph.com/on-writing-well/'}],\n",
       "    'annotations': [{'start': 180,\n",
       "      'end': 194,\n",
       "      'probability': 0.9901,\n",
       "      'type': 'Person',\n",
       "      'normalized_text': 'William Zinsser'}]},\n",
       "   'author_id': '2245667490',\n",
       "   'lang': 'en'},\n",
       "  {'conversation_id': '1335062019687337990',\n",
       "   'id': '1335062019687337990',\n",
       "   'text': '“The war-making potential of a small, vigorous, well-educated and highly motivated population should never be underestimated.”\\n\\n(From Third World to First) https://t.co/jxsmmr5K2R',\n",
       "   'entities': {'urls': [{'start': 156,\n",
       "      'end': 179,\n",
       "      'url': 'https://t.co/jxsmmr5K2R',\n",
       "      'expanded_url': 'https://twitter.com/zackkanter/status/1335062019687337990/photo/1',\n",
       "      'display_url': 'pic.twitter.com/jxsmmr5K2R'}]},\n",
       "   'author_id': '466880049',\n",
       "   'lang': 'en'},\n",
       "  {'conversation_id': '1334976380254228483',\n",
       "   'id': '1334976380254228483',\n",
       "   'text': 'An army of lawyers + comms people worked day\\'s on this. It\\'s classic. Designed to rationalize discrimination as \"process\" and censorship as \"high standards.\" Most importantly, it\\'s meant to paint Timnit as irrational, and her work as not up to Google\\'s expectations. Don\\'t buy it https://t.co/xABoBp89D1',\n",
       "   'referenced_tweets': [{'type': 'quoted', 'id': '1334953632719011840'}],\n",
       "   'context_annotations': [{'domain': {'id': '46',\n",
       "      'name': 'Brand Category',\n",
       "      'description': 'Categories within Brand Verticals that narrow down the scope of Brands'},\n",
       "     'entity': {'id': '781974596752842752', 'name': 'Services'}},\n",
       "    {'domain': {'id': '47',\n",
       "      'name': 'Brand',\n",
       "      'description': 'Brands and Companies'},\n",
       "     'entity': {'id': '10026378521', 'name': 'Google '}}],\n",
       "   'entities': {'urls': [{'start': 280,\n",
       "      'end': 303,\n",
       "      'url': 'https://t.co/xABoBp89D1',\n",
       "      'expanded_url': 'https://twitter.com/JeffDean/status/1334953632719011840',\n",
       "      'display_url': 'twitter.com/JeffDean/statu…'}],\n",
       "    'annotations': [{'start': 244,\n",
       "      'end': 249,\n",
       "      'probability': 0.4642,\n",
       "      'type': 'Organization',\n",
       "      'normalized_text': 'Google'}]},\n",
       "   'author_id': '2492917412',\n",
       "   'lang': 'en'},\n",
       "  {'conversation_id': '1334964487011639298',\n",
       "   'id': '1334964487011639298',\n",
       "   'text': 'The second episode of @DataTalksClub podcast\\n\\nWe talked about processes for organizing machine learning projects\\n\\nhttps://t.co/Tkn8gPs9Rg',\n",
       "   'context_annotations': [{'domain': {'id': '65',\n",
       "      'name': 'Interests and Hobbies Vertical',\n",
       "      'description': 'Top level interests and hobbies groupings, like Food or Travel'},\n",
       "     'entity': {'id': '848920371311001600',\n",
       "      'name': 'Technology',\n",
       "      'description': 'Technology and computing'}},\n",
       "    {'domain': {'id': '66',\n",
       "      'name': 'Interests and Hobbies Category',\n",
       "      'description': 'A grouping of interests and hobbies entities, like Novelty Food or Destinations'},\n",
       "     'entity': {'id': '898661583827615744',\n",
       "      'name': 'Machine learning',\n",
       "      'description': 'Machine Learning'}}],\n",
       "   'entities': {'urls': [{'start': 114,\n",
       "      'end': 137,\n",
       "      'url': 'https://t.co/Tkn8gPs9Rg',\n",
       "      'expanded_url': 'https://anchor.fm/datatalksclub/episodes/Processes-in-a-Data-Science-Project---Alexey-Grigorev-encdlg',\n",
       "      'display_url': 'anchor.fm/datatalksclub/…',\n",
       "      'images': [{'url': 'https://pbs.twimg.com/news_img/1334964489498861568/HCwJiwbu?format=jpg&name=orig',\n",
       "        'width': 400,\n",
       "        'height': 400},\n",
       "       {'url': 'https://pbs.twimg.com/news_img/1334964489498861568/HCwJiwbu?format=jpg&name=150x150',\n",
       "        'width': 150,\n",
       "        'height': 150}],\n",
       "      'status': 200,\n",
       "      'title': 'Processes in a Data Science Project - Alexey Grigorev by DataTalks.Club • A podcast on Anchor',\n",
       "      'description': 'In this podcast, we talk about CRISP-DM - a methodology for organizing data science projects DataTalks.Club is the place to talk about data. Join our community: https://datatalks.club Read more about CRISP-DM here: https://mlbookcamp.com/article/crisp-dm',\n",
       "      'unwound_url': 'https://anchor.fm/datatalksclub/episodes/Processes-in-a-Data-Science-Project---Alexey-Grigorev-encdlg'}],\n",
       "    'mentions': [{'start': 22, 'end': 36, 'username': 'DataTalksClub'}]},\n",
       "   'author_id': '1219292652748800000',\n",
       "   'lang': 'en'}]}"
      ]
     },
     "execution_count": 93,
     "metadata": {},
     "output_type": "execute_result"
    }
   ],
   "source": [
    "json_response"
   ]
  },
  {
   "cell_type": "code",
   "execution_count": 77,
   "metadata": {},
   "outputs": [
    {
     "data": {
      "text/plain": [
       "list"
      ]
     },
     "execution_count": 77,
     "metadata": {},
     "output_type": "execute_result"
    }
   ],
   "source": [
    "type(json_response[\"data\"])"
   ]
  },
  {
   "cell_type": "code",
   "execution_count": 94,
   "metadata": {},
   "outputs": [
    {
     "data": {
      "text/plain": [
       "{'conversation_id': '1336248932373049344',\n",
       " 'id': '1336248932373049344',\n",
       " 'text': 'Picked up the \"Break Into Tech With Twitter\" book out of curiosity.\\n\\nIt\\'s written by @willjohnsonio and shares how he got a *lot* of value (and opportunities!) out of tech Twitter. It\\'s short but refreshingly honest, genuine &amp; practical. \\n\\nRecommended: \\nhttps://t.co/pLOs4jQuMZ https://t.co/ZqcmBJStt9',\n",
       " 'context_annotations': [{'domain': {'id': '46',\n",
       "    'name': 'Brand Category',\n",
       "    'description': 'Categories within Brand Verticals that narrow down the scope of Brands'},\n",
       "   'entity': {'id': '781974596752842752', 'name': 'Services'}},\n",
       "  {'domain': {'id': '47',\n",
       "    'name': 'Brand',\n",
       "    'description': 'Brands and Companies'},\n",
       "   'entity': {'id': '10045225402', 'name': 'Twitter'}}],\n",
       " 'entities': {'urls': [{'start': 258,\n",
       "    'end': 281,\n",
       "    'url': 'https://t.co/pLOs4jQuMZ',\n",
       "    'expanded_url': 'https://www.breakintotech.dev/break-into-tech-with-twitter',\n",
       "    'display_url': 'breakintotech.dev/break-into-tec…',\n",
       "    'images': [{'url': 'https://pbs.twimg.com/news_img/1336125945481138177/EZAYKIw3?format=jpg&name=orig',\n",
       "      'width': 1200,\n",
       "      'height': 630},\n",
       "     {'url': 'https://pbs.twimg.com/news_img/1336125945481138177/EZAYKIw3?format=jpg&name=150x150',\n",
       "      'width': 150,\n",
       "      'height': 150}],\n",
       "    'status': 200,\n",
       "    'title': 'Break Into Tech With Twitter',\n",
       "    'description': \"Most job postings want a senior developer, others want to see a portfolio. If you're strugg ling to get your first job as a developer, then you're about to discover the little know tips that will finally get you the job you want. Here you are in another soul-crushing job search. You know the drill. You send in resume after resume just to be told: “You don’t have any experience.” It hits like a punch to the stomach. It shouldn't be like that You should just be able to brush it off. But when 50 companies\",\n",
       "    'unwound_url': 'https://www.breakintotech.dev/break-into-tech-with-twitter'},\n",
       "   {'start': 282,\n",
       "    'end': 305,\n",
       "    'url': 'https://t.co/ZqcmBJStt9',\n",
       "    'expanded_url': 'https://twitter.com/GergelyOrosz/status/1336248932373049344/photo/1',\n",
       "    'display_url': 'pic.twitter.com/ZqcmBJStt9'},\n",
       "   {'start': 282,\n",
       "    'end': 305,\n",
       "    'url': 'https://t.co/ZqcmBJStt9',\n",
       "    'expanded_url': 'https://twitter.com/GergelyOrosz/status/1336248932373049344/photo/1',\n",
       "    'display_url': 'pic.twitter.com/ZqcmBJStt9'},\n",
       "   {'start': 282,\n",
       "    'end': 305,\n",
       "    'url': 'https://t.co/ZqcmBJStt9',\n",
       "    'expanded_url': 'https://twitter.com/GergelyOrosz/status/1336248932373049344/photo/1',\n",
       "    'display_url': 'pic.twitter.com/ZqcmBJStt9'},\n",
       "   {'start': 282,\n",
       "    'end': 305,\n",
       "    'url': 'https://t.co/ZqcmBJStt9',\n",
       "    'expanded_url': 'https://twitter.com/GergelyOrosz/status/1336248932373049344/photo/1',\n",
       "    'display_url': 'pic.twitter.com/ZqcmBJStt9'}],\n",
       "  'annotations': [{'start': 15,\n",
       "    'end': 42,\n",
       "    'probability': 0.2414,\n",
       "    'type': 'Other',\n",
       "    'normalized_text': 'Break Into Tech With Twitter'},\n",
       "   {'start': 172,\n",
       "    'end': 178,\n",
       "    'probability': 0.6976,\n",
       "    'type': 'Product',\n",
       "    'normalized_text': 'Twitter'}],\n",
       "  'mentions': [{'start': 85, 'end': 99, 'username': 'willjohnsonio'}]},\n",
       " 'author_id': '30192824',\n",
       " 'lang': 'en'}"
      ]
     },
     "execution_count": 94,
     "metadata": {},
     "output_type": "execute_result"
    }
   ],
   "source": [
    "json_response[\"data\"][0]"
   ]
  },
  {
   "cell_type": "code",
   "execution_count": 89,
   "metadata": {},
   "outputs": [
    {
     "name": "stdout",
     "output_type": "stream",
     "text": [
      "🙌 https://t.co/7E2NBJknG3\n",
      "❗️annotations:\n",
      "La reine des neiges\n",
      "_________\n",
      "Currently reading. Might seem overly pessimistic to some, but definitely worth reading if you are interested in implications of a constrained energy future https://t.co/sMRpcryBy3\n",
      "❗️annotations:\n",
      "no annotations\n",
      "_________\n",
      "https://t.co/oFRjMD6v3P\n",
      "❗️annotations:\n",
      "no annotations\n",
      "_________\n",
      "Please enjoy these ducks changing their minds. https://t.co/v1jvCTNMmK\n",
      "❗️annotations:\n",
      "no annotations\n",
      "_________\n",
      "@JeffDean There are two lies in just the first sentence.\n",
      "❗️annotations:\n",
      "no annotations\n",
      "_________\n",
      "Focus, as Steve Jobs said, is about saying no. \n",
      "\n",
      "The only dangerous competitors are focused ones.\n",
      "\n",
      "Ergo there are things that even the most dangerous competitors say no to, and it would be worth thinking explicitly about what those are.\n",
      "❗️annotations:\n",
      "Steve Jobs\n",
      "Business and finance\n",
      "Leadership\n",
      "_________\n",
      "“If you are writing, you are the product. Not the writing.”\n",
      "\n",
      "Shorter version of \n",
      "The product any writer has to sell is not the subject being written about, but who he or she is. - William Zinsser\n",
      "\n",
      "I think it’s good time to reread his book On writing well.\n",
      "\n",
      "https://t.co/mpIepytjaG\n",
      "❗️annotations:\n",
      "no annotations\n",
      "_________\n",
      "“The war-making potential of a small, vigorous, well-educated and highly motivated population should never be underestimated.”\n",
      "\n",
      "(From Third World to First) https://t.co/jxsmmr5K2R\n",
      "❗️annotations:\n",
      "no annotations\n",
      "_________\n",
      "An army of lawyers + comms people worked day's on this. It's classic. Designed to rationalize discrimination as \"process\" and censorship as \"high standards.\" Most importantly, it's meant to paint Timnit as irrational, and her work as not up to Google's expectations. Don't buy it https://t.co/xABoBp89D1\n",
      "❗️annotations:\n",
      "Services\n",
      "Google \n",
      "_________\n",
      "The second episode of @DataTalksClub podcast\n",
      "\n",
      "We talked about processes for organizing machine learning projects\n",
      "\n",
      "https://t.co/Tkn8gPs9Rg\n",
      "❗️annotations:\n",
      "Technology\n",
      "Machine learning\n",
      "_________\n"
     ]
    }
   ],
   "source": [
    "for tweet in json_response[\"data\"]:\n",
    "    print(tweet[\"text\"])\n",
    "    print(\"❗️annotations:\")\n",
    "    try:\n",
    "        for i in tweet[\"context_annotations\"]:\n",
    "            print(i[\"entity\"][\"name\"])\n",
    "    except:\n",
    "        print(\"no annotations\")\n",
    "    print(\"_________\")"
   ]
  },
  {
   "cell_type": "code",
   "execution_count": 82,
   "metadata": {},
   "outputs": [
    {
     "ename": "KeyError",
     "evalue": "'context_annotations'",
     "output_type": "error",
     "traceback": [
      "\u001b[0;31m---------------------------------------------------------------------------\u001b[0m",
      "\u001b[0;31mKeyError\u001b[0m                                  Traceback (most recent call last)",
      "\u001b[0;32m<ipython-input-82-f9c1ead9cde6>\u001b[0m in \u001b[0;36m<module>\u001b[0;34m\u001b[0m\n\u001b[0;32m----> 1\u001b[0;31m \u001b[0mjson_response\u001b[0m\u001b[0;34m[\u001b[0m\u001b[0;34m\"data\"\u001b[0m\u001b[0;34m]\u001b[0m\u001b[0;34m[\u001b[0m\u001b[0;36m1\u001b[0m\u001b[0;34m]\u001b[0m\u001b[0;34m[\u001b[0m\u001b[0;34m\"context_annotations\"\u001b[0m\u001b[0;34m]\u001b[0m\u001b[0;34m\u001b[0m\u001b[0;34m\u001b[0m\u001b[0m\n\u001b[0m",
      "\u001b[0;31mKeyError\u001b[0m: 'context_annotations'"
     ]
    }
   ],
   "source": [
    "json_response[\"data\"][1][\"context_annotations\"]"
   ]
  },
  {
   "cell_type": "code",
   "execution_count": 71,
   "metadata": {
    "scrolled": true
   },
   "outputs": [
    {
     "name": "stdout",
     "output_type": "stream",
     "text": [
      "Technology\n",
      "Computer programming\n",
      "Data science\n"
     ]
    }
   ],
   "source": [
    "for i in json_response[\"data\"][0][\"context_annotations\"]:\n",
    "    print(i[\"entity\"][\"name\"])"
   ]
  },
  {
   "cell_type": "code",
   "execution_count": null,
   "metadata": {},
   "outputs": [],
   "source": []
  },
  {
   "cell_type": "code",
   "execution_count": null,
   "metadata": {},
   "outputs": [],
   "source": []
  },
  {
   "cell_type": "code",
   "execution_count": null,
   "metadata": {},
   "outputs": [],
   "source": []
  },
  {
   "cell_type": "markdown",
   "metadata": {},
   "source": [
    "## get likes"
   ]
  },
  {
   "cell_type": "code",
   "execution_count": 79,
   "metadata": {},
   "outputs": [],
   "source": [
    "url = \"https://api.twitter.com/1.1/favorites/list.json?count=1000&screen_name=gsajko\""
   ]
  },
  {
   "cell_type": "code",
   "execution_count": 80,
   "metadata": {},
   "outputs": [],
   "source": [
    "session = utils.session_for_auth(auth)\n",
    "response = session.get(url)\n",
    "tweets = response.json()"
   ]
  },
  {
   "cell_type": "code",
   "execution_count": 81,
   "metadata": {},
   "outputs": [],
   "source": [
    "tweets = response.json()"
   ]
  },
  {
   "cell_type": "code",
   "execution_count": 88,
   "metadata": {
    "scrolled": false
   },
   "outputs": [
    {
     "data": {
      "text/plain": [
       "198"
      ]
     },
     "execution_count": 88,
     "metadata": {},
     "output_type": "execute_result"
    }
   ],
   "source": [
    "len(tweets)"
   ]
  },
  {
   "cell_type": "code",
   "execution_count": 89,
   "metadata": {},
   "outputs": [
    {
     "name": "stdout",
     "output_type": "stream",
     "text": [
      "1332314862278615042\n",
      "1331979890250354691\n",
      "1331834148617474049\n",
      "1331707438785986561\n",
      "1331700951086841856\n",
      "1331668976632553472\n",
      "1331538266940600321\n",
      "1331516808768077825\n",
      "1331421849582911488\n",
      "1331409504953540613\n"
     ]
    }
   ],
   "source": [
    "for tweet in tweets[:10]:\n",
    "    print(tweet[\"id\"])"
   ]
  }
 ],
 "metadata": {
  "kernelspec": {
   "display_name": "Python 3",
   "language": "python",
   "name": "python3"
  },
  "language_info": {
   "codemirror_mode": {
    "name": "ipython",
    "version": 3
   },
   "file_extension": ".py",
   "mimetype": "text/x-python",
   "name": "python",
   "nbconvert_exporter": "python",
   "pygments_lexer": "ipython3",
   "version": "3.8.5"
  },
  "varInspector": {
   "cols": {
    "lenName": 16,
    "lenType": 16,
    "lenVar": 40
   },
   "kernels_config": {
    "python": {
     "delete_cmd_postfix": "",
     "delete_cmd_prefix": "del ",
     "library": "var_list.py",
     "varRefreshCmd": "print(var_dic_list())"
    },
    "r": {
     "delete_cmd_postfix": ") ",
     "delete_cmd_prefix": "rm(",
     "library": "var_list.r",
     "varRefreshCmd": "cat(var_dic_list()) "
    }
   },
   "types_to_exclude": [
    "module",
    "function",
    "builtin_function_or_method",
    "instance",
    "_Feature"
   ],
   "window_display": false
  }
 },
 "nbformat": 4,
 "nbformat_minor": 4
}
