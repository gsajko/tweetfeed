{
 "cells": [
  {
   "cell_type": "markdown",
   "metadata": {},
   "source": [
    "# load data"
   ]
  },
  {
   "cell_type": "code",
   "execution_count": 1,
   "metadata": {},
   "outputs": [],
   "source": [
    "import sqlite3\n",
    "import pandas as pd\n",
    "import re\n",
    "from urllib.parse import urlparse"
   ]
  },
  {
   "cell_type": "code",
   "execution_count": 2,
   "metadata": {},
   "outputs": [],
   "source": [
    "from datetime import date\n",
    "from datetime import timedelta"
   ]
  },
  {
   "cell_type": "markdown",
   "metadata": {},
   "source": [
    "## load tweets older then two weeks"
   ]
  },
  {
   "cell_type": "code",
   "execution_count": 3,
   "metadata": {},
   "outputs": [],
   "source": [
    "two_weeks_old = date.today() - timedelta(days=14)"
   ]
  },
  {
   "cell_type": "code",
   "execution_count": 4,
   "metadata": {},
   "outputs": [
    {
     "name": "stdout",
     "output_type": "stream",
     "text": [
      "SELECT id,user, full_text, created_at, lang FROM tweets WHERE created_at < '2021-01-07'\n"
     ]
    }
   ],
   "source": [
    "cnx = sqlite3.connect(\"../home.db\")\n",
    "query = f\"SELECT id,user, full_text, created_at, lang FROM tweets WHERE created_at < '{str(two_weeks_old)}'\"\n",
    "print(query)\n",
    "df_tweets = pd.read_sql_query(\n",
    "    query,\n",
    "    cnx,\n",
    ")"
   ]
  },
  {
   "cell_type": "code",
   "execution_count": 5,
   "metadata": {},
   "outputs": [
    {
     "data": {
      "text/html": [
       "<div>\n",
       "<style scoped>\n",
       "    .dataframe tbody tr th:only-of-type {\n",
       "        vertical-align: middle;\n",
       "    }\n",
       "\n",
       "    .dataframe tbody tr th {\n",
       "        vertical-align: top;\n",
       "    }\n",
       "\n",
       "    .dataframe thead th {\n",
       "        text-align: right;\n",
       "    }\n",
       "</style>\n",
       "<table border=\"1\" class=\"dataframe\">\n",
       "  <thead>\n",
       "    <tr style=\"text-align: right;\">\n",
       "      <th></th>\n",
       "      <th>id</th>\n",
       "      <th>user</th>\n",
       "      <th>full_text</th>\n",
       "      <th>created_at</th>\n",
       "      <th>lang</th>\n",
       "    </tr>\n",
       "  </thead>\n",
       "  <tbody>\n",
       "    <tr>\n",
       "      <th>39753</th>\n",
       "      <td>1346950097033179137</td>\n",
       "      <td>851958139851296771</td>\n",
       "      <td>The man pictured in Nancy Pelosi’s office took...</td>\n",
       "      <td>2021-01-06T22:41:42+00:00</td>\n",
       "      <td>en</td>\n",
       "    </tr>\n",
       "    <tr>\n",
       "      <th>39754</th>\n",
       "      <td>1346959019907416064</td>\n",
       "      <td>381289719</td>\n",
       "      <td>If someone, a year ago, described January 6, 2...</td>\n",
       "      <td>2021-01-06T23:17:10+00:00</td>\n",
       "      <td>en</td>\n",
       "    </tr>\n",
       "    <tr>\n",
       "      <th>39755</th>\n",
       "      <td>1346959100794474498</td>\n",
       "      <td>197176970</td>\n",
       "      <td>Holocaust denier Nick Fuentes and neo-nazi los...</td>\n",
       "      <td>2021-01-06T23:17:29+00:00</td>\n",
       "      <td>en</td>\n",
       "    </tr>\n",
       "    <tr>\n",
       "      <th>39756</th>\n",
       "      <td>1346959937679798274</td>\n",
       "      <td>13666</td>\n",
       "      <td>WhatsApp will share its users' personal inform...</td>\n",
       "      <td>2021-01-06T23:20:49+00:00</td>\n",
       "      <td>en</td>\n",
       "    </tr>\n",
       "    <tr>\n",
       "      <th>39757</th>\n",
       "      <td>1346963410966048768</td>\n",
       "      <td>45122898</td>\n",
       "      <td>You know the word we're not hearing enough rig...</td>\n",
       "      <td>2021-01-06T23:34:37+00:00</td>\n",
       "      <td>en</td>\n",
       "    </tr>\n",
       "  </tbody>\n",
       "</table>\n",
       "</div>"
      ],
      "text/plain": [
       "                        id                user  \\\n",
       "39753  1346950097033179137  851958139851296771   \n",
       "39754  1346959019907416064           381289719   \n",
       "39755  1346959100794474498           197176970   \n",
       "39756  1346959937679798274               13666   \n",
       "39757  1346963410966048768            45122898   \n",
       "\n",
       "                                               full_text  \\\n",
       "39753  The man pictured in Nancy Pelosi’s office took...   \n",
       "39754  If someone, a year ago, described January 6, 2...   \n",
       "39755  Holocaust denier Nick Fuentes and neo-nazi los...   \n",
       "39756  WhatsApp will share its users' personal inform...   \n",
       "39757  You know the word we're not hearing enough rig...   \n",
       "\n",
       "                      created_at lang  \n",
       "39753  2021-01-06T22:41:42+00:00   en  \n",
       "39754  2021-01-06T23:17:10+00:00   en  \n",
       "39755  2021-01-06T23:17:29+00:00   en  \n",
       "39756  2021-01-06T23:20:49+00:00   en  \n",
       "39757  2021-01-06T23:34:37+00:00   en  "
      ]
     },
     "execution_count": 5,
     "metadata": {},
     "output_type": "execute_result"
    }
   ],
   "source": [
    "df_tweets.tail()"
   ]
  },
  {
   "cell_type": "markdown",
   "metadata": {},
   "source": [
    "# utils"
   ]
  },
  {
   "cell_type": "code",
   "execution_count": 6,
   "metadata": {},
   "outputs": [],
   "source": [
    "def find_url(tweet):\n",
    "    return re.findall(\"http\\S+\", tweet)\n",
    "\n",
    "\n",
    "def clean_links(tweet):\n",
    "    tweet = re.sub(r\"bit.ly/\\S+\", \"\", tweet)\n",
    "    tweet = re.sub(r\"t.co/\\S+\", \"\", tweet)\n",
    "    tweet = re.sub(r\"buff.ly/\\S+\", \"\", tweet)\n",
    "    tweet = re.sub(r\"twitter.com/\\S+\", \"\", tweet)\n",
    "    return tweet\n",
    "\n",
    "\n",
    "def get_domain(url):\n",
    "    domain = urlparse(url).netloc\n",
    "    dot_split = domain.split(\".\")\n",
    "    if len(dot_split) > 2:\n",
    "        return \".\".join(dot_split[1:])\n",
    "    else:\n",
    "        return domain\n",
    "\n",
    "\n",
    "def remove_empty_str(l):\n",
    "    for i in l:\n",
    "        if len(i) == 0:\n",
    "            l.remove(i)\n",
    "    return l"
   ]
  },
  {
   "cell_type": "markdown",
   "metadata": {},
   "source": [
    "# function for df"
   ]
  },
  {
   "cell_type": "code",
   "execution_count": 7,
   "metadata": {
    "code_folding": []
   },
   "outputs": [],
   "source": [
    "def find_news(df, news_domains_list):\n",
    "\n",
    "    df[\"urls\"] = df[\"full_text\"].apply(find_url)\n",
    "    df[\"urls\"] = df.urls.apply(lambda x: [clean_links(d) for d in x])\n",
    "    df[\"domains\"] = df.urls.apply(lambda x: [get_domain(d) for d in x])\n",
    "    df[\"domains\"] = df.domains.apply(remove_empty_str)\n",
    "    df.drop([\"urls\"], axis=1, inplace=True)\n",
    "\n",
    "    new_columns_list = []\n",
    "    max_nr_dom = df.domains.str.len().max()\n",
    "    for i in range(max_nr_dom):\n",
    "        new_columns_list.append(f\"domain{i+1}\")\n",
    "    df[new_columns_list] = pd.DataFrame(df.domains.tolist())\n",
    "\n",
    "    for col in new_columns_list:\n",
    "        df[col] = df[col].isin(news_domains_list)\n",
    "\n",
    "    df.drop([\"domains\"], axis=1, inplace=True)\n",
    "\n",
    "    df[\"contains_news\"] = df[new_columns_list].sum(axis=1)\n",
    "    df[\"contains_news\"] = df.contains_news.apply(lambda x: x if x == 0 else 1)\n",
    "    df.drop(new_columns_list, axis=1, inplace=True)\n",
    "\n",
    "    return df"
   ]
  },
  {
   "cell_type": "code",
   "execution_count": 8,
   "metadata": {},
   "outputs": [],
   "source": [
    "with open(\"news_domains.txt\", \"r\") as f:\n",
    "    news_domains = json.loads(f.read())"
   ]
  },
  {
   "cell_type": "code",
   "execution_count": 9,
   "metadata": {},
   "outputs": [
    {
     "name": "stdout",
     "output_type": "stream",
     "text": [
      "CPU times: user 461 ms, sys: 4.22 ms, total: 465 ms\n",
      "Wall time: 469 ms\n"
     ]
    }
   ],
   "source": [
    "%%time\n",
    "df_tweets = find_news(df_tweets, news_domains)"
   ]
  },
  {
   "cell_type": "code",
   "execution_count": 10,
   "metadata": {},
   "outputs": [
    {
     "data": {
      "text/html": [
       "<div>\n",
       "<style scoped>\n",
       "    .dataframe tbody tr th:only-of-type {\n",
       "        vertical-align: middle;\n",
       "    }\n",
       "\n",
       "    .dataframe tbody tr th {\n",
       "        vertical-align: top;\n",
       "    }\n",
       "\n",
       "    .dataframe thead th {\n",
       "        text-align: right;\n",
       "    }\n",
       "</style>\n",
       "<table border=\"1\" class=\"dataframe\">\n",
       "  <thead>\n",
       "    <tr style=\"text-align: right;\">\n",
       "      <th></th>\n",
       "      <th>id</th>\n",
       "      <th>user</th>\n",
       "      <th>full_text</th>\n",
       "      <th>created_at</th>\n",
       "      <th>lang</th>\n",
       "      <th>contains_news</th>\n",
       "    </tr>\n",
       "  </thead>\n",
       "  <tbody>\n",
       "    <tr>\n",
       "      <th>0</th>\n",
       "      <td>2627602600</td>\n",
       "      <td>21454322</td>\n",
       "      <td>Went on a USO trip to Guantanamo Bay, Cuba a f...</td>\n",
       "      <td>2009-07-14T05:15:27+00:00</td>\n",
       "      <td>en</td>\n",
       "      <td>0</td>\n",
       "    </tr>\n",
       "    <tr>\n",
       "      <th>1</th>\n",
       "      <td>70261648811761665</td>\n",
       "      <td>5416652</td>\n",
       "      <td>I wish I had kept my 1,700 BTC @ $0.06 instead...</td>\n",
       "      <td>2011-05-16T22:57:37+00:00</td>\n",
       "      <td>en</td>\n",
       "      <td>0</td>\n",
       "    </tr>\n",
       "    <tr>\n",
       "      <th>2</th>\n",
       "      <td>177008089394970624</td>\n",
       "      <td>5110861</td>\n",
       "      <td>In 1996 a man took a NZ radio station hostage,...</td>\n",
       "      <td>2012-03-06T12:29:51+00:00</td>\n",
       "      <td>en</td>\n",
       "      <td>1</td>\n",
       "    </tr>\n",
       "    <tr>\n",
       "      <th>3</th>\n",
       "      <td>234002950274560000</td>\n",
       "      <td>108471631</td>\n",
       "      <td>What is she thinking? https://twitter.com/MELA...</td>\n",
       "      <td>2012-08-10T19:07:06+00:00</td>\n",
       "      <td>en</td>\n",
       "      <td>0</td>\n",
       "    </tr>\n",
       "    <tr>\n",
       "      <th>4</th>\n",
       "      <td>281811460718477312</td>\n",
       "      <td>16298441</td>\n",
       "      <td>did you know that the bible doesn't actually c...</td>\n",
       "      <td>2012-12-20T17:21:02+00:00</td>\n",
       "      <td>en</td>\n",
       "      <td>0</td>\n",
       "    </tr>\n",
       "  </tbody>\n",
       "</table>\n",
       "</div>"
      ],
      "text/plain": [
       "                   id       user  \\\n",
       "0          2627602600   21454322   \n",
       "1   70261648811761665    5416652   \n",
       "2  177008089394970624    5110861   \n",
       "3  234002950274560000  108471631   \n",
       "4  281811460718477312   16298441   \n",
       "\n",
       "                                           full_text  \\\n",
       "0  Went on a USO trip to Guantanamo Bay, Cuba a f...   \n",
       "1  I wish I had kept my 1,700 BTC @ $0.06 instead...   \n",
       "2  In 1996 a man took a NZ radio station hostage,...   \n",
       "3  What is she thinking? https://twitter.com/MELA...   \n",
       "4  did you know that the bible doesn't actually c...   \n",
       "\n",
       "                  created_at lang  contains_news  \n",
       "0  2009-07-14T05:15:27+00:00   en              0  \n",
       "1  2011-05-16T22:57:37+00:00   en              0  \n",
       "2  2012-03-06T12:29:51+00:00   en              1  \n",
       "3  2012-08-10T19:07:06+00:00   en              0  \n",
       "4  2012-12-20T17:21:02+00:00   en              0  "
      ]
     },
     "execution_count": 10,
     "metadata": {},
     "output_type": "execute_result"
    }
   ],
   "source": [
    "df_tweets.head()"
   ]
  },
  {
   "cell_type": "markdown",
   "metadata": {},
   "source": [
    "# remove seen"
   ]
  },
  {
   "cell_type": "code",
   "execution_count": 11,
   "metadata": {
    "scrolled": true
   },
   "outputs": [],
   "source": [
    "seen_tweets = pd.read_csv(\"seen.csv\")"
   ]
  },
  {
   "cell_type": "code",
   "execution_count": 12,
   "metadata": {},
   "outputs": [
    {
     "data": {
      "text/html": [
       "<div>\n",
       "<style scoped>\n",
       "    .dataframe tbody tr th:only-of-type {\n",
       "        vertical-align: middle;\n",
       "    }\n",
       "\n",
       "    .dataframe tbody tr th {\n",
       "        vertical-align: top;\n",
       "    }\n",
       "\n",
       "    .dataframe thead th {\n",
       "        text-align: right;\n",
       "    }\n",
       "</style>\n",
       "<table border=\"1\" class=\"dataframe\">\n",
       "  <thead>\n",
       "    <tr style=\"text-align: right;\">\n",
       "      <th></th>\n",
       "      <th>tweet_id</th>\n",
       "      <th>err_reason</th>\n",
       "    </tr>\n",
       "  </thead>\n",
       "  <tbody>\n",
       "    <tr>\n",
       "      <th>0</th>\n",
       "      <td>1337875267096875015</td>\n",
       "      <td>no_errors</td>\n",
       "    </tr>\n",
       "    <tr>\n",
       "      <th>1</th>\n",
       "      <td>1335698027537969155</td>\n",
       "      <td>no_errors</td>\n",
       "    </tr>\n",
       "    <tr>\n",
       "      <th>2</th>\n",
       "      <td>1345699105385959435</td>\n",
       "      <td>not_found</td>\n",
       "    </tr>\n",
       "    <tr>\n",
       "      <th>3</th>\n",
       "      <td>1336874318882467842</td>\n",
       "      <td>no_errors</td>\n",
       "    </tr>\n",
       "    <tr>\n",
       "      <th>4</th>\n",
       "      <td>1337717825629253633</td>\n",
       "      <td>not_found</td>\n",
       "    </tr>\n",
       "  </tbody>\n",
       "</table>\n",
       "</div>"
      ],
      "text/plain": [
       "              tweet_id err_reason\n",
       "0  1337875267096875015  no_errors\n",
       "1  1335698027537969155  no_errors\n",
       "2  1345699105385959435  not_found\n",
       "3  1336874318882467842  no_errors\n",
       "4  1337717825629253633  not_found"
      ]
     },
     "execution_count": 12,
     "metadata": {},
     "output_type": "execute_result"
    }
   ],
   "source": [
    "seen_tweets.head()"
   ]
  },
  {
   "cell_type": "code",
   "execution_count": 13,
   "metadata": {},
   "outputs": [
    {
     "name": "stdout",
     "output_type": "stream",
     "text": [
      "<class 'pandas.core.frame.DataFrame'>\n",
      "RangeIndex: 2200 entries, 0 to 2199\n",
      "Data columns (total 2 columns):\n",
      " #   Column      Non-Null Count  Dtype \n",
      "---  ------      --------------  ----- \n",
      " 0   tweet_id    2200 non-null   int64 \n",
      " 1   err_reason  2200 non-null   object\n",
      "dtypes: int64(1), object(1)\n",
      "memory usage: 34.5+ KB\n"
     ]
    }
   ],
   "source": [
    "seen_tweets.info()"
   ]
  },
  {
   "cell_type": "code",
   "execution_count": 14,
   "metadata": {},
   "outputs": [],
   "source": [
    "seen_tweets.drop_duplicates(inplace=True)"
   ]
  },
  {
   "cell_type": "code",
   "execution_count": 15,
   "metadata": {},
   "outputs": [
    {
     "data": {
      "text/plain": [
       "(2200, 6)"
      ]
     },
     "execution_count": 15,
     "metadata": {},
     "output_type": "execute_result"
    }
   ],
   "source": [
    "df_tweets[df_tweets[\"id\"].isin(seen_tweets[\"tweet_id\"].tolist())].shape"
   ]
  },
  {
   "cell_type": "code",
   "execution_count": 16,
   "metadata": {},
   "outputs": [
    {
     "name": "stdout",
     "output_type": "stream",
     "text": [
      "(39758, 6)\n",
      "CPU times: user 6.21 ms, sys: 129 µs, total: 6.34 ms\n",
      "Wall time: 5.8 ms\n"
     ]
    }
   ],
   "source": [
    "%%time\n",
    "print(df_tweets.shape)\n",
    "df_tweets = df_tweets[~df_tweets[\"id\"].isin(seen_tweets[\"tweet_id\"].tolist())]"
   ]
  },
  {
   "cell_type": "code",
   "execution_count": 17,
   "metadata": {},
   "outputs": [],
   "source": [
    "# fiter out non english tweets"
   ]
  },
  {
   "cell_type": "code",
   "execution_count": 18,
   "metadata": {},
   "outputs": [
    {
     "data": {
      "text/plain": [
       "(37558, 6)"
      ]
     },
     "execution_count": 18,
     "metadata": {},
     "output_type": "execute_result"
    }
   ],
   "source": [
    "df_tweets.shape"
   ]
  },
  {
   "cell_type": "code",
   "execution_count": 19,
   "metadata": {},
   "outputs": [
    {
     "data": {
      "text/plain": [
       "(34469, 6)"
      ]
     },
     "execution_count": 19,
     "metadata": {},
     "output_type": "execute_result"
    }
   ],
   "source": [
    "df_tweets = df_tweets[df_tweets[\"lang\"] == \"en\"]\n",
    "df_tweets.shape"
   ]
  },
  {
   "cell_type": "markdown",
   "metadata": {},
   "source": [
    "# suffle them and filter out news"
   ]
  },
  {
   "cell_type": "code",
   "execution_count": 20,
   "metadata": {},
   "outputs": [
    {
     "data": {
      "text/plain": [
       "(32823, 6)"
      ]
     },
     "execution_count": 20,
     "metadata": {},
     "output_type": "execute_result"
    }
   ],
   "source": [
    "df_tweets[df_tweets[\"contains_news\"] == 0].shape"
   ]
  },
  {
   "cell_type": "code",
   "execution_count": 21,
   "metadata": {
    "scrolled": true
   },
   "outputs": [
    {
     "data": {
      "text/plain": [
       "(1000, 6)"
      ]
     },
     "execution_count": 21,
     "metadata": {},
     "output_type": "execute_result"
    }
   ],
   "source": [
    "to_custom_news_feed = (\n",
    "    df_tweets[df_tweets[\"contains_news\"] == 0]\n",
    "    .sample(frac=1)\n",
    "    .reset_index(drop=True)[:1000]\n",
    ")\n",
    "to_custom_news_feed.shape"
   ]
  },
  {
   "cell_type": "code",
   "execution_count": 22,
   "metadata": {},
   "outputs": [],
   "source": [
    "to_custom_news_feed[[\"id\", \"user\"]].to_csv(\"batch_to_add.csv\")"
   ]
  },
  {
   "cell_type": "code",
   "execution_count": null,
   "metadata": {},
   "outputs": [],
   "source": []
  }
 ],
 "metadata": {
  "kernelspec": {
   "display_name": "Python 3",
   "language": "python",
   "name": "python3"
  },
  "language_info": {
   "codemirror_mode": {
    "name": "ipython",
    "version": 3
   },
   "file_extension": ".py",
   "mimetype": "text/x-python",
   "name": "python",
   "nbconvert_exporter": "python",
   "pygments_lexer": "ipython3",
   "version": "3.8.5"
  },
  "varInspector": {
   "cols": {
    "lenName": 16,
    "lenType": 16,
    "lenVar": 40
   },
   "kernels_config": {
    "python": {
     "delete_cmd_postfix": "",
     "delete_cmd_prefix": "del ",
     "library": "var_list.py",
     "varRefreshCmd": "print(var_dic_list())"
    },
    "r": {
     "delete_cmd_postfix": ") ",
     "delete_cmd_prefix": "rm(",
     "library": "var_list.r",
     "varRefreshCmd": "cat(var_dic_list()) "
    }
   },
   "types_to_exclude": [
    "module",
    "function",
    "builtin_function_or_method",
    "instance",
    "_Feature"
   ],
   "window_display": false
  }
 },
 "nbformat": 4,
 "nbformat_minor": 4
}
