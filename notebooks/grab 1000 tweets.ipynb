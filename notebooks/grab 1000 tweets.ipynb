{
 "cells": [
  {
   "cell_type": "markdown",
   "metadata": {},
   "source": [
    "# load data"
   ]
  },
  {
   "cell_type": "code",
   "execution_count": 50,
   "metadata": {},
   "outputs": [],
   "source": [
    "import sqlite3\n",
    "import pandas as pd\n",
    "import re\n",
    "from urllib.parse import urlparse\n",
    "import requests"
   ]
  },
  {
   "cell_type": "code",
   "execution_count": 51,
   "metadata": {},
   "outputs": [],
   "source": [
    "from datetime import date\n",
    "from datetime import timedelta"
   ]
  },
  {
   "cell_type": "code",
   "execution_count": 52,
   "metadata": {},
   "outputs": [],
   "source": [
    "import os\n",
    "import sys\n",
    "module_path = os.path.abspath(os.path.join('..'))\n",
    "if module_path not in sys.path:\n",
    "    sys.path.append(module_path+\"/src\")\n",
    "    \n",
    "from pipeline_functions import load_tweets"
   ]
  },
  {
   "cell_type": "markdown",
   "metadata": {},
   "source": [
    "## load tweets older then two weeks"
   ]
  },
  {
   "cell_type": "code",
   "execution_count": 53,
   "metadata": {},
   "outputs": [],
   "source": [
    "df_tweets = load_tweets(\"../home.db\", days=21)\n",
    "df_tweets = df_tweets[df_tweets.retweeted_status == \"N/A\"] # remove RT"
   ]
  },
  {
   "cell_type": "markdown",
   "metadata": {},
   "source": [
    "# utils"
   ]
  },
  {
   "cell_type": "code",
   "execution_count": 54,
   "metadata": {},
   "outputs": [
    {
     "data": {
      "text/html": [
       "<div>\n",
       "<style scoped>\n",
       "    .dataframe tbody tr th:only-of-type {\n",
       "        vertical-align: middle;\n",
       "    }\n",
       "\n",
       "    .dataframe tbody tr th {\n",
       "        vertical-align: top;\n",
       "    }\n",
       "\n",
       "    .dataframe thead th {\n",
       "        text-align: right;\n",
       "    }\n",
       "</style>\n",
       "<table border=\"1\" class=\"dataframe\">\n",
       "  <thead>\n",
       "    <tr style=\"text-align: right;\">\n",
       "      <th></th>\n",
       "      <th>id</th>\n",
       "      <th>user</th>\n",
       "      <th>full_text</th>\n",
       "      <th>created_at</th>\n",
       "      <th>lang</th>\n",
       "      <th>retweeted_status</th>\n",
       "      <th>quoted_status</th>\n",
       "      <th>is_quote_status</th>\n",
       "      <th>in_reply_to_status_id</th>\n",
       "    </tr>\n",
       "  </thead>\n",
       "  <tbody>\n",
       "    <tr>\n",
       "      <th>52118</th>\n",
       "      <td>1350953644070490121</td>\n",
       "      <td>198579020</td>\n",
       "      <td>New video!\\n\\n10 things that made me a senior ...</td>\n",
       "      <td>2021-01-17T23:50:22+00:00</td>\n",
       "      <td>en</td>\n",
       "      <td>N/A</td>\n",
       "      <td>N/A</td>\n",
       "      <td>0</td>\n",
       "      <td>N/A</td>\n",
       "    </tr>\n",
       "    <tr>\n",
       "      <th>52119</th>\n",
       "      <td>1350954099190222852</td>\n",
       "      <td>1480749782</td>\n",
       "      <td>This was the coup? \\n https://twitter.com/alle...</td>\n",
       "      <td>2021-01-17T23:52:11+00:00</td>\n",
       "      <td>en</td>\n",
       "      <td>N/A</td>\n",
       "      <td>N/A</td>\n",
       "      <td>0</td>\n",
       "      <td>N/A</td>\n",
       "    </tr>\n",
       "    <tr>\n",
       "      <th>52120</th>\n",
       "      <td>1350954168794669057</td>\n",
       "      <td>2772007669</td>\n",
       "      <td>Who do you want to hear from this Waitangi Day?</td>\n",
       "      <td>2021-01-17T23:52:28+00:00</td>\n",
       "      <td>en</td>\n",
       "      <td>N/A</td>\n",
       "      <td>N/A</td>\n",
       "      <td>0</td>\n",
       "      <td>N/A</td>\n",
       "    </tr>\n",
       "    <tr>\n",
       "      <th>52122</th>\n",
       "      <td>1350954318103539713</td>\n",
       "      <td>1205226529455632385</td>\n",
       "      <td>. @AmyKremer is president of @WomenforTrump — ...</td>\n",
       "      <td>2021-01-17T23:53:03+00:00</td>\n",
       "      <td>en</td>\n",
       "      <td>N/A</td>\n",
       "      <td>N/A</td>\n",
       "      <td>0</td>\n",
       "      <td>N/A</td>\n",
       "    </tr>\n",
       "    <tr>\n",
       "      <th>52124</th>\n",
       "      <td>1350955020913684483</td>\n",
       "      <td>817386</td>\n",
       "      <td>Surging demand for laptops and 5G chips, along...</td>\n",
       "      <td>2021-01-17T23:55:51+00:00</td>\n",
       "      <td>en</td>\n",
       "      <td>N/A</td>\n",
       "      <td>N/A</td>\n",
       "      <td>0</td>\n",
       "      <td>N/A</td>\n",
       "    </tr>\n",
       "  </tbody>\n",
       "</table>\n",
       "</div>"
      ],
      "text/plain": [
       "                        id                 user  \\\n",
       "52118  1350953644070490121            198579020   \n",
       "52119  1350954099190222852           1480749782   \n",
       "52120  1350954168794669057           2772007669   \n",
       "52122  1350954318103539713  1205226529455632385   \n",
       "52124  1350955020913684483               817386   \n",
       "\n",
       "                                               full_text  \\\n",
       "52118  New video!\\n\\n10 things that made me a senior ...   \n",
       "52119  This was the coup? \\n https://twitter.com/alle...   \n",
       "52120    Who do you want to hear from this Waitangi Day?   \n",
       "52122  . @AmyKremer is president of @WomenforTrump — ...   \n",
       "52124  Surging demand for laptops and 5G chips, along...   \n",
       "\n",
       "                      created_at lang retweeted_status quoted_status  \\\n",
       "52118  2021-01-17T23:50:22+00:00   en              N/A           N/A   \n",
       "52119  2021-01-17T23:52:11+00:00   en              N/A           N/A   \n",
       "52120  2021-01-17T23:52:28+00:00   en              N/A           N/A   \n",
       "52122  2021-01-17T23:53:03+00:00   en              N/A           N/A   \n",
       "52124  2021-01-17T23:55:51+00:00   en              N/A           N/A   \n",
       "\n",
       "       is_quote_status in_reply_to_status_id  \n",
       "52118                0                   N/A  \n",
       "52119                0                   N/A  \n",
       "52120                0                   N/A  \n",
       "52122                0                   N/A  \n",
       "52124                0                   N/A  "
      ]
     },
     "execution_count": 54,
     "metadata": {},
     "output_type": "execute_result"
    }
   ],
   "source": [
    "df_tweets.tail()"
   ]
  },
  {
   "cell_type": "code",
   "execution_count": 55,
   "metadata": {},
   "outputs": [],
   "source": [
    "def find_url(tweet):\n",
    "    return re.findall(r\"http\\S+\", tweet)\n",
    "\n",
    "def remove_tw_urls(tweet: str) -> str:\n",
    "    tweet = re.sub(r\"https://twitter.com/\\S+\", \"\", tweet)\n",
    "    tweet = re.sub(r\"http://twitter.com/\\S+\", \"\", tweet)\n",
    "    return tweet\n",
    "\n",
    "def rem_short_links(tweet: str) -> str:\n",
    "    tweet = re.sub(r\"https://bit.ly/\\S+\", \"\", tweet)\n",
    "    tweet = re.sub(r\"http://bit.ly/\\S+\", \"\", tweet)\n",
    "    tweet = re.sub(r\"https://buff.ly/\\S+\", \"\", tweet)\n",
    "    tweet = re.sub(r\"http://buff.ly/\\S+\", \"\", tweet)\n",
    "    tweet = re.sub(r\"https://t.co/\\S+\", \"\", tweet)\n",
    "    tweet = re.sub(r\"http://t.co/\\S+\", \"\", tweet)\n",
    "\n",
    "    return tweet\n",
    "\n",
    "def expand_link(url):\n",
    "    if url in [\"https://\", \"http://\"]:\n",
    "        return url\n",
    "    else:\n",
    "        try:\n",
    "            session = requests.Session()\n",
    "            resp = session.head(url, allow_redirects=True)\n",
    "            long_url = resp.url\n",
    "            return long_url\n",
    "        except:\n",
    "            return url\n",
    "\n",
    "def get_domain(url):\n",
    "    domain = urlparse(url).netloc\n",
    "    dot_split = domain.split(\".\")\n",
    "#     if len(dot_split) > 2:\n",
    "#         return \".\".join(dot_split[1:])\n",
    "    return domain\n",
    "\n",
    "\n",
    "def remove_empty_str(l):\n",
    "    for i in l:\n",
    "        if len(i) == 0:\n",
    "            l.remove(i)\n",
    "    return l"
   ]
  },
  {
   "cell_type": "markdown",
   "metadata": {},
   "source": [
    "# searching for not-expanded news urls"
   ]
  },
  {
   "cell_type": "code",
   "execution_count": 56,
   "metadata": {
    "scrolled": false
   },
   "outputs": [
    {
     "name": "stderr",
     "output_type": "stream",
     "text": [
      "<ipython-input-56-3a05ae6a8dd2>:2: SettingWithCopyWarning: \n",
      "A value is trying to be set on a copy of a slice from a DataFrame.\n",
      "Try using .loc[row_indexer,col_indexer] = value instead\n",
      "\n",
      "See the caveats in the documentation: https://pandas.pydata.org/pandas-docs/stable/user_guide/indexing.html#returning-a-view-versus-a-copy\n",
      "  dfz[\"clean_text\"] = dfz[\"full_text\"].apply(remove_tw_urls)\n",
      "<ipython-input-56-3a05ae6a8dd2>:3: SettingWithCopyWarning: \n",
      "A value is trying to be set on a copy of a slice from a DataFrame.\n",
      "Try using .loc[row_indexer,col_indexer] = value instead\n",
      "\n",
      "See the caveats in the documentation: https://pandas.pydata.org/pandas-docs/stable/user_guide/indexing.html#returning-a-view-versus-a-copy\n",
      "  dfz[\"clean_text\"] = dfz[\"full_text\"].apply(rem_short_links)\n",
      "<ipython-input-56-3a05ae6a8dd2>:4: SettingWithCopyWarning: \n",
      "A value is trying to be set on a copy of a slice from a DataFrame.\n",
      "Try using .loc[row_indexer,col_indexer] = value instead\n",
      "\n",
      "See the caveats in the documentation: https://pandas.pydata.org/pandas-docs/stable/user_guide/indexing.html#returning-a-view-versus-a-copy\n",
      "  dfz[\"urls\"] = dfz[\"clean_text\"].apply(find_url)\n",
      "<ipython-input-56-3a05ae6a8dd2>:5: SettingWithCopyWarning: \n",
      "A value is trying to be set on a copy of a slice from a DataFrame.\n",
      "Try using .loc[row_indexer,col_indexer] = value instead\n",
      "\n",
      "See the caveats in the documentation: https://pandas.pydata.org/pandas-docs/stable/user_guide/indexing.html#returning-a-view-versus-a-copy\n",
      "  dfz[\"domains\"] = dfz.urls.apply(lambda x: [get_domain(d) for d in x])\n"
     ]
    },
    {
     "data": {
      "text/html": [
       "<div>\n",
       "<style scoped>\n",
       "    .dataframe tbody tr th:only-of-type {\n",
       "        vertical-align: middle;\n",
       "    }\n",
       "\n",
       "    .dataframe tbody tr th {\n",
       "        vertical-align: top;\n",
       "    }\n",
       "\n",
       "    .dataframe thead th {\n",
       "        text-align: right;\n",
       "    }\n",
       "</style>\n",
       "<table border=\"1\" class=\"dataframe\">\n",
       "  <thead>\n",
       "    <tr style=\"text-align: right;\">\n",
       "      <th></th>\n",
       "      <th>id</th>\n",
       "      <th>user</th>\n",
       "      <th>full_text</th>\n",
       "      <th>created_at</th>\n",
       "      <th>lang</th>\n",
       "      <th>retweeted_status</th>\n",
       "      <th>quoted_status</th>\n",
       "      <th>is_quote_status</th>\n",
       "      <th>in_reply_to_status_id</th>\n",
       "      <th>clean_text</th>\n",
       "      <th>urls</th>\n",
       "      <th>domains</th>\n",
       "    </tr>\n",
       "  </thead>\n",
       "  <tbody>\n",
       "    <tr>\n",
       "      <th>31378</th>\n",
       "      <td>1343991976534962179</td>\n",
       "      <td>794010396</td>\n",
       "      <td>The UK Government, SAGE and their propaganda a...</td>\n",
       "      <td>2020-12-29T18:47:12+00:00</td>\n",
       "      <td>en</td>\n",
       "      <td>N/A</td>\n",
       "      <td>N/A</td>\n",
       "      <td>0</td>\n",
       "      <td>N/A</td>\n",
       "      <td>The UK Government, SAGE and their propaganda a...</td>\n",
       "      <td>[https://www.bbc.co.uk/news/uk-55475240]</td>\n",
       "      <td>[www.bbc.co.uk]</td>\n",
       "    </tr>\n",
       "  </tbody>\n",
       "</table>\n",
       "</div>"
      ],
      "text/plain": [
       "                        id       user  \\\n",
       "31378  1343991976534962179  794010396   \n",
       "\n",
       "                                               full_text  \\\n",
       "31378  The UK Government, SAGE and their propaganda a...   \n",
       "\n",
       "                      created_at lang retweeted_status quoted_status  \\\n",
       "31378  2020-12-29T18:47:12+00:00   en              N/A           N/A   \n",
       "\n",
       "       is_quote_status in_reply_to_status_id  \\\n",
       "31378                0                   N/A   \n",
       "\n",
       "                                              clean_text  \\\n",
       "31378  The UK Government, SAGE and their propaganda a...   \n",
       "\n",
       "                                           urls          domains  \n",
       "31378  [https://www.bbc.co.uk/news/uk-55475240]  [www.bbc.co.uk]  "
      ]
     },
     "execution_count": 56,
     "metadata": {},
     "output_type": "execute_result"
    }
   ],
   "source": [
    "dfz = df_tweets[df_tweets.id == 1343991976534962179]\n",
    "dfz[\"clean_text\"] = dfz[\"full_text\"].apply(remove_tw_urls)\n",
    "dfz[\"clean_text\"] = dfz[\"full_text\"].apply(rem_short_links)\n",
    "dfz[\"urls\"] = dfz[\"clean_text\"].apply(find_url)\n",
    "dfz[\"domains\"] = dfz.urls.apply(lambda x: [get_domain(d) for d in x])\n",
    "dfz"
   ]
  },
  {
   "cell_type": "code",
   "execution_count": 37,
   "metadata": {},
   "outputs": [],
   "source": [
    "def remove_tw_urls(tweet):\n",
    "    tweet = re.sub(r\"https://twitter.com/\\S+\", \"\", tweet)\n",
    "    tweet = re.sub(r\"http://twitter.com/\\S+\", \"\", tweet)\n",
    "    return tweet"
   ]
  },
  {
   "cell_type": "code",
   "execution_count": 58,
   "metadata": {},
   "outputs": [
    {
     "name": "stderr",
     "output_type": "stream",
     "text": [
      "<ipython-input-58-581e0d949cdd>:2: SettingWithCopyWarning: \n",
      "A value is trying to be set on a copy of a slice from a DataFrame.\n",
      "Try using .loc[row_indexer,col_indexer] = value instead\n",
      "\n",
      "See the caveats in the documentation: https://pandas.pydata.org/pandas-docs/stable/user_guide/indexing.html#returning-a-view-versus-a-copy\n",
      "  dfz[\"clean_text\"] = dfz[\"full_text\"].apply(remove_tw_urls)\n",
      "<ipython-input-58-581e0d949cdd>:3: SettingWithCopyWarning: \n",
      "A value is trying to be set on a copy of a slice from a DataFrame.\n",
      "Try using .loc[row_indexer,col_indexer] = value instead\n",
      "\n",
      "See the caveats in the documentation: https://pandas.pydata.org/pandas-docs/stable/user_guide/indexing.html#returning-a-view-versus-a-copy\n",
      "  dfz[\"clean_text\"] = dfz[\"clean_text\"].apply(rem_short_links)\n",
      "<ipython-input-58-581e0d949cdd>:4: SettingWithCopyWarning: \n",
      "A value is trying to be set on a copy of a slice from a DataFrame.\n",
      "Try using .loc[row_indexer,col_indexer] = value instead\n",
      "\n",
      "See the caveats in the documentation: https://pandas.pydata.org/pandas-docs/stable/user_guide/indexing.html#returning-a-view-versus-a-copy\n",
      "  dfz[\"urls\"] = dfz[\"clean_text\"].apply(find_url)\n",
      "<ipython-input-58-581e0d949cdd>:5: SettingWithCopyWarning: \n",
      "A value is trying to be set on a copy of a slice from a DataFrame.\n",
      "Try using .loc[row_indexer,col_indexer] = value instead\n",
      "\n",
      "See the caveats in the documentation: https://pandas.pydata.org/pandas-docs/stable/user_guide/indexing.html#returning-a-view-versus-a-copy\n",
      "  dfz[\"domains\"] = dfz.urls.apply(lambda x: [get_domain(d) for d in x])\n"
     ]
    }
   ],
   "source": [
    "# dfz = df_tweets.copy()\n",
    "# dfz[\"clean_text\"] = dfz[\"full_text\"].apply(remove_tw_urls)\n",
    "# dfz[\"clean_text\"] = dfz[\"clean_text\"].apply(rem_short_links)\n",
    "# dfz[\"urls\"] = dfz[\"clean_text\"].apply(find_url)\n",
    "# dfz[\"domains\"] = dfz.urls.apply(lambda x: [get_domain(d) for d in x])"
   ]
  },
  {
   "cell_type": "code",
   "execution_count": 59,
   "metadata": {},
   "outputs": [
    {
     "data": {
      "text/html": [
       "<div>\n",
       "<style scoped>\n",
       "    .dataframe tbody tr th:only-of-type {\n",
       "        vertical-align: middle;\n",
       "    }\n",
       "\n",
       "    .dataframe tbody tr th {\n",
       "        vertical-align: top;\n",
       "    }\n",
       "\n",
       "    .dataframe thead th {\n",
       "        text-align: right;\n",
       "    }\n",
       "</style>\n",
       "<table border=\"1\" class=\"dataframe\">\n",
       "  <thead>\n",
       "    <tr style=\"text-align: right;\">\n",
       "      <th></th>\n",
       "      <th>id</th>\n",
       "      <th>user</th>\n",
       "      <th>full_text</th>\n",
       "      <th>created_at</th>\n",
       "      <th>lang</th>\n",
       "      <th>retweeted_status</th>\n",
       "      <th>quoted_status</th>\n",
       "      <th>is_quote_status</th>\n",
       "      <th>in_reply_to_status_id</th>\n",
       "      <th>clean_text</th>\n",
       "      <th>urls</th>\n",
       "      <th>domains</th>\n",
       "    </tr>\n",
       "  </thead>\n",
       "  <tbody>\n",
       "    <tr>\n",
       "      <th>31378</th>\n",
       "      <td>1343991976534962179</td>\n",
       "      <td>794010396</td>\n",
       "      <td>The UK Government, SAGE and their propaganda a...</td>\n",
       "      <td>2020-12-29T18:47:12+00:00</td>\n",
       "      <td>en</td>\n",
       "      <td>N/A</td>\n",
       "      <td>N/A</td>\n",
       "      <td>0</td>\n",
       "      <td>N/A</td>\n",
       "      <td>The UK Government, SAGE and their propaganda a...</td>\n",
       "      <td>[https://www.bbc.co.uk/news/uk-55475240]</td>\n",
       "      <td>[www.bbc.co.uk]</td>\n",
       "    </tr>\n",
       "  </tbody>\n",
       "</table>\n",
       "</div>"
      ],
      "text/plain": [
       "                        id       user  \\\n",
       "31378  1343991976534962179  794010396   \n",
       "\n",
       "                                               full_text  \\\n",
       "31378  The UK Government, SAGE and their propaganda a...   \n",
       "\n",
       "                      created_at lang retweeted_status quoted_status  \\\n",
       "31378  2020-12-29T18:47:12+00:00   en              N/A           N/A   \n",
       "\n",
       "       is_quote_status in_reply_to_status_id  \\\n",
       "31378                0                   N/A   \n",
       "\n",
       "                                              clean_text  \\\n",
       "31378  The UK Government, SAGE and their propaganda a...   \n",
       "\n",
       "                                           urls          domains  \n",
       "31378  [https://www.bbc.co.uk/news/uk-55475240]  [www.bbc.co.uk]  "
      ]
     },
     "execution_count": 59,
     "metadata": {},
     "output_type": "execute_result"
    }
   ],
   "source": [
    "dfz"
   ]
  },
  {
   "cell_type": "code",
   "execution_count": 39,
   "metadata": {},
   "outputs": [],
   "source": [
    "# dfz[\"urls_exp\"] = dfz.urls.apply(lambda x: [expand_link(d) for d in x])"
   ]
  },
  {
   "cell_type": "code",
   "execution_count": 40,
   "metadata": {},
   "outputs": [],
   "source": [
    "# dfz[\"domains_exp\"] = dfz.urls_exp.apply(lambda x: [get_domain(d) for d in x])"
   ]
  },
  {
   "cell_type": "code",
   "execution_count": 60,
   "metadata": {
    "scrolled": true
   },
   "outputs": [
    {
     "data": {
      "text/html": [
       "<div>\n",
       "<style scoped>\n",
       "    .dataframe tbody tr th:only-of-type {\n",
       "        vertical-align: middle;\n",
       "    }\n",
       "\n",
       "    .dataframe tbody tr th {\n",
       "        vertical-align: top;\n",
       "    }\n",
       "\n",
       "    .dataframe thead th {\n",
       "        text-align: right;\n",
       "    }\n",
       "</style>\n",
       "<table border=\"1\" class=\"dataframe\">\n",
       "  <thead>\n",
       "    <tr style=\"text-align: right;\">\n",
       "      <th></th>\n",
       "      <th>id</th>\n",
       "      <th>user</th>\n",
       "      <th>full_text</th>\n",
       "      <th>created_at</th>\n",
       "      <th>lang</th>\n",
       "      <th>retweeted_status</th>\n",
       "      <th>quoted_status</th>\n",
       "      <th>is_quote_status</th>\n",
       "      <th>in_reply_to_status_id</th>\n",
       "      <th>clean_text</th>\n",
       "      <th>urls</th>\n",
       "      <th>domains</th>\n",
       "    </tr>\n",
       "  </thead>\n",
       "  <tbody>\n",
       "    <tr>\n",
       "      <th>31378</th>\n",
       "      <td>1343991976534962179</td>\n",
       "      <td>794010396</td>\n",
       "      <td>The UK Government, SAGE and their propaganda a...</td>\n",
       "      <td>2020-12-29T18:47:12+00:00</td>\n",
       "      <td>en</td>\n",
       "      <td>N/A</td>\n",
       "      <td>N/A</td>\n",
       "      <td>0</td>\n",
       "      <td>N/A</td>\n",
       "      <td>The UK Government, SAGE and their propaganda a...</td>\n",
       "      <td>[https://www.bbc.co.uk/news/uk-55475240]</td>\n",
       "      <td>[www.bbc.co.uk]</td>\n",
       "    </tr>\n",
       "  </tbody>\n",
       "</table>\n",
       "</div>"
      ],
      "text/plain": [
       "                        id       user  \\\n",
       "31378  1343991976534962179  794010396   \n",
       "\n",
       "                                               full_text  \\\n",
       "31378  The UK Government, SAGE and their propaganda a...   \n",
       "\n",
       "                      created_at lang retweeted_status quoted_status  \\\n",
       "31378  2020-12-29T18:47:12+00:00   en              N/A           N/A   \n",
       "\n",
       "       is_quote_status in_reply_to_status_id  \\\n",
       "31378                0                   N/A   \n",
       "\n",
       "                                              clean_text  \\\n",
       "31378  The UK Government, SAGE and their propaganda a...   \n",
       "\n",
       "                                           urls          domains  \n",
       "31378  [https://www.bbc.co.uk/news/uk-55475240]  [www.bbc.co.uk]  "
      ]
     },
     "execution_count": 60,
     "metadata": {},
     "output_type": "execute_result"
    }
   ],
   "source": [
    "dfz.head(20)"
   ]
  },
  {
   "cell_type": "code",
   "execution_count": 61,
   "metadata": {},
   "outputs": [
    {
     "name": "stderr",
     "output_type": "stream",
     "text": [
      "/home/gsajko/miniconda3/envs/mlb/lib/python3.8/site-packages/pandas/core/frame.py:3065: SettingWithCopyWarning: \n",
      "A value is trying to be set on a copy of a slice from a DataFrame.\n",
      "Try using .loc[row_indexer,col_indexer] = value instead\n",
      "\n",
      "See the caveats in the documentation: https://pandas.pydata.org/pandas-docs/stable/user_guide/indexing.html#returning-a-view-versus-a-copy\n",
      "  self[k1] = value[k2]\n"
     ]
    }
   ],
   "source": [
    "new_columns_list = []\n",
    "max_nr_dom = dfz.domains.str.len().max()\n",
    "for i in range(max_nr_dom):\n",
    "    new_columns_list.append(f\"domain{i+1}\")\n",
    "dfz[new_columns_list] = pd.DataFrame(dfz.domains.tolist())"
   ]
  },
  {
   "cell_type": "code",
   "execution_count": 62,
   "metadata": {},
   "outputs": [
    {
     "data": {
      "text/html": [
       "<div>\n",
       "<style scoped>\n",
       "    .dataframe tbody tr th:only-of-type {\n",
       "        vertical-align: middle;\n",
       "    }\n",
       "\n",
       "    .dataframe tbody tr th {\n",
       "        vertical-align: top;\n",
       "    }\n",
       "\n",
       "    .dataframe thead th {\n",
       "        text-align: right;\n",
       "    }\n",
       "</style>\n",
       "<table border=\"1\" class=\"dataframe\">\n",
       "  <thead>\n",
       "    <tr style=\"text-align: right;\">\n",
       "      <th></th>\n",
       "      <th>id</th>\n",
       "      <th>urls</th>\n",
       "      <th>domains</th>\n",
       "    </tr>\n",
       "  </thead>\n",
       "  <tbody>\n",
       "  </tbody>\n",
       "</table>\n",
       "</div>"
      ],
      "text/plain": [
       "Empty DataFrame\n",
       "Columns: [id, urls, domains]\n",
       "Index: []"
      ]
     },
     "execution_count": 62,
     "metadata": {},
     "output_type": "execute_result"
    }
   ],
   "source": [
    "dfz[[\"id\", \"urls\", \"domains\"]][dfz.urls.apply(len) > 1]"
   ]
  },
  {
   "cell_type": "code",
   "execution_count": 57,
   "metadata": {},
   "outputs": [
    {
     "data": {
      "text/html": [
       "<div>\n",
       "<style scoped>\n",
       "    .dataframe tbody tr th:only-of-type {\n",
       "        vertical-align: middle;\n",
       "    }\n",
       "\n",
       "    .dataframe tbody tr th {\n",
       "        vertical-align: top;\n",
       "    }\n",
       "\n",
       "    .dataframe thead th {\n",
       "        text-align: right;\n",
       "    }\n",
       "</style>\n",
       "<table border=\"1\" class=\"dataframe\">\n",
       "  <thead>\n",
       "    <tr style=\"text-align: right;\">\n",
       "      <th></th>\n",
       "      <th>id</th>\n",
       "      <th>user</th>\n",
       "      <th>full_text</th>\n",
       "      <th>created_at</th>\n",
       "      <th>lang</th>\n",
       "      <th>retweeted_status</th>\n",
       "      <th>quoted_status</th>\n",
       "      <th>is_quote_status</th>\n",
       "      <th>in_reply_to_status_id</th>\n",
       "      <th>clean_text</th>\n",
       "      <th>urls</th>\n",
       "      <th>domains</th>\n",
       "    </tr>\n",
       "  </thead>\n",
       "  <tbody>\n",
       "    <tr>\n",
       "      <th>31378</th>\n",
       "      <td>1343991976534962179</td>\n",
       "      <td>794010396</td>\n",
       "      <td>The UK Government, SAGE and their propaganda a...</td>\n",
       "      <td>2020-12-29T18:47:12+00:00</td>\n",
       "      <td>en</td>\n",
       "      <td>N/A</td>\n",
       "      <td>N/A</td>\n",
       "      <td>0</td>\n",
       "      <td>N/A</td>\n",
       "      <td>The UK Government, SAGE and their propaganda a...</td>\n",
       "      <td>[https://www.bbc.co.uk/news/uk-55475240]</td>\n",
       "      <td>[www.bbc.co.uk]</td>\n",
       "    </tr>\n",
       "  </tbody>\n",
       "</table>\n",
       "</div>"
      ],
      "text/plain": [
       "                        id       user  \\\n",
       "31378  1343991976534962179  794010396   \n",
       "\n",
       "                                               full_text  \\\n",
       "31378  The UK Government, SAGE and their propaganda a...   \n",
       "\n",
       "                      created_at lang retweeted_status quoted_status  \\\n",
       "31378  2020-12-29T18:47:12+00:00   en              N/A           N/A   \n",
       "\n",
       "       is_quote_status in_reply_to_status_id  \\\n",
       "31378                0                   N/A   \n",
       "\n",
       "                                              clean_text  \\\n",
       "31378  The UK Government, SAGE and their propaganda a...   \n",
       "\n",
       "                                           urls          domains  \n",
       "31378  [https://www.bbc.co.uk/news/uk-55475240]  [www.bbc.co.uk]  "
      ]
     },
     "execution_count": 57,
     "metadata": {},
     "output_type": "execute_result"
    }
   ],
   "source": [
    "dfz"
   ]
  },
  {
   "cell_type": "code",
   "execution_count": 63,
   "metadata": {},
   "outputs": [
    {
     "data": {
      "text/plain": [
       "31378    NaN\n",
       "Name: domain1, dtype: object"
      ]
     },
     "execution_count": 63,
     "metadata": {},
     "output_type": "execute_result"
    }
   ],
   "source": [
    "dfz[\"domain1\"]"
   ]
  },
  {
   "cell_type": "code",
   "execution_count": 64,
   "metadata": {},
   "outputs": [],
   "source": [
    "domain_list = []\n",
    "for i in dfz[\"domains\"].tolist():\n",
    "    for d in i:\n",
    "        if d not in domain_list:\n",
    "            domain_list.append(d)"
   ]
  },
  {
   "cell_type": "code",
   "execution_count": 65,
   "metadata": {
    "scrolled": false
   },
   "outputs": [
    {
     "data": {
      "text/plain": [
       "['www.bbc.co.uk']"
      ]
     },
     "execution_count": 65,
     "metadata": {},
     "output_type": "execute_result"
    }
   ],
   "source": [
    "domain_list"
   ]
  },
  {
   "cell_type": "code",
   "execution_count": 46,
   "metadata": {},
   "outputs": [],
   "source": [
    "# weird_url = ['api.',\n",
    "# 't…',\n",
    "# 't.co…',\n",
    "# 't.c…',\n",
    "# '…',]\n",
    "# dfz[dfz[\"domain1\"].isin(weird_url)]"
   ]
  },
  {
   "cell_type": "markdown",
   "metadata": {},
   "source": [
    "# function for df"
   ]
  },
  {
   "cell_type": "code",
   "execution_count": 73,
   "metadata": {
    "code_folding": []
   },
   "outputs": [],
   "source": [
    "def find_news(df, news_domains_list):\n",
    "\n",
    "    df[\"clean_text\"] = df[\"full_text\"].apply(\n",
    "        remove_tw_urls\n",
    "    )  # TODO can I chain .apply?\n",
    "    df[\"clean_text\"] = df[\"clean_text\"].apply(rem_short_links)\n",
    "    df[\"urls\"] = df[\"clean_text\"].apply(find_url)\n",
    "    df.drop([\"clean_text\"], axis=1, inplace=True)\n",
    "    df[\"domains\"] = df.urls.apply(lambda x: [get_domain(d) for d in x])\n",
    "    df[\"domains\"] = df.domains.apply(remove_empty_str)\n",
    "    df.drop([\"urls\"], axis=1, inplace=True)\n",
    "\n",
    "    new_columns_list = []\n",
    "    max_nr_dom = df.domains.str.len().max()\n",
    "    for i in range(max_nr_dom):\n",
    "        new_columns_list.append(f\"domain{i+1}\")\n",
    "    df[new_columns_list] = pd.DataFrame(df.domains.tolist())\n",
    "\n",
    "    for col in new_columns_list:\n",
    "        df[col] = df[col].isin(news_domains_list)\n",
    "\n",
    "    df.drop([\"domains\"], axis=1, inplace=True)\n",
    "\n",
    "    df[\"contains_news\"] = df[new_columns_list].sum(axis=1)\n",
    "    df[\"contains_news\"] = df.contains_news.apply(lambda x: x if x == 0 else 1)\n",
    "    df.drop(new_columns_list, axis=1, inplace=True)\n",
    "\n",
    "    return df\n",
    "\n",
    "def drop_contains(df, column_name, word_list):\n",
    "    for string in word_list:\n",
    "        df[\"lower\"] = df[\"full_text\"].str.lower()\n",
    "        df = df[df[\"lower\"].str.contains(string)]\n",
    "        df.drop([\"lower\"], axis=1, inplace=True)\n",
    "    return df"
   ]
  },
  {
   "cell_type": "code",
   "execution_count": 74,
   "metadata": {},
   "outputs": [],
   "source": [
    "with open(\"news_domains.txt\", \"r\") as f:\n",
    "    news_domains = json.loads(f.read())"
   ]
  },
  {
   "cell_type": "code",
   "execution_count": 75,
   "metadata": {},
   "outputs": [
    {
     "name": "stdout",
     "output_type": "stream",
     "text": [
      "CPU times: user 13.1 ms, sys: 29 µs, total: 13.1 ms\n",
      "Wall time: 12.1 ms\n"
     ]
    },
    {
     "name": "stderr",
     "output_type": "stream",
     "text": [
      "<ipython-input-73-e8127230c71b>:3: SettingWithCopyWarning: \n",
      "A value is trying to be set on a copy of a slice from a DataFrame.\n",
      "Try using .loc[row_indexer,col_indexer] = value instead\n",
      "\n",
      "See the caveats in the documentation: https://pandas.pydata.org/pandas-docs/stable/user_guide/indexing.html#returning-a-view-versus-a-copy\n",
      "  df[\"clean_text\"] = df[\"full_text\"].apply(\n",
      "<ipython-input-73-e8127230c71b>:6: SettingWithCopyWarning: \n",
      "A value is trying to be set on a copy of a slice from a DataFrame.\n",
      "Try using .loc[row_indexer,col_indexer] = value instead\n",
      "\n",
      "See the caveats in the documentation: https://pandas.pydata.org/pandas-docs/stable/user_guide/indexing.html#returning-a-view-versus-a-copy\n",
      "  df[\"clean_text\"] = df[\"clean_text\"].apply(rem_short_links)\n",
      "<ipython-input-73-e8127230c71b>:7: SettingWithCopyWarning: \n",
      "A value is trying to be set on a copy of a slice from a DataFrame.\n",
      "Try using .loc[row_indexer,col_indexer] = value instead\n",
      "\n",
      "See the caveats in the documentation: https://pandas.pydata.org/pandas-docs/stable/user_guide/indexing.html#returning-a-view-versus-a-copy\n",
      "  df[\"urls\"] = df[\"clean_text\"].apply(find_url)\n",
      "/home/gsajko/miniconda3/envs/mlb/lib/python3.8/site-packages/pandas/core/frame.py:4163: SettingWithCopyWarning: \n",
      "A value is trying to be set on a copy of a slice from a DataFrame\n",
      "\n",
      "See the caveats in the documentation: https://pandas.pydata.org/pandas-docs/stable/user_guide/indexing.html#returning-a-view-versus-a-copy\n",
      "  return super().drop(\n",
      "<ipython-input-73-e8127230c71b>:9: SettingWithCopyWarning: \n",
      "A value is trying to be set on a copy of a slice from a DataFrame.\n",
      "Try using .loc[row_indexer,col_indexer] = value instead\n",
      "\n",
      "See the caveats in the documentation: https://pandas.pydata.org/pandas-docs/stable/user_guide/indexing.html#returning-a-view-versus-a-copy\n",
      "  df[\"domains\"] = df.urls.apply(lambda x: [get_domain(d) for d in x])\n",
      "<ipython-input-73-e8127230c71b>:10: SettingWithCopyWarning: \n",
      "A value is trying to be set on a copy of a slice from a DataFrame.\n",
      "Try using .loc[row_indexer,col_indexer] = value instead\n",
      "\n",
      "See the caveats in the documentation: https://pandas.pydata.org/pandas-docs/stable/user_guide/indexing.html#returning-a-view-versus-a-copy\n",
      "  df[\"domains\"] = df.domains.apply(remove_empty_str)\n",
      "/home/gsajko/miniconda3/envs/mlb/lib/python3.8/site-packages/pandas/core/frame.py:3065: SettingWithCopyWarning: \n",
      "A value is trying to be set on a copy of a slice from a DataFrame.\n",
      "Try using .loc[row_indexer,col_indexer] = value instead\n",
      "\n",
      "See the caveats in the documentation: https://pandas.pydata.org/pandas-docs/stable/user_guide/indexing.html#returning-a-view-versus-a-copy\n",
      "  self[k1] = value[k2]\n",
      "<ipython-input-73-e8127230c71b>:20: SettingWithCopyWarning: \n",
      "A value is trying to be set on a copy of a slice from a DataFrame.\n",
      "Try using .loc[row_indexer,col_indexer] = value instead\n",
      "\n",
      "See the caveats in the documentation: https://pandas.pydata.org/pandas-docs/stable/user_guide/indexing.html#returning-a-view-versus-a-copy\n",
      "  df[col] = df[col].isin(news_domains_list)\n",
      "<ipython-input-73-e8127230c71b>:24: SettingWithCopyWarning: \n",
      "A value is trying to be set on a copy of a slice from a DataFrame.\n",
      "Try using .loc[row_indexer,col_indexer] = value instead\n",
      "\n",
      "See the caveats in the documentation: https://pandas.pydata.org/pandas-docs/stable/user_guide/indexing.html#returning-a-view-versus-a-copy\n",
      "  df[\"contains_news\"] = df[new_columns_list].sum(axis=1)\n",
      "<ipython-input-73-e8127230c71b>:25: SettingWithCopyWarning: \n",
      "A value is trying to be set on a copy of a slice from a DataFrame.\n",
      "Try using .loc[row_indexer,col_indexer] = value instead\n",
      "\n",
      "See the caveats in the documentation: https://pandas.pydata.org/pandas-docs/stable/user_guide/indexing.html#returning-a-view-versus-a-copy\n",
      "  df[\"contains_news\"] = df.contains_news.apply(lambda x: x if x == 0 else 1)\n"
     ]
    }
   ],
   "source": [
    "%%time\n",
    "dfz = find_news(dfz, news_domains)"
   ]
  },
  {
   "cell_type": "code",
   "execution_count": 76,
   "metadata": {},
   "outputs": [
    {
     "data": {
      "text/html": [
       "<div>\n",
       "<style scoped>\n",
       "    .dataframe tbody tr th:only-of-type {\n",
       "        vertical-align: middle;\n",
       "    }\n",
       "\n",
       "    .dataframe tbody tr th {\n",
       "        vertical-align: top;\n",
       "    }\n",
       "\n",
       "    .dataframe thead th {\n",
       "        text-align: right;\n",
       "    }\n",
       "</style>\n",
       "<table border=\"1\" class=\"dataframe\">\n",
       "  <thead>\n",
       "    <tr style=\"text-align: right;\">\n",
       "      <th></th>\n",
       "      <th>id</th>\n",
       "      <th>user</th>\n",
       "      <th>full_text</th>\n",
       "      <th>created_at</th>\n",
       "      <th>lang</th>\n",
       "      <th>retweeted_status</th>\n",
       "      <th>quoted_status</th>\n",
       "      <th>is_quote_status</th>\n",
       "      <th>in_reply_to_status_id</th>\n",
       "      <th>contains_news</th>\n",
       "    </tr>\n",
       "  </thead>\n",
       "  <tbody>\n",
       "    <tr>\n",
       "      <th>31378</th>\n",
       "      <td>1343991976534962179</td>\n",
       "      <td>794010396</td>\n",
       "      <td>The UK Government, SAGE and their propaganda a...</td>\n",
       "      <td>2020-12-29T18:47:12+00:00</td>\n",
       "      <td>en</td>\n",
       "      <td>N/A</td>\n",
       "      <td>N/A</td>\n",
       "      <td>0</td>\n",
       "      <td>N/A</td>\n",
       "      <td>0</td>\n",
       "    </tr>\n",
       "  </tbody>\n",
       "</table>\n",
       "</div>"
      ],
      "text/plain": [
       "                        id       user  \\\n",
       "31378  1343991976534962179  794010396   \n",
       "\n",
       "                                               full_text  \\\n",
       "31378  The UK Government, SAGE and their propaganda a...   \n",
       "\n",
       "                      created_at lang retweeted_status quoted_status  \\\n",
       "31378  2020-12-29T18:47:12+00:00   en              N/A           N/A   \n",
       "\n",
       "       is_quote_status in_reply_to_status_id  contains_news  \n",
       "31378                0                   N/A              0  "
      ]
     },
     "execution_count": 76,
     "metadata": {},
     "output_type": "execute_result"
    }
   ],
   "source": [
    "dfz"
   ]
  },
  {
   "cell_type": "code",
   "execution_count": null,
   "metadata": {
    "scrolled": false
   },
   "outputs": [],
   "source": [
    "%%time\n",
    "df_tweets = find_news(df_tweets, news_domains)"
   ]
  },
  {
   "cell_type": "code",
   "execution_count": null,
   "metadata": {},
   "outputs": [],
   "source": [
    "def news_in_qt_rt(df):\n",
    "    #TODO refractor this\n",
    "    df[\"all_news\"] = df[\"contains_news\"].copy()\n",
    "\n",
    "    df_qt = df[[\"id\", \"contains_news\"]].copy()\n",
    "    df_qt.columns = [\"quoted_status\", \"qt_news\"]\n",
    "    df = df.merge(df_qt, on=\"quoted_status\", how=\"left\")\n",
    "    df[\"qt_news\"] = df[\"qt_news\"].fillna(0).astype(np.int64)\n",
    "    df[\"all_news\"] = df[\"qt_news\"].astype(np.int64) + df[\"contains_news\"].astype(np.int64)\n",
    "\n",
    "    df_qt = df[[\"id\", \"contains_news\"]].copy()\n",
    "    df_qt.columns = [\"in_reply_to_status_id\", \"rt_news\"]\n",
    "    df = df.merge(df_qt, on=\"in_reply_to_status_id\", how=\"left\")\n",
    "    df[\"rt_news\"] = df[\"rt_news\"].fillna(0).astype(np.int64)\n",
    "    df[\"all_news\"] = df[\"rt_news\"].astype(np.int64) + df[\"all_news\"].astype(np.int64)\n",
    "    \n",
    "    return df\n"
   ]
  },
  {
   "cell_type": "code",
   "execution_count": null,
   "metadata": {},
   "outputs": [],
   "source": [
    "df = df_tweets.copy()"
   ]
  },
  {
   "cell_type": "code",
   "execution_count": null,
   "metadata": {},
   "outputs": [],
   "source": [
    "df.head()"
   ]
  },
  {
   "cell_type": "code",
   "execution_count": null,
   "metadata": {},
   "outputs": [],
   "source": [
    "for col in [\"in_reply_to_status_id\"]:\n",
    "    df[col] = df[col].fillna(0).astype(np.int64)\n",
    "\n",
    "df = news_in_qt_rt(df)"
   ]
  },
  {
   "cell_type": "code",
   "execution_count": null,
   "metadata": {},
   "outputs": [],
   "source": [
    "df_tweets[df_tweets.id == 1335980504735072256]"
   ]
  },
  {
   "cell_type": "code",
   "execution_count": null,
   "metadata": {},
   "outputs": [],
   "source": [
    "df[df.id == 1335967310843060230]"
   ]
  },
  {
   "cell_type": "code",
   "execution_count": null,
   "metadata": {},
   "outputs": [],
   "source": [
    "# I don't have QT in database"
   ]
  },
  {
   "cell_type": "code",
   "execution_count": null,
   "metadata": {},
   "outputs": [],
   "source": [
    "1335980504735072256"
   ]
  },
  {
   "cell_type": "code",
   "execution_count": null,
   "metadata": {},
   "outputs": [],
   "source": [
    "df.info()"
   ]
  },
  {
   "cell_type": "code",
   "execution_count": null,
   "metadata": {},
   "outputs": [],
   "source": [
    "df[\"in_reply_to_status_id\"] = df[\"in_reply_to_status_id\"].fillna(0).astype(np.int64)\n",
    "\n",
    "df_qt = df[[\"id\", \"contains_news\"]].copy()\n",
    "df_qt.columns = [\"in_reply_to_status_id\", \"rt_news\"]\n",
    "df = df.merge(df_qt, on=\"in_reply_to_status_id\", how=\"left\")\n",
    "df[\"rt_news\"] = df[\"rt_news\"].fillna(0).astype(np.int64)\n",
    "df[\"all_news\"] = df[\"rt_news\"].astype(np.int64) + df[\"all_news\"].astype(np.int64)"
   ]
  },
  {
   "cell_type": "code",
   "execution_count": null,
   "metadata": {},
   "outputs": [],
   "source": [
    "df = df.merge(df_qt, on=\"in_reply_to_status_id\", how=\"left\")"
   ]
  },
  {
   "cell_type": "code",
   "execution_count": null,
   "metadata": {},
   "outputs": [],
   "source": [
    "%%time\n",
    "df_tweets = news_in_qt_rt(df_tweets)"
   ]
  },
  {
   "cell_type": "code",
   "execution_count": null,
   "metadata": {},
   "outputs": [],
   "source": [
    "print(df_tweets.shape)"
   ]
  },
  {
   "cell_type": "code",
   "execution_count": null,
   "metadata": {},
   "outputs": [],
   "source": [
    "df_tweets[df_tweets.id == 1197689942396174336]"
   ]
  },
  {
   "cell_type": "markdown",
   "metadata": {},
   "source": [
    "# remove seen"
   ]
  },
  {
   "cell_type": "code",
   "execution_count": null,
   "metadata": {
    "scrolled": true
   },
   "outputs": [],
   "source": [
    "seen_tweets = pd.read_csv(\"seen.csv\")"
   ]
  },
  {
   "cell_type": "code",
   "execution_count": null,
   "metadata": {},
   "outputs": [],
   "source": [
    "seen_tweets.head()"
   ]
  },
  {
   "cell_type": "code",
   "execution_count": null,
   "metadata": {},
   "outputs": [],
   "source": [
    "seen_tweets.info()"
   ]
  },
  {
   "cell_type": "code",
   "execution_count": null,
   "metadata": {},
   "outputs": [],
   "source": [
    "seen_tweets.drop_duplicates(inplace=True)"
   ]
  },
  {
   "cell_type": "code",
   "execution_count": null,
   "metadata": {},
   "outputs": [],
   "source": [
    "df_tweets[df_tweets[\"id\"].isin(seen_tweets[\"tweet_id\"].tolist())].shape"
   ]
  },
  {
   "cell_type": "code",
   "execution_count": null,
   "metadata": {},
   "outputs": [],
   "source": [
    "%%time\n",
    "print(df_tweets.shape)\n",
    "df_tweets = df_tweets[~df_tweets[\"id\"].isin(seen_tweets[\"tweet_id\"].tolist())]"
   ]
  },
  {
   "cell_type": "code",
   "execution_count": null,
   "metadata": {},
   "outputs": [],
   "source": [
    "# fiter out non english tweets"
   ]
  },
  {
   "cell_type": "code",
   "execution_count": null,
   "metadata": {},
   "outputs": [],
   "source": [
    "df_tweets.shape"
   ]
  },
  {
   "cell_type": "code",
   "execution_count": null,
   "metadata": {},
   "outputs": [],
   "source": [
    "df_tweets = df_tweets[df_tweets[\"lang\"] == \"en\"]\n",
    "df_tweets.shape"
   ]
  },
  {
   "cell_type": "markdown",
   "metadata": {},
   "source": [
    "# suffle them and filter out news"
   ]
  },
  {
   "cell_type": "code",
   "execution_count": null,
   "metadata": {},
   "outputs": [],
   "source": [
    "df_tweets[df_tweets[\"contains_news\"] == 0].shape"
   ]
  },
  {
   "cell_type": "code",
   "execution_count": null,
   "metadata": {},
   "outputs": [],
   "source": [
    "def drop_contains(df, column_name, str_list, lower=True):\n",
    "    for string in str_list:\n",
    "        if lower:\n",
    "            df[\"filter\"] = df[column_name].str.lower().copy()\n",
    "        if not lower:\n",
    "            df[\"filter\"] = df[column_name].copy()\n",
    "        df = df_tweets[~df[\"filter\"].str.contains(string)]\n",
    "        df = df.drop([\"filter\"], axis=1).copy()\n",
    "    return df"
   ]
  },
  {
   "cell_type": "code",
   "execution_count": null,
   "metadata": {},
   "outputs": [],
   "source": [
    "df_tweets.shape"
   ]
  },
  {
   "cell_type": "code",
   "execution_count": null,
   "metadata": {},
   "outputs": [],
   "source": [
    "🍿"
   ]
  },
  {
   "cell_type": "code",
   "execution_count": null,
   "metadata": {},
   "outputs": [],
   "source": [
    "def show_contains(df, column_name, str_list, lower=True):\n",
    "    for string in str_list:\n",
    "        if lower:\n",
    "            df[\"filter\"] = df[column_name].str.lower().copy()\n",
    "        if not lower:\n",
    "            df[\"filter\"] = df[column_name].copy()\n",
    "        df = df_tweets[df[\"filter\"].str.contains(string)]\n",
    "        df = df.drop([\"filter\"], axis=1).copy()\n",
    "    return df"
   ]
  },
  {
   "cell_type": "code",
   "execution_count": null,
   "metadata": {},
   "outputs": [],
   "source": [
    "str_to_show = [\"🍿\"]\n",
    "show_contains(df_tweets, column_name=\"full_text\", str_list = str_to_show, lower=False)"
   ]
  },
  {
   "cell_type": "code",
   "execution_count": null,
   "metadata": {},
   "outputs": [],
   "source": [
    "str_to_drop = [\"breaking:\"]\n",
    "df_tweets = drop_contains(df_tweets, column_name=\"full_text\", str_list = str_to_drop)\n",
    "df_tweets.shape"
   ]
  },
  {
   "cell_type": "code",
   "execution_count": null,
   "metadata": {},
   "outputs": [],
   "source": [
    "str_to_drop = [\"GOP\"]\n",
    "df_tweets = drop_contains(df_tweets, column_name=\"full_text\", str_list = str_to_drop, lower=False)\n",
    "df_tweets.shape"
   ]
  },
  {
   "cell_type": "code",
   "execution_count": null,
   "metadata": {},
   "outputs": [],
   "source": []
  },
  {
   "cell_type": "code",
   "execution_count": null,
   "metadata": {},
   "outputs": [],
   "source": [
    "string = \"breaking:\""
   ]
  },
  {
   "cell_type": "code",
   "execution_count": null,
   "metadata": {},
   "outputs": [],
   "source": [
    "df_tweets[\"lower\"] = df_tweets[\"full_text\"].str.lower().copy()\n",
    "df_tweets = df_tweets[~df_tweets[\"lower\"].str.contains(string)]\n",
    "df_tweets.drop([\"lower\"], axis=1, inplace=True)"
   ]
  },
  {
   "cell_type": "code",
   "execution_count": null,
   "metadata": {},
   "outputs": [],
   "source": [
    "df_tweets"
   ]
  },
  {
   "cell_type": "code",
   "execution_count": null,
   "metadata": {},
   "outputs": [],
   "source": [
    "df_tweets[\"full_text\"].str.lower()"
   ]
  },
  {
   "cell_type": "code",
   "execution_count": null,
   "metadata": {
    "scrolled": true
   },
   "outputs": [],
   "source": [
    "to_custom_news_feed = (\n",
    "    df_tweets[df_tweets[\"contains_news\"] == 0]\n",
    "    .sample(frac=1)\n",
    "    .reset_index(drop=True)[:1000]\n",
    ")\n",
    "to_custom_news_feed.shape"
   ]
  },
  {
   "cell_type": "code",
   "execution_count": null,
   "metadata": {},
   "outputs": [],
   "source": [
    "to_custom_news_feed"
   ]
  },
  {
   "cell_type": "code",
   "execution_count": null,
   "metadata": {},
   "outputs": [],
   "source": [
    "# to_custom_news_feed[[\"id\", \"user\"]].to_csv(\"batch_to_add.csv\")"
   ]
  },
  {
   "cell_type": "code",
   "execution_count": null,
   "metadata": {},
   "outputs": [],
   "source": []
  }
 ],
 "metadata": {
  "kernelspec": {
   "display_name": "Python 3",
   "language": "python",
   "name": "python3"
  },
  "language_info": {
   "codemirror_mode": {
    "name": "ipython",
    "version": 3
   },
   "file_extension": ".py",
   "mimetype": "text/x-python",
   "name": "python",
   "nbconvert_exporter": "python",
   "pygments_lexer": "ipython3",
   "version": "3.8.5"
  },
  "varInspector": {
   "cols": {
    "lenName": 16,
    "lenType": 16,
    "lenVar": 40
   },
   "kernels_config": {
    "python": {
     "delete_cmd_postfix": "",
     "delete_cmd_prefix": "del ",
     "library": "var_list.py",
     "varRefreshCmd": "print(var_dic_list())"
    },
    "r": {
     "delete_cmd_postfix": ") ",
     "delete_cmd_prefix": "rm(",
     "library": "var_list.r",
     "varRefreshCmd": "cat(var_dic_list()) "
    }
   },
   "position": {
    "height": "642.15px",
    "left": "1714.93px",
    "right": "20px",
    "top": "120px",
    "width": "409.067px"
   },
   "types_to_exclude": [
    "module",
    "function",
    "builtin_function_or_method",
    "instance",
    "_Feature"
   ],
   "window_display": false
  }
 },
 "nbformat": 4,
 "nbformat_minor": 4
}
