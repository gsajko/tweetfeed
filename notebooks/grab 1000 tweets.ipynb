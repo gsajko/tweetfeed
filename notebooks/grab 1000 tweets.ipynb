{
 "cells": [
  {
   "cell_type": "markdown",
   "metadata": {},
   "source": [
    "# load data"
   ]
  },
  {
   "cell_type": "code",
   "execution_count": 1,
   "metadata": {},
   "outputs": [],
   "source": [
    "import sqlite3\n",
    "import pandas as pd\n",
    "import re\n",
    "from urllib.parse import urlparse"
   ]
  },
  {
   "cell_type": "code",
   "execution_count": 2,
   "metadata": {},
   "outputs": [],
   "source": [
    "from datetime import date\n",
    "from datetime import timedelta"
   ]
  },
  {
   "cell_type": "markdown",
   "metadata": {},
   "source": [
    "## load tweets older then two weeks"
   ]
  },
  {
   "cell_type": "code",
   "execution_count": 3,
   "metadata": {},
   "outputs": [],
   "source": [
    "two_weeks_old = date.today() - timedelta(days=14)"
   ]
  },
  {
   "cell_type": "code",
   "execution_count": 4,
   "metadata": {},
   "outputs": [
    {
     "name": "stdout",
     "output_type": "stream",
     "text": [
      "SELECT id,user, full_text, created_at, lang FROM tweets WHERE created_at < '2021-01-08'\n"
     ]
    }
   ],
   "source": [
    "cnx = sqlite3.connect(\"../home.db\")\n",
    "query = f\"SELECT id,user, full_text, created_at, lang FROM tweets WHERE created_at < '{str(two_weeks_old)}'\"\n",
    "print(query)\n",
    "df_tweets = pd.read_sql_query(\n",
    "    query,\n",
    "    cnx,\n",
    ")"
   ]
  },
  {
   "cell_type": "code",
   "execution_count": 5,
   "metadata": {},
   "outputs": [
    {
     "data": {
      "text/html": [
       "<div>\n",
       "<style scoped>\n",
       "    .dataframe tbody tr th:only-of-type {\n",
       "        vertical-align: middle;\n",
       "    }\n",
       "\n",
       "    .dataframe tbody tr th {\n",
       "        vertical-align: top;\n",
       "    }\n",
       "\n",
       "    .dataframe thead th {\n",
       "        text-align: right;\n",
       "    }\n",
       "</style>\n",
       "<table border=\"1\" class=\"dataframe\">\n",
       "  <thead>\n",
       "    <tr style=\"text-align: right;\">\n",
       "      <th></th>\n",
       "      <th>id</th>\n",
       "      <th>user</th>\n",
       "      <th>full_text</th>\n",
       "      <th>created_at</th>\n",
       "      <th>lang</th>\n",
       "    </tr>\n",
       "  </thead>\n",
       "  <tbody>\n",
       "    <tr>\n",
       "      <th>40195</th>\n",
       "      <td>1347331166018277379</td>\n",
       "      <td>466880049</td>\n",
       "      <td>Bezos needs to hire Musk as a comp coach. http...</td>\n",
       "      <td>2021-01-07T23:55:56+00:00</td>\n",
       "      <td>en</td>\n",
       "    </tr>\n",
       "    <tr>\n",
       "      <th>40196</th>\n",
       "      <td>1347331537704943616</td>\n",
       "      <td>2986693873</td>\n",
       "      <td>RT @MONSTERPALOOZA1: #Artist @sazenlee  human/...</td>\n",
       "      <td>2021-01-07T23:57:25+00:00</td>\n",
       "      <td>en</td>\n",
       "    </tr>\n",
       "    <tr>\n",
       "      <th>40197</th>\n",
       "      <td>1347331740931665923</td>\n",
       "      <td>242973461</td>\n",
       "      <td>If you work for Facebook, you can in fact leav...</td>\n",
       "      <td>2021-01-07T23:58:13+00:00</td>\n",
       "      <td>en</td>\n",
       "    </tr>\n",
       "    <tr>\n",
       "      <th>40198</th>\n",
       "      <td>1347331762842599424</td>\n",
       "      <td>1051396218</td>\n",
       "      <td>Josh Hawley is the slicker demagogue we’ve bee...</td>\n",
       "      <td>2021-01-07T23:58:19+00:00</td>\n",
       "      <td>en</td>\n",
       "    </tr>\n",
       "    <tr>\n",
       "      <th>40199</th>\n",
       "      <td>1347331936147165185</td>\n",
       "      <td>492443928</td>\n",
       "      <td>It seems clear we’ve lost the plot when tape i...</td>\n",
       "      <td>2021-01-07T23:59:00+00:00</td>\n",
       "      <td>en</td>\n",
       "    </tr>\n",
       "  </tbody>\n",
       "</table>\n",
       "</div>"
      ],
      "text/plain": [
       "                        id        user  \\\n",
       "40195  1347331166018277379   466880049   \n",
       "40196  1347331537704943616  2986693873   \n",
       "40197  1347331740931665923   242973461   \n",
       "40198  1347331762842599424  1051396218   \n",
       "40199  1347331936147165185   492443928   \n",
       "\n",
       "                                               full_text  \\\n",
       "40195  Bezos needs to hire Musk as a comp coach. http...   \n",
       "40196  RT @MONSTERPALOOZA1: #Artist @sazenlee  human/...   \n",
       "40197  If you work for Facebook, you can in fact leav...   \n",
       "40198  Josh Hawley is the slicker demagogue we’ve bee...   \n",
       "40199  It seems clear we’ve lost the plot when tape i...   \n",
       "\n",
       "                      created_at lang  \n",
       "40195  2021-01-07T23:55:56+00:00   en  \n",
       "40196  2021-01-07T23:57:25+00:00   en  \n",
       "40197  2021-01-07T23:58:13+00:00   en  \n",
       "40198  2021-01-07T23:58:19+00:00   en  \n",
       "40199  2021-01-07T23:59:00+00:00   en  "
      ]
     },
     "execution_count": 5,
     "metadata": {},
     "output_type": "execute_result"
    }
   ],
   "source": [
    "df_tweets.tail()"
   ]
  },
  {
   "cell_type": "markdown",
   "metadata": {},
   "source": [
    "# utils"
   ]
  },
  {
   "cell_type": "code",
   "execution_count": 6,
   "metadata": {},
   "outputs": [],
   "source": [
    "def find_url(tweet):\n",
    "    return re.findall(r\"http\\S+\", tweet)\n",
    "\n",
    "\n",
    "def clean_links(tweet):\n",
    "    tweet = re.sub(r\"bit.ly/\\S+\", \"\", tweet)\n",
    "    tweet = re.sub(r\"t.co/\\S+\", \"\", tweet)\n",
    "    tweet = re.sub(r\"buff.ly/\\S+\", \"\", tweet)\n",
    "    tweet = re.sub(r\"twitter.com/\\S+\", \"\", tweet)\n",
    "    return tweet\n",
    "\n",
    "\n",
    "def get_domain(url):\n",
    "    domain = urlparse(url).netloc\n",
    "    dot_split = domain.split(\".\")\n",
    "    if len(dot_split) > 2:\n",
    "        return \".\".join(dot_split[1:])\n",
    "    else:\n",
    "        return domain\n",
    "\n",
    "\n",
    "def remove_empty_str(l):\n",
    "    for i in l:\n",
    "        if len(i) == 0:\n",
    "            l.remove(i)\n",
    "    return l"
   ]
  },
  {
   "cell_type": "markdown",
   "metadata": {},
   "source": [
    "# function for df"
   ]
  },
  {
   "cell_type": "code",
   "execution_count": 7,
   "metadata": {
    "code_folding": []
   },
   "outputs": [],
   "source": [
    "def find_news(df, news_domains_list):\n",
    "\n",
    "    df[\"urls\"] = df[\"full_text\"].apply(find_url)\n",
    "    df[\"urls\"] = df.urls.apply(lambda x: [clean_links(d) for d in x])\n",
    "    df[\"domains\"] = df.urls.apply(lambda x: [get_domain(d) for d in x])\n",
    "    df[\"domains\"] = df.domains.apply(remove_empty_str)\n",
    "    df.drop([\"urls\"], axis=1, inplace=True)\n",
    "\n",
    "    new_columns_list = []\n",
    "    max_nr_dom = df.domains.str.len().max()\n",
    "    for i in range(max_nr_dom):\n",
    "        new_columns_list.append(f\"domain{i+1}\")\n",
    "    df[new_columns_list] = pd.DataFrame(df.domains.tolist())\n",
    "\n",
    "    for col in new_columns_list:\n",
    "        df[col] = df[col].isin(news_domains_list)\n",
    "\n",
    "    df.drop([\"domains\"], axis=1, inplace=True)\n",
    "\n",
    "    df[\"contains_news\"] = df[new_columns_list].sum(axis=1)\n",
    "    df[\"contains_news\"] = df.contains_news.apply(lambda x: x if x == 0 else 1)\n",
    "    df.drop(new_columns_list, axis=1, inplace=True)\n",
    "\n",
    "    return df"
   ]
  },
  {
   "cell_type": "code",
   "execution_count": 8,
   "metadata": {},
   "outputs": [],
   "source": [
    "with open(\"news_domains.txt\", \"r\") as f:\n",
    "    news_domains = json.loads(f.read())"
   ]
  },
  {
   "cell_type": "code",
   "execution_count": 9,
   "metadata": {},
   "outputs": [
    {
     "name": "stdout",
     "output_type": "stream",
     "text": [
      "CPU times: user 454 ms, sys: 3.48 ms, total: 457 ms\n",
      "Wall time: 457 ms\n"
     ]
    }
   ],
   "source": [
    "%%time\n",
    "df_tweets = find_news(df_tweets, news_domains)"
   ]
  },
  {
   "cell_type": "code",
   "execution_count": 10,
   "metadata": {},
   "outputs": [
    {
     "data": {
      "text/html": [
       "<div>\n",
       "<style scoped>\n",
       "    .dataframe tbody tr th:only-of-type {\n",
       "        vertical-align: middle;\n",
       "    }\n",
       "\n",
       "    .dataframe tbody tr th {\n",
       "        vertical-align: top;\n",
       "    }\n",
       "\n",
       "    .dataframe thead th {\n",
       "        text-align: right;\n",
       "    }\n",
       "</style>\n",
       "<table border=\"1\" class=\"dataframe\">\n",
       "  <thead>\n",
       "    <tr style=\"text-align: right;\">\n",
       "      <th></th>\n",
       "      <th>id</th>\n",
       "      <th>user</th>\n",
       "      <th>full_text</th>\n",
       "      <th>created_at</th>\n",
       "      <th>lang</th>\n",
       "      <th>contains_news</th>\n",
       "    </tr>\n",
       "  </thead>\n",
       "  <tbody>\n",
       "    <tr>\n",
       "      <th>0</th>\n",
       "      <td>2627602600</td>\n",
       "      <td>21454322</td>\n",
       "      <td>Went on a USO trip to Guantanamo Bay, Cuba a f...</td>\n",
       "      <td>2009-07-14T05:15:27+00:00</td>\n",
       "      <td>en</td>\n",
       "      <td>0</td>\n",
       "    </tr>\n",
       "    <tr>\n",
       "      <th>1</th>\n",
       "      <td>70261648811761665</td>\n",
       "      <td>5416652</td>\n",
       "      <td>I wish I had kept my 1,700 BTC @ $0.06 instead...</td>\n",
       "      <td>2011-05-16T22:57:37+00:00</td>\n",
       "      <td>en</td>\n",
       "      <td>0</td>\n",
       "    </tr>\n",
       "    <tr>\n",
       "      <th>2</th>\n",
       "      <td>177008089394970624</td>\n",
       "      <td>5110861</td>\n",
       "      <td>In 1996 a man took a NZ radio station hostage,...</td>\n",
       "      <td>2012-03-06T12:29:51+00:00</td>\n",
       "      <td>en</td>\n",
       "      <td>1</td>\n",
       "    </tr>\n",
       "    <tr>\n",
       "      <th>3</th>\n",
       "      <td>234002950274560000</td>\n",
       "      <td>108471631</td>\n",
       "      <td>What is she thinking? https://twitter.com/MELA...</td>\n",
       "      <td>2012-08-10T19:07:06+00:00</td>\n",
       "      <td>en</td>\n",
       "      <td>0</td>\n",
       "    </tr>\n",
       "    <tr>\n",
       "      <th>4</th>\n",
       "      <td>281811460718477312</td>\n",
       "      <td>16298441</td>\n",
       "      <td>did you know that the bible doesn't actually c...</td>\n",
       "      <td>2012-12-20T17:21:02+00:00</td>\n",
       "      <td>en</td>\n",
       "      <td>0</td>\n",
       "    </tr>\n",
       "  </tbody>\n",
       "</table>\n",
       "</div>"
      ],
      "text/plain": [
       "                   id       user  \\\n",
       "0          2627602600   21454322   \n",
       "1   70261648811761665    5416652   \n",
       "2  177008089394970624    5110861   \n",
       "3  234002950274560000  108471631   \n",
       "4  281811460718477312   16298441   \n",
       "\n",
       "                                           full_text  \\\n",
       "0  Went on a USO trip to Guantanamo Bay, Cuba a f...   \n",
       "1  I wish I had kept my 1,700 BTC @ $0.06 instead...   \n",
       "2  In 1996 a man took a NZ radio station hostage,...   \n",
       "3  What is she thinking? https://twitter.com/MELA...   \n",
       "4  did you know that the bible doesn't actually c...   \n",
       "\n",
       "                  created_at lang  contains_news  \n",
       "0  2009-07-14T05:15:27+00:00   en              0  \n",
       "1  2011-05-16T22:57:37+00:00   en              0  \n",
       "2  2012-03-06T12:29:51+00:00   en              1  \n",
       "3  2012-08-10T19:07:06+00:00   en              0  \n",
       "4  2012-12-20T17:21:02+00:00   en              0  "
      ]
     },
     "execution_count": 10,
     "metadata": {},
     "output_type": "execute_result"
    }
   ],
   "source": [
    "df_tweets.head()"
   ]
  },
  {
   "cell_type": "markdown",
   "metadata": {},
   "source": [
    "# remove seen"
   ]
  },
  {
   "cell_type": "code",
   "execution_count": 11,
   "metadata": {
    "scrolled": true
   },
   "outputs": [],
   "source": [
    "seen_tweets = pd.read_csv(\"seen.csv\")"
   ]
  },
  {
   "cell_type": "code",
   "execution_count": 12,
   "metadata": {},
   "outputs": [
    {
     "data": {
      "text/html": [
       "<div>\n",
       "<style scoped>\n",
       "    .dataframe tbody tr th:only-of-type {\n",
       "        vertical-align: middle;\n",
       "    }\n",
       "\n",
       "    .dataframe tbody tr th {\n",
       "        vertical-align: top;\n",
       "    }\n",
       "\n",
       "    .dataframe thead th {\n",
       "        text-align: right;\n",
       "    }\n",
       "</style>\n",
       "<table border=\"1\" class=\"dataframe\">\n",
       "  <thead>\n",
       "    <tr style=\"text-align: right;\">\n",
       "      <th></th>\n",
       "      <th>tweet_id</th>\n",
       "      <th>err_reason</th>\n",
       "    </tr>\n",
       "  </thead>\n",
       "  <tbody>\n",
       "    <tr>\n",
       "      <th>0</th>\n",
       "      <td>1337875267096875015</td>\n",
       "      <td>no_errors</td>\n",
       "    </tr>\n",
       "    <tr>\n",
       "      <th>1</th>\n",
       "      <td>1335698027537969155</td>\n",
       "      <td>no_errors</td>\n",
       "    </tr>\n",
       "    <tr>\n",
       "      <th>2</th>\n",
       "      <td>1345699105385959435</td>\n",
       "      <td>not_found</td>\n",
       "    </tr>\n",
       "    <tr>\n",
       "      <th>3</th>\n",
       "      <td>1336874318882467842</td>\n",
       "      <td>no_errors</td>\n",
       "    </tr>\n",
       "    <tr>\n",
       "      <th>4</th>\n",
       "      <td>1337717825629253633</td>\n",
       "      <td>not_found</td>\n",
       "    </tr>\n",
       "  </tbody>\n",
       "</table>\n",
       "</div>"
      ],
      "text/plain": [
       "              tweet_id err_reason\n",
       "0  1337875267096875015  no_errors\n",
       "1  1335698027537969155  no_errors\n",
       "2  1345699105385959435  not_found\n",
       "3  1336874318882467842  no_errors\n",
       "4  1337717825629253633  not_found"
      ]
     },
     "execution_count": 12,
     "metadata": {},
     "output_type": "execute_result"
    }
   ],
   "source": [
    "seen_tweets.head()"
   ]
  },
  {
   "cell_type": "code",
   "execution_count": 13,
   "metadata": {},
   "outputs": [
    {
     "name": "stdout",
     "output_type": "stream",
     "text": [
      "<class 'pandas.core.frame.DataFrame'>\n",
      "RangeIndex: 2500 entries, 0 to 2499\n",
      "Data columns (total 2 columns):\n",
      " #   Column      Non-Null Count  Dtype \n",
      "---  ------      --------------  ----- \n",
      " 0   tweet_id    2500 non-null   int64 \n",
      " 1   err_reason  2500 non-null   object\n",
      "dtypes: int64(1), object(1)\n",
      "memory usage: 39.2+ KB\n"
     ]
    }
   ],
   "source": [
    "seen_tweets.info()"
   ]
  },
  {
   "cell_type": "code",
   "execution_count": 14,
   "metadata": {},
   "outputs": [],
   "source": [
    "seen_tweets.drop_duplicates(inplace=True)"
   ]
  },
  {
   "cell_type": "code",
   "execution_count": 15,
   "metadata": {},
   "outputs": [
    {
     "data": {
      "text/plain": [
       "(2500, 6)"
      ]
     },
     "execution_count": 15,
     "metadata": {},
     "output_type": "execute_result"
    }
   ],
   "source": [
    "df_tweets[df_tweets[\"id\"].isin(seen_tweets[\"tweet_id\"].tolist())].shape"
   ]
  },
  {
   "cell_type": "code",
   "execution_count": 16,
   "metadata": {},
   "outputs": [
    {
     "name": "stdout",
     "output_type": "stream",
     "text": [
      "(40200, 6)\n",
      "CPU times: user 7.94 ms, sys: 405 µs, total: 8.35 ms\n",
      "Wall time: 10.9 ms\n"
     ]
    }
   ],
   "source": [
    "%%time\n",
    "print(df_tweets.shape)\n",
    "df_tweets = df_tweets[~df_tweets[\"id\"].isin(seen_tweets[\"tweet_id\"].tolist())]"
   ]
  },
  {
   "cell_type": "code",
   "execution_count": 17,
   "metadata": {},
   "outputs": [],
   "source": [
    "# fiter out non english tweets"
   ]
  },
  {
   "cell_type": "code",
   "execution_count": 18,
   "metadata": {},
   "outputs": [
    {
     "data": {
      "text/plain": [
       "(37700, 6)"
      ]
     },
     "execution_count": 18,
     "metadata": {},
     "output_type": "execute_result"
    }
   ],
   "source": [
    "df_tweets.shape"
   ]
  },
  {
   "cell_type": "code",
   "execution_count": 19,
   "metadata": {},
   "outputs": [
    {
     "data": {
      "text/plain": [
       "(34579, 6)"
      ]
     },
     "execution_count": 19,
     "metadata": {},
     "output_type": "execute_result"
    }
   ],
   "source": [
    "df_tweets = df_tweets[df_tweets[\"lang\"] == \"en\"]\n",
    "df_tweets.shape"
   ]
  },
  {
   "cell_type": "markdown",
   "metadata": {},
   "source": [
    "# suffle them and filter out news"
   ]
  },
  {
   "cell_type": "code",
   "execution_count": 20,
   "metadata": {},
   "outputs": [
    {
     "data": {
      "text/plain": [
       "(32910, 6)"
      ]
     },
     "execution_count": 20,
     "metadata": {},
     "output_type": "execute_result"
    }
   ],
   "source": [
    "df_tweets[df_tweets[\"contains_news\"] == 0].shape"
   ]
  },
  {
   "cell_type": "code",
   "execution_count": 21,
   "metadata": {
    "scrolled": true
   },
   "outputs": [
    {
     "data": {
      "text/plain": [
       "(1000, 6)"
      ]
     },
     "execution_count": 21,
     "metadata": {},
     "output_type": "execute_result"
    }
   ],
   "source": [
    "to_custom_news_feed = (\n",
    "    df_tweets[df_tweets[\"contains_news\"] == 0]\n",
    "    .sample(frac=1)\n",
    "    .reset_index(drop=True)[:1000]\n",
    ")\n",
    "to_custom_news_feed.shape"
   ]
  },
  {
   "cell_type": "code",
   "execution_count": 22,
   "metadata": {},
   "outputs": [
    {
     "data": {
      "text/html": [
       "<div>\n",
       "<style scoped>\n",
       "    .dataframe tbody tr th:only-of-type {\n",
       "        vertical-align: middle;\n",
       "    }\n",
       "\n",
       "    .dataframe tbody tr th {\n",
       "        vertical-align: top;\n",
       "    }\n",
       "\n",
       "    .dataframe thead th {\n",
       "        text-align: right;\n",
       "    }\n",
       "</style>\n",
       "<table border=\"1\" class=\"dataframe\">\n",
       "  <thead>\n",
       "    <tr style=\"text-align: right;\">\n",
       "      <th></th>\n",
       "      <th>id</th>\n",
       "      <th>user</th>\n",
       "      <th>full_text</th>\n",
       "      <th>created_at</th>\n",
       "      <th>lang</th>\n",
       "      <th>contains_news</th>\n",
       "    </tr>\n",
       "  </thead>\n",
       "  <tbody>\n",
       "    <tr>\n",
       "      <th>0</th>\n",
       "      <td>1337305449041838080</td>\n",
       "      <td>13502732</td>\n",
       "      <td>this is the second VHS I've watched in two day...</td>\n",
       "      <td>2020-12-11T07:57:19+00:00</td>\n",
       "      <td>en</td>\n",
       "      <td>0</td>\n",
       "    </tr>\n",
       "    <tr>\n",
       "      <th>1</th>\n",
       "      <td>1343662653395234816</td>\n",
       "      <td>15534471</td>\n",
       "      <td>🆕 blog post: Maximally optimizing image loadin...</td>\n",
       "      <td>2020-12-28T20:58:35+00:00</td>\n",
       "      <td>en</td>\n",
       "      <td>0</td>\n",
       "    </tr>\n",
       "    <tr>\n",
       "      <th>2</th>\n",
       "      <td>1336361683791478784</td>\n",
       "      <td>97114171</td>\n",
       "      <td>And of course here's its better logo. https://...</td>\n",
       "      <td>2020-12-08T17:27:08+00:00</td>\n",
       "      <td>en</td>\n",
       "      <td>0</td>\n",
       "    </tr>\n",
       "    <tr>\n",
       "      <th>3</th>\n",
       "      <td>1345211663725674496</td>\n",
       "      <td>13502732</td>\n",
       "      <td>DO I LOOK LIKE I KNOW WHAT IRQ THIS USES? http...</td>\n",
       "      <td>2021-01-02T03:33:48+00:00</td>\n",
       "      <td>en</td>\n",
       "      <td>0</td>\n",
       "    </tr>\n",
       "    <tr>\n",
       "      <th>4</th>\n",
       "      <td>1346079884083408897</td>\n",
       "      <td>778952476565368832</td>\n",
       "      <td>RT @deonteleologist: Cusset on Left dissolutio...</td>\n",
       "      <td>2021-01-04T13:03:47+00:00</td>\n",
       "      <td>en</td>\n",
       "      <td>0</td>\n",
       "    </tr>\n",
       "    <tr>\n",
       "      <th>...</th>\n",
       "      <td>...</td>\n",
       "      <td>...</td>\n",
       "      <td>...</td>\n",
       "      <td>...</td>\n",
       "      <td>...</td>\n",
       "      <td>...</td>\n",
       "    </tr>\n",
       "    <tr>\n",
       "      <th>995</th>\n",
       "      <td>1339586879218352134</td>\n",
       "      <td>15919116</td>\n",
       "      <td>In less than one hour, join us for the annual ...</td>\n",
       "      <td>2020-12-17T15:02:54+00:00</td>\n",
       "      <td>en</td>\n",
       "      <td>0</td>\n",
       "    </tr>\n",
       "    <tr>\n",
       "      <th>996</th>\n",
       "      <td>1345111654544117760</td>\n",
       "      <td>47126544</td>\n",
       "      <td>Two books to start the year with :-) https://t...</td>\n",
       "      <td>2021-01-01T20:56:24+00:00</td>\n",
       "      <td>en</td>\n",
       "      <td>0</td>\n",
       "    </tr>\n",
       "    <tr>\n",
       "      <th>997</th>\n",
       "      <td>1341089861919358976</td>\n",
       "      <td>13502732</td>\n",
       "      <td>People are spreading this virus because they h...</td>\n",
       "      <td>2020-12-21T18:35:13+00:00</td>\n",
       "      <td>en</td>\n",
       "      <td>0</td>\n",
       "    </tr>\n",
       "    <tr>\n",
       "      <th>998</th>\n",
       "      <td>1336051519238664195</td>\n",
       "      <td>1528558014</td>\n",
       "      <td>Not many as thoughtful as Dennis. A great oppo...</td>\n",
       "      <td>2020-12-07T20:54:39+00:00</td>\n",
       "      <td>en</td>\n",
       "      <td>0</td>\n",
       "    </tr>\n",
       "    <tr>\n",
       "      <th>999</th>\n",
       "      <td>1343120248501751808</td>\n",
       "      <td>13502732</td>\n",
       "      <td>There's like a 75% chance SCSI is actually a d...</td>\n",
       "      <td>2020-12-27T09:03:15+00:00</td>\n",
       "      <td>en</td>\n",
       "      <td>0</td>\n",
       "    </tr>\n",
       "  </tbody>\n",
       "</table>\n",
       "<p>1000 rows × 6 columns</p>\n",
       "</div>"
      ],
      "text/plain": [
       "                      id                user  \\\n",
       "0    1337305449041838080            13502732   \n",
       "1    1343662653395234816            15534471   \n",
       "2    1336361683791478784            97114171   \n",
       "3    1345211663725674496            13502732   \n",
       "4    1346079884083408897  778952476565368832   \n",
       "..                   ...                 ...   \n",
       "995  1339586879218352134            15919116   \n",
       "996  1345111654544117760            47126544   \n",
       "997  1341089861919358976            13502732   \n",
       "998  1336051519238664195          1528558014   \n",
       "999  1343120248501751808            13502732   \n",
       "\n",
       "                                             full_text  \\\n",
       "0    this is the second VHS I've watched in two day...   \n",
       "1    🆕 blog post: Maximally optimizing image loadin...   \n",
       "2    And of course here's its better logo. https://...   \n",
       "3    DO I LOOK LIKE I KNOW WHAT IRQ THIS USES? http...   \n",
       "4    RT @deonteleologist: Cusset on Left dissolutio...   \n",
       "..                                                 ...   \n",
       "995  In less than one hour, join us for the annual ...   \n",
       "996  Two books to start the year with :-) https://t...   \n",
       "997  People are spreading this virus because they h...   \n",
       "998  Not many as thoughtful as Dennis. A great oppo...   \n",
       "999  There's like a 75% chance SCSI is actually a d...   \n",
       "\n",
       "                    created_at lang  contains_news  \n",
       "0    2020-12-11T07:57:19+00:00   en              0  \n",
       "1    2020-12-28T20:58:35+00:00   en              0  \n",
       "2    2020-12-08T17:27:08+00:00   en              0  \n",
       "3    2021-01-02T03:33:48+00:00   en              0  \n",
       "4    2021-01-04T13:03:47+00:00   en              0  \n",
       "..                         ...  ...            ...  \n",
       "995  2020-12-17T15:02:54+00:00   en              0  \n",
       "996  2021-01-01T20:56:24+00:00   en              0  \n",
       "997  2020-12-21T18:35:13+00:00   en              0  \n",
       "998  2020-12-07T20:54:39+00:00   en              0  \n",
       "999  2020-12-27T09:03:15+00:00   en              0  \n",
       "\n",
       "[1000 rows x 6 columns]"
      ]
     },
     "execution_count": 22,
     "metadata": {},
     "output_type": "execute_result"
    }
   ],
   "source": [
    "to_custom_news_feed"
   ]
  },
  {
   "cell_type": "code",
   "execution_count": 23,
   "metadata": {},
   "outputs": [],
   "source": [
    "# to_custom_news_feed[[\"id\", \"user\"]].to_csv(\"batch_to_add.csv\")"
   ]
  },
  {
   "cell_type": "code",
   "execution_count": null,
   "metadata": {},
   "outputs": [],
   "source": []
  }
 ],
 "metadata": {
  "kernelspec": {
   "display_name": "Python 3",
   "language": "python",
   "name": "python3"
  },
  "language_info": {
   "codemirror_mode": {
    "name": "ipython",
    "version": 3
   },
   "file_extension": ".py",
   "mimetype": "text/x-python",
   "name": "python",
   "nbconvert_exporter": "python",
   "pygments_lexer": "ipython3",
   "version": "3.8.5"
  },
  "varInspector": {
   "cols": {
    "lenName": 16,
    "lenType": 16,
    "lenVar": 40
   },
   "kernels_config": {
    "python": {
     "delete_cmd_postfix": "",
     "delete_cmd_prefix": "del ",
     "library": "var_list.py",
     "varRefreshCmd": "print(var_dic_list())"
    },
    "r": {
     "delete_cmd_postfix": ") ",
     "delete_cmd_prefix": "rm(",
     "library": "var_list.r",
     "varRefreshCmd": "cat(var_dic_list()) "
    }
   },
   "types_to_exclude": [
    "module",
    "function",
    "builtin_function_or_method",
    "instance",
    "_Feature"
   ],
   "window_display": false
  }
 },
 "nbformat": 4,
 "nbformat_minor": 4
}
