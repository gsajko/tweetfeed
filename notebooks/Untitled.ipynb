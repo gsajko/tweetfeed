{
 "cells": [
  {
   "cell_type": "code",
   "execution_count": 19,
   "metadata": {},
   "outputs": [],
   "source": [
    "def auth(auth):\n",
    "    \"Save authentication credentials to a JSON file\"\n",
    "    api_key = \"1\"\n",
    "    api_secret_key = \"2\"\n",
    "    access_token = \"3\"\n",
    "    access_token_secret = \"4\"\n",
    "    open(auth, \"w\").write(\n",
    "        json.dumps(\n",
    "            {\n",
    "                \"api_key\": api_key,\n",
    "                \"api_secret_key\": api_secret_key,\n",
    "                \"access_token\": access_token,\n",
    "                \"access_token_secret\": access_token_secret,\n",
    "            },\n",
    "        )\n",
    "    )"
   ]
  },
  {
   "cell_type": "code",
   "execution_count": 20,
   "metadata": {},
   "outputs": [],
   "source": [
    "auth(\"auth.json\")"
   ]
  },
  {
   "cell_type": "code",
   "execution_count": 16,
   "metadata": {},
   "outputs": [
    {
     "name": "stdout",
     "output_type": "stream",
     "text": [
      "'auth and get friends.ipynb'  'hud queries.ipynb'   \u001b[0m\u001b[01;34m__pycache__\u001b[0m/\r\n",
      " auth.json                     __init__.py         'save profile.ipynb'\r\n",
      " db.ipynb                      old_db.py            Untitled.ipynb\r\n",
      " db.py                         old_utils.py\r\n",
      " dbsw.py                       plan.md\r\n"
     ]
    }
   ],
   "source": [
    "ls"
   ]
  },
  {
   "cell_type": "markdown",
   "metadata": {},
   "source": [
    "## Retrieving tweets by specific accounts"
   ]
  },
  {
   "cell_type": "markdown",
   "metadata": {},
   "source": [
    "`twitter-to-sqlite user-timeline twitter.db`"
   ]
  },
  {
   "cell_type": "code",
   "execution_count": 21,
   "metadata": {},
   "outputs": [],
   "source": [
    "import datetime\n",
    "import hashlib\n",
    "import json\n",
    "import os\n",
    "import pathlib\n",
    "import time\n",
    "\n",
    "import click\n",
    "\n",
    "from twitter_to_sqlite import archive\n",
    "from twitter_to_sqlite import utils"
   ]
  },
  {
   "cell_type": "code",
   "execution_count": 23,
   "metadata": {},
   "outputs": [],
   "source": [
    "from twitter_to_sqlite import cli"
   ]
  },
  {
   "cell_type": "code",
   "execution_count": null,
   "metadata": {},
   "outputs": [],
   "source": [
    "auth = json.load(open(auth))\n",
    "session = utils.session_for_auth(auth)\n",
    "db = utils.open_database(db_path)\n",
    "identifiers = utils.resolve_identifiers(db, identifiers, attach, sql)"
   ]
  },
  {
   "attachments": {
    "image.png": {
     "image/png": "[encoded data removed]"
    }
   },
   "cell_type": "markdown",
   "metadata": {},
   "source": [
    "![image.png](attachment:image.png)"
   ]
  },
  {
   "cell_type": "code",
   "execution_count": 43,
   "metadata": {},
   "outputs": [],
   "source": [
    "db_path=\"twitter.db\"\n",
    "auth=\"../auth/auth.json\""
   ]
  },
  {
   "cell_type": "code",
   "execution_count": 47,
   "metadata": {
    "scrolled": false
   },
   "outputs": [
    {
     "ename": "BadParameter",
     "evalue": "Missing required positionalparameter 'identifiers'",
     "output_type": "error",
     "traceback": [
      "\u001b[0;31m---------------------------------------------------------------------------\u001b[0m",
      "\u001b[0;31mBadParameter\u001b[0m                              Traceback (most recent call last)",
      "\u001b[0;32m<ipython-input-47-efa23d36f8c8>\u001b[0m in \u001b[0;36m<module>\u001b[0;34m\u001b[0m\n\u001b[0;32m----> 1\u001b[0;31m \u001b[0mcall_click_command\u001b[0m\u001b[0;34m(\u001b[0m\u001b[0mcli\u001b[0m\u001b[0;34m.\u001b[0m\u001b[0muser_timeline\u001b[0m\u001b[0;34m,\u001b[0m \u001b[0;34m[\u001b[0m\u001b[0mdb_path\u001b[0m\u001b[0;34m,\u001b[0m \u001b[0mauth\u001b[0m\u001b[0;34m]\u001b[0m\u001b[0;34m)\u001b[0m\u001b[0;34m\u001b[0m\u001b[0;34m\u001b[0m\u001b[0m\n\u001b[0m",
      "\u001b[0;32m<ipython-input-36-d3c6cd1eaaf2>\u001b[0m in \u001b[0;36mcall_click_command\u001b[0;34m(cmd, *args, **kwargs)\u001b[0m\n\u001b[1;32m     27\u001b[0m     \u001b[0;32mfor\u001b[0m \u001b[0marg\u001b[0m \u001b[0;32min\u001b[0m \u001b[0;34m(\u001b[0m\u001b[0ma\u001b[0m \u001b[0;32mfor\u001b[0m \u001b[0ma\u001b[0m \u001b[0;32min\u001b[0m \u001b[0mcmd\u001b[0m\u001b[0;34m.\u001b[0m\u001b[0mparams\u001b[0m \u001b[0;32mif\u001b[0m \u001b[0misinstance\u001b[0m\u001b[0;34m(\u001b[0m\u001b[0ma\u001b[0m\u001b[0;34m,\u001b[0m \u001b[0mclick\u001b[0m\u001b[0;34m.\u001b[0m\u001b[0mArgument\u001b[0m\u001b[0;34m)\u001b[0m\u001b[0;34m)\u001b[0m\u001b[0;34m:\u001b[0m\u001b[0;34m\u001b[0m\u001b[0;34m\u001b[0m\u001b[0m\n\u001b[1;32m     28\u001b[0m         \u001b[0;32mif\u001b[0m \u001b[0marg\u001b[0m\u001b[0;34m.\u001b[0m\u001b[0mname\u001b[0m \u001b[0;32mnot\u001b[0m \u001b[0;32min\u001b[0m \u001b[0marg_values\u001b[0m\u001b[0;34m:\u001b[0m\u001b[0;34m\u001b[0m\u001b[0;34m\u001b[0m\u001b[0m\n\u001b[0;32m---> 29\u001b[0;31m             raise click.BadParameter(\n\u001b[0m\u001b[1;32m     30\u001b[0m                 \u001b[0;34m\"Missing required positional\"\u001b[0m \u001b[0;34m\"parameter '{}'\"\u001b[0m\u001b[0;34m.\u001b[0m\u001b[0mformat\u001b[0m\u001b[0;34m(\u001b[0m\u001b[0marg\u001b[0m\u001b[0;34m.\u001b[0m\u001b[0mname\u001b[0m\u001b[0;34m)\u001b[0m\u001b[0;34m\u001b[0m\u001b[0;34m\u001b[0m\u001b[0m\n\u001b[1;32m     31\u001b[0m             )\n",
      "\u001b[0;31mBadParameter\u001b[0m: Missing required positionalparameter 'identifiers'"
     ]
    }
   ],
   "source": [
    "call_click_command(cli.user_timeline, [db_path, auth])"
   ]
  },
  {
   "cell_type": "code",
   "execution_count": 50,
   "metadata": {},
   "outputs": [
    {
     "data": {
      "text/plain": [
       "<Database <sqlite3.Connection object at 0x7fbbce998e40>>"
      ]
     },
     "execution_count": 50,
     "metadata": {},
     "output_type": "execute_result"
    }
   ],
   "source": [
    "db"
   ]
  },
  {
   "cell_type": "code",
   "execution_count": null,
   "metadata": {},
   "outputs": [],
   "source": [
    "auth = json.load(open(auth))\n",
    "session = utils.session_for_auth(auth)\n",
    "db = utils.open_database(db_path)"
   ]
  },
  {
   "cell_type": "code",
   "execution_count": null,
   "metadata": {},
   "outputs": [],
   "source": []
  },
  {
   "cell_type": "code",
   "execution_count": 51,
   "metadata": {},
   "outputs": [
    {
     "ename": "TypeError",
     "evalue": "resolve_identifiers() missing 3 required positional arguments: 'identifiers', 'attach', and 'sql'",
     "output_type": "error",
     "traceback": [
      "\u001b[0;31m---------------------------------------------------------------------------\u001b[0m",
      "\u001b[0;31mTypeError\u001b[0m                                 Traceback (most recent call last)",
      "\u001b[0;32m<ipython-input-51-78e6687befa6>\u001b[0m in \u001b[0;36m<module>\u001b[0;34m\u001b[0m\n\u001b[0;32m----> 1\u001b[0;31m \u001b[0midentifiers\u001b[0m \u001b[0;34m=\u001b[0m \u001b[0mutils\u001b[0m\u001b[0;34m.\u001b[0m\u001b[0mresolve_identifiers\u001b[0m\u001b[0;34m(\u001b[0m\u001b[0mdb\u001b[0m\u001b[0;34m)\u001b[0m\u001b[0;34m\u001b[0m\u001b[0;34m\u001b[0m\u001b[0m\n\u001b[0m",
      "\u001b[0;31mTypeError\u001b[0m: resolve_identifiers() missing 3 required positional arguments: 'identifiers', 'attach', and 'sql'"
     ]
    }
   ],
   "source": [
    "identifiers = utils.resolve_identifiers(db, identifiers, attach, sql)"
   ]
  },
  {
   "cell_type": "code",
   "execution_count": 36,
   "metadata": {},
   "outputs": [],
   "source": [
    "def call_click_command(cmd, *args, **kwargs):\n",
    "    \"\"\"Wrapper to call a click command\n",
    "\n",
    "    :param cmd: click cli command function to call\n",
    "    :param args: arguments to pass to the function\n",
    "    :param kwargs: keywrod arguments to pass to the function\n",
    "    :return: None\n",
    "    \"\"\"\n",
    "\n",
    "    # Get positional arguments from args\n",
    "    arg_values = {c.name: a for a, c in zip(args, cmd.params)}\n",
    "    args_needed = {c.name: c for c in cmd.params if c.name not in arg_values}\n",
    "\n",
    "    # build and check opts list from kwargs\n",
    "    opts = {a.name: a for a in cmd.params if isinstance(a, click.Option)}\n",
    "    for name in kwargs:\n",
    "        if name in opts:\n",
    "            arg_values[name] = kwargs[name]\n",
    "        else:\n",
    "            if name in args_needed:\n",
    "                arg_values[name] = kwargs[name]\n",
    "                del args_needed[name]\n",
    "            else:\n",
    "                raise click.BadParameter(\"Unknown keyword argument '{}'\".format(name))\n",
    "\n",
    "    # check positional arguments list\n",
    "    for arg in (a for a in cmd.params if isinstance(a, click.Argument)):\n",
    "        if arg.name not in arg_values:\n",
    "            raise click.BadParameter(\n",
    "                \"Missing required positional\" \"parameter '{}'\".format(arg.name)\n",
    "            )\n",
    "\n",
    "    # build parameter lists\n",
    "    opts_list = sum([[o.opts[0], str(arg_values[n])] for n, o in opts.items()], [])\n",
    "    args_list = [str(v) for n, v in arg_values.items() if n not in opts]\n",
    "\n",
    "    # call the command\n",
    "    cmd(opts_list + args_list)"
   ]
  },
  {
   "cell_type": "code",
   "execution_count": null,
   "metadata": {},
   "outputs": [],
   "source": []
  }
 ],
 "metadata": {
  "kernelspec": {
   "display_name": "Python 3",
   "language": "python",
   "name": "python3"
  },
  "language_info": {
   "codemirror_mode": {
    "name": "ipython",
    "version": 3
   },
   "file_extension": ".py",
   "mimetype": "text/x-python",
   "name": "python",
   "nbconvert_exporter": "python",
   "pygments_lexer": "ipython3",
   "version": "3.8.5"
  },
  "varInspector": {
   "cols": {
    "lenName": 16,
    "lenType": 16,
    "lenVar": 40
   },
   "kernels_config": {
    "python": {
     "delete_cmd_postfix": "",
     "delete_cmd_prefix": "del ",
     "library": "var_list.py",
     "varRefreshCmd": "print(var_dic_list())"
    },
    "r": {
     "delete_cmd_postfix": ") ",
     "delete_cmd_prefix": "rm(",
     "library": "var_list.r",
     "varRefreshCmd": "cat(var_dic_list()) "
    }
   },
   "types_to_exclude": [
    "module",
    "function",
    "builtin_function_or_method",
    "instance",
    "_Feature"
   ],
   "window_display": false
  }
 },
 "nbformat": 4,
 "nbformat_minor": 4
}
