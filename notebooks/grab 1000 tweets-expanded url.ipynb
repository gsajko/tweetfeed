{
 "cells": [
  {
   "cell_type": "markdown",
   "metadata": {},
   "source": [
    "# load data"
   ]
  },
  {
   "cell_type": "code",
   "execution_count": 9,
   "metadata": {},
   "outputs": [],
   "source": [
    "import json\n",
    "import sqlite3\n",
    "import pandas as pd\n",
    "import re\n",
    "from urllib.parse import urlparse\n",
    "import requests"
   ]
  },
  {
   "cell_type": "code",
   "execution_count": 10,
   "metadata": {},
   "outputs": [],
   "source": [
    "from datetime import date\n",
    "from datetime import timedelta"
   ]
  },
  {
   "cell_type": "markdown",
   "metadata": {},
   "source": [
    "## load tweets older then two weeks"
   ]
  },
  {
   "cell_type": "code",
   "execution_count": 11,
   "metadata": {},
   "outputs": [],
   "source": [
    "import os\n",
    "import sys\n",
    "module_path = os.path.abspath(os.path.join('..'))\n",
    "if module_path not in sys.path:\n",
    "    sys.path.append(module_path+\"/src\")\n",
    "    \n",
    "from pipeline_functions import load_tweets\n"
   ]
  },
  {
   "cell_type": "code",
   "execution_count": 12,
   "metadata": {},
   "outputs": [],
   "source": [
    "df_tweets = load_tweets(\"../home.db\", days=0)\n",
    "df_tweets = df_tweets[df_tweets.retweeted_status == \"N/A\"] # remove RT"
   ]
  },
  {
   "cell_type": "markdown",
   "metadata": {},
   "source": [
    "# utils"
   ]
  },
  {
   "cell_type": "code",
   "execution_count": 13,
   "metadata": {},
   "outputs": [
    {
     "data": {
      "text/html": [
       "<div>\n",
       "<style scoped>\n",
       "    .dataframe tbody tr th:only-of-type {\n",
       "        vertical-align: middle;\n",
       "    }\n",
       "\n",
       "    .dataframe tbody tr th {\n",
       "        vertical-align: top;\n",
       "    }\n",
       "\n",
       "    .dataframe thead th {\n",
       "        text-align: right;\n",
       "    }\n",
       "</style>\n",
       "<table border=\"1\" class=\"dataframe\">\n",
       "  <thead>\n",
       "    <tr style=\"text-align: right;\">\n",
       "      <th></th>\n",
       "      <th>id</th>\n",
       "      <th>user</th>\n",
       "      <th>full_text</th>\n",
       "      <th>created_at</th>\n",
       "      <th>lang</th>\n",
       "      <th>retweeted_status</th>\n",
       "      <th>quoted_status</th>\n",
       "      <th>is_quote_status</th>\n",
       "      <th>in_reply_to_status_id</th>\n",
       "    </tr>\n",
       "  </thead>\n",
       "  <tbody>\n",
       "    <tr>\n",
       "      <th>86014</th>\n",
       "      <td>1358203060363870209</td>\n",
       "      <td>2660596250</td>\n",
       "      <td>Joint Faculty Position at NYU (Center for Neur...</td>\n",
       "      <td>2021-02-06T23:56:58+00:00</td>\n",
       "      <td>en</td>\n",
       "      <td>N/A</td>\n",
       "      <td>N/A</td>\n",
       "      <td>0</td>\n",
       "      <td>N/A</td>\n",
       "    </tr>\n",
       "    <tr>\n",
       "      <th>86015</th>\n",
       "      <td>1358203122045263873</td>\n",
       "      <td>2324423269</td>\n",
       "      <td>Reviewer #3 is unimpressed https://twitter.com...</td>\n",
       "      <td>2021-02-06T23:57:13+00:00</td>\n",
       "      <td>en</td>\n",
       "      <td>N/A</td>\n",
       "      <td>N/A</td>\n",
       "      <td>0</td>\n",
       "      <td>N/A</td>\n",
       "    </tr>\n",
       "    <tr>\n",
       "      <th>86016</th>\n",
       "      <td>1358203205541376000</td>\n",
       "      <td>6035812</td>\n",
       "      <td>ELABORATION IS A FORM OF POLLUTION #BarbaraHol...</td>\n",
       "      <td>2021-02-06T23:57:33+00:00</td>\n",
       "      <td>en</td>\n",
       "      <td>N/A</td>\n",
       "      <td>N/A</td>\n",
       "      <td>0</td>\n",
       "      <td>N/A</td>\n",
       "    </tr>\n",
       "    <tr>\n",
       "      <th>86017</th>\n",
       "      <td>1358203534714413056</td>\n",
       "      <td>19734656</td>\n",
       "      <td>@PGSchuermann “From standpoint of learning,  k...</td>\n",
       "      <td>2021-02-06T23:58:51+00:00</td>\n",
       "      <td>en</td>\n",
       "      <td>N/A</td>\n",
       "      <td>N/A</td>\n",
       "      <td>0</td>\n",
       "      <td>1358202579008724992</td>\n",
       "    </tr>\n",
       "    <tr>\n",
       "      <th>86018</th>\n",
       "      <td>1358203606806241280</td>\n",
       "      <td>331639736</td>\n",
       "      <td>pet rat says hi https://twitter.com/rishmishra...</td>\n",
       "      <td>2021-02-06T23:59:08+00:00</td>\n",
       "      <td>en</td>\n",
       "      <td>N/A</td>\n",
       "      <td>N/A</td>\n",
       "      <td>0</td>\n",
       "      <td>N/A</td>\n",
       "    </tr>\n",
       "  </tbody>\n",
       "</table>\n",
       "</div>"
      ],
      "text/plain": [
       "                        id        user  \\\n",
       "86014  1358203060363870209  2660596250   \n",
       "86015  1358203122045263873  2324423269   \n",
       "86016  1358203205541376000     6035812   \n",
       "86017  1358203534714413056    19734656   \n",
       "86018  1358203606806241280   331639736   \n",
       "\n",
       "                                               full_text  \\\n",
       "86014  Joint Faculty Position at NYU (Center for Neur...   \n",
       "86015  Reviewer #3 is unimpressed https://twitter.com...   \n",
       "86016  ELABORATION IS A FORM OF POLLUTION #BarbaraHol...   \n",
       "86017  @PGSchuermann “From standpoint of learning,  k...   \n",
       "86018  pet rat says hi https://twitter.com/rishmishra...   \n",
       "\n",
       "                      created_at lang retweeted_status quoted_status  \\\n",
       "86014  2021-02-06T23:56:58+00:00   en              N/A           N/A   \n",
       "86015  2021-02-06T23:57:13+00:00   en              N/A           N/A   \n",
       "86016  2021-02-06T23:57:33+00:00   en              N/A           N/A   \n",
       "86017  2021-02-06T23:58:51+00:00   en              N/A           N/A   \n",
       "86018  2021-02-06T23:59:08+00:00   en              N/A           N/A   \n",
       "\n",
       "       is_quote_status in_reply_to_status_id  \n",
       "86014                0                   N/A  \n",
       "86015                0                   N/A  \n",
       "86016                0                   N/A  \n",
       "86017                0   1358202579008724992  \n",
       "86018                0                   N/A  "
      ]
     },
     "execution_count": 13,
     "metadata": {},
     "output_type": "execute_result"
    }
   ],
   "source": [
    "df_tweets.tail()"
   ]
  },
  {
   "cell_type": "code",
   "execution_count": 14,
   "metadata": {},
   "outputs": [
    {
     "name": "stdout",
     "output_type": "stream",
     "text": [
      "Why Are Some Organic Farmers Turning to Reactionary Politics? - The Farm Worker Bulletin\n"
     ]
    }
   ],
   "source": [
    "from requests_html import HTMLSession\n",
    "url = \"https://lukecarneal.substack.com/p/why-are-some-organic-farmers-turning\"\n",
    "print(HTMLSession().get(url).html.find('title', first=True).text)"
   ]
  },
  {
   "cell_type": "code",
   "execution_count": 15,
   "metadata": {},
   "outputs": [],
   "source": [
    "def grab_title(url):\n",
    "    try:\n",
    "        title = HTMLSession().get(url).html.find('title', first=True).text\n",
    "        return title\n",
    "    except Exception as ex:\n",
    "        return 0"
   ]
  },
  {
   "cell_type": "code",
   "execution_count": 16,
   "metadata": {},
   "outputs": [
    {
     "data": {
      "text/plain": [
       "0"
      ]
     },
     "execution_count": 16,
     "metadata": {},
     "output_type": "execute_result"
    }
   ],
   "source": [
    "url = \"https://buff.ly/2T4jips\"\n",
    "grab_title(url)"
   ]
  },
  {
   "cell_type": "code",
   "execution_count": 17,
   "metadata": {},
   "outputs": [],
   "source": [
    "# może da się to użyć z pandas i będzie szybość?"
   ]
  },
  {
   "cell_type": "code",
   "execution_count": 18,
   "metadata": {},
   "outputs": [],
   "source": [
    "def expand_link(url):\n",
    "    if url in [\"https://\", \"http://\"]:\n",
    "        return url\n",
    "    else:\n",
    "        try:\n",
    "            session = requests.Session()\n",
    "            resp = session.head(url, allow_redirects=True)\n",
    "            long_url = resp.url\n",
    "            return long_url\n",
    "        except Exception as ex:\n",
    "            return url"
   ]
  },
  {
   "cell_type": "code",
   "execution_count": 19,
   "metadata": {},
   "outputs": [],
   "source": [
    "from pipeline_functions import remove_tw_urls, find_url, get_domain, remove_empty_str\n",
    "def find_news(df, news_domains_list):\n",
    "    df[\"clean_text\"] = df[\"full_text\"].apply(remove_tw_urls)\n",
    "    df[\"urls\"] = df[\"clean_text\"].apply(find_url)\n",
    "    df.drop([\"clean_text\"], axis=1, inplace=True)\n",
    "#     df[\"urls\"] = df.urls.apply(lambda x: [clean_links(d) for d in x])\n",
    "    df[\"domains\"] = df.urls.apply(lambda x: [get_domain(d) for d in x])\n",
    "    df[\"domains\"] = df.domains.apply(remove_empty_str)\n",
    "#     df.drop([\"urls\"], axis=1, inplace=True)\n",
    "\n",
    "    new_columns_list = []\n",
    "    max_nr_dom = df.domains.str.len().max()\n",
    "    for i in range(max_nr_dom):\n",
    "        new_columns_list.append(f\"domain{i+1}\")\n",
    "    df[new_columns_list] = pd.DataFrame(df.domains.tolist())\n",
    "\n",
    "    for col in new_columns_list:\n",
    "        df[col] = df[col].isin(news_domains_list)\n",
    "\n",
    "#     df.drop([\"domains\"], axis=1, inplace=True)\n",
    "\n",
    "    df[\"contains_news\"] = df[new_columns_list].sum(axis=1)\n",
    "    df[\"contains_news\"] = df.contains_news.apply(lambda x: x if x == 0 else 1)\n",
    "    df.drop(new_columns_list, axis=1, inplace=True)\n",
    "\n",
    "    return df"
   ]
  },
  {
   "cell_type": "code",
   "execution_count": 20,
   "metadata": {
    "code_folding": [
     0
    ]
   },
   "outputs": [],
   "source": [
    "def drop_contains(df, column_name, word_list):\n",
    "    for string in word_list:\n",
    "        df[\"lower\"] = df[\"full_text\"].str.lower()\n",
    "        df = df[df[\"lower\"].str.contains(string)]\n",
    "        df.drop([\"lower\"], axis=1, inplace=True)\n",
    "    return df"
   ]
  },
  {
   "cell_type": "markdown",
   "metadata": {},
   "source": [
    "# searching for not-expanded news urls"
   ]
  },
  {
   "cell_type": "code",
   "execution_count": 21,
   "metadata": {},
   "outputs": [],
   "source": [
    "dfz = df_tweets.copy()"
   ]
  },
  {
   "cell_type": "code",
   "execution_count": 22,
   "metadata": {},
   "outputs": [],
   "source": [
    "with open(\"news_domains.txt\", \"r\") as f:\n",
    "    news_domains = json.loads(f.read())"
   ]
  },
  {
   "cell_type": "code",
   "execution_count": 23,
   "metadata": {},
   "outputs": [],
   "source": [
    "dfz = find_news(dfz, news_domains)"
   ]
  },
  {
   "cell_type": "code",
   "execution_count": 24,
   "metadata": {},
   "outputs": [],
   "source": [
    "dfz[\"has_domain\"] = dfz.domains.apply(lambda x: len(x))"
   ]
  },
  {
   "cell_type": "code",
   "execution_count": 25,
   "metadata": {},
   "outputs": [
    {
     "data": {
      "text/html": [
       "<div>\n",
       "<style scoped>\n",
       "    .dataframe tbody tr th:only-of-type {\n",
       "        vertical-align: middle;\n",
       "    }\n",
       "\n",
       "    .dataframe tbody tr th {\n",
       "        vertical-align: top;\n",
       "    }\n",
       "\n",
       "    .dataframe thead th {\n",
       "        text-align: right;\n",
       "    }\n",
       "</style>\n",
       "<table border=\"1\" class=\"dataframe\">\n",
       "  <thead>\n",
       "    <tr style=\"text-align: right;\">\n",
       "      <th></th>\n",
       "      <th>id</th>\n",
       "      <th>user</th>\n",
       "      <th>full_text</th>\n",
       "      <th>created_at</th>\n",
       "      <th>lang</th>\n",
       "      <th>retweeted_status</th>\n",
       "      <th>quoted_status</th>\n",
       "      <th>is_quote_status</th>\n",
       "      <th>in_reply_to_status_id</th>\n",
       "      <th>urls</th>\n",
       "      <th>domains</th>\n",
       "      <th>contains_news</th>\n",
       "      <th>has_domain</th>\n",
       "    </tr>\n",
       "  </thead>\n",
       "  <tbody>\n",
       "    <tr>\n",
       "      <th>0</th>\n",
       "      <td>5596520</td>\n",
       "      <td>713143</td>\n",
       "      <td>soo hungry need to find my wife and head to pf...</td>\n",
       "      <td>2007-02-20T02:43:19+00:00</td>\n",
       "      <td>en</td>\n",
       "      <td>N/A</td>\n",
       "      <td>N/A</td>\n",
       "      <td>0</td>\n",
       "      <td>N/A</td>\n",
       "      <td>[]</td>\n",
       "      <td>[]</td>\n",
       "      <td>0</td>\n",
       "      <td>0</td>\n",
       "    </tr>\n",
       "    <tr>\n",
       "      <th>1</th>\n",
       "      <td>154674522</td>\n",
       "      <td>7193842</td>\n",
       "      <td>Hofstadter’s Law: A task always takes longer t...</td>\n",
       "      <td>2007-07-17T20:45:46+00:00</td>\n",
       "      <td>en</td>\n",
       "      <td>N/A</td>\n",
       "      <td>N/A</td>\n",
       "      <td>0</td>\n",
       "      <td>N/A</td>\n",
       "      <td>[]</td>\n",
       "      <td>[]</td>\n",
       "      <td>0</td>\n",
       "      <td>0</td>\n",
       "    </tr>\n",
       "    <tr>\n",
       "      <th>2</th>\n",
       "      <td>412145582</td>\n",
       "      <td>4829901</td>\n",
       "      <td>Adobe Updater must update itself before instal...</td>\n",
       "      <td>2007-11-13T21:45:35+00:00</td>\n",
       "      <td>en</td>\n",
       "      <td>N/A</td>\n",
       "      <td>N/A</td>\n",
       "      <td>0</td>\n",
       "      <td>N/A</td>\n",
       "      <td>[]</td>\n",
       "      <td>[]</td>\n",
       "      <td>0</td>\n",
       "      <td>0</td>\n",
       "    </tr>\n",
       "    <tr>\n",
       "      <th>3</th>\n",
       "      <td>922321981</td>\n",
       "      <td>16298441</td>\n",
       "      <td>no</td>\n",
       "      <td>2008-09-15T17:25:20+00:00</td>\n",
       "      <td>und</td>\n",
       "      <td>N/A</td>\n",
       "      <td>N/A</td>\n",
       "      <td>0</td>\n",
       "      <td>N/A</td>\n",
       "      <td>[]</td>\n",
       "      <td>[]</td>\n",
       "      <td>0</td>\n",
       "      <td>0</td>\n",
       "    </tr>\n",
       "    <tr>\n",
       "      <th>4</th>\n",
       "      <td>2627602600</td>\n",
       "      <td>21454322</td>\n",
       "      <td>Went on a USO trip to Guantanamo Bay, Cuba a f...</td>\n",
       "      <td>2009-07-14T05:15:27+00:00</td>\n",
       "      <td>en</td>\n",
       "      <td>N/A</td>\n",
       "      <td>N/A</td>\n",
       "      <td>0</td>\n",
       "      <td>N/A</td>\n",
       "      <td>[]</td>\n",
       "      <td>[]</td>\n",
       "      <td>0</td>\n",
       "      <td>0</td>\n",
       "    </tr>\n",
       "  </tbody>\n",
       "</table>\n",
       "</div>"
      ],
      "text/plain": [
       "           id      user                                          full_text  \\\n",
       "0     5596520    713143  soo hungry need to find my wife and head to pf...   \n",
       "1   154674522   7193842  Hofstadter’s Law: A task always takes longer t...   \n",
       "2   412145582   4829901  Adobe Updater must update itself before instal...   \n",
       "3   922321981  16298441                                                 no   \n",
       "4  2627602600  21454322  Went on a USO trip to Guantanamo Bay, Cuba a f...   \n",
       "\n",
       "                  created_at lang retweeted_status quoted_status  \\\n",
       "0  2007-02-20T02:43:19+00:00   en              N/A           N/A   \n",
       "1  2007-07-17T20:45:46+00:00   en              N/A           N/A   \n",
       "2  2007-11-13T21:45:35+00:00   en              N/A           N/A   \n",
       "3  2008-09-15T17:25:20+00:00  und              N/A           N/A   \n",
       "4  2009-07-14T05:15:27+00:00   en              N/A           N/A   \n",
       "\n",
       "   is_quote_status in_reply_to_status_id urls domains  contains_news  \\\n",
       "0                0                   N/A   []      []              0   \n",
       "1                0                   N/A   []      []              0   \n",
       "2                0                   N/A   []      []              0   \n",
       "3                0                   N/A   []      []              0   \n",
       "4                0                   N/A   []      []              0   \n",
       "\n",
       "   has_domain  \n",
       "0           0  \n",
       "1           0  \n",
       "2           0  \n",
       "3           0  \n",
       "4           0  "
      ]
     },
     "execution_count": 25,
     "metadata": {},
     "output_type": "execute_result"
    }
   ],
   "source": [
    "dfz.head()"
   ]
  },
  {
   "cell_type": "code",
   "execution_count": 26,
   "metadata": {},
   "outputs": [],
   "source": [
    "# dfz[\"has_domain\"] = dfz.domains.apply(lambda x: 1 if len(x) > 0 else 0)\n",
    "dfz[\"has_domain\"] = dfz.domains.apply(lambda x: len(x))"
   ]
  },
  {
   "cell_type": "code",
   "execution_count": 27,
   "metadata": {},
   "outputs": [
    {
     "data": {
      "text/plain": [
       "(18196, 13)"
      ]
     },
     "execution_count": 27,
     "metadata": {},
     "output_type": "execute_result"
    }
   ],
   "source": [
    "dfz = dfz[dfz.has_domain > 0]\n",
    "dfz.shape"
   ]
  },
  {
   "cell_type": "code",
   "execution_count": 28,
   "metadata": {},
   "outputs": [
    {
     "data": {
      "text/plain": [
       "(17975, 13)"
      ]
     },
     "execution_count": 28,
     "metadata": {},
     "output_type": "execute_result"
    }
   ],
   "source": [
    "dfz = dfz[dfz.contains_news == 0]\n",
    "dfz.shape"
   ]
  },
  {
   "cell_type": "code",
   "execution_count": 29,
   "metadata": {},
   "outputs": [],
   "source": [
    "dfz.reset_index(drop=True, inplace=True)"
   ]
  },
  {
   "cell_type": "code",
   "execution_count": 30,
   "metadata": {},
   "outputs": [
    {
     "data": {
      "text/html": [
       "<div>\n",
       "<style scoped>\n",
       "    .dataframe tbody tr th:only-of-type {\n",
       "        vertical-align: middle;\n",
       "    }\n",
       "\n",
       "    .dataframe tbody tr th {\n",
       "        vertical-align: top;\n",
       "    }\n",
       "\n",
       "    .dataframe thead th {\n",
       "        text-align: right;\n",
       "    }\n",
       "</style>\n",
       "<table border=\"1\" class=\"dataframe\">\n",
       "  <thead>\n",
       "    <tr style=\"text-align: right;\">\n",
       "      <th></th>\n",
       "      <th>id</th>\n",
       "      <th>user</th>\n",
       "      <th>full_text</th>\n",
       "      <th>created_at</th>\n",
       "      <th>lang</th>\n",
       "      <th>retweeted_status</th>\n",
       "      <th>quoted_status</th>\n",
       "      <th>is_quote_status</th>\n",
       "      <th>in_reply_to_status_id</th>\n",
       "      <th>urls</th>\n",
       "      <th>domains</th>\n",
       "      <th>contains_news</th>\n",
       "      <th>has_domain</th>\n",
       "    </tr>\n",
       "  </thead>\n",
       "  <tbody>\n",
       "    <tr>\n",
       "      <th>0</th>\n",
       "      <td>177008089394970624</td>\n",
       "      <td>5110861</td>\n",
       "      <td>In 1996 a man took a NZ radio station hostage,...</td>\n",
       "      <td>2012-03-06T12:29:51+00:00</td>\n",
       "      <td>en</td>\n",
       "      <td>N/A</td>\n",
       "      <td>N/A</td>\n",
       "      <td>0</td>\n",
       "      <td>N/A</td>\n",
       "      <td>[http://edition.cnn.com/WORLD/fringe/9603/03-2...</td>\n",
       "      <td>[edition.cnn.com]</td>\n",
       "      <td>0</td>\n",
       "      <td>1</td>\n",
       "    </tr>\n",
       "    <tr>\n",
       "      <th>1</th>\n",
       "      <td>451159870306549761</td>\n",
       "      <td>159169312</td>\n",
       "      <td>Course slides from @Stanford and @stanfordsyms...</td>\n",
       "      <td>2014-04-02T00:51:09+00:00</td>\n",
       "      <td>en</td>\n",
       "      <td>N/A</td>\n",
       "      <td>N/A</td>\n",
       "      <td>0</td>\n",
       "      <td>N/A</td>\n",
       "      <td>[http://stanford.edu/~zdar/week1.pdf]</td>\n",
       "      <td>[stanford.edu]</td>\n",
       "      <td>0</td>\n",
       "      <td>1</td>\n",
       "    </tr>\n",
       "    <tr>\n",
       "      <th>2</th>\n",
       "      <td>574518676575162369</td>\n",
       "      <td>68132773</td>\n",
       "      <td>Robert Capa's Omaha Beach by Dominique Bertail...</td>\n",
       "      <td>2015-03-08T10:35:01+00:00</td>\n",
       "      <td>en</td>\n",
       "      <td>N/A</td>\n",
       "      <td>N/A</td>\n",
       "      <td>0</td>\n",
       "      <td>N/A</td>\n",
       "      <td>[http://bandedessinee.blog.lemonde.fr/2014/06/...</td>\n",
       "      <td>[bandedessinee.blog.lemonde.fr]</td>\n",
       "      <td>0</td>\n",
       "      <td>1</td>\n",
       "    </tr>\n",
       "    <tr>\n",
       "      <th>3</th>\n",
       "      <td>627427921624481792</td>\n",
       "      <td>794010396</td>\n",
       "      <td>600cals per day for 7 days reverses T2 diabete...</td>\n",
       "      <td>2015-08-01T10:37:28+00:00</td>\n",
       "      <td>en</td>\n",
       "      <td>N/A</td>\n",
       "      <td>N/A</td>\n",
       "      <td>0</td>\n",
       "      <td>N/A</td>\n",
       "      <td>[http://link.springer.com/article/10.1007/s001...</td>\n",
       "      <td>[link.springer.com]</td>\n",
       "      <td>0</td>\n",
       "      <td>1</td>\n",
       "    </tr>\n",
       "    <tr>\n",
       "      <th>4</th>\n",
       "      <td>681513454931345408</td>\n",
       "      <td>2895499182</td>\n",
       "      <td>Found out there is a Fake Kanji creation conte...</td>\n",
       "      <td>2015-12-28T16:34:04+00:00</td>\n",
       "      <td>en</td>\n",
       "      <td>N/A</td>\n",
       "      <td>N/A</td>\n",
       "      <td>0</td>\n",
       "      <td>N/A</td>\n",
       "      <td>[http://www.sankeisquare.com/event/kanjicontes...</td>\n",
       "      <td>[www.sankeisquare.com]</td>\n",
       "      <td>0</td>\n",
       "      <td>1</td>\n",
       "    </tr>\n",
       "  </tbody>\n",
       "</table>\n",
       "</div>"
      ],
      "text/plain": [
       "                   id        user  \\\n",
       "0  177008089394970624     5110861   \n",
       "1  451159870306549761   159169312   \n",
       "2  574518676575162369    68132773   \n",
       "3  627427921624481792   794010396   \n",
       "4  681513454931345408  2895499182   \n",
       "\n",
       "                                           full_text  \\\n",
       "0  In 1996 a man took a NZ radio station hostage,...   \n",
       "1  Course slides from @Stanford and @stanfordsyms...   \n",
       "2  Robert Capa's Omaha Beach by Dominique Bertail...   \n",
       "3  600cals per day for 7 days reverses T2 diabete...   \n",
       "4  Found out there is a Fake Kanji creation conte...   \n",
       "\n",
       "                  created_at lang retweeted_status quoted_status  \\\n",
       "0  2012-03-06T12:29:51+00:00   en              N/A           N/A   \n",
       "1  2014-04-02T00:51:09+00:00   en              N/A           N/A   \n",
       "2  2015-03-08T10:35:01+00:00   en              N/A           N/A   \n",
       "3  2015-08-01T10:37:28+00:00   en              N/A           N/A   \n",
       "4  2015-12-28T16:34:04+00:00   en              N/A           N/A   \n",
       "\n",
       "   is_quote_status in_reply_to_status_id  \\\n",
       "0                0                   N/A   \n",
       "1                0                   N/A   \n",
       "2                0                   N/A   \n",
       "3                0                   N/A   \n",
       "4                0                   N/A   \n",
       "\n",
       "                                                urls  \\\n",
       "0  [http://edition.cnn.com/WORLD/fringe/9603/03-2...   \n",
       "1              [http://stanford.edu/~zdar/week1.pdf]   \n",
       "2  [http://bandedessinee.blog.lemonde.fr/2014/06/...   \n",
       "3  [http://link.springer.com/article/10.1007/s001...   \n",
       "4  [http://www.sankeisquare.com/event/kanjicontes...   \n",
       "\n",
       "                           domains  contains_news  has_domain  \n",
       "0                [edition.cnn.com]              0           1  \n",
       "1                   [stanford.edu]              0           1  \n",
       "2  [bandedessinee.blog.lemonde.fr]              0           1  \n",
       "3              [link.springer.com]              0           1  \n",
       "4           [www.sankeisquare.com]              0           1  "
      ]
     },
     "execution_count": 30,
     "metadata": {},
     "output_type": "execute_result"
    }
   ],
   "source": [
    "dfz.head()"
   ]
  },
  {
   "cell_type": "code",
   "execution_count": 31,
   "metadata": {},
   "outputs": [],
   "source": [
    "new_columns_list = []\n",
    "max_nr_dom = dfz.urls.str.len().max()\n",
    "for i in range(max_nr_dom):\n",
    "    new_columns_list.append(f\"urls{i+1}\")\n",
    "dfz[new_columns_list] = pd.DataFrame(dfz.urls.tolist())\n",
    "# for col in new_columns_list:\n",
    "#     dfz[col] = dfz[col].isin(short_urls_list)\n",
    "#     dfz[\"checked\"] = dfz[new_columns_list].sum(axis=1)\n",
    "#     dfz[\"checked\"] = dfz.checked.apply(lambda x: x if x == 0 else 1)"
   ]
  },
  {
   "cell_type": "code",
   "execution_count": 32,
   "metadata": {},
   "outputs": [],
   "source": [
    "# %%time\n",
    "# dfz.urls1[:10].apply(grab_title)\n",
    "# # Wall time: 8.21 s"
   ]
  },
  {
   "cell_type": "code",
   "execution_count": 33,
   "metadata": {},
   "outputs": [],
   "source": [
    "# %%time\n",
    "# dfz.urls1.apply(grab_title)"
   ]
  },
  {
   "cell_type": "code",
   "execution_count": 34,
   "metadata": {},
   "outputs": [],
   "source": [
    "\n",
    "domain_list = dfz.domains.tolist()"
   ]
  },
  {
   "cell_type": "code",
   "execution_count": 35,
   "metadata": {},
   "outputs": [],
   "source": [
    "# from requests_html import AsyncHTMLSession\n",
    "# asession = AsyncHTMLSession()\n",
    "# async def grab_title_async(url):\n",
    "#     res = await asession.get(url)\n",
    "#     title = res.html.find('title', first=True).text\n",
    "#     print(title"
   ]
  },
  {
   "cell_type": "code",
   "execution_count": null,
   "metadata": {},
   "outputs": [],
   "source": []
  },
  {
   "cell_type": "code",
   "execution_count": null,
   "metadata": {},
   "outputs": [],
   "source": []
  },
  {
   "cell_type": "code",
   "execution_count": 36,
   "metadata": {},
   "outputs": [
    {
     "data": {
      "text/plain": [
       "(17975, 19)"
      ]
     },
     "execution_count": 36,
     "metadata": {},
     "output_type": "execute_result"
    }
   ],
   "source": [
    "dfz.shape"
   ]
  },
  {
   "cell_type": "code",
   "execution_count": 37,
   "metadata": {},
   "outputs": [],
   "source": [
    "dfz[\"urls_exp\"] = 0"
   ]
  },
  {
   "cell_type": "code",
   "execution_count": 38,
   "metadata": {},
   "outputs": [],
   "source": [
    "# import json\n",
    "# short_url =[]\n",
    "# for c, i in enumerate(dfz.urls):\n",
    "#     print(c)\n",
    "#     if (c + 1) % 100 == 0:\n",
    "#         print(f\"{(c+1)} / {len(dfz.urls)}\")\n",
    "#     for d in i:\n",
    "#         dd = get_domain(d)\n",
    "#         e = expand_link(d)\n",
    "#         de = get_domain(e)\n",
    "#         if not (de == dd):\n",
    "#             short_url.append({\"short_url\": dd, \"long_url\": de, \"is_news\": (de in news_domains)})\n",
    "#     with open('short_url', 'w') as file:\n",
    "#         file.write(json.dumps(short_url, indent=4))\n",
    "\n"
   ]
  },
  {
   "cell_type": "code",
   "execution_count": 39,
   "metadata": {},
   "outputs": [],
   "source": [
    "with open('short_url') as json_file:\n",
    "    short_url = json.load(json_file)"
   ]
  },
  {
   "cell_type": "code",
   "execution_count": 40,
   "metadata": {},
   "outputs": [],
   "source": [
    "short_urls_list = pd.DataFrame(short_url).short_url.tolist()"
   ]
  },
  {
   "cell_type": "code",
   "execution_count": 41,
   "metadata": {},
   "outputs": [
    {
     "data": {
      "text/plain": [
       "['bandedessinee.blog.lemonde.fr',\n",
       " 'gifthefeeling.com',\n",
       " 'kite.com',\n",
       " 'ow.ly',\n",
       " 'youtu.be',\n",
       " 'differantly.com',\n",
       " 'youtu.be',\n",
       " 'buff.ly',\n",
       " 'www2.philly.com',\n",
       " 'bit.ly']"
      ]
     },
     "execution_count": 41,
     "metadata": {},
     "output_type": "execute_result"
    }
   ],
   "source": [
    "short_urls_list[:10]"
   ]
  },
  {
   "cell_type": "code",
   "execution_count": 42,
   "metadata": {},
   "outputs": [
    {
     "data": {
      "text/html": [
       "<div>\n",
       "<style scoped>\n",
       "    .dataframe tbody tr th:only-of-type {\n",
       "        vertical-align: middle;\n",
       "    }\n",
       "\n",
       "    .dataframe tbody tr th {\n",
       "        vertical-align: top;\n",
       "    }\n",
       "\n",
       "    .dataframe thead th {\n",
       "        text-align: right;\n",
       "    }\n",
       "</style>\n",
       "<table border=\"1\" class=\"dataframe\">\n",
       "  <thead>\n",
       "    <tr style=\"text-align: right;\">\n",
       "      <th></th>\n",
       "      <th>id</th>\n",
       "      <th>user</th>\n",
       "      <th>full_text</th>\n",
       "      <th>created_at</th>\n",
       "      <th>lang</th>\n",
       "      <th>retweeted_status</th>\n",
       "      <th>quoted_status</th>\n",
       "      <th>is_quote_status</th>\n",
       "      <th>in_reply_to_status_id</th>\n",
       "      <th>urls</th>\n",
       "      <th>domains</th>\n",
       "      <th>contains_news</th>\n",
       "      <th>has_domain</th>\n",
       "      <th>urls1</th>\n",
       "      <th>urls2</th>\n",
       "      <th>urls3</th>\n",
       "      <th>urls4</th>\n",
       "      <th>urls5</th>\n",
       "      <th>urls6</th>\n",
       "      <th>urls_exp</th>\n",
       "    </tr>\n",
       "  </thead>\n",
       "  <tbody>\n",
       "    <tr>\n",
       "      <th>2</th>\n",
       "      <td>574518676575162369</td>\n",
       "      <td>68132773</td>\n",
       "      <td>Robert Capa's Omaha Beach by Dominique Bertail...</td>\n",
       "      <td>2015-03-08T10:35:01+00:00</td>\n",
       "      <td>en</td>\n",
       "      <td>N/A</td>\n",
       "      <td>N/A</td>\n",
       "      <td>0</td>\n",
       "      <td>N/A</td>\n",
       "      <td>[http://bandedessinee.blog.lemonde.fr/2014/06/...</td>\n",
       "      <td>[bandedessinee.blog.lemonde.fr]</td>\n",
       "      <td>0</td>\n",
       "      <td>1</td>\n",
       "      <td>http://bandedessinee.blog.lemonde.fr/2014/06/0...</td>\n",
       "      <td>None</td>\n",
       "      <td>None</td>\n",
       "      <td>None</td>\n",
       "      <td>None</td>\n",
       "      <td>None</td>\n",
       "      <td>0</td>\n",
       "    </tr>\n",
       "  </tbody>\n",
       "</table>\n",
       "</div>"
      ],
      "text/plain": [
       "                   id      user  \\\n",
       "2  574518676575162369  68132773   \n",
       "\n",
       "                                           full_text  \\\n",
       "2  Robert Capa's Omaha Beach by Dominique Bertail...   \n",
       "\n",
       "                  created_at lang retweeted_status quoted_status  \\\n",
       "2  2015-03-08T10:35:01+00:00   en              N/A           N/A   \n",
       "\n",
       "   is_quote_status in_reply_to_status_id  \\\n",
       "2                0                   N/A   \n",
       "\n",
       "                                                urls  \\\n",
       "2  [http://bandedessinee.blog.lemonde.fr/2014/06/...   \n",
       "\n",
       "                           domains  contains_news  has_domain  \\\n",
       "2  [bandedessinee.blog.lemonde.fr]              0           1   \n",
       "\n",
       "                                               urls1 urls2 urls3 urls4 urls5  \\\n",
       "2  http://bandedessinee.blog.lemonde.fr/2014/06/0...  None  None  None  None   \n",
       "\n",
       "  urls6  urls_exp  \n",
       "2  None         0  "
      ]
     },
     "execution_count": 42,
     "metadata": {},
     "output_type": "execute_result"
    }
   ],
   "source": [
    "dfz[dfz.id == 574518676575162369]"
   ]
  },
  {
   "cell_type": "code",
   "execution_count": 43,
   "metadata": {},
   "outputs": [],
   "source": [
    "new_columns_list = []\n",
    "max_nr_dom = dfz.domains.str.len().max()\n",
    "for i in range(max_nr_dom):\n",
    "    new_columns_list.append(f\"domain{i+1}\")\n",
    "dfz[new_columns_list] = pd.DataFrame(dfz.domains.tolist())\n",
    "for col in new_columns_list:\n",
    "    dfz[col] = dfz[col].isin(short_urls_list)\n",
    "    dfz[\"checked\"] = dfz[new_columns_list].sum(axis=1)\n",
    "    dfz[\"checked\"] = dfz.checked.apply(lambda x: x if x == 0 else 1)\n",
    "dfz.drop(new_columns_list, axis=1, inplace=True)"
   ]
  },
  {
   "cell_type": "code",
   "execution_count": 44,
   "metadata": {},
   "outputs": [
    {
     "data": {
      "text/plain": [
       "['domain1', 'domain2', 'domain3', 'domain4', 'domain5', 'domain6']"
      ]
     },
     "execution_count": 44,
     "metadata": {},
     "output_type": "execute_result"
    }
   ],
   "source": [
    "new_columns_list"
   ]
  },
  {
   "cell_type": "code",
   "execution_count": 45,
   "metadata": {},
   "outputs": [],
   "source": [
    "# dfz.drop(new_columns_list, axis=1, inplace=True)"
   ]
  },
  {
   "cell_type": "code",
   "execution_count": 46,
   "metadata": {},
   "outputs": [
    {
     "data": {
      "text/html": [
       "<div>\n",
       "<style scoped>\n",
       "    .dataframe tbody tr th:only-of-type {\n",
       "        vertical-align: middle;\n",
       "    }\n",
       "\n",
       "    .dataframe tbody tr th {\n",
       "        vertical-align: top;\n",
       "    }\n",
       "\n",
       "    .dataframe thead th {\n",
       "        text-align: right;\n",
       "    }\n",
       "</style>\n",
       "<table border=\"1\" class=\"dataframe\">\n",
       "  <thead>\n",
       "    <tr style=\"text-align: right;\">\n",
       "      <th></th>\n",
       "      <th>id</th>\n",
       "      <th>user</th>\n",
       "      <th>full_text</th>\n",
       "      <th>created_at</th>\n",
       "      <th>lang</th>\n",
       "      <th>retweeted_status</th>\n",
       "      <th>quoted_status</th>\n",
       "      <th>is_quote_status</th>\n",
       "      <th>in_reply_to_status_id</th>\n",
       "      <th>urls</th>\n",
       "      <th>...</th>\n",
       "      <th>contains_news</th>\n",
       "      <th>has_domain</th>\n",
       "      <th>urls1</th>\n",
       "      <th>urls2</th>\n",
       "      <th>urls3</th>\n",
       "      <th>urls4</th>\n",
       "      <th>urls5</th>\n",
       "      <th>urls6</th>\n",
       "      <th>urls_exp</th>\n",
       "      <th>checked</th>\n",
       "    </tr>\n",
       "  </thead>\n",
       "  <tbody>\n",
       "    <tr>\n",
       "      <th>0</th>\n",
       "      <td>177008089394970624</td>\n",
       "      <td>5110861</td>\n",
       "      <td>In 1996 a man took a NZ radio station hostage,...</td>\n",
       "      <td>2012-03-06T12:29:51+00:00</td>\n",
       "      <td>en</td>\n",
       "      <td>N/A</td>\n",
       "      <td>N/A</td>\n",
       "      <td>0</td>\n",
       "      <td>N/A</td>\n",
       "      <td>[http://edition.cnn.com/WORLD/fringe/9603/03-2...</td>\n",
       "      <td>...</td>\n",
       "      <td>0</td>\n",
       "      <td>1</td>\n",
       "      <td>http://edition.cnn.com/WORLD/fringe/9603/03-27...</td>\n",
       "      <td>None</td>\n",
       "      <td>None</td>\n",
       "      <td>None</td>\n",
       "      <td>None</td>\n",
       "      <td>None</td>\n",
       "      <td>0</td>\n",
       "      <td>0</td>\n",
       "    </tr>\n",
       "    <tr>\n",
       "      <th>1</th>\n",
       "      <td>451159870306549761</td>\n",
       "      <td>159169312</td>\n",
       "      <td>Course slides from @Stanford and @stanfordsyms...</td>\n",
       "      <td>2014-04-02T00:51:09+00:00</td>\n",
       "      <td>en</td>\n",
       "      <td>N/A</td>\n",
       "      <td>N/A</td>\n",
       "      <td>0</td>\n",
       "      <td>N/A</td>\n",
       "      <td>[http://stanford.edu/~zdar/week1.pdf]</td>\n",
       "      <td>...</td>\n",
       "      <td>0</td>\n",
       "      <td>1</td>\n",
       "      <td>http://stanford.edu/~zdar/week1.pdf</td>\n",
       "      <td>None</td>\n",
       "      <td>None</td>\n",
       "      <td>None</td>\n",
       "      <td>None</td>\n",
       "      <td>None</td>\n",
       "      <td>0</td>\n",
       "      <td>0</td>\n",
       "    </tr>\n",
       "    <tr>\n",
       "      <th>2</th>\n",
       "      <td>574518676575162369</td>\n",
       "      <td>68132773</td>\n",
       "      <td>Robert Capa's Omaha Beach by Dominique Bertail...</td>\n",
       "      <td>2015-03-08T10:35:01+00:00</td>\n",
       "      <td>en</td>\n",
       "      <td>N/A</td>\n",
       "      <td>N/A</td>\n",
       "      <td>0</td>\n",
       "      <td>N/A</td>\n",
       "      <td>[http://bandedessinee.blog.lemonde.fr/2014/06/...</td>\n",
       "      <td>...</td>\n",
       "      <td>0</td>\n",
       "      <td>1</td>\n",
       "      <td>http://bandedessinee.blog.lemonde.fr/2014/06/0...</td>\n",
       "      <td>None</td>\n",
       "      <td>None</td>\n",
       "      <td>None</td>\n",
       "      <td>None</td>\n",
       "      <td>None</td>\n",
       "      <td>0</td>\n",
       "      <td>1</td>\n",
       "    </tr>\n",
       "    <tr>\n",
       "      <th>3</th>\n",
       "      <td>627427921624481792</td>\n",
       "      <td>794010396</td>\n",
       "      <td>600cals per day for 7 days reverses T2 diabete...</td>\n",
       "      <td>2015-08-01T10:37:28+00:00</td>\n",
       "      <td>en</td>\n",
       "      <td>N/A</td>\n",
       "      <td>N/A</td>\n",
       "      <td>0</td>\n",
       "      <td>N/A</td>\n",
       "      <td>[http://link.springer.com/article/10.1007/s001...</td>\n",
       "      <td>...</td>\n",
       "      <td>0</td>\n",
       "      <td>1</td>\n",
       "      <td>http://link.springer.com/article/10.1007/s0012...</td>\n",
       "      <td>None</td>\n",
       "      <td>None</td>\n",
       "      <td>None</td>\n",
       "      <td>None</td>\n",
       "      <td>None</td>\n",
       "      <td>0</td>\n",
       "      <td>0</td>\n",
       "    </tr>\n",
       "    <tr>\n",
       "      <th>4</th>\n",
       "      <td>681513454931345408</td>\n",
       "      <td>2895499182</td>\n",
       "      <td>Found out there is a Fake Kanji creation conte...</td>\n",
       "      <td>2015-12-28T16:34:04+00:00</td>\n",
       "      <td>en</td>\n",
       "      <td>N/A</td>\n",
       "      <td>N/A</td>\n",
       "      <td>0</td>\n",
       "      <td>N/A</td>\n",
       "      <td>[http://www.sankeisquare.com/event/kanjicontes...</td>\n",
       "      <td>...</td>\n",
       "      <td>0</td>\n",
       "      <td>1</td>\n",
       "      <td>http://www.sankeisquare.com/event/kanjicontest...</td>\n",
       "      <td>None</td>\n",
       "      <td>None</td>\n",
       "      <td>None</td>\n",
       "      <td>None</td>\n",
       "      <td>None</td>\n",
       "      <td>0</td>\n",
       "      <td>0</td>\n",
       "    </tr>\n",
       "  </tbody>\n",
       "</table>\n",
       "<p>5 rows × 21 columns</p>\n",
       "</div>"
      ],
      "text/plain": [
       "                   id        user  \\\n",
       "0  177008089394970624     5110861   \n",
       "1  451159870306549761   159169312   \n",
       "2  574518676575162369    68132773   \n",
       "3  627427921624481792   794010396   \n",
       "4  681513454931345408  2895499182   \n",
       "\n",
       "                                           full_text  \\\n",
       "0  In 1996 a man took a NZ radio station hostage,...   \n",
       "1  Course slides from @Stanford and @stanfordsyms...   \n",
       "2  Robert Capa's Omaha Beach by Dominique Bertail...   \n",
       "3  600cals per day for 7 days reverses T2 diabete...   \n",
       "4  Found out there is a Fake Kanji creation conte...   \n",
       "\n",
       "                  created_at lang retweeted_status quoted_status  \\\n",
       "0  2012-03-06T12:29:51+00:00   en              N/A           N/A   \n",
       "1  2014-04-02T00:51:09+00:00   en              N/A           N/A   \n",
       "2  2015-03-08T10:35:01+00:00   en              N/A           N/A   \n",
       "3  2015-08-01T10:37:28+00:00   en              N/A           N/A   \n",
       "4  2015-12-28T16:34:04+00:00   en              N/A           N/A   \n",
       "\n",
       "   is_quote_status in_reply_to_status_id  \\\n",
       "0                0                   N/A   \n",
       "1                0                   N/A   \n",
       "2                0                   N/A   \n",
       "3                0                   N/A   \n",
       "4                0                   N/A   \n",
       "\n",
       "                                                urls  ... contains_news  \\\n",
       "0  [http://edition.cnn.com/WORLD/fringe/9603/03-2...  ...             0   \n",
       "1              [http://stanford.edu/~zdar/week1.pdf]  ...             0   \n",
       "2  [http://bandedessinee.blog.lemonde.fr/2014/06/...  ...             0   \n",
       "3  [http://link.springer.com/article/10.1007/s001...  ...             0   \n",
       "4  [http://www.sankeisquare.com/event/kanjicontes...  ...             0   \n",
       "\n",
       "   has_domain                                              urls1 urls2 urls3  \\\n",
       "0           1  http://edition.cnn.com/WORLD/fringe/9603/03-27...  None  None   \n",
       "1           1                http://stanford.edu/~zdar/week1.pdf  None  None   \n",
       "2           1  http://bandedessinee.blog.lemonde.fr/2014/06/0...  None  None   \n",
       "3           1  http://link.springer.com/article/10.1007/s0012...  None  None   \n",
       "4           1  http://www.sankeisquare.com/event/kanjicontest...  None  None   \n",
       "\n",
       "  urls4 urls5 urls6 urls_exp  checked  \n",
       "0  None  None  None        0        0  \n",
       "1  None  None  None        0        0  \n",
       "2  None  None  None        0        1  \n",
       "3  None  None  None        0        0  \n",
       "4  None  None  None        0        0  \n",
       "\n",
       "[5 rows x 21 columns]"
      ]
     },
     "execution_count": 46,
     "metadata": {},
     "output_type": "execute_result"
    }
   ],
   "source": [
    "dfz.head()"
   ]
  },
  {
   "cell_type": "code",
   "execution_count": 47,
   "metadata": {},
   "outputs": [
    {
     "data": {
      "text/plain": [
       "(17975, 21)"
      ]
     },
     "execution_count": 47,
     "metadata": {},
     "output_type": "execute_result"
    }
   ],
   "source": [
    "dfz.shape"
   ]
  },
  {
   "cell_type": "code",
   "execution_count": 48,
   "metadata": {},
   "outputs": [
    {
     "data": {
      "text/plain": [
       "1552"
      ]
     },
     "execution_count": 48,
     "metadata": {},
     "output_type": "execute_result"
    }
   ],
   "source": [
    "dfz.checked.sum()"
   ]
  },
  {
   "cell_type": "code",
   "execution_count": null,
   "metadata": {},
   "outputs": [],
   "source": []
  },
  {
   "cell_type": "code",
   "execution_count": 49,
   "metadata": {},
   "outputs": [],
   "source": [
    "# checked_url = pd.DataFrame(short_url).url.tolist()"
   ]
  },
  {
   "cell_type": "code",
   "execution_count": 50,
   "metadata": {},
   "outputs": [
    {
     "data": {
      "text/plain": [
       "[['edition.cnn.com'],\n",
       " ['stanford.edu'],\n",
       " ['bandedessinee.blog.lemonde.fr'],\n",
       " ['link.springer.com'],\n",
       " ['www.sankeisquare.com'],\n",
       " ['gifthefeeling.com'],\n",
       " ['archive.org'],\n",
       " ['www.nature.com'],\n",
       " ['kite.com'],\n",
       " ['www.penguin.co.uk']]"
      ]
     },
     "execution_count": 50,
     "metadata": {},
     "output_type": "execute_result"
    }
   ],
   "source": [
    "domain_list[:10]"
   ]
  },
  {
   "cell_type": "code",
   "execution_count": 51,
   "metadata": {},
   "outputs": [],
   "source": [
    "# import json\n",
    "\n",
    "# with open('short_url.json') as json_file:\n",
    "#     short_url = json.load(json_file)\n",
    "\n",
    "# checked_url = pd.DataFrame(short_url).url.tolist()\n",
    "# # checked_url = []\n",
    "# # short_url = []\n",
    "# for c, i in enumerate(dfz.urls):\n",
    "#     if (c + 1) % 100 == 0:\n",
    "#         print(f\"{(c+1)} / {len(dfz.urls)}\")\n",
    "#     for d in i:\n",
    "#         if d in checked_url:\n",
    "#             print(d)\n",
    "#             pass\n",
    "#         else:\n",
    "#             print(c)\n",
    "#             dd = get_domain(d)\n",
    "#             e = expand_link(d)\n",
    "#             de = get_domain(e)\n",
    "#             short_url.append(\n",
    "#                 {\n",
    "#                     \"url\": d,\n",
    "#                     \"short_url\": dd,\n",
    "#                     \"long_url\": de,\n",
    "#                     \"is_news\": (de in news_domains),\n",
    "#                     \"diff_url\": (de == dd),\n",
    "#                 }\n",
    "#             )\n",
    "#     with open(\"short_url.json\", \"w\") as file:\n",
    "#         file.write(json.dumps(short_url, indent=4))"
   ]
  },
  {
   "cell_type": "code",
   "execution_count": 52,
   "metadata": {},
   "outputs": [
    {
     "data": {
      "text/plain": [
       "1083    [https://st.news/2ImPHpV]\n",
       "Name: urls, dtype: object"
      ]
     },
     "execution_count": 52,
     "metadata": {},
     "output_type": "execute_result"
    }
   ],
   "source": [
    "dfz.urls[1083:1084]"
   ]
  },
  {
   "cell_type": "code",
   "execution_count": 54,
   "metadata": {},
   "outputs": [],
   "source": [
    "checked_url = pd.DataFrame(short_url).url.tolist()"
   ]
  },
  {
   "cell_type": "code",
   "execution_count": 56,
   "metadata": {},
   "outputs": [
    {
     "data": {
      "text/plain": [
       "1229"
      ]
     },
     "execution_count": 56,
     "metadata": {},
     "output_type": "execute_result"
    }
   ],
   "source": [
    "len(checked_url)"
   ]
  },
  {
   "cell_type": "code",
   "execution_count": 57,
   "metadata": {},
   "outputs": [
    {
     "name": "stdout",
     "output_type": "stream",
     "text": [
      "https://proceedings.neurips.cc/paper/2020/file/ef8b5fcc338e003145ac9c134754db71-Paper.pdf\n",
      "https://www.youtube.com/watch?v=CeeoFqE2OU0\n",
      "https://www.theglobeandmail.com/canada/article-canada-has-agreement-with-pfizer-to-begin-delivering-early-doses-of/\n",
      "https://proceedings.neurips.cc/paper/2020/hash/7a685d9edd95508471a9d3d6fcace432-Abstract.html\n",
      "https://neurips.cc/virtual/2020/protected/poster_7a685d9edd95508471a9d3d6fcace432.html\n",
      "http://illusionoftheyear.com/vote/\n",
      "https://bearradio.bandcamp.com/album/cant-buy-yellow\n",
      "https://chineseliteraturepodcast.com/?p=618\n",
      "https://ieeexplore.ieee.org/document/9281016\n",
      "https://bit.ly/2KuQINm\n",
      "https://bit.ly/smw8dec)\n",
      "10\n",
      "11\n",
      "12\n",
      "13\n",
      "14\n",
      "14\n",
      "15\n",
      "16\n",
      "17\n",
      "18\n",
      "19\n",
      "20\n",
      "21\n",
      "22\n",
      "23\n",
      "24\n",
      "25\n",
      "26\n",
      "27\n",
      "28\n",
      "29\n",
      "30\n",
      "31\n",
      "32\n",
      "33\n",
      "34\n",
      "35\n",
      "36\n",
      "36\n",
      "37\n",
      "38\n",
      "39\n",
      "40\n",
      "41\n",
      "41\n",
      "42\n",
      "42\n",
      "42\n",
      "43\n",
      "44\n",
      "45\n",
      "46\n",
      "47\n",
      "48\n",
      "49\n",
      "50\n",
      "51\n",
      "52\n",
      "53\n",
      "54\n",
      "55\n",
      "56\n",
      "57\n",
      "58\n",
      "59\n",
      "60\n",
      "61\n",
      "62\n",
      "63\n",
      "64\n",
      "65\n",
      "65\n",
      "66\n",
      "67\n",
      "68\n",
      "69\n",
      "https://bit.ly/38Oe5M1\n",
      "71\n",
      "72\n",
      "73\n",
      "74\n",
      "75\n",
      "76\n",
      "77\n",
      "78\n",
      "79\n",
      "79\n",
      "79\n",
      "80\n",
      "81\n",
      "82\n",
      "82\n"
     ]
    },
    {
     "ename": "KeyboardInterrupt",
     "evalue": "",
     "output_type": "error",
     "traceback": [
      "\u001b[0;31m---------------------------------------------------------------------------\u001b[0m",
      "\u001b[0;31mKeyboardInterrupt\u001b[0m                         Traceback (most recent call last)",
      "\u001b[0;32m<ipython-input-57-bf6f269c0761>\u001b[0m in \u001b[0;36m<module>\u001b[0;34m\u001b[0m\n\u001b[1;32m     19\u001b[0m             \u001b[0mprint\u001b[0m\u001b[0;34m(\u001b[0m\u001b[0mc\u001b[0m\u001b[0;34m)\u001b[0m\u001b[0;34m\u001b[0m\u001b[0;34m\u001b[0m\u001b[0m\n\u001b[1;32m     20\u001b[0m             \u001b[0mdd\u001b[0m \u001b[0;34m=\u001b[0m \u001b[0mget_domain\u001b[0m\u001b[0;34m(\u001b[0m\u001b[0md\u001b[0m\u001b[0;34m)\u001b[0m\u001b[0;34m\u001b[0m\u001b[0;34m\u001b[0m\u001b[0m\n\u001b[0;32m---> 21\u001b[0;31m             \u001b[0me\u001b[0m \u001b[0;34m=\u001b[0m \u001b[0mexpand_link\u001b[0m\u001b[0;34m(\u001b[0m\u001b[0md\u001b[0m\u001b[0;34m)\u001b[0m\u001b[0;34m\u001b[0m\u001b[0;34m\u001b[0m\u001b[0m\n\u001b[0m\u001b[1;32m     22\u001b[0m             \u001b[0mde\u001b[0m \u001b[0;34m=\u001b[0m \u001b[0mget_domain\u001b[0m\u001b[0;34m(\u001b[0m\u001b[0me\u001b[0m\u001b[0;34m)\u001b[0m\u001b[0;34m\u001b[0m\u001b[0;34m\u001b[0m\u001b[0m\n\u001b[1;32m     23\u001b[0m             short_url.append(\n",
      "\u001b[0;32m<ipython-input-18-8f738bd21007>\u001b[0m in \u001b[0;36mexpand_link\u001b[0;34m(url)\u001b[0m\n\u001b[1;32m      5\u001b[0m         \u001b[0;32mtry\u001b[0m\u001b[0;34m:\u001b[0m\u001b[0;34m\u001b[0m\u001b[0;34m\u001b[0m\u001b[0m\n\u001b[1;32m      6\u001b[0m             \u001b[0msession\u001b[0m \u001b[0;34m=\u001b[0m \u001b[0mrequests\u001b[0m\u001b[0;34m.\u001b[0m\u001b[0mSession\u001b[0m\u001b[0;34m(\u001b[0m\u001b[0;34m)\u001b[0m\u001b[0;34m\u001b[0m\u001b[0;34m\u001b[0m\u001b[0m\n\u001b[0;32m----> 7\u001b[0;31m             \u001b[0mresp\u001b[0m \u001b[0;34m=\u001b[0m \u001b[0msession\u001b[0m\u001b[0;34m.\u001b[0m\u001b[0mhead\u001b[0m\u001b[0;34m(\u001b[0m\u001b[0murl\u001b[0m\u001b[0;34m,\u001b[0m \u001b[0mallow_redirects\u001b[0m\u001b[0;34m=\u001b[0m\u001b[0;32mTrue\u001b[0m\u001b[0;34m)\u001b[0m\u001b[0;34m\u001b[0m\u001b[0;34m\u001b[0m\u001b[0m\n\u001b[0m\u001b[1;32m      8\u001b[0m             \u001b[0mlong_url\u001b[0m \u001b[0;34m=\u001b[0m \u001b[0mresp\u001b[0m\u001b[0;34m.\u001b[0m\u001b[0murl\u001b[0m\u001b[0;34m\u001b[0m\u001b[0;34m\u001b[0m\u001b[0m\n\u001b[1;32m      9\u001b[0m             \u001b[0;32mreturn\u001b[0m \u001b[0mlong_url\u001b[0m\u001b[0;34m\u001b[0m\u001b[0;34m\u001b[0m\u001b[0m\n",
      "\u001b[0;32m~/miniconda3/envs/mlb/lib/python3.8/site-packages/requests/sessions.py\u001b[0m in \u001b[0;36mhead\u001b[0;34m(self, url, **kwargs)\u001b[0m\n\u001b[1;32m    575\u001b[0m \u001b[0;34m\u001b[0m\u001b[0m\n\u001b[1;32m    576\u001b[0m         \u001b[0mkwargs\u001b[0m\u001b[0;34m.\u001b[0m\u001b[0msetdefault\u001b[0m\u001b[0;34m(\u001b[0m\u001b[0;34m'allow_redirects'\u001b[0m\u001b[0;34m,\u001b[0m \u001b[0;32mFalse\u001b[0m\u001b[0;34m)\u001b[0m\u001b[0;34m\u001b[0m\u001b[0;34m\u001b[0m\u001b[0m\n\u001b[0;32m--> 577\u001b[0;31m         \u001b[0;32mreturn\u001b[0m \u001b[0mself\u001b[0m\u001b[0;34m.\u001b[0m\u001b[0mrequest\u001b[0m\u001b[0;34m(\u001b[0m\u001b[0;34m'HEAD'\u001b[0m\u001b[0;34m,\u001b[0m \u001b[0murl\u001b[0m\u001b[0;34m,\u001b[0m \u001b[0;34m**\u001b[0m\u001b[0mkwargs\u001b[0m\u001b[0;34m)\u001b[0m\u001b[0;34m\u001b[0m\u001b[0;34m\u001b[0m\u001b[0m\n\u001b[0m\u001b[1;32m    578\u001b[0m \u001b[0;34m\u001b[0m\u001b[0m\n\u001b[1;32m    579\u001b[0m     \u001b[0;32mdef\u001b[0m \u001b[0mpost\u001b[0m\u001b[0;34m(\u001b[0m\u001b[0mself\u001b[0m\u001b[0;34m,\u001b[0m \u001b[0murl\u001b[0m\u001b[0;34m,\u001b[0m \u001b[0mdata\u001b[0m\u001b[0;34m=\u001b[0m\u001b[0;32mNone\u001b[0m\u001b[0;34m,\u001b[0m \u001b[0mjson\u001b[0m\u001b[0;34m=\u001b[0m\u001b[0;32mNone\u001b[0m\u001b[0;34m,\u001b[0m \u001b[0;34m**\u001b[0m\u001b[0mkwargs\u001b[0m\u001b[0;34m)\u001b[0m\u001b[0;34m:\u001b[0m\u001b[0;34m\u001b[0m\u001b[0;34m\u001b[0m\u001b[0m\n",
      "\u001b[0;32m~/miniconda3/envs/mlb/lib/python3.8/site-packages/requests/sessions.py\u001b[0m in \u001b[0;36mrequest\u001b[0;34m(self, method, url, params, data, headers, cookies, files, auth, timeout, allow_redirects, proxies, hooks, stream, verify, cert, json)\u001b[0m\n\u001b[1;32m    540\u001b[0m         }\n\u001b[1;32m    541\u001b[0m         \u001b[0msend_kwargs\u001b[0m\u001b[0;34m.\u001b[0m\u001b[0mupdate\u001b[0m\u001b[0;34m(\u001b[0m\u001b[0msettings\u001b[0m\u001b[0;34m)\u001b[0m\u001b[0;34m\u001b[0m\u001b[0;34m\u001b[0m\u001b[0m\n\u001b[0;32m--> 542\u001b[0;31m         \u001b[0mresp\u001b[0m \u001b[0;34m=\u001b[0m \u001b[0mself\u001b[0m\u001b[0;34m.\u001b[0m\u001b[0msend\u001b[0m\u001b[0;34m(\u001b[0m\u001b[0mprep\u001b[0m\u001b[0;34m,\u001b[0m \u001b[0;34m**\u001b[0m\u001b[0msend_kwargs\u001b[0m\u001b[0;34m)\u001b[0m\u001b[0;34m\u001b[0m\u001b[0;34m\u001b[0m\u001b[0m\n\u001b[0m\u001b[1;32m    543\u001b[0m \u001b[0;34m\u001b[0m\u001b[0m\n\u001b[1;32m    544\u001b[0m         \u001b[0;32mreturn\u001b[0m \u001b[0mresp\u001b[0m\u001b[0;34m\u001b[0m\u001b[0;34m\u001b[0m\u001b[0m\n",
      "\u001b[0;32m~/miniconda3/envs/mlb/lib/python3.8/site-packages/requests/sessions.py\u001b[0m in \u001b[0;36msend\u001b[0;34m(self, request, **kwargs)\u001b[0m\n\u001b[1;32m    675\u001b[0m             \u001b[0;31m# Redirect resolving generator.\u001b[0m\u001b[0;34m\u001b[0m\u001b[0;34m\u001b[0m\u001b[0;34m\u001b[0m\u001b[0m\n\u001b[1;32m    676\u001b[0m             \u001b[0mgen\u001b[0m \u001b[0;34m=\u001b[0m \u001b[0mself\u001b[0m\u001b[0;34m.\u001b[0m\u001b[0mresolve_redirects\u001b[0m\u001b[0;34m(\u001b[0m\u001b[0mr\u001b[0m\u001b[0;34m,\u001b[0m \u001b[0mrequest\u001b[0m\u001b[0;34m,\u001b[0m \u001b[0;34m**\u001b[0m\u001b[0mkwargs\u001b[0m\u001b[0;34m)\u001b[0m\u001b[0;34m\u001b[0m\u001b[0;34m\u001b[0m\u001b[0m\n\u001b[0;32m--> 677\u001b[0;31m             \u001b[0mhistory\u001b[0m \u001b[0;34m=\u001b[0m \u001b[0;34m[\u001b[0m\u001b[0mresp\u001b[0m \u001b[0;32mfor\u001b[0m \u001b[0mresp\u001b[0m \u001b[0;32min\u001b[0m \u001b[0mgen\u001b[0m\u001b[0;34m]\u001b[0m\u001b[0;34m\u001b[0m\u001b[0;34m\u001b[0m\u001b[0m\n\u001b[0m\u001b[1;32m    678\u001b[0m         \u001b[0;32melse\u001b[0m\u001b[0;34m:\u001b[0m\u001b[0;34m\u001b[0m\u001b[0;34m\u001b[0m\u001b[0m\n\u001b[1;32m    679\u001b[0m             \u001b[0mhistory\u001b[0m \u001b[0;34m=\u001b[0m \u001b[0;34m[\u001b[0m\u001b[0;34m]\u001b[0m\u001b[0;34m\u001b[0m\u001b[0;34m\u001b[0m\u001b[0m\n",
      "\u001b[0;32m~/miniconda3/envs/mlb/lib/python3.8/site-packages/requests/sessions.py\u001b[0m in \u001b[0;36m<listcomp>\u001b[0;34m(.0)\u001b[0m\n\u001b[1;32m    675\u001b[0m             \u001b[0;31m# Redirect resolving generator.\u001b[0m\u001b[0;34m\u001b[0m\u001b[0;34m\u001b[0m\u001b[0;34m\u001b[0m\u001b[0m\n\u001b[1;32m    676\u001b[0m             \u001b[0mgen\u001b[0m \u001b[0;34m=\u001b[0m \u001b[0mself\u001b[0m\u001b[0;34m.\u001b[0m\u001b[0mresolve_redirects\u001b[0m\u001b[0;34m(\u001b[0m\u001b[0mr\u001b[0m\u001b[0;34m,\u001b[0m \u001b[0mrequest\u001b[0m\u001b[0;34m,\u001b[0m \u001b[0;34m**\u001b[0m\u001b[0mkwargs\u001b[0m\u001b[0;34m)\u001b[0m\u001b[0;34m\u001b[0m\u001b[0;34m\u001b[0m\u001b[0m\n\u001b[0;32m--> 677\u001b[0;31m             \u001b[0mhistory\u001b[0m \u001b[0;34m=\u001b[0m \u001b[0;34m[\u001b[0m\u001b[0mresp\u001b[0m \u001b[0;32mfor\u001b[0m \u001b[0mresp\u001b[0m \u001b[0;32min\u001b[0m \u001b[0mgen\u001b[0m\u001b[0;34m]\u001b[0m\u001b[0;34m\u001b[0m\u001b[0;34m\u001b[0m\u001b[0m\n\u001b[0m\u001b[1;32m    678\u001b[0m         \u001b[0;32melse\u001b[0m\u001b[0;34m:\u001b[0m\u001b[0;34m\u001b[0m\u001b[0;34m\u001b[0m\u001b[0m\n\u001b[1;32m    679\u001b[0m             \u001b[0mhistory\u001b[0m \u001b[0;34m=\u001b[0m \u001b[0;34m[\u001b[0m\u001b[0;34m]\u001b[0m\u001b[0;34m\u001b[0m\u001b[0;34m\u001b[0m\u001b[0m\n",
      "\u001b[0;32m~/miniconda3/envs/mlb/lib/python3.8/site-packages/requests/sessions.py\u001b[0m in \u001b[0;36mresolve_redirects\u001b[0;34m(self, resp, req, stream, timeout, verify, cert, proxies, yield_requests, **adapter_kwargs)\u001b[0m\n\u001b[1;32m    235\u001b[0m             \u001b[0;32melse\u001b[0m\u001b[0;34m:\u001b[0m\u001b[0;34m\u001b[0m\u001b[0;34m\u001b[0m\u001b[0m\n\u001b[1;32m    236\u001b[0m \u001b[0;34m\u001b[0m\u001b[0m\n\u001b[0;32m--> 237\u001b[0;31m                 resp = self.send(\n\u001b[0m\u001b[1;32m    238\u001b[0m                     \u001b[0mreq\u001b[0m\u001b[0;34m,\u001b[0m\u001b[0;34m\u001b[0m\u001b[0;34m\u001b[0m\u001b[0m\n\u001b[1;32m    239\u001b[0m                     \u001b[0mstream\u001b[0m\u001b[0;34m=\u001b[0m\u001b[0mstream\u001b[0m\u001b[0;34m,\u001b[0m\u001b[0;34m\u001b[0m\u001b[0;34m\u001b[0m\u001b[0m\n",
      "\u001b[0;32m~/miniconda3/envs/mlb/lib/python3.8/site-packages/requests/sessions.py\u001b[0m in \u001b[0;36msend\u001b[0;34m(self, request, **kwargs)\u001b[0m\n\u001b[1;32m    653\u001b[0m \u001b[0;34m\u001b[0m\u001b[0m\n\u001b[1;32m    654\u001b[0m         \u001b[0;31m# Send the request\u001b[0m\u001b[0;34m\u001b[0m\u001b[0;34m\u001b[0m\u001b[0;34m\u001b[0m\u001b[0m\n\u001b[0;32m--> 655\u001b[0;31m         \u001b[0mr\u001b[0m \u001b[0;34m=\u001b[0m \u001b[0madapter\u001b[0m\u001b[0;34m.\u001b[0m\u001b[0msend\u001b[0m\u001b[0;34m(\u001b[0m\u001b[0mrequest\u001b[0m\u001b[0;34m,\u001b[0m \u001b[0;34m**\u001b[0m\u001b[0mkwargs\u001b[0m\u001b[0;34m)\u001b[0m\u001b[0;34m\u001b[0m\u001b[0;34m\u001b[0m\u001b[0m\n\u001b[0m\u001b[1;32m    656\u001b[0m \u001b[0;34m\u001b[0m\u001b[0m\n\u001b[1;32m    657\u001b[0m         \u001b[0;31m# Total elapsed time of the request (approximately)\u001b[0m\u001b[0;34m\u001b[0m\u001b[0;34m\u001b[0m\u001b[0;34m\u001b[0m\u001b[0m\n",
      "\u001b[0;32m~/miniconda3/envs/mlb/lib/python3.8/site-packages/requests/adapters.py\u001b[0m in \u001b[0;36msend\u001b[0;34m(self, request, stream, timeout, verify, cert, proxies)\u001b[0m\n\u001b[1;32m    437\u001b[0m         \u001b[0;32mtry\u001b[0m\u001b[0;34m:\u001b[0m\u001b[0;34m\u001b[0m\u001b[0;34m\u001b[0m\u001b[0m\n\u001b[1;32m    438\u001b[0m             \u001b[0;32mif\u001b[0m \u001b[0;32mnot\u001b[0m \u001b[0mchunked\u001b[0m\u001b[0;34m:\u001b[0m\u001b[0;34m\u001b[0m\u001b[0;34m\u001b[0m\u001b[0m\n\u001b[0;32m--> 439\u001b[0;31m                 resp = conn.urlopen(\n\u001b[0m\u001b[1;32m    440\u001b[0m                     \u001b[0mmethod\u001b[0m\u001b[0;34m=\u001b[0m\u001b[0mrequest\u001b[0m\u001b[0;34m.\u001b[0m\u001b[0mmethod\u001b[0m\u001b[0;34m,\u001b[0m\u001b[0;34m\u001b[0m\u001b[0;34m\u001b[0m\u001b[0m\n\u001b[1;32m    441\u001b[0m                     \u001b[0murl\u001b[0m\u001b[0;34m=\u001b[0m\u001b[0murl\u001b[0m\u001b[0;34m,\u001b[0m\u001b[0;34m\u001b[0m\u001b[0;34m\u001b[0m\u001b[0m\n",
      "\u001b[0;32m~/miniconda3/envs/mlb/lib/python3.8/site-packages/urllib3/connectionpool.py\u001b[0m in \u001b[0;36murlopen\u001b[0;34m(self, method, url, body, headers, retries, redirect, assert_same_host, timeout, pool_timeout, release_conn, chunked, body_pos, **response_kw)\u001b[0m\n\u001b[1;32m    668\u001b[0m \u001b[0;34m\u001b[0m\u001b[0m\n\u001b[1;32m    669\u001b[0m             \u001b[0;31m# Make the request on the httplib connection object.\u001b[0m\u001b[0;34m\u001b[0m\u001b[0;34m\u001b[0m\u001b[0;34m\u001b[0m\u001b[0m\n\u001b[0;32m--> 670\u001b[0;31m             httplib_response = self._make_request(\n\u001b[0m\u001b[1;32m    671\u001b[0m                 \u001b[0mconn\u001b[0m\u001b[0;34m,\u001b[0m\u001b[0;34m\u001b[0m\u001b[0;34m\u001b[0m\u001b[0m\n\u001b[1;32m    672\u001b[0m                 \u001b[0mmethod\u001b[0m\u001b[0;34m,\u001b[0m\u001b[0;34m\u001b[0m\u001b[0;34m\u001b[0m\u001b[0m\n",
      "\u001b[0;32m~/miniconda3/envs/mlb/lib/python3.8/site-packages/urllib3/connectionpool.py\u001b[0m in \u001b[0;36m_make_request\u001b[0;34m(self, conn, method, url, timeout, chunked, **httplib_request_kw)\u001b[0m\n\u001b[1;32m    379\u001b[0m         \u001b[0;31m# Trigger any extra validation we need to do.\u001b[0m\u001b[0;34m\u001b[0m\u001b[0;34m\u001b[0m\u001b[0;34m\u001b[0m\u001b[0m\n\u001b[1;32m    380\u001b[0m         \u001b[0;32mtry\u001b[0m\u001b[0;34m:\u001b[0m\u001b[0;34m\u001b[0m\u001b[0;34m\u001b[0m\u001b[0m\n\u001b[0;32m--> 381\u001b[0;31m             \u001b[0mself\u001b[0m\u001b[0;34m.\u001b[0m\u001b[0m_validate_conn\u001b[0m\u001b[0;34m(\u001b[0m\u001b[0mconn\u001b[0m\u001b[0;34m)\u001b[0m\u001b[0;34m\u001b[0m\u001b[0;34m\u001b[0m\u001b[0m\n\u001b[0m\u001b[1;32m    382\u001b[0m         \u001b[0;32mexcept\u001b[0m \u001b[0;34m(\u001b[0m\u001b[0mSocketTimeout\u001b[0m\u001b[0;34m,\u001b[0m \u001b[0mBaseSSLError\u001b[0m\u001b[0;34m)\u001b[0m \u001b[0;32mas\u001b[0m \u001b[0me\u001b[0m\u001b[0;34m:\u001b[0m\u001b[0;34m\u001b[0m\u001b[0;34m\u001b[0m\u001b[0m\n\u001b[1;32m    383\u001b[0m             \u001b[0;31m# Py2 raises this as a BaseSSLError, Py3 raises it as socket timeout.\u001b[0m\u001b[0;34m\u001b[0m\u001b[0;34m\u001b[0m\u001b[0;34m\u001b[0m\u001b[0m\n",
      "\u001b[0;32m~/miniconda3/envs/mlb/lib/python3.8/site-packages/urllib3/connectionpool.py\u001b[0m in \u001b[0;36m_validate_conn\u001b[0;34m(self, conn)\u001b[0m\n\u001b[1;32m    976\u001b[0m         \u001b[0;31m# Force connect early to allow us to validate the connection.\u001b[0m\u001b[0;34m\u001b[0m\u001b[0;34m\u001b[0m\u001b[0;34m\u001b[0m\u001b[0m\n\u001b[1;32m    977\u001b[0m         \u001b[0;32mif\u001b[0m \u001b[0;32mnot\u001b[0m \u001b[0mgetattr\u001b[0m\u001b[0;34m(\u001b[0m\u001b[0mconn\u001b[0m\u001b[0;34m,\u001b[0m \u001b[0;34m\"sock\"\u001b[0m\u001b[0;34m,\u001b[0m \u001b[0;32mNone\u001b[0m\u001b[0;34m)\u001b[0m\u001b[0;34m:\u001b[0m  \u001b[0;31m# AppEngine might not have  `.sock`\u001b[0m\u001b[0;34m\u001b[0m\u001b[0;34m\u001b[0m\u001b[0m\n\u001b[0;32m--> 978\u001b[0;31m             \u001b[0mconn\u001b[0m\u001b[0;34m.\u001b[0m\u001b[0mconnect\u001b[0m\u001b[0;34m(\u001b[0m\u001b[0;34m)\u001b[0m\u001b[0;34m\u001b[0m\u001b[0;34m\u001b[0m\u001b[0m\n\u001b[0m\u001b[1;32m    979\u001b[0m \u001b[0;34m\u001b[0m\u001b[0m\n\u001b[1;32m    980\u001b[0m         \u001b[0;32mif\u001b[0m \u001b[0;32mnot\u001b[0m \u001b[0mconn\u001b[0m\u001b[0;34m.\u001b[0m\u001b[0mis_verified\u001b[0m\u001b[0;34m:\u001b[0m\u001b[0;34m\u001b[0m\u001b[0;34m\u001b[0m\u001b[0m\n",
      "\u001b[0;32m~/miniconda3/envs/mlb/lib/python3.8/site-packages/urllib3/connection.py\u001b[0m in \u001b[0;36mconnect\u001b[0;34m(self)\u001b[0m\n\u001b[1;32m    360\u001b[0m             \u001b[0mcontext\u001b[0m\u001b[0;34m.\u001b[0m\u001b[0mload_default_certs\u001b[0m\u001b[0;34m(\u001b[0m\u001b[0;34m)\u001b[0m\u001b[0;34m\u001b[0m\u001b[0;34m\u001b[0m\u001b[0m\n\u001b[1;32m    361\u001b[0m \u001b[0;34m\u001b[0m\u001b[0m\n\u001b[0;32m--> 362\u001b[0;31m         self.sock = ssl_wrap_socket(\n\u001b[0m\u001b[1;32m    363\u001b[0m             \u001b[0msock\u001b[0m\u001b[0;34m=\u001b[0m\u001b[0mconn\u001b[0m\u001b[0;34m,\u001b[0m\u001b[0;34m\u001b[0m\u001b[0;34m\u001b[0m\u001b[0m\n\u001b[1;32m    364\u001b[0m             \u001b[0mkeyfile\u001b[0m\u001b[0;34m=\u001b[0m\u001b[0mself\u001b[0m\u001b[0;34m.\u001b[0m\u001b[0mkey_file\u001b[0m\u001b[0;34m,\u001b[0m\u001b[0;34m\u001b[0m\u001b[0;34m\u001b[0m\u001b[0m\n",
      "\u001b[0;32m~/miniconda3/envs/mlb/lib/python3.8/site-packages/urllib3/util/ssl_.py\u001b[0m in \u001b[0;36mssl_wrap_socket\u001b[0;34m(sock, keyfile, certfile, cert_reqs, ca_certs, server_hostname, ssl_version, ciphers, ssl_context, ca_cert_dir, key_password, ca_cert_data)\u001b[0m\n\u001b[1;32m    384\u001b[0m     ) or IS_SECURETRANSPORT:\n\u001b[1;32m    385\u001b[0m         \u001b[0;32mif\u001b[0m \u001b[0mHAS_SNI\u001b[0m \u001b[0;32mand\u001b[0m \u001b[0mserver_hostname\u001b[0m \u001b[0;32mis\u001b[0m \u001b[0;32mnot\u001b[0m \u001b[0;32mNone\u001b[0m\u001b[0;34m:\u001b[0m\u001b[0;34m\u001b[0m\u001b[0;34m\u001b[0m\u001b[0m\n\u001b[0;32m--> 386\u001b[0;31m             \u001b[0;32mreturn\u001b[0m \u001b[0mcontext\u001b[0m\u001b[0;34m.\u001b[0m\u001b[0mwrap_socket\u001b[0m\u001b[0;34m(\u001b[0m\u001b[0msock\u001b[0m\u001b[0;34m,\u001b[0m \u001b[0mserver_hostname\u001b[0m\u001b[0;34m=\u001b[0m\u001b[0mserver_hostname\u001b[0m\u001b[0;34m)\u001b[0m\u001b[0;34m\u001b[0m\u001b[0;34m\u001b[0m\u001b[0m\n\u001b[0m\u001b[1;32m    387\u001b[0m \u001b[0;34m\u001b[0m\u001b[0m\n\u001b[1;32m    388\u001b[0m         warnings.warn(\n",
      "\u001b[0;32m~/miniconda3/envs/mlb/lib/python3.8/ssl.py\u001b[0m in \u001b[0;36mwrap_socket\u001b[0;34m(self, sock, server_side, do_handshake_on_connect, suppress_ragged_eofs, server_hostname, session)\u001b[0m\n\u001b[1;32m    498\u001b[0m         \u001b[0;31m# SSLSocket class handles server_hostname encoding before it calls\u001b[0m\u001b[0;34m\u001b[0m\u001b[0;34m\u001b[0m\u001b[0;34m\u001b[0m\u001b[0m\n\u001b[1;32m    499\u001b[0m         \u001b[0;31m# ctx._wrap_socket()\u001b[0m\u001b[0;34m\u001b[0m\u001b[0;34m\u001b[0m\u001b[0;34m\u001b[0m\u001b[0m\n\u001b[0;32m--> 500\u001b[0;31m         return self.sslsocket_class._create(\n\u001b[0m\u001b[1;32m    501\u001b[0m             \u001b[0msock\u001b[0m\u001b[0;34m=\u001b[0m\u001b[0msock\u001b[0m\u001b[0;34m,\u001b[0m\u001b[0;34m\u001b[0m\u001b[0;34m\u001b[0m\u001b[0m\n\u001b[1;32m    502\u001b[0m             \u001b[0mserver_side\u001b[0m\u001b[0;34m=\u001b[0m\u001b[0mserver_side\u001b[0m\u001b[0;34m,\u001b[0m\u001b[0;34m\u001b[0m\u001b[0;34m\u001b[0m\u001b[0m\n",
      "\u001b[0;32m~/miniconda3/envs/mlb/lib/python3.8/ssl.py\u001b[0m in \u001b[0;36m_create\u001b[0;34m(cls, sock, server_side, do_handshake_on_connect, suppress_ragged_eofs, server_hostname, context, session)\u001b[0m\n\u001b[1;32m   1038\u001b[0m                         \u001b[0;31m# non-blocking\u001b[0m\u001b[0;34m\u001b[0m\u001b[0;34m\u001b[0m\u001b[0;34m\u001b[0m\u001b[0m\n\u001b[1;32m   1039\u001b[0m                         \u001b[0;32mraise\u001b[0m \u001b[0mValueError\u001b[0m\u001b[0;34m(\u001b[0m\u001b[0;34m\"do_handshake_on_connect should not be specified for non-blocking sockets\"\u001b[0m\u001b[0;34m)\u001b[0m\u001b[0;34m\u001b[0m\u001b[0;34m\u001b[0m\u001b[0m\n\u001b[0;32m-> 1040\u001b[0;31m                     \u001b[0mself\u001b[0m\u001b[0;34m.\u001b[0m\u001b[0mdo_handshake\u001b[0m\u001b[0;34m(\u001b[0m\u001b[0;34m)\u001b[0m\u001b[0;34m\u001b[0m\u001b[0;34m\u001b[0m\u001b[0m\n\u001b[0m\u001b[1;32m   1041\u001b[0m             \u001b[0;32mexcept\u001b[0m \u001b[0;34m(\u001b[0m\u001b[0mOSError\u001b[0m\u001b[0;34m,\u001b[0m \u001b[0mValueError\u001b[0m\u001b[0;34m)\u001b[0m\u001b[0;34m:\u001b[0m\u001b[0;34m\u001b[0m\u001b[0;34m\u001b[0m\u001b[0m\n\u001b[1;32m   1042\u001b[0m                 \u001b[0mself\u001b[0m\u001b[0;34m.\u001b[0m\u001b[0mclose\u001b[0m\u001b[0;34m(\u001b[0m\u001b[0;34m)\u001b[0m\u001b[0;34m\u001b[0m\u001b[0;34m\u001b[0m\u001b[0m\n",
      "\u001b[0;32m~/miniconda3/envs/mlb/lib/python3.8/ssl.py\u001b[0m in \u001b[0;36mdo_handshake\u001b[0;34m(self, block)\u001b[0m\n\u001b[1;32m   1307\u001b[0m             \u001b[0;32mif\u001b[0m \u001b[0mtimeout\u001b[0m \u001b[0;34m==\u001b[0m \u001b[0;36m0.0\u001b[0m \u001b[0;32mand\u001b[0m \u001b[0mblock\u001b[0m\u001b[0;34m:\u001b[0m\u001b[0;34m\u001b[0m\u001b[0;34m\u001b[0m\u001b[0m\n\u001b[1;32m   1308\u001b[0m                 \u001b[0mself\u001b[0m\u001b[0;34m.\u001b[0m\u001b[0msettimeout\u001b[0m\u001b[0;34m(\u001b[0m\u001b[0;32mNone\u001b[0m\u001b[0;34m)\u001b[0m\u001b[0;34m\u001b[0m\u001b[0;34m\u001b[0m\u001b[0m\n\u001b[0;32m-> 1309\u001b[0;31m             \u001b[0mself\u001b[0m\u001b[0;34m.\u001b[0m\u001b[0m_sslobj\u001b[0m\u001b[0;34m.\u001b[0m\u001b[0mdo_handshake\u001b[0m\u001b[0;34m(\u001b[0m\u001b[0;34m)\u001b[0m\u001b[0;34m\u001b[0m\u001b[0;34m\u001b[0m\u001b[0m\n\u001b[0m\u001b[1;32m   1310\u001b[0m         \u001b[0;32mfinally\u001b[0m\u001b[0;34m:\u001b[0m\u001b[0;34m\u001b[0m\u001b[0;34m\u001b[0m\u001b[0m\n\u001b[1;32m   1311\u001b[0m             \u001b[0mself\u001b[0m\u001b[0;34m.\u001b[0m\u001b[0msettimeout\u001b[0m\u001b[0;34m(\u001b[0m\u001b[0mtimeout\u001b[0m\u001b[0;34m)\u001b[0m\u001b[0;34m\u001b[0m\u001b[0;34m\u001b[0m\u001b[0m\n",
      "\u001b[0;31mKeyboardInterrupt\u001b[0m: "
     ]
    }
   ],
   "source": [
    "import json\n",
    "\n",
    "with open('short_url.json') as json_file:\n",
    "    short_url = json.load(json_file)\n",
    "\n",
    "checked_url = pd.DataFrame(short_url).url.tolist()\n",
    "# checked_url = []\n",
    "# short_url = []\n",
    "x = 1084\n",
    "skip_those = [\"https://st.news/2ImPHpV\"]\n",
    "for c, i in enumerate(dfz.urls[x:]):\n",
    "    if (c + 1) % 100 == 0:\n",
    "        print(f\"{(c+1)} / {len(dfz.urls)}\")\n",
    "    for d in i:\n",
    "        if d in checked_url:\n",
    "            print(d)\n",
    "            pass\n",
    "        else:\n",
    "            print(c)\n",
    "            dd = get_domain(d)\n",
    "            e = expand_link(d)\n",
    "            de = get_domain(e)\n",
    "            short_url.append(\n",
    "                {\n",
    "                    \"url\": d,\n",
    "                    \"short_url\": dd,\n",
    "                    \"long_url\": de,\n",
    "                    \"is_news\": (de in news_domains),\n",
    "                    \"diff_url\": (de == dd),\n",
    "                }\n",
    "            )\n",
    "    with open(\"short_url.json\", \"w\") as file:\n",
    "        file.write(json.dumps(short_url, indent=4))"
   ]
  },
  {
   "cell_type": "code",
   "execution_count": null,
   "metadata": {},
   "outputs": [],
   "source": []
  },
  {
   "cell_type": "code",
   "execution_count": null,
   "metadata": {},
   "outputs": [],
   "source": []
  },
  {
   "cell_type": "code",
   "execution_count": null,
   "metadata": {},
   "outputs": [],
   "source": []
  },
  {
   "cell_type": "code",
   "execution_count": null,
   "metadata": {},
   "outputs": [],
   "source": []
  },
  {
   "cell_type": "code",
   "execution_count": null,
   "metadata": {},
   "outputs": [],
   "source": [
    "tweet= dfz[dfz.id == 1148208825721393153].reset_index(drop=True)[\"full_text\"][0]"
   ]
  },
  {
   "cell_type": "code",
   "execution_count": null,
   "metadata": {},
   "outputs": [],
   "source": [
    "find_url(tweet)"
   ]
  },
  {
   "cell_type": "code",
   "execution_count": null,
   "metadata": {},
   "outputs": [],
   "source": [
    "grab_title(find_url(tweet)[0])"
   ]
  },
  {
   "cell_type": "code",
   "execution_count": null,
   "metadata": {},
   "outputs": [],
   "source": [
    "%%time\n",
    "url = \"https://lukecarneal.substack.com/p/why-are-some-organic-farmers-turning\"\n",
    "print(HTMLSession().get(url).html.find('title', first=True).text)"
   ]
  },
  {
   "cell_type": "code",
   "execution_count": null,
   "metadata": {
    "scrolled": true
   },
   "outputs": [],
   "source": [
    "%%time\n",
    "tw_url = \"https://ruthmalan.com/Journal/2019/20190629SlideDocTechnicalLeadershipDecisions.pdf\"\n",
    "res = HTMLSession().get(tw_url)\n",
    "res.html.find('title', first=True)"
   ]
  },
  {
   "cell_type": "code",
   "execution_count": null,
   "metadata": {},
   "outputs": [],
   "source": [
    "# tw_url = grab_title(find_url(tweet)[0])\n",
    "# HTMLSession().get(tw_url)\n",
    "# try:\n",
    "#     title = HTMLSession().get(tw_url).html.find('title', first=True).text\n",
    "#     print(title)\n",
    "# except Exception as ex:\n",
    "#     print(0)"
   ]
  },
  {
   "cell_type": "code",
   "execution_count": null,
   "metadata": {
    "scrolled": false
   },
   "outputs": [],
   "source": [
    "import json\n",
    "\n",
    "with open('short_url.json') as json_file:\n",
    "    short_url = json.load(json_file)\n",
    "    \n",
    "checked_url = pd.DataFrame(short_url).url.tolist() \n",
    "    \n",
    "# short_url = []\n",
    "x = 59\n",
    "for c, i in enumerate(dfz.urls[x:]):\n",
    "    if (c + 1) % 100 == 0:\n",
    "        print(f\"{(c+1)} / {len(dfz.urls)}\")\n",
    "    for d in i:\n",
    "        if d in checked_url:\n",
    "            print(d)\n",
    "            pass\n",
    "        else:\n",
    "            print(c)\n",
    "            dd = get_domain(d)\n",
    "            e = expand_link(d)\n",
    "            de = get_domain(e)\n",
    "            short_url.append(\n",
    "                {\n",
    "                    \"url\": d,\n",
    "                    \"short_url\": dd,\n",
    "                    \"long_url\": de,\n",
    "                    \"title\": grab_title(d),\n",
    "                    \"is_news\": (de in news_domains),\n",
    "                    \"diff_url\": (de == dd),\n",
    "                }\n",
    "            )\n",
    "    with open(\"short_url.json\", \"w\") as file:\n",
    "        file.write(json.dumps(short_url, indent=4))"
   ]
  },
  {
   "cell_type": "code",
   "execution_count": null,
   "metadata": {},
   "outputs": [],
   "source": [
    "dfz.urls[1165:1166]"
   ]
  },
  {
   "cell_type": "code",
   "execution_count": null,
   "metadata": {
    "scrolled": true
   },
   "outputs": [],
   "source": [
    "x = 1166\n",
    "for c, i in enumerate(dfz.urls[x:]):\n",
    "    print(c+x, i)\n",
    "    if (c + x + 1) % 100 == 0:\n",
    "        print(f\"{(c+1)} / {len(dfz.urls)}\")\n",
    "    for d in i:\n",
    "        dd = get_domain(d)\n",
    "        e = expand_link(d)\n",
    "        de = get_domain(e)\n",
    "        if not (de == dd):\n",
    "            short_url.append(\n",
    "                {\"url\":d, \"short_url\": dd, \"long_url\": de, \"is_news\": (de in news_domains)}\n",
    "            )\n",
    "    with open('short_url.json', 'w') as file:\n",
    "        file.write(json.dumps(short_url, indent=4))"
   ]
  },
  {
   "cell_type": "code",
   "execution_count": null,
   "metadata": {},
   "outputs": [],
   "source": [
    "dfz.urls[3573:3574]"
   ]
  },
  {
   "cell_type": "code",
   "execution_count": null,
   "metadata": {},
   "outputs": [],
   "source": [
    "# x = 3574\n",
    "# for c, i in enumerate(dfz.urls[x:]):\n",
    "#     print(c+x, i)\n",
    "#     if (c + x + 1) % 100 == 0:\n",
    "#         print(f\"{(c+1)} / {len(dfz.urls)}\")\n",
    "#     for d in i:\n",
    "#         dd = get_domain(d)\n",
    "#         e = expand_link(d)\n",
    "#         de = get_domain(e)\n",
    "#         if not (de == dd):\n",
    "#             short_url.append(\n",
    "#                 {\"url\":d, \"short_url\": dd, \"long_url\": de, \"is_news\": (de in news_domains)}\n",
    "#             )\n",
    "#     with open('short_url.json', 'w') as file:\n",
    "#         file.write(json.dumps(short_url, indent=4))"
   ]
  },
  {
   "cell_type": "code",
   "execution_count": null,
   "metadata": {},
   "outputs": [],
   "source": [
    "dfz.urls[3586:3587]"
   ]
  },
  {
   "cell_type": "code",
   "execution_count": null,
   "metadata": {
    "scrolled": false
   },
   "outputs": [],
   "source": [
    "x = 3587\n",
    "for c, i in enumerate(dfz.urls[x:]):\n",
    "    print(c+x, i)\n",
    "    if (c + x + 1) % 100 == 0:\n",
    "        print(f\"{(c+1)} / {len(dfz.urls)}\")\n",
    "    for d in i:\n",
    "        dd = get_domain(d)\n",
    "        e = expand_link(d)\n",
    "        de = get_domain(e)\n",
    "        if not (de == dd):\n",
    "            short_url.append(\n",
    "                {\"url\":d, \"short_url\": dd, \"long_url\": de, \"is_news\": (de in news_domains)}\n",
    "            )\n",
    "    with open('short_url.json', 'w') as file:\n",
    "        file.write(json.dumps(short_url, indent=4))"
   ]
  },
  {
   "cell_type": "code",
   "execution_count": null,
   "metadata": {},
   "outputs": [],
   "source": [
    "dfz.urls[5652:5653]"
   ]
  },
  {
   "cell_type": "code",
   "execution_count": null,
   "metadata": {
    "scrolled": true
   },
   "outputs": [],
   "source": [
    "bitx = 5653\n",
    "for c, i in enumerate(dfz.urls[x:]):\n",
    "    print(c+x, i)\n",
    "    if (c+x+1) % 100 == 0:\n",
    "        print(f\"{(c+x+1)} / {len(dfz.urls)}\")\n",
    "    for d in i:\n",
    "        dd = get_domain(d)\n",
    "        e = expand_link(d)\n",
    "        de = get_domain(e)\n",
    "        if not (de == dd):\n",
    "            short_url.append({\"short_url\": dd, \"long_url\": de, \"is_news\": (de in news_domains)})\n",
    "    with open('short_url', 'w') as file:\n",
    "        file.write(json.dumps(short_url, indent=4))"
   ]
  }
 ],
 "metadata": {
  "kernelspec": {
   "display_name": "Python 3",
   "language": "python",
   "name": "python3"
  },
  "language_info": {
   "codemirror_mode": {
    "name": "ipython",
    "version": 3
   },
   "file_extension": ".py",
   "mimetype": "text/x-python",
   "name": "python",
   "nbconvert_exporter": "python",
   "pygments_lexer": "ipython3",
   "version": "3.8.5"
  },
  "varInspector": {
   "cols": {
    "lenName": 16,
    "lenType": 16,
    "lenVar": 40
   },
   "kernels_config": {
    "python": {
     "delete_cmd_postfix": "",
     "delete_cmd_prefix": "del ",
     "library": "var_list.py",
     "varRefreshCmd": "print(var_dic_list())"
    },
    "r": {
     "delete_cmd_postfix": ") ",
     "delete_cmd_prefix": "rm(",
     "library": "var_list.r",
     "varRefreshCmd": "cat(var_dic_list()) "
    }
   },
   "position": {
    "height": "642.15px",
    "left": "1714.93px",
    "right": "20px",
    "top": "120px",
    "width": "409.067px"
   },
   "types_to_exclude": [
    "module",
    "function",
    "builtin_function_or_method",
    "instance",
    "_Feature"
   ],
   "window_display": false
  }
 },
 "nbformat": 4,
 "nbformat_minor": 4
}
