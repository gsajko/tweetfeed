{
 "cells": [
  {
   "cell_type": "code",
   "execution_count": 7,
   "metadata": {},
   "outputs": [],
   "source": [
    "import os\n",
    "import re\n",
    "import pandas as pd\n",
    "import sys\n",
    "import math\n",
    "from twitter_to_sqlite import utils\n",
    "\n",
    "module_path = os.path.abspath(os.path.join(\"..\"))\n",
    "if module_path not in sys.path:\n",
    "    sys.path.append(module_path + \"/tweetfeed\")"
   ]
  },
  {
   "cell_type": "code",
   "execution_count": 8,
   "metadata": {},
   "outputs": [],
   "source": [
    "auth_path = \"../auth/auth.json\"\n",
    "owner_id = \"143058191\""
   ]
  },
  {
   "cell_type": "code",
   "execution_count": 9,
   "metadata": {},
   "outputs": [],
   "source": [
    "from data import load_tweets, find_news, get_domain, find_url\n",
    "from twitter_utils import timeout_handling, get_collection_id"
   ]
  },
  {
   "cell_type": "markdown",
   "metadata": {},
   "source": [
    "# add accounts to list"
   ]
  },
  {
   "cell_type": "code",
   "execution_count": 15,
   "metadata": {},
   "outputs": [],
   "source": [
    "def get_list_id(owner_id, list_name, auth_path):\n",
    "    auth = json.load(open(auth_path))\n",
    "    session = utils.session_for_auth(auth)\n",
    "    url = f\"https://api.twitter.com/1.1/lists/list.json?user_id={owner_id}\"\n",
    "    response = session.get(url)\n",
    "    timeout_handling(response, sleep=900)\n",
    "    while True:\n",
    "        if response.reason == \"OK\":\n",
    "            try:\n",
    "                list_id = \"\"\n",
    "                for item in response.json():\n",
    "                    if item[\"name\"] == list_name:\n",
    "                        list_id = item[\"id\"]\n",
    "                        return list_id\n",
    "                if list_id == \"\":\n",
    "                    raise ValueError(f\"ValueError: No list with '{list_name}' name\")\n",
    "            except ValueError:\n",
    "                raise"
   ]
  },
  {
   "cell_type": "code",
   "execution_count": 17,
   "metadata": {},
   "outputs": [
    {
     "data": {
      "text/plain": [
       "1351254441798807555"
      ]
     },
     "execution_count": 17,
     "metadata": {},
     "output_type": "execute_result"
    }
   ],
   "source": [
    "get_list_id(owner_id, \"muted\", auth_path)"
   ]
  },
  {
   "cell_type": "code",
   "execution_count": 19,
   "metadata": {},
   "outputs": [],
   "source": [
    "accounts = pd.read_csv(\"list.csv\", names=[\"acc\"]).acc.tolist()"
   ]
  },
  {
   "cell_type": "code",
   "execution_count": 58,
   "metadata": {},
   "outputs": [],
   "source": [
    "def add_to_list(owner_id, auth_path: str, accounts_list: list, list_name: str):\n",
    "    auth = json.load(open(auth_path))\n",
    "    session = utils.session_for_auth(auth)\n",
    "    muted_list = get_list_id(owner_id, list_name, auth_path)\n",
    "    for i in accounts_list:\n",
    "        try:\n",
    "            url = f\"https://api.twitter.com/1.1/lists/members/create.json?screen_name={i}&list_id={muted_list}\"\n",
    "            response = session.post(url)\n",
    "            while response.reason != \"OK\":\n",
    "                print(response.reason, response.text)\n",
    "                if response.reason == \"Too Many Requests\":\n",
    "                    print(f\"Rate limit error - waiting for {sleep} seconds\")\n",
    "                    time.sleep(sleep)\n",
    "                else:\n",
    "                    break\n",
    "            if \"errors\" in response.json():\n",
    "                print(i, \": \", response.json()[\"errors\"][0][\"message\"])\n",
    "        except Exception as ex:\n",
    "            raise(ex)\n",
    "    print(\"Done!\")"
   ]
  },
  {
   "cell_type": "code",
   "execution_count": null,
   "metadata": {},
   "outputs": [],
   "source": [
    "# TODO - refractor with create_all? also - create new list ?"
   ]
  },
  {
   "cell_type": "code",
   "execution_count": 59,
   "metadata": {
    "scrolled": false
   },
   "outputs": [
    {
     "name": "stdout",
     "output_type": "stream",
     "text": [
      "Done!\n"
     ]
    }
   ],
   "source": [
    "# add_to_list(owner_id, auth_path, accounts, \"nytblock\")"
   ]
  },
  {
   "cell_type": "code",
   "execution_count": 64,
   "metadata": {},
   "outputs": [],
   "source": [
    "from twitter_utils import timeout_handling, get_users_from_list"
   ]
  },
  {
   "cell_type": "code",
   "execution_count": 65,
   "metadata": {},
   "outputs": [],
   "source": [
    "mutedacc_rich = get_users_from_list(owner_id, auth_path, list_name=\"muted\")"
   ]
  },
  {
   "cell_type": "code",
   "execution_count": 76,
   "metadata": {},
   "outputs": [],
   "source": [
    "mutedacc = [user[\"id\"] for user in mutedacc_rich]"
   ]
  },
  {
   "cell_type": "code",
   "execution_count": 77,
   "metadata": {},
   "outputs": [],
   "source": [
    "def remove_to_list(owner_id, auth_path: str, accounts_list: list, list_name: str):\n",
    "    auth = json.load(open(auth_path))\n",
    "    session = utils.session_for_auth(auth)\n",
    "    muted_list = get_list_id(owner_id, list_name, auth_path)\n",
    "    for i in accounts_list:\n",
    "        try:\n",
    "            url = f\"https://api.twitter.com/1.1/lists/members/destroy.json?user_id={i}&list_id={muted_list}\"\n",
    "            response = session.post(url)\n",
    "            while response.reason != \"OK\":\n",
    "                print(response.reason, response.text)\n",
    "                if response.reason == \"Too Many Requests\":\n",
    "                    print(f\"Rate limit error - waiting for {sleep} seconds\")\n",
    "                    time.sleep(sleep)\n",
    "                else:\n",
    "                    break\n",
    "            if \"errors\" in response.json():\n",
    "                print(i, \": \", response.json()[\"errors\"][0][\"message\"])\n",
    "        except Exception as ex:\n",
    "            raise(ex)\n",
    "    print(\"Done!\")"
   ]
  },
  {
   "cell_type": "code",
   "execution_count": 78,
   "metadata": {},
   "outputs": [
    {
     "name": "stdout",
     "output_type": "stream",
     "text": [
      "Bad Request {\"errors\":[{\"code\":110,\"message\":\"The user you are trying to remove from the list is not a member.\"}]}\n",
      "2859448331 :  The user you are trying to remove from the list is not a member.\n",
      "Bad Request {\"errors\":[{\"code\":110,\"message\":\"The user you are trying to remove from the list is not a member.\"}]}\n",
      "1269670536 :  The user you are trying to remove from the list is not a member.\n",
      "Bad Request {\"errors\":[{\"code\":110,\"message\":\"The user you are trying to remove from the list is not a member.\"}]}\n",
      "369931522 :  The user you are trying to remove from the list is not a member.\n",
      "Done!\n"
     ]
    }
   ],
   "source": [
    "# remove_to_list(owner_id, auth_path, mutedacc, \"nytblock\")"
   ]
  },
  {
   "cell_type": "code",
   "execution_count": null,
   "metadata": {},
   "outputs": [],
   "source": []
  }
 ],
 "metadata": {
  "kernelspec": {
   "display_name": "Python 3",
   "language": "python",
   "name": "python3"
  },
  "language_info": {
   "codemirror_mode": {
    "name": "ipython",
    "version": 3
   },
   "file_extension": ".py",
   "mimetype": "text/x-python",
   "name": "python",
   "nbconvert_exporter": "python",
   "pygments_lexer": "ipython3",
   "version": "3.8.5"
  },
  "varInspector": {
   "cols": {
    "lenName": 16,
    "lenType": 16,
    "lenVar": 40
   },
   "kernels_config": {
    "python": {
     "delete_cmd_postfix": "",
     "delete_cmd_prefix": "del ",
     "library": "var_list.py",
     "varRefreshCmd": "print(var_dic_list())"
    },
    "r": {
     "delete_cmd_postfix": ") ",
     "delete_cmd_prefix": "rm(",
     "library": "var_list.r",
     "varRefreshCmd": "cat(var_dic_list()) "
    }
   },
   "types_to_exclude": [
    "module",
    "function",
    "builtin_function_or_method",
    "instance",
    "_Feature"
   ],
   "window_display": false
  }
 },
 "nbformat": 4,
 "nbformat_minor": 4
}
