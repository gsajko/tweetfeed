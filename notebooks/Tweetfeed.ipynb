{
 "cells": [
  {
   "cell_type": "markdown",
   "metadata": {},
   "source": [
    "# tweetfeed"
   ]
  },
  {
   "cell_type": "markdown",
   "metadata": {},
   "source": [
    "# Data"
   ]
  },
  {
   "cell_type": "code",
   "execution_count": 1,
   "metadata": {},
   "outputs": [],
   "source": [
    "import os\n",
    "import pandas as pd\n",
    "import sys\n",
    "import re\n",
    "from urllib.parse import urlparse\n",
    "import numpy as np\n"
   ]
  },
  {
   "cell_type": "code",
   "execution_count": 2,
   "metadata": {},
   "outputs": [],
   "source": [
    "module_path = os.path.abspath(os.path.join(\"..\"))\n",
    "if module_path not in sys.path:\n",
    "    sys.path.append(module_path + \"/tweetfeed\")\n",
    "    \n",
    "from data import load_tweets,find_news"
   ]
  },
  {
   "cell_type": "code",
   "execution_count": 3,
   "metadata": {},
   "outputs": [],
   "source": [
    "import tweepy\n",
    "#auth = tweepy.OAuthHandler(consumer_key, consumer_secret)\n",
    "api = tweepy.API(wait_on_rate_limit=True)\n",
    "\n",
    "class Tweet(object):\n",
    "    def __init__(self, embed_str=None):\n",
    "        self.embed_str = embed_str\n",
    "\n",
    "    def _repr_html_(self):\n",
    "        return self.embed_str\n",
    "    \n",
    "def embed_str(idx):\n",
    "    return api.get_oembed(idx)[\"html\"]"
   ]
  },
  {
   "cell_type": "code",
   "execution_count": 4,
   "metadata": {},
   "outputs": [],
   "source": [
    "# df = load_tweets(\"../home.db\", days=24)\n",
    "# df.to_pickle(\"tweetfeed.pkl\")"
   ]
  },
  {
   "cell_type": "code",
   "execution_count": 5,
   "metadata": {},
   "outputs": [
    {
     "data": {
      "text/plain": [
       "(55485, 9)"
      ]
     },
     "execution_count": 5,
     "metadata": {},
     "output_type": "execute_result"
    }
   ],
   "source": [
    "df = pd.read_pickle(\"tweetfeed.pkl\"); df.shape"
   ]
  },
  {
   "cell_type": "code",
   "execution_count": 6,
   "metadata": {},
   "outputs": [
    {
     "data": {
      "text/html": [
       "<div>\n",
       "<style scoped>\n",
       "    .dataframe tbody tr th:only-of-type {\n",
       "        vertical-align: middle;\n",
       "    }\n",
       "\n",
       "    .dataframe tbody tr th {\n",
       "        vertical-align: top;\n",
       "    }\n",
       "\n",
       "    .dataframe thead th {\n",
       "        text-align: right;\n",
       "    }\n",
       "</style>\n",
       "<table border=\"1\" class=\"dataframe\">\n",
       "  <thead>\n",
       "    <tr style=\"text-align: right;\">\n",
       "      <th></th>\n",
       "      <th>id</th>\n",
       "      <th>user</th>\n",
       "      <th>full_text</th>\n",
       "      <th>created_at</th>\n",
       "      <th>lang</th>\n",
       "      <th>retweeted_status</th>\n",
       "      <th>quoted_status</th>\n",
       "      <th>is_quote_status</th>\n",
       "      <th>in_reply_to_status_id</th>\n",
       "    </tr>\n",
       "  </thead>\n",
       "  <tbody>\n",
       "    <tr>\n",
       "      <th>0</th>\n",
       "      <td>5596520</td>\n",
       "      <td>713143</td>\n",
       "      <td>soo hungry need to find my wife and head to pf...</td>\n",
       "      <td>2007-02-20T02:43:19+00:00</td>\n",
       "      <td>en</td>\n",
       "      <td>N/A</td>\n",
       "      <td>N/A</td>\n",
       "      <td>0</td>\n",
       "      <td>N/A</td>\n",
       "    </tr>\n",
       "    <tr>\n",
       "      <th>1</th>\n",
       "      <td>154674522</td>\n",
       "      <td>7193842</td>\n",
       "      <td>Hofstadter’s Law: A task always takes longer t...</td>\n",
       "      <td>2007-07-17T20:45:46+00:00</td>\n",
       "      <td>en</td>\n",
       "      <td>N/A</td>\n",
       "      <td>N/A</td>\n",
       "      <td>0</td>\n",
       "      <td>N/A</td>\n",
       "    </tr>\n",
       "    <tr>\n",
       "      <th>2</th>\n",
       "      <td>412145582</td>\n",
       "      <td>4829901</td>\n",
       "      <td>Adobe Updater must update itself before instal...</td>\n",
       "      <td>2007-11-13T21:45:35+00:00</td>\n",
       "      <td>en</td>\n",
       "      <td>N/A</td>\n",
       "      <td>N/A</td>\n",
       "      <td>0</td>\n",
       "      <td>N/A</td>\n",
       "    </tr>\n",
       "    <tr>\n",
       "      <th>3</th>\n",
       "      <td>922321981</td>\n",
       "      <td>16298441</td>\n",
       "      <td>no</td>\n",
       "      <td>2008-09-15T17:25:20+00:00</td>\n",
       "      <td>und</td>\n",
       "      <td>N/A</td>\n",
       "      <td>N/A</td>\n",
       "      <td>0</td>\n",
       "      <td>N/A</td>\n",
       "    </tr>\n",
       "    <tr>\n",
       "      <th>4</th>\n",
       "      <td>2627602600</td>\n",
       "      <td>21454322</td>\n",
       "      <td>Went on a USO trip to Guantanamo Bay, Cuba a f...</td>\n",
       "      <td>2009-07-14T05:15:27+00:00</td>\n",
       "      <td>en</td>\n",
       "      <td>N/A</td>\n",
       "      <td>N/A</td>\n",
       "      <td>0</td>\n",
       "      <td>N/A</td>\n",
       "    </tr>\n",
       "  </tbody>\n",
       "</table>\n",
       "</div>"
      ],
      "text/plain": [
       "           id      user                                          full_text  \\\n",
       "0     5596520    713143  soo hungry need to find my wife and head to pf...   \n",
       "1   154674522   7193842  Hofstadter’s Law: A task always takes longer t...   \n",
       "2   412145582   4829901  Adobe Updater must update itself before instal...   \n",
       "3   922321981  16298441                                                 no   \n",
       "4  2627602600  21454322  Went on a USO trip to Guantanamo Bay, Cuba a f...   \n",
       "\n",
       "                  created_at lang retweeted_status quoted_status  \\\n",
       "0  2007-02-20T02:43:19+00:00   en              N/A           N/A   \n",
       "1  2007-07-17T20:45:46+00:00   en              N/A           N/A   \n",
       "2  2007-11-13T21:45:35+00:00   en              N/A           N/A   \n",
       "3  2008-09-15T17:25:20+00:00  und              N/A           N/A   \n",
       "4  2009-07-14T05:15:27+00:00   en              N/A           N/A   \n",
       "\n",
       "   is_quote_status in_reply_to_status_id  \n",
       "0                0                   N/A  \n",
       "1                0                   N/A  \n",
       "2                0                   N/A  \n",
       "3                0                   N/A  \n",
       "4                0                   N/A  "
      ]
     },
     "execution_count": 6,
     "metadata": {},
     "output_type": "execute_result"
    }
   ],
   "source": [
    "df.head()"
   ]
  },
  {
   "cell_type": "markdown",
   "metadata": {},
   "source": [
    "### Retweets\n",
    "\n",
    "Retweets should be removed - tweets that are retweeted are in the database, and contain full text of a tweet, icluding links and urls. This is not a case for retweets. \n",
    "\n",
    "They have `RT ` in front of the tweet, and are often cut at the end.\n",
    "\n",
    "Retweets don't add anything to consversation, they just amplify signal."
   ]
  },
  {
   "cell_type": "code",
   "execution_count": 7,
   "metadata": {},
   "outputs": [
    {
     "data": {
      "text/plain": [
       "'RT @SophieCo_RT: Life = Matter + Information - chasing the formula of our existence with physicist and cosmologist, Prof. Paul Davies @Beyo…'"
      ]
     },
     "execution_count": 7,
     "metadata": {},
     "output_type": "execute_result"
    }
   ],
   "source": [
    "# Retweet\n",
    "df[df[\"id\"] == 1340085773203193856].iloc[0].full_text"
   ]
  },
  {
   "cell_type": "code",
   "execution_count": 8,
   "metadata": {},
   "outputs": [
    {
     "data": {
      "text/plain": [
       "'Life = Matter + Information - chasing the formula of our existence with physicist and cosmologist, Prof. Paul Davies @Beyond_ASU: https://www.rt.com/shows/sophieco-visionaries/510041-paul-davies-life-definition/ https://twitter.com/SophieCo_RT/status/1339896134291091458/video/1'"
      ]
     },
     "execution_count": 8,
     "metadata": {},
     "output_type": "execute_result"
    }
   ],
   "source": [
    "# Retweeted tweet\n",
    "df[df[\"id\"] == 1339896134291091458].iloc[0].full_text"
   ]
  },
  {
   "cell_type": "code",
   "execution_count": 9,
   "metadata": {},
   "outputs": [
    {
     "data": {
      "text/plain": [
       "(44125, 9)"
      ]
     },
     "execution_count": 9,
     "metadata": {},
     "output_type": "execute_result"
    }
   ],
   "source": [
    "# filter out retweets - retweeted tweets are in the database\n",
    "# so RT only dup\n",
    "df = df[df[\"retweeted_status\"] == \"N/A\"] ; df.shape"
   ]
  },
  {
   "cell_type": "markdown",
   "metadata": {},
   "source": [
    "## Reviewed tweets"
   ]
  },
  {
   "cell_type": "code",
   "execution_count": 10,
   "metadata": {},
   "outputs": [
    {
     "data": {
      "text/plain": [
       "(7620, 2)"
      ]
     },
     "execution_count": 10,
     "metadata": {},
     "output_type": "execute_result"
    }
   ],
   "source": [
    "reviewed_df = pd.read_csv(\"../tweetfeed/data/seen.csv\"); reviewed_df.shape"
   ]
  },
  {
   "cell_type": "code",
   "execution_count": 11,
   "metadata": {},
   "outputs": [
    {
     "data": {
      "text/plain": [
       "no_errors          5837\n",
       "not_found          1641\n",
       "protected_tweet     142\n",
       "Name: err_reason, dtype: int64"
      ]
     },
     "execution_count": 11,
     "metadata": {},
     "output_type": "execute_result"
    }
   ],
   "source": [
    "reviewed_df[\"err_reason\"].value_counts()"
   ]
  },
  {
   "cell_type": "code",
   "execution_count": 12,
   "metadata": {},
   "outputs": [
    {
     "data": {
      "text/plain": [
       "(43924, 9)"
      ]
     },
     "execution_count": 12,
     "metadata": {},
     "output_type": "execute_result"
    }
   ],
   "source": [
    "deleted_tweets = reviewed_df[reviewed_df.err_reason == \"not_found\"].tweet_id.tolist()\n",
    "df = df[~df[\"id\"].isin(deleted_tweets)]; df.shape"
   ]
  },
  {
   "cell_type": "code",
   "execution_count": 13,
   "metadata": {},
   "outputs": [],
   "source": [
    "### let's deal only with tweet that are in English"
   ]
  },
  {
   "cell_type": "code",
   "execution_count": 14,
   "metadata": {},
   "outputs": [
    {
     "data": {
      "text/plain": [
       "(40433, 9)"
      ]
     },
     "execution_count": 14,
     "metadata": {},
     "output_type": "execute_result"
    }
   ],
   "source": [
    "df = df[df[\"lang\"] == \"en\"]; df.shape"
   ]
  },
  {
   "cell_type": "markdown",
   "metadata": {},
   "source": [
    "## Augmentation"
   ]
  },
  {
   "cell_type": "markdown",
   "metadata": {},
   "source": [
    "### Finding news related tweets"
   ]
  },
  {
   "cell_type": "code",
   "execution_count": 15,
   "metadata": {},
   "outputs": [],
   "source": [
    "with open(\"../tweetfeed/data/news_domains.txt\", \"r\") as f:\n",
    "    news_domains = json.loads(f.read())\n",
    "# df = find_news(df, news_domains); df.shape"
   ]
  },
  {
   "cell_type": "code",
   "execution_count": 16,
   "metadata": {},
   "outputs": [],
   "source": [
    "df_news = df.copy()"
   ]
  },
  {
   "cell_type": "code",
   "execution_count": 17,
   "metadata": {},
   "outputs": [],
   "source": [
    "def remove_tw_urls(tweet: str) -> str:\n",
    "    \"\"\"removes twitter links / urls from tweet\"\"\"\n",
    "    tweet = re.sub(r\"https://twitter.com/\\S+\", \"\", tweet)\n",
    "    tweet = re.sub(r\"http://twitter.com/\\S+\", \"\", tweet)\n",
    "    tweet = re.sub(r\"https://api.twitter.com/\\S+\", \"\", tweet)\n",
    "    tweet = re.sub(r\"http://api.twitter.com/\\S+\", \"\", tweet)\n",
    "    return tweet\n",
    "\n",
    "def rem_short_links(tweet: str) -> str:\n",
    "    \"\"\"removes some of short links (bit.ly, buff.ly, t.co) from tweets\"\"\"\n",
    "    tweet = re.sub(r\"https://bit.ly/\\S+\", \"\", tweet)\n",
    "    tweet = re.sub(r\"http://bit.ly/\\S+\", \"\", tweet)\n",
    "    tweet = re.sub(r\"https://buff.ly/\\S+\", \"\", tweet)\n",
    "    tweet = re.sub(r\"http://buff.ly/\\S+\", \"\", tweet)\n",
    "    tweet = re.sub(r\"https://t.co/\\S+\", \"\", tweet)\n",
    "    tweet = re.sub(r\"http://t.co/\\S+\", \"\", tweet)\n",
    "    return tweet"
   ]
  },
  {
   "cell_type": "code",
   "execution_count": 18,
   "metadata": {},
   "outputs": [],
   "source": [
    "df_news[\"clean_text\"] = df_news[\"full_text\"].apply(remove_tw_urls).apply(rem_short_links)"
   ]
  },
  {
   "cell_type": "code",
   "execution_count": 19,
   "metadata": {
    "scrolled": true
   },
   "outputs": [
    {
     "data": {
      "text/plain": [
       "'Your twitter timeline as an interface to your mind. Someone liking your tweets can force you to have those thoughts.'"
      ]
     },
     "execution_count": 19,
     "metadata": {},
     "output_type": "execute_result"
    }
   ],
   "source": [
    "df_news[df_news[\"clean_text\"].str.contains(\"twitter\")].iloc[0].full_text"
   ]
  },
  {
   "cell_type": "code",
   "execution_count": 20,
   "metadata": {},
   "outputs": [
    {
     "data": {
      "text/html": [
       "<div>\n",
       "<style scoped>\n",
       "    .dataframe tbody tr th:only-of-type {\n",
       "        vertical-align: middle;\n",
       "    }\n",
       "\n",
       "    .dataframe tbody tr th {\n",
       "        vertical-align: top;\n",
       "    }\n",
       "\n",
       "    .dataframe thead th {\n",
       "        text-align: right;\n",
       "    }\n",
       "</style>\n",
       "<table border=\"1\" class=\"dataframe\">\n",
       "  <thead>\n",
       "    <tr style=\"text-align: right;\">\n",
       "      <th></th>\n",
       "      <th>id</th>\n",
       "      <th>user</th>\n",
       "      <th>full_text</th>\n",
       "      <th>created_at</th>\n",
       "      <th>lang</th>\n",
       "      <th>retweeted_status</th>\n",
       "      <th>quoted_status</th>\n",
       "      <th>is_quote_status</th>\n",
       "      <th>in_reply_to_status_id</th>\n",
       "      <th>clean_text</th>\n",
       "    </tr>\n",
       "  </thead>\n",
       "  <tbody>\n",
       "  </tbody>\n",
       "</table>\n",
       "</div>"
      ],
      "text/plain": [
       "Empty DataFrame\n",
       "Columns: [id, user, full_text, created_at, lang, retweeted_status, quoted_status, is_quote_status, in_reply_to_status_id, clean_text]\n",
       "Index: []"
      ]
     },
     "execution_count": 20,
     "metadata": {},
     "output_type": "execute_result"
    }
   ],
   "source": [
    "df_news[df_news[\"clean_text\"].str.contains(\"bit.ly\")]"
   ]
  },
  {
   "cell_type": "code",
   "execution_count": 21,
   "metadata": {},
   "outputs": [],
   "source": [
    "def find_url(tweet: str) -> list:\n",
    "    \"\"\"find all urls in string and returns a list of all urls\"\"\"\n",
    "    return re.findall(r\"http\\S+\", tweet)"
   ]
  },
  {
   "cell_type": "code",
   "execution_count": 22,
   "metadata": {},
   "outputs": [],
   "source": [
    "df_news[\"urls\"] = df_news[\"clean_text\"].apply(find_url) "
   ]
  },
  {
   "cell_type": "code",
   "execution_count": 23,
   "metadata": {},
   "outputs": [],
   "source": [
    "df_news.drop([\"clean_text\"], axis=1, inplace=True)"
   ]
  },
  {
   "cell_type": "code",
   "execution_count": 24,
   "metadata": {},
   "outputs": [],
   "source": [
    "def get_domain(url: str) -> str:\n",
    "    \"\"\"extracts domain from url, returns it\"\"\"\n",
    "    domain = urlparse(url).netloc.replace(\"www.\", \"\")\n",
    "    dot_split = domain.split(\".\")\n",
    "    if (len(dot_split) > 2) & (\n",
    "        dot_split[-1] == \"com\"\n",
    "    ):  # for links like \"edition.cnn.com\", but not like \"site.co.nz\"\n",
    "        return \".\".join(dot_split[1:])\n",
    "    else:\n",
    "        return domain\n",
    "def remove_empty_str(string_list: list) -> list:\n",
    "    \"\"\"removes items that are empty strings from the list\"\"\"\n",
    "    for i in string_list:\n",
    "        if len(string_list) == 0:\n",
    "            string_list.remove(i)\n",
    "    return string_list"
   ]
  },
  {
   "cell_type": "code",
   "execution_count": 25,
   "metadata": {},
   "outputs": [],
   "source": [
    "df_news[\"domains\"] = df_news.urls.apply(lambda x: [get_domain(d) for d in x]).apply(\n",
    "    remove_empty_str\n",
    ")\n",
    "df_news.drop([\"urls\"], axis=1, inplace=True)"
   ]
  },
  {
   "cell_type": "code",
   "execution_count": 26,
   "metadata": {},
   "outputs": [],
   "source": [
    "# get max value of domains, expand each one to new column (unpack from list)\n",
    "new_columns_list = []\n",
    "max_nr_dom = df_news.domains.str.len().max()\n",
    "for i in range(max_nr_dom):\n",
    "    new_columns_list.append(f\"domain{i+1}\")\n",
    "df_news.reset_index(drop=True, inplace=True)\n",
    "df_news[new_columns_list] = pd.DataFrame(df_news.domains.tolist())\n",
    "\n",
    "for col in new_columns_list:\n",
    "    df_news[col] = df_news[col].isin(news_domains)"
   ]
  },
  {
   "cell_type": "code",
   "execution_count": 27,
   "metadata": {},
   "outputs": [
    {
     "data": {
      "text/html": [
       "<div>\n",
       "<style scoped>\n",
       "    .dataframe tbody tr th:only-of-type {\n",
       "        vertical-align: middle;\n",
       "    }\n",
       "\n",
       "    .dataframe tbody tr th {\n",
       "        vertical-align: top;\n",
       "    }\n",
       "\n",
       "    .dataframe thead th {\n",
       "        text-align: right;\n",
       "    }\n",
       "</style>\n",
       "<table border=\"1\" class=\"dataframe\">\n",
       "  <thead>\n",
       "    <tr style=\"text-align: right;\">\n",
       "      <th></th>\n",
       "      <th>id</th>\n",
       "      <th>domains</th>\n",
       "      <th>domain1</th>\n",
       "      <th>domain2</th>\n",
       "      <th>domain3</th>\n",
       "      <th>domain4</th>\n",
       "      <th>domain5</th>\n",
       "      <th>domain6</th>\n",
       "    </tr>\n",
       "  </thead>\n",
       "  <tbody>\n",
       "    <tr>\n",
       "      <th>0</th>\n",
       "      <td>5596520</td>\n",
       "      <td>[]</td>\n",
       "      <td>False</td>\n",
       "      <td>False</td>\n",
       "      <td>False</td>\n",
       "      <td>False</td>\n",
       "      <td>False</td>\n",
       "      <td>False</td>\n",
       "    </tr>\n",
       "    <tr>\n",
       "      <th>1</th>\n",
       "      <td>154674522</td>\n",
       "      <td>[]</td>\n",
       "      <td>False</td>\n",
       "      <td>False</td>\n",
       "      <td>False</td>\n",
       "      <td>False</td>\n",
       "      <td>False</td>\n",
       "      <td>False</td>\n",
       "    </tr>\n",
       "    <tr>\n",
       "      <th>2</th>\n",
       "      <td>412145582</td>\n",
       "      <td>[]</td>\n",
       "      <td>False</td>\n",
       "      <td>False</td>\n",
       "      <td>False</td>\n",
       "      <td>False</td>\n",
       "      <td>False</td>\n",
       "      <td>False</td>\n",
       "    </tr>\n",
       "    <tr>\n",
       "      <th>3</th>\n",
       "      <td>2627602600</td>\n",
       "      <td>[]</td>\n",
       "      <td>False</td>\n",
       "      <td>False</td>\n",
       "      <td>False</td>\n",
       "      <td>False</td>\n",
       "      <td>False</td>\n",
       "      <td>False</td>\n",
       "    </tr>\n",
       "    <tr>\n",
       "      <th>4</th>\n",
       "      <td>35122446658965504</td>\n",
       "      <td>[]</td>\n",
       "      <td>False</td>\n",
       "      <td>False</td>\n",
       "      <td>False</td>\n",
       "      <td>False</td>\n",
       "      <td>False</td>\n",
       "      <td>False</td>\n",
       "    </tr>\n",
       "    <tr>\n",
       "      <th>5</th>\n",
       "      <td>35466982635601920</td>\n",
       "      <td>[bitcoincharts.com]</td>\n",
       "      <td>False</td>\n",
       "      <td>False</td>\n",
       "      <td>False</td>\n",
       "      <td>False</td>\n",
       "      <td>False</td>\n",
       "      <td>False</td>\n",
       "    </tr>\n",
       "    <tr>\n",
       "      <th>6</th>\n",
       "      <td>70261648811761665</td>\n",
       "      <td>[]</td>\n",
       "      <td>False</td>\n",
       "      <td>False</td>\n",
       "      <td>False</td>\n",
       "      <td>False</td>\n",
       "      <td>False</td>\n",
       "      <td>False</td>\n",
       "    </tr>\n",
       "    <tr>\n",
       "      <th>7</th>\n",
       "      <td>71705067115388928</td>\n",
       "      <td>[]</td>\n",
       "      <td>False</td>\n",
       "      <td>False</td>\n",
       "      <td>False</td>\n",
       "      <td>False</td>\n",
       "      <td>False</td>\n",
       "      <td>False</td>\n",
       "    </tr>\n",
       "    <tr>\n",
       "      <th>8</th>\n",
       "      <td>177008089394970624</td>\n",
       "      <td>[cnn.com]</td>\n",
       "      <td>True</td>\n",
       "      <td>False</td>\n",
       "      <td>False</td>\n",
       "      <td>False</td>\n",
       "      <td>False</td>\n",
       "      <td>False</td>\n",
       "    </tr>\n",
       "    <tr>\n",
       "      <th>9</th>\n",
       "      <td>193480622533120001</td>\n",
       "      <td>[]</td>\n",
       "      <td>False</td>\n",
       "      <td>False</td>\n",
       "      <td>False</td>\n",
       "      <td>False</td>\n",
       "      <td>False</td>\n",
       "      <td>False</td>\n",
       "    </tr>\n",
       "  </tbody>\n",
       "</table>\n",
       "</div>"
      ],
      "text/plain": [
       "                   id              domains  domain1  domain2  domain3  \\\n",
       "0             5596520                   []    False    False    False   \n",
       "1           154674522                   []    False    False    False   \n",
       "2           412145582                   []    False    False    False   \n",
       "3          2627602600                   []    False    False    False   \n",
       "4   35122446658965504                   []    False    False    False   \n",
       "5   35466982635601920  [bitcoincharts.com]    False    False    False   \n",
       "6   70261648811761665                   []    False    False    False   \n",
       "7   71705067115388928                   []    False    False    False   \n",
       "8  177008089394970624            [cnn.com]     True    False    False   \n",
       "9  193480622533120001                   []    False    False    False   \n",
       "\n",
       "   domain4  domain5  domain6  \n",
       "0    False    False    False  \n",
       "1    False    False    False  \n",
       "2    False    False    False  \n",
       "3    False    False    False  \n",
       "4    False    False    False  \n",
       "5    False    False    False  \n",
       "6    False    False    False  \n",
       "7    False    False    False  \n",
       "8    False    False    False  \n",
       "9    False    False    False  "
      ]
     },
     "execution_count": 27,
     "metadata": {},
     "output_type": "execute_result"
    }
   ],
   "source": [
    "df_news[[\n",
    "    \"id\", \"domains\", \"domain1\", \"domain2\", \"domain3\", \"domain4\", \"domain5\", \"domain6\"\n",
    "]].head(10)"
   ]
  },
  {
   "cell_type": "code",
   "execution_count": 28,
   "metadata": {},
   "outputs": [
    {
     "data": {
      "text/html": [
       "<div>\n",
       "<style scoped>\n",
       "    .dataframe tbody tr th:only-of-type {\n",
       "        vertical-align: middle;\n",
       "    }\n",
       "\n",
       "    .dataframe tbody tr th {\n",
       "        vertical-align: top;\n",
       "    }\n",
       "\n",
       "    .dataframe thead th {\n",
       "        text-align: right;\n",
       "    }\n",
       "</style>\n",
       "<table border=\"1\" class=\"dataframe\">\n",
       "  <thead>\n",
       "    <tr style=\"text-align: right;\">\n",
       "      <th></th>\n",
       "      <th>id</th>\n",
       "      <th>domains</th>\n",
       "      <th>domain1</th>\n",
       "      <th>domain2</th>\n",
       "      <th>domain3</th>\n",
       "      <th>domain4</th>\n",
       "      <th>domain5</th>\n",
       "      <th>domain6</th>\n",
       "    </tr>\n",
       "  </thead>\n",
       "  <tbody>\n",
       "    <tr>\n",
       "      <th>8</th>\n",
       "      <td>177008089394970624</td>\n",
       "      <td>[cnn.com]</td>\n",
       "      <td>True</td>\n",
       "      <td>False</td>\n",
       "      <td>False</td>\n",
       "      <td>False</td>\n",
       "      <td>False</td>\n",
       "      <td>False</td>\n",
       "    </tr>\n",
       "    <tr>\n",
       "      <th>53</th>\n",
       "      <td>703286688064221184</td>\n",
       "      <td>[nature.com]</td>\n",
       "      <td>True</td>\n",
       "      <td>False</td>\n",
       "      <td>False</td>\n",
       "      <td>False</td>\n",
       "      <td>False</td>\n",
       "      <td>False</td>\n",
       "    </tr>\n",
       "    <tr>\n",
       "      <th>69</th>\n",
       "      <td>814110461436235776</td>\n",
       "      <td>[bloom.bg]</td>\n",
       "      <td>True</td>\n",
       "      <td>False</td>\n",
       "      <td>False</td>\n",
       "      <td>False</td>\n",
       "      <td>False</td>\n",
       "      <td>False</td>\n",
       "    </tr>\n",
       "    <tr>\n",
       "      <th>81</th>\n",
       "      <td>848731022854205440</td>\n",
       "      <td>[nyti.ms]</td>\n",
       "      <td>True</td>\n",
       "      <td>False</td>\n",
       "      <td>False</td>\n",
       "      <td>False</td>\n",
       "      <td>False</td>\n",
       "      <td>False</td>\n",
       "    </tr>\n",
       "    <tr>\n",
       "      <th>162</th>\n",
       "      <td>986941808348409856</td>\n",
       "      <td>[theguardian.com]</td>\n",
       "      <td>True</td>\n",
       "      <td>False</td>\n",
       "      <td>False</td>\n",
       "      <td>False</td>\n",
       "      <td>False</td>\n",
       "      <td>False</td>\n",
       "    </tr>\n",
       "    <tr>\n",
       "      <th>225</th>\n",
       "      <td>1051756275585843201</td>\n",
       "      <td>[coindesk.com]</td>\n",
       "      <td>True</td>\n",
       "      <td>False</td>\n",
       "      <td>False</td>\n",
       "      <td>False</td>\n",
       "      <td>False</td>\n",
       "      <td>False</td>\n",
       "    </tr>\n",
       "    <tr>\n",
       "      <th>241</th>\n",
       "      <td>1065383519419912193</td>\n",
       "      <td>[philly.com]</td>\n",
       "      <td>True</td>\n",
       "      <td>False</td>\n",
       "      <td>False</td>\n",
       "      <td>False</td>\n",
       "      <td>False</td>\n",
       "      <td>False</td>\n",
       "    </tr>\n",
       "    <tr>\n",
       "      <th>257</th>\n",
       "      <td>1083458327143739392</td>\n",
       "      <td>[ft.com]</td>\n",
       "      <td>True</td>\n",
       "      <td>False</td>\n",
       "      <td>False</td>\n",
       "      <td>False</td>\n",
       "      <td>False</td>\n",
       "      <td>False</td>\n",
       "    </tr>\n",
       "    <tr>\n",
       "      <th>298</th>\n",
       "      <td>1105013938524106757</td>\n",
       "      <td>[phys.org]</td>\n",
       "      <td>True</td>\n",
       "      <td>False</td>\n",
       "      <td>False</td>\n",
       "      <td>False</td>\n",
       "      <td>False</td>\n",
       "      <td>False</td>\n",
       "    </tr>\n",
       "    <tr>\n",
       "      <th>305</th>\n",
       "      <td>1109481961180008448</td>\n",
       "      <td>[barrons.com]</td>\n",
       "      <td>True</td>\n",
       "      <td>False</td>\n",
       "      <td>False</td>\n",
       "      <td>False</td>\n",
       "      <td>False</td>\n",
       "      <td>False</td>\n",
       "    </tr>\n",
       "  </tbody>\n",
       "</table>\n",
       "</div>"
      ],
      "text/plain": [
       "                      id            domains  domain1  domain2  domain3  \\\n",
       "8     177008089394970624          [cnn.com]     True    False    False   \n",
       "53    703286688064221184       [nature.com]     True    False    False   \n",
       "69    814110461436235776         [bloom.bg]     True    False    False   \n",
       "81    848731022854205440          [nyti.ms]     True    False    False   \n",
       "162   986941808348409856  [theguardian.com]     True    False    False   \n",
       "225  1051756275585843201     [coindesk.com]     True    False    False   \n",
       "241  1065383519419912193       [philly.com]     True    False    False   \n",
       "257  1083458327143739392           [ft.com]     True    False    False   \n",
       "298  1105013938524106757         [phys.org]     True    False    False   \n",
       "305  1109481961180008448      [barrons.com]     True    False    False   \n",
       "\n",
       "     domain4  domain5  domain6  \n",
       "8      False    False    False  \n",
       "53     False    False    False  \n",
       "69     False    False    False  \n",
       "81     False    False    False  \n",
       "162    False    False    False  \n",
       "225    False    False    False  \n",
       "241    False    False    False  \n",
       "257    False    False    False  \n",
       "298    False    False    False  \n",
       "305    False    False    False  "
      ]
     },
     "execution_count": 28,
     "metadata": {},
     "output_type": "execute_result"
    }
   ],
   "source": [
    "df_news[df_news.domain1 == True][[\n",
    "    \"id\", \"domains\", \"domain1\", \"domain2\", \"domain3\", \"domain4\", \"domain5\", \"domain6\"\n",
    "]].head(10)"
   ]
  },
  {
   "cell_type": "code",
   "execution_count": 29,
   "metadata": {},
   "outputs": [
    {
     "data": {
      "text/html": [
       "<div>\n",
       "<style scoped>\n",
       "    .dataframe tbody tr th:only-of-type {\n",
       "        vertical-align: middle;\n",
       "    }\n",
       "\n",
       "    .dataframe tbody tr th {\n",
       "        vertical-align: top;\n",
       "    }\n",
       "\n",
       "    .dataframe thead th {\n",
       "        text-align: right;\n",
       "    }\n",
       "</style>\n",
       "<table border=\"1\" class=\"dataframe\">\n",
       "  <thead>\n",
       "    <tr style=\"text-align: right;\">\n",
       "      <th></th>\n",
       "      <th>id</th>\n",
       "      <th>domains</th>\n",
       "      <th>domain1</th>\n",
       "      <th>domain2</th>\n",
       "      <th>domain3</th>\n",
       "      <th>domain4</th>\n",
       "      <th>domain5</th>\n",
       "      <th>domain6</th>\n",
       "    </tr>\n",
       "  </thead>\n",
       "  <tbody>\n",
       "    <tr>\n",
       "      <th>8987</th>\n",
       "      <td>1337449293834113025</td>\n",
       "      <td>[simplecast.com, dailymail.co.uk, insider.com,...</td>\n",
       "      <td>False</td>\n",
       "      <td>True</td>\n",
       "      <td>False</td>\n",
       "      <td>True</td>\n",
       "      <td>False</td>\n",
       "      <td>False</td>\n",
       "    </tr>\n",
       "    <tr>\n",
       "      <th>14199</th>\n",
       "      <td>1339626801513996293</td>\n",
       "      <td>[cargo.one,, Tech.eu), tech.eu, techmeme.com]</td>\n",
       "      <td>False</td>\n",
       "      <td>False</td>\n",
       "      <td>False</td>\n",
       "      <td>True</td>\n",
       "      <td>False</td>\n",
       "      <td>False</td>\n",
       "    </tr>\n",
       "    <tr>\n",
       "      <th>30338</th>\n",
       "      <td>1347533968212688896</td>\n",
       "      <td>[fbi.gov, fbi.gov, fbi.gov, fbi.gov]</td>\n",
       "      <td>True</td>\n",
       "      <td>True</td>\n",
       "      <td>True</td>\n",
       "      <td>True</td>\n",
       "      <td>False</td>\n",
       "      <td>False</td>\n",
       "    </tr>\n",
       "  </tbody>\n",
       "</table>\n",
       "</div>"
      ],
      "text/plain": [
       "                        id                                            domains  \\\n",
       "8987   1337449293834113025  [simplecast.com, dailymail.co.uk, insider.com,...   \n",
       "14199  1339626801513996293      [cargo.one,, Tech.eu), tech.eu, techmeme.com]   \n",
       "30338  1347533968212688896               [fbi.gov, fbi.gov, fbi.gov, fbi.gov]   \n",
       "\n",
       "       domain1  domain2  domain3  domain4  domain5  domain6  \n",
       "8987     False     True    False     True    False    False  \n",
       "14199    False    False    False     True    False    False  \n",
       "30338     True     True     True     True    False    False  "
      ]
     },
     "execution_count": 29,
     "metadata": {},
     "output_type": "execute_result"
    }
   ],
   "source": [
    "df_news[df_news.domain4 == True][[\n",
    "    \"id\", \"domains\", \"domain1\", \"domain2\", \"domain3\", \"domain4\", \"domain5\", \"domain6\"\n",
    "]].head(10) # max domains in tweet is 6, but max *news* domains is 4."
   ]
  },
  {
   "cell_type": "code",
   "execution_count": 30,
   "metadata": {},
   "outputs": [
    {
     "data": {
      "text/plain": [
       "'Finally, inspiring works really worth a read:\\n+ https://arxiv.org/abs/1911.05248, by @sarahookr \\n+ http://arxiv.org/abs/2006.00995, https://arxiv.org/abs/1912.13283,  by @yanaiela et al\\n+ https://bair.berkeley.edu/blog/2019/05/13/oltr\\n+ https://arxiv.org/abs/1901.11373 by @DaniYogatama et al\\n+ https://arxiv.org/abs/2009.07118 by @timo_schick et.'"
      ]
     },
     "execution_count": 30,
     "metadata": {},
     "output_type": "execute_result"
    }
   ],
   "source": [
    "df[df[\"id\"] == 1344730628407881729].iloc[0].full_text"
   ]
  },
  {
   "cell_type": "code",
   "execution_count": 31,
   "metadata": {},
   "outputs": [],
   "source": [
    "most_links = (\n",
    "    df_news.domains.apply(lambda x: len(x)).sort_values(ascending=False).index[0]\n",
    ") #get index of tweet with most links"
   ]
  },
  {
   "cell_type": "code",
   "execution_count": 32,
   "metadata": {},
   "outputs": [
    {
     "data": {
      "text/html": [
       "<blockquote class=\"twitter-tweet\"><p lang=\"en\" dir=\"ltr\">Finally, inspiring works really worth a read:<br>+ <a href=\"https://t.co/2okl3eteJt\">https://t.co/2okl3eteJt</a>, by <a href=\"https://twitter.com/sarahookr?ref_src=twsrc%5Etfw\">@sarahookr</a> <br>+ <a href=\"https://t.co/o4EztUn0RM\">https://t.co/o4EztUn0RM</a>, <a href=\"https://t.co/HFiIfw6FSQ\">https://t.co/HFiIfw6FSQ</a>,  by <a href=\"https://twitter.com/yanaiela?ref_src=twsrc%5Etfw\">@yanaiela</a> et al<br>+ <a href=\"https://t.co/Ld1rZNrZWQ\">https://t.co/Ld1rZNrZWQ</a><br>+ <a href=\"https://t.co/yhYQI7ITID\">https://t.co/yhYQI7ITID</a> by <a href=\"https://twitter.com/DaniYogatama?ref_src=twsrc%5Etfw\">@DaniYogatama</a> et al<br>+ <a href=\"https://t.co/WsmUItysf4\">https://t.co/WsmUItysf4</a> by <a href=\"https://twitter.com/timo_schick?ref_src=twsrc%5Etfw\">@timo_schick</a> et.</p>&mdash; Nils Rethmeier (@Nils_Rethmeier) <a href=\"https://twitter.com/Nils_Rethmeier/status/1344730628407881729?ref_src=twsrc%5Etfw\">December 31, 2020</a></blockquote>\n",
       "<script async src=\"https://platform.twitter.com/widgets.js\" charset=\"utf-8\"></script>\n"
      ],
      "text/plain": [
       "<__main__.Tweet at 0x7fbe4ae455e0>"
      ]
     },
     "execution_count": 32,
     "metadata": {},
     "output_type": "execute_result"
    }
   ],
   "source": [
    "Tweet(embed_str(df_news.iloc[most_links][\"id\"]))"
   ]
  },
  {
   "cell_type": "code",
   "execution_count": 33,
   "metadata": {},
   "outputs": [],
   "source": [
    "df_news.drop([\"domains\"], axis=1, inplace=True)\n",
    "# sum it all up\n",
    "df_news[\"contains_news\"] = df_news[new_columns_list].sum(axis=1)"
   ]
  },
  {
   "cell_type": "code",
   "execution_count": 34,
   "metadata": {},
   "outputs": [
    {
     "data": {
      "text/plain": [
       "0    38042\n",
       "1     1714\n",
       "2      673\n",
       "3        3\n",
       "4        1\n",
       "Name: contains_news, dtype: int64"
      ]
     },
     "execution_count": 34,
     "metadata": {},
     "output_type": "execute_result"
    }
   ],
   "source": [
    "df_news[\"contains_news\"].value_counts()"
   ]
  },
  {
   "cell_type": "code",
   "execution_count": 35,
   "metadata": {},
   "outputs": [],
   "source": [
    "# we are interest in only a True-False, so let's change that.\n",
    "df_news[\"contains_news\"] = df_news.contains_news.apply(lambda x: x if x == 0 else 1)\n",
    "# now we can remove added columns\n",
    "df_news.drop(new_columns_list, axis=1, inplace=True)"
   ]
  },
  {
   "cell_type": "code",
   "execution_count": 36,
   "metadata": {},
   "outputs": [
    {
     "data": {
      "text/plain": [
       "0    38042\n",
       "1     2391\n",
       "Name: contains_news, dtype: int64"
      ]
     },
     "execution_count": 36,
     "metadata": {},
     "output_type": "execute_result"
    }
   ],
   "source": [
    "df_news[\"contains_news\"].value_counts()"
   ]
  },
  {
   "cell_type": "code",
   "execution_count": 37,
   "metadata": {},
   "outputs": [],
   "source": [
    "def find_news(df: pd.DataFrame, news_domains_list: list) -> pd.DataFrame:\n",
    "    \"\"\"Takes DataFrame, and list of domains of news sites.\n",
    "    Removes from DataFrame rows that contain links to sites from that list.\n",
    "    Args:\n",
    "        df (pd.DataFrame): DataFrame to be cleaned\n",
    "        news_domains_list (list): list of domains of news sites\n",
    "\n",
    "    Returns:\n",
    "        pd.DataFrame: DataFrame without tweets linking to news\n",
    "    \"\"\"\n",
    "    df = df.copy()\n",
    "    df[\"clean_text\"] = (\n",
    "        df[\"full_text\"].apply(remove_tw_urls).apply(rem_short_links)\n",
    "    )\n",
    "    df[\"clean_text\"] = df[\"clean_text\"].apply(rem_short_links)\n",
    "    df[\"urls\"] = df[\"clean_text\"].apply(find_url)\n",
    "    df.drop([\"clean_text\"], axis=1, inplace=True)\n",
    "    df[\"domains\"] = df.urls.apply(lambda x: [get_domain(d) for d in x])\n",
    "    df[\"domains\"] = df.domains.apply(remove_empty_str)\n",
    "    df.drop([\"urls\"], axis=1, inplace=True)\n",
    "\n",
    "    # get max value of domains, expand each one to new column (unpack from list)\n",
    "    new_columns_list = []\n",
    "    max_nr_dom = df.domains.str.len().max()\n",
    "    for i in range(max_nr_dom):\n",
    "        new_columns_list.append(f\"domain{i+1}\")\n",
    "    df.reset_index(drop=True, inplace=True)\n",
    "    df[new_columns_list] = pd.DataFrame(df.domains.tolist())\n",
    "\n",
    "    for col in new_columns_list:\n",
    "        df[col] = df[col].isin(news_domains_list)\n",
    "\n",
    "    df.drop([\"domains\"], axis=1, inplace=True)\n",
    "    # sum it all up\n",
    "    df[\"contains_news\"] = df[new_columns_list].sum(axis=1)\n",
    "    df[\"contains_news\"] = df.contains_news.apply(lambda x: x if x == 0 else 1)\n",
    "    # remove added columns\n",
    "    df.drop(new_columns_list, axis=1, inplace=True)\n",
    "\n",
    "    return df"
   ]
  },
  {
   "cell_type": "code",
   "execution_count": 38,
   "metadata": {},
   "outputs": [
    {
     "data": {
      "text/plain": [
       "(40433, 10)"
      ]
     },
     "execution_count": 38,
     "metadata": {},
     "output_type": "execute_result"
    }
   ],
   "source": [
    "df = find_news(df, news_domains); df.shape"
   ]
  },
  {
   "cell_type": "code",
   "execution_count": 39,
   "metadata": {},
   "outputs": [
    {
     "data": {
      "text/plain": [
       "0    38042\n",
       "1     2391\n",
       "Name: contains_news, dtype: int64"
      ]
     },
     "execution_count": 39,
     "metadata": {},
     "output_type": "execute_result"
    }
   ],
   "source": [
    "df_news[\"contains_news\"].value_counts()"
   ]
  },
  {
   "cell_type": "markdown",
   "metadata": {},
   "source": [
    "## explore muted accounts, and muted words"
   ]
  },
  {
   "cell_type": "code",
   "execution_count": 40,
   "metadata": {},
   "outputs": [],
   "source": [
    "with open(\"../tweetfeed/data/mute_list.txt\", \"r\") as f:\n",
    "    mute_list = json.loads(f.read())\n",
    "with open(\"../tweetfeed/data/mute_list_cs.txt\", \"r\") as f:\n",
    "    mute_list_cs = json.loads(f.read())\n",
    "with open(\"../tweetfeed/data/mutedacc.txt\", \"r\") as f:\n",
    "    mutedacc = json.loads(f.read())"
   ]
  },
  {
   "cell_type": "code",
   "execution_count": 41,
   "metadata": {},
   "outputs": [
    {
     "data": {
      "text/plain": [
       "['GOP', 'BREAKING', 'BLM', 'MAGA', 'Rep.']"
      ]
     },
     "execution_count": 41,
     "metadata": {},
     "output_type": "execute_result"
    }
   ],
   "source": [
    "mute_list_cs"
   ]
  },
  {
   "cell_type": "code",
   "execution_count": 42,
   "metadata": {},
   "outputs": [
    {
     "data": {
      "text/plain": [
       "['breaking:', '🍿', '🚨', 'New Yorker']"
      ]
     },
     "execution_count": 42,
     "metadata": {},
     "output_type": "execute_result"
    }
   ],
   "source": [
    "mute_list[:4]"
   ]
  },
  {
   "cell_type": "code",
   "execution_count": 43,
   "metadata": {},
   "outputs": [
    {
     "data": {
      "text/plain": [
       "[780557598089109504,\n",
       " 97114171,\n",
       " 1282696358034657281,\n",
       " 1242108820362530820,\n",
       " 1168694596450299906]"
      ]
     },
     "execution_count": 43,
     "metadata": {},
     "output_type": "execute_result"
    }
   ],
   "source": [
    "mutedacc[:5]"
   ]
  },
  {
   "cell_type": "code",
   "execution_count": 44,
   "metadata": {},
   "outputs": [
    {
     "data": {
      "text/plain": [
       "(563, 11)"
      ]
     },
     "execution_count": 44,
     "metadata": {},
     "output_type": "execute_result"
    }
   ],
   "source": [
    "df_mute = df.copy()\n",
    "m_list = mute_list\n",
    "column_name = \"full_text\"\n",
    "for item in m_list:\n",
    "    df_mute[item] = df_mute[column_name].str.contains(item)\n",
    "df_mute[\"is_mute_list\"] = df_mute[mute_list].sum(axis=1)\n",
    "df_mute[\"is_mute_list\"] = df_mute[\"is_mute_list\"].apply(lambda x: x if x == 0 else 1)\n",
    "df_mute.drop(mute_list, axis=1, inplace=True)\n",
    "df_mute[df_mute.is_mute_list > 0].shape"
   ]
  },
  {
   "cell_type": "code",
   "execution_count": 45,
   "metadata": {},
   "outputs": [],
   "source": [
    "def is_muted(df, mute_list, column_name, new_col, case=True):\n",
    "    df_mute = df.copy()\n",
    "    for item in mute_list:\n",
    "        df_mute[item] = df_mute[column_name].str.contains(item, case)\n",
    "    df_mute[new_col] = df_mute[mute_list].sum(axis=1)\n",
    "    df_mute[new_col] = df_mute[new_col].apply(lambda x: x if x == 0 else 1)\n",
    "    df_mute.drop(mute_list, axis=1, inplace=True)\n",
    "    return df_mute"
   ]
  },
  {
   "cell_type": "code",
   "execution_count": 46,
   "metadata": {
    "scrolled": true
   },
   "outputs": [],
   "source": [
    "df = is_muted(df, mute_list, \"full_text\", \"is_mute_list\", case=False)\n",
    "df = is_muted(df, mute_list_cs, \"full_text\", \"is_mute_list_cs\")\n",
    "df[\"mutedacc\"] = np.where(df[\"user\"].isin(mutedacc), 1, 0)"
   ]
  },
  {
   "cell_type": "code",
   "execution_count": 47,
   "metadata": {},
   "outputs": [],
   "source": [
    "columns_list = [\"is_mute_list\", \"is_mute_list_cs\", \"mutedacc\"]\n",
    "df[\"muted\"] = (\n",
    "    df[columns_list]\n",
    "    .sum(axis=1)\n",
    "    .apply(lambda x: x if x == 0 else 1)\n",
    ")\n",
    "df.drop(columns_list, axis=1, inplace=True)"
   ]
  },
  {
   "cell_type": "code",
   "execution_count": 48,
   "metadata": {},
   "outputs": [
    {
     "data": {
      "text/html": [
       "<div>\n",
       "<style scoped>\n",
       "    .dataframe tbody tr th:only-of-type {\n",
       "        vertical-align: middle;\n",
       "    }\n",
       "\n",
       "    .dataframe tbody tr th {\n",
       "        vertical-align: top;\n",
       "    }\n",
       "\n",
       "    .dataframe thead th {\n",
       "        text-align: right;\n",
       "    }\n",
       "</style>\n",
       "<table border=\"1\" class=\"dataframe\">\n",
       "  <thead>\n",
       "    <tr style=\"text-align: right;\">\n",
       "      <th></th>\n",
       "      <th>id</th>\n",
       "      <th>user</th>\n",
       "      <th>contains_news</th>\n",
       "      <th>muted</th>\n",
       "    </tr>\n",
       "  </thead>\n",
       "  <tbody>\n",
       "    <tr>\n",
       "      <th>0</th>\n",
       "      <td>5596520</td>\n",
       "      <td>713143</td>\n",
       "      <td>0</td>\n",
       "      <td>0</td>\n",
       "    </tr>\n",
       "    <tr>\n",
       "      <th>1</th>\n",
       "      <td>154674522</td>\n",
       "      <td>7193842</td>\n",
       "      <td>0</td>\n",
       "      <td>0</td>\n",
       "    </tr>\n",
       "    <tr>\n",
       "      <th>2</th>\n",
       "      <td>412145582</td>\n",
       "      <td>4829901</td>\n",
       "      <td>0</td>\n",
       "      <td>0</td>\n",
       "    </tr>\n",
       "    <tr>\n",
       "      <th>3</th>\n",
       "      <td>2627602600</td>\n",
       "      <td>21454322</td>\n",
       "      <td>0</td>\n",
       "      <td>0</td>\n",
       "    </tr>\n",
       "    <tr>\n",
       "      <th>4</th>\n",
       "      <td>35122446658965504</td>\n",
       "      <td>5691532</td>\n",
       "      <td>0</td>\n",
       "      <td>0</td>\n",
       "    </tr>\n",
       "    <tr>\n",
       "      <th>5</th>\n",
       "      <td>35466982635601920</td>\n",
       "      <td>15012642</td>\n",
       "      <td>0</td>\n",
       "      <td>0</td>\n",
       "    </tr>\n",
       "    <tr>\n",
       "      <th>6</th>\n",
       "      <td>70261648811761665</td>\n",
       "      <td>5416652</td>\n",
       "      <td>0</td>\n",
       "      <td>0</td>\n",
       "    </tr>\n",
       "    <tr>\n",
       "      <th>7</th>\n",
       "      <td>71705067115388928</td>\n",
       "      <td>14182218</td>\n",
       "      <td>0</td>\n",
       "      <td>0</td>\n",
       "    </tr>\n",
       "    <tr>\n",
       "      <th>8</th>\n",
       "      <td>177008089394970624</td>\n",
       "      <td>5110861</td>\n",
       "      <td>1</td>\n",
       "      <td>0</td>\n",
       "    </tr>\n",
       "    <tr>\n",
       "      <th>9</th>\n",
       "      <td>193480622533120001</td>\n",
       "      <td>175624200</td>\n",
       "      <td>0</td>\n",
       "      <td>0</td>\n",
       "    </tr>\n",
       "  </tbody>\n",
       "</table>\n",
       "</div>"
      ],
      "text/plain": [
       "                   id       user  contains_news  muted\n",
       "0             5596520     713143              0      0\n",
       "1           154674522    7193842              0      0\n",
       "2           412145582    4829901              0      0\n",
       "3          2627602600   21454322              0      0\n",
       "4   35122446658965504    5691532              0      0\n",
       "5   35466982635601920   15012642              0      0\n",
       "6   70261648811761665    5416652              0      0\n",
       "7   71705067115388928   14182218              0      0\n",
       "8  177008089394970624    5110861              1      0\n",
       "9  193480622533120001  175624200              0      0"
      ]
     },
     "execution_count": 48,
     "metadata": {},
     "output_type": "execute_result"
    }
   ],
   "source": [
    "df[[\"id\", \"user\", \"contains_news\", \"muted\"]].head(10)"
   ]
  },
  {
   "cell_type": "code",
   "execution_count": 49,
   "metadata": {},
   "outputs": [
    {
     "data": {
      "text/plain": [
       "(7456, 11)"
      ]
     },
     "execution_count": 49,
     "metadata": {},
     "output_type": "execute_result"
    }
   ],
   "source": [
    "df[(df.contains_news > 0) | (df.muted > 0)].shape #.copy and put into new dataframe"
   ]
  },
  {
   "cell_type": "code",
   "execution_count": 50,
   "metadata": {},
   "outputs": [
    {
     "data": {
      "text/plain": [
       "(7620, 2)"
      ]
     },
     "execution_count": 50,
     "metadata": {},
     "output_type": "execute_result"
    }
   ],
   "source": [
    "reviewed_df = pd.read_csv(\"../tweetfeed/data/seen.csv\"); reviewed_df.shape"
   ]
  },
  {
   "cell_type": "code",
   "execution_count": 51,
   "metadata": {},
   "outputs": [
    {
     "data": {
      "text/html": [
       "<blockquote class=\"twitter-tweet\"><p lang=\"en\" dir=\"ltr\">In 1996 a man took a NZ radio station hostage, demanding they play Rainbow Connection by Kermit the Frog <a href=\"https://twitter.com/hashtag/fb?src=hash&amp;ref_src=twsrc%5Etfw\">#fb</a> <a href=\"http://t.co/thjyBSHr\">http://t.co/thjyBSHr</a></p>&mdash; Robert Simpson 🌈 (@orbitingfrog) <a href=\"https://twitter.com/orbitingfrog/status/177008089394970624?ref_src=twsrc%5Etfw\">March 6, 2012</a></blockquote>\n",
       "<script async src=\"https://platform.twitter.com/widgets.js\" charset=\"utf-8\"></script>\n"
      ],
      "text/plain": [
       "<__main__.Tweet at 0x7fbe4a3ffdf0>"
      ]
     },
     "execution_count": 51,
     "metadata": {},
     "output_type": "execute_result"
    }
   ],
   "source": [
    "Tweet(embed_str(\"177008089394970624\"))"
   ]
  },
  {
   "cell_type": "code",
   "execution_count": 52,
   "metadata": {},
   "outputs": [
    {
     "data": {
      "text/plain": [
       "5837"
      ]
     },
     "execution_count": 52,
     "metadata": {},
     "output_type": "execute_result"
    }
   ],
   "source": [
    "seen = reviewed_df[reviewed_df.err_reason == \"no_errors\"].tweet_id.tolist(); len(seen)"
   ]
  },
  {
   "cell_type": "code",
   "execution_count": 53,
   "metadata": {
    "scrolled": true
   },
   "outputs": [
    {
     "data": {
      "text/html": [
       "<div>\n",
       "<style scoped>\n",
       "    .dataframe tbody tr th:only-of-type {\n",
       "        vertical-align: middle;\n",
       "    }\n",
       "\n",
       "    .dataframe tbody tr th {\n",
       "        vertical-align: top;\n",
       "    }\n",
       "\n",
       "    .dataframe thead th {\n",
       "        text-align: right;\n",
       "    }\n",
       "</style>\n",
       "<table border=\"1\" class=\"dataframe\">\n",
       "  <thead>\n",
       "    <tr style=\"text-align: right;\">\n",
       "      <th></th>\n",
       "      <th>id</th>\n",
       "      <th>user</th>\n",
       "      <th>full_text</th>\n",
       "      <th>created_at</th>\n",
       "      <th>lang</th>\n",
       "      <th>retweeted_status</th>\n",
       "      <th>quoted_status</th>\n",
       "      <th>is_quote_status</th>\n",
       "      <th>in_reply_to_status_id</th>\n",
       "      <th>contains_news</th>\n",
       "      <th>muted</th>\n",
       "    </tr>\n",
       "  </thead>\n",
       "  <tbody>\n",
       "    <tr>\n",
       "      <th>1864</th>\n",
       "      <td>1330677864555896834</td>\n",
       "      <td>14301074</td>\n",
       "      <td>Sex Pistols star Johnny Rotten bitten by a fle...</td>\n",
       "      <td>2020-11-23T01:01:40+00:00</td>\n",
       "      <td>en</td>\n",
       "      <td>N/A</td>\n",
       "      <td>N/A</td>\n",
       "      <td>0</td>\n",
       "      <td>N/A</td>\n",
       "      <td>1</td>\n",
       "      <td>0</td>\n",
       "    </tr>\n",
       "    <tr>\n",
       "      <th>2199</th>\n",
       "      <td>1334612372720324611</td>\n",
       "      <td>380648579</td>\n",
       "      <td>Leading American infectious disease scientist ...</td>\n",
       "      <td>2020-12-03T21:36:00+00:00</td>\n",
       "      <td>en</td>\n",
       "      <td>N/A</td>\n",
       "      <td>N/A</td>\n",
       "      <td>0</td>\n",
       "      <td>N/A</td>\n",
       "      <td>1</td>\n",
       "      <td>0</td>\n",
       "    </tr>\n",
       "    <tr>\n",
       "      <th>7461</th>\n",
       "      <td>1337034350043553792</td>\n",
       "      <td>3819701</td>\n",
       "      <td>World Economic Forum launches how-to guide on ...</td>\n",
       "      <td>2020-12-10T14:00:04+00:00</td>\n",
       "      <td>en</td>\n",
       "      <td>N/A</td>\n",
       "      <td>N/A</td>\n",
       "      <td>0</td>\n",
       "      <td>N/A</td>\n",
       "      <td>1</td>\n",
       "      <td>0</td>\n",
       "    </tr>\n",
       "    <tr>\n",
       "      <th>8634</th>\n",
       "      <td>1337362745621159936</td>\n",
       "      <td>380648579</td>\n",
       "      <td>#UPDATE Pharmaceutical giant AstraZeneca's Rus...</td>\n",
       "      <td>2020-12-11T11:45:00+00:00</td>\n",
       "      <td>en</td>\n",
       "      <td>N/A</td>\n",
       "      <td>N/A</td>\n",
       "      <td>0</td>\n",
       "      <td>1337331378430611457</td>\n",
       "      <td>1</td>\n",
       "      <td>0</td>\n",
       "    </tr>\n",
       "    <tr>\n",
       "      <th>11377</th>\n",
       "      <td>1338235166821675012</td>\n",
       "      <td>2894902813</td>\n",
       "      <td>Where is the flaw in my core critique of econo...</td>\n",
       "      <td>2020-12-13T21:31:41+00:00</td>\n",
       "      <td>en</td>\n",
       "      <td>N/A</td>\n",
       "      <td>N/A</td>\n",
       "      <td>0</td>\n",
       "      <td>N/A</td>\n",
       "      <td>1</td>\n",
       "      <td>0</td>\n",
       "    </tr>\n",
       "    <tr>\n",
       "      <th>11541</th>\n",
       "      <td>1338276857775611910</td>\n",
       "      <td>1157604793</td>\n",
       "      <td>Good article  https://www.theatlantic.com/heal...</td>\n",
       "      <td>2020-12-14T00:17:21+00:00</td>\n",
       "      <td>en</td>\n",
       "      <td>N/A</td>\n",
       "      <td>N/A</td>\n",
       "      <td>0</td>\n",
       "      <td>N/A</td>\n",
       "      <td>1</td>\n",
       "      <td>0</td>\n",
       "    </tr>\n",
       "    <tr>\n",
       "      <th>12922</th>\n",
       "      <td>1339148923240394759</td>\n",
       "      <td>15309804</td>\n",
       "      <td>D.C.-area forecast: Snow and sleet arriving la...</td>\n",
       "      <td>2020-12-16T10:02:38+00:00</td>\n",
       "      <td>en</td>\n",
       "      <td>N/A</td>\n",
       "      <td>N/A</td>\n",
       "      <td>0</td>\n",
       "      <td>N/A</td>\n",
       "      <td>1</td>\n",
       "      <td>0</td>\n",
       "    </tr>\n",
       "    <tr>\n",
       "      <th>14107</th>\n",
       "      <td>1339612008182919168</td>\n",
       "      <td>220907703</td>\n",
       "      <td>Many of Amazon's warehouse workers struggle to...</td>\n",
       "      <td>2020-12-17T16:42:46+00:00</td>\n",
       "      <td>en</td>\n",
       "      <td>N/A</td>\n",
       "      <td>N/A</td>\n",
       "      <td>0</td>\n",
       "      <td>N/A</td>\n",
       "      <td>1</td>\n",
       "      <td>0</td>\n",
       "    </tr>\n",
       "    <tr>\n",
       "      <th>15009</th>\n",
       "      <td>1339990100629991424</td>\n",
       "      <td>2981803053</td>\n",
       "      <td>We’re on @CNN today! Watch how our waste meter...</td>\n",
       "      <td>2020-12-18T17:45:10+00:00</td>\n",
       "      <td>en</td>\n",
       "      <td>N/A</td>\n",
       "      <td>N/A</td>\n",
       "      <td>0</td>\n",
       "      <td>N/A</td>\n",
       "      <td>1</td>\n",
       "      <td>0</td>\n",
       "    </tr>\n",
       "    <tr>\n",
       "      <th>15078</th>\n",
       "      <td>1340065863802773518</td>\n",
       "      <td>15276573</td>\n",
       "      <td>New: A Zoom exec worked with the Chinese gover...</td>\n",
       "      <td>2020-12-18T22:46:13+00:00</td>\n",
       "      <td>en</td>\n",
       "      <td>N/A</td>\n",
       "      <td>N/A</td>\n",
       "      <td>0</td>\n",
       "      <td>N/A</td>\n",
       "      <td>1</td>\n",
       "      <td>0</td>\n",
       "    </tr>\n",
       "    <tr>\n",
       "      <th>18088</th>\n",
       "      <td>1341123441613701120</td>\n",
       "      <td>607093</td>\n",
       "      <td>Slides for our re:clojure presentation Serverl...</td>\n",
       "      <td>2020-12-21T20:48:40+00:00</td>\n",
       "      <td>en</td>\n",
       "      <td>N/A</td>\n",
       "      <td>N/A</td>\n",
       "      <td>0</td>\n",
       "      <td>N/A</td>\n",
       "      <td>1</td>\n",
       "      <td>0</td>\n",
       "    </tr>\n",
       "    <tr>\n",
       "      <th>19509</th>\n",
       "      <td>1341777938547617793</td>\n",
       "      <td>4783690002</td>\n",
       "      <td>In 2016, AlphaGo was introduced. Two years lat...</td>\n",
       "      <td>2020-12-23T16:09:24+00:00</td>\n",
       "      <td>en</td>\n",
       "      <td>N/A</td>\n",
       "      <td>N/A</td>\n",
       "      <td>0</td>\n",
       "      <td>N/A</td>\n",
       "      <td>1</td>\n",
       "      <td>0</td>\n",
       "    </tr>\n",
       "    <tr>\n",
       "      <th>20029</th>\n",
       "      <td>1341939192071335936</td>\n",
       "      <td>121597316</td>\n",
       "      <td>Sonoma County officials said Graton Resort and...</td>\n",
       "      <td>2020-12-24T02:50:10+00:00</td>\n",
       "      <td>en</td>\n",
       "      <td>N/A</td>\n",
       "      <td>N/A</td>\n",
       "      <td>0</td>\n",
       "      <td>N/A</td>\n",
       "      <td>1</td>\n",
       "      <td>0</td>\n",
       "    </tr>\n",
       "    <tr>\n",
       "      <th>21963</th>\n",
       "      <td>1343616438570016768</td>\n",
       "      <td>80650044</td>\n",
       "      <td>NEW China has built nearly 2 million square me...</td>\n",
       "      <td>2020-12-28T17:54:56+00:00</td>\n",
       "      <td>en</td>\n",
       "      <td>N/A</td>\n",
       "      <td>N/A</td>\n",
       "      <td>0</td>\n",
       "      <td>N/A</td>\n",
       "      <td>1</td>\n",
       "      <td>0</td>\n",
       "    </tr>\n",
       "    <tr>\n",
       "      <th>22940</th>\n",
       "      <td>1343978272384839680</td>\n",
       "      <td>1315395406180814853</td>\n",
       "      <td>Exclusive: Hedge fund Third Point urges Intel ...</td>\n",
       "      <td>2020-12-29T17:52:44+00:00</td>\n",
       "      <td>en</td>\n",
       "      <td>N/A</td>\n",
       "      <td>N/A</td>\n",
       "      <td>0</td>\n",
       "      <td>N/A</td>\n",
       "      <td>1</td>\n",
       "      <td>0</td>\n",
       "    </tr>\n",
       "    <tr>\n",
       "      <th>23035</th>\n",
       "      <td>1343991976534962179</td>\n",
       "      <td>794010396</td>\n",
       "      <td>The UK Government, SAGE and their propaganda a...</td>\n",
       "      <td>2020-12-29T18:47:12+00:00</td>\n",
       "      <td>en</td>\n",
       "      <td>N/A</td>\n",
       "      <td>N/A</td>\n",
       "      <td>0</td>\n",
       "      <td>N/A</td>\n",
       "      <td>1</td>\n",
       "      <td>0</td>\n",
       "    </tr>\n",
       "    <tr>\n",
       "      <th>24364</th>\n",
       "      <td>1344745963987066881</td>\n",
       "      <td>2237808535</td>\n",
       "      <td>SolarWinds hackers accessed Microsoft source c...</td>\n",
       "      <td>2020-12-31T20:43:16+00:00</td>\n",
       "      <td>en</td>\n",
       "      <td>N/A</td>\n",
       "      <td>N/A</td>\n",
       "      <td>0</td>\n",
       "      <td>N/A</td>\n",
       "      <td>1</td>\n",
       "      <td>0</td>\n",
       "    </tr>\n",
       "    <tr>\n",
       "      <th>26496</th>\n",
       "      <td>1345507408794279949</td>\n",
       "      <td>428333</td>\n",
       "      <td>Legendary talk show host and former CNN interv...</td>\n",
       "      <td>2021-01-02T23:08:59+00:00</td>\n",
       "      <td>en</td>\n",
       "      <td>N/A</td>\n",
       "      <td>N/A</td>\n",
       "      <td>0</td>\n",
       "      <td>N/A</td>\n",
       "      <td>1</td>\n",
       "      <td>0</td>\n",
       "    </tr>\n",
       "    <tr>\n",
       "      <th>28347</th>\n",
       "      <td>1346539775537328132</td>\n",
       "      <td>162071541</td>\n",
       "      <td>Exclusive: 'We are not coping': Paramedics war...</td>\n",
       "      <td>2021-01-05T19:31:14+00:00</td>\n",
       "      <td>en</td>\n",
       "      <td>N/A</td>\n",
       "      <td>N/A</td>\n",
       "      <td>0</td>\n",
       "      <td>N/A</td>\n",
       "      <td>1</td>\n",
       "      <td>0</td>\n",
       "    </tr>\n",
       "    <tr>\n",
       "      <th>30403</th>\n",
       "      <td>1347542374952677377</td>\n",
       "      <td>16076032</td>\n",
       "      <td>There's absolutely a new War on Terror being i...</td>\n",
       "      <td>2021-01-08T13:55:12+00:00</td>\n",
       "      <td>en</td>\n",
       "      <td>N/A</td>\n",
       "      <td>N/A</td>\n",
       "      <td>0</td>\n",
       "      <td>N/A</td>\n",
       "      <td>1</td>\n",
       "      <td>0</td>\n",
       "    </tr>\n",
       "    <tr>\n",
       "      <th>33977</th>\n",
       "      <td>1348968770094706689</td>\n",
       "      <td>1480749782</td>\n",
       "      <td>Probably the best account of how the storming ...</td>\n",
       "      <td>2021-01-12T12:23:12+00:00</td>\n",
       "      <td>en</td>\n",
       "      <td>N/A</td>\n",
       "      <td>N/A</td>\n",
       "      <td>0</td>\n",
       "      <td>N/A</td>\n",
       "      <td>1</td>\n",
       "      <td>0</td>\n",
       "    </tr>\n",
       "    <tr>\n",
       "      <th>35674</th>\n",
       "      <td>1349701745233035266</td>\n",
       "      <td>214272214</td>\n",
       "      <td>Update: Parler now says it may never be back o...</td>\n",
       "      <td>2021-01-14T12:55:46+00:00</td>\n",
       "      <td>en</td>\n",
       "      <td>N/A</td>\n",
       "      <td>N/A</td>\n",
       "      <td>0</td>\n",
       "      <td>1349584380654739457</td>\n",
       "      <td>1</td>\n",
       "      <td>0</td>\n",
       "    </tr>\n",
       "    <tr>\n",
       "      <th>37428</th>\n",
       "      <td>1350152689045405698</td>\n",
       "      <td>1480749782</td>\n",
       "      <td>Turkey vaccinates over 500,000 in two days  ht...</td>\n",
       "      <td>2021-01-15T18:47:40+00:00</td>\n",
       "      <td>en</td>\n",
       "      <td>N/A</td>\n",
       "      <td>N/A</td>\n",
       "      <td>0</td>\n",
       "      <td>N/A</td>\n",
       "      <td>1</td>\n",
       "      <td>0</td>\n",
       "    </tr>\n",
       "    <tr>\n",
       "      <th>38536</th>\n",
       "      <td>1351144213090627585</td>\n",
       "      <td>399689183</td>\n",
       "      <td>Actually this paper https://academic.oup.com/i...</td>\n",
       "      <td>2021-01-18T12:27:38+00:00</td>\n",
       "      <td>en</td>\n",
       "      <td>N/A</td>\n",
       "      <td>1351097907152355332</td>\n",
       "      <td>1</td>\n",
       "      <td>N/A</td>\n",
       "      <td>1</td>\n",
       "      <td>0</td>\n",
       "    </tr>\n",
       "  </tbody>\n",
       "</table>\n",
       "</div>"
      ],
      "text/plain": [
       "                        id                 user  \\\n",
       "1864   1330677864555896834             14301074   \n",
       "2199   1334612372720324611            380648579   \n",
       "7461   1337034350043553792              3819701   \n",
       "8634   1337362745621159936            380648579   \n",
       "11377  1338235166821675012           2894902813   \n",
       "11541  1338276857775611910           1157604793   \n",
       "12922  1339148923240394759             15309804   \n",
       "14107  1339612008182919168            220907703   \n",
       "15009  1339990100629991424           2981803053   \n",
       "15078  1340065863802773518             15276573   \n",
       "18088  1341123441613701120               607093   \n",
       "19509  1341777938547617793           4783690002   \n",
       "20029  1341939192071335936            121597316   \n",
       "21963  1343616438570016768             80650044   \n",
       "22940  1343978272384839680  1315395406180814853   \n",
       "23035  1343991976534962179            794010396   \n",
       "24364  1344745963987066881           2237808535   \n",
       "26496  1345507408794279949               428333   \n",
       "28347  1346539775537328132            162071541   \n",
       "30403  1347542374952677377             16076032   \n",
       "33977  1348968770094706689           1480749782   \n",
       "35674  1349701745233035266            214272214   \n",
       "37428  1350152689045405698           1480749782   \n",
       "38536  1351144213090627585            399689183   \n",
       "\n",
       "                                               full_text  \\\n",
       "1864   Sex Pistols star Johnny Rotten bitten by a fle...   \n",
       "2199   Leading American infectious disease scientist ...   \n",
       "7461   World Economic Forum launches how-to guide on ...   \n",
       "8634   #UPDATE Pharmaceutical giant AstraZeneca's Rus...   \n",
       "11377  Where is the flaw in my core critique of econo...   \n",
       "11541  Good article  https://www.theatlantic.com/heal...   \n",
       "12922  D.C.-area forecast: Snow and sleet arriving la...   \n",
       "14107  Many of Amazon's warehouse workers struggle to...   \n",
       "15009  We’re on @CNN today! Watch how our waste meter...   \n",
       "15078  New: A Zoom exec worked with the Chinese gover...   \n",
       "18088  Slides for our re:clojure presentation Serverl...   \n",
       "19509  In 2016, AlphaGo was introduced. Two years lat...   \n",
       "20029  Sonoma County officials said Graton Resort and...   \n",
       "21963  NEW China has built nearly 2 million square me...   \n",
       "22940  Exclusive: Hedge fund Third Point urges Intel ...   \n",
       "23035  The UK Government, SAGE and their propaganda a...   \n",
       "24364  SolarWinds hackers accessed Microsoft source c...   \n",
       "26496  Legendary talk show host and former CNN interv...   \n",
       "28347  Exclusive: 'We are not coping': Paramedics war...   \n",
       "30403  There's absolutely a new War on Terror being i...   \n",
       "33977  Probably the best account of how the storming ...   \n",
       "35674  Update: Parler now says it may never be back o...   \n",
       "37428  Turkey vaccinates over 500,000 in two days  ht...   \n",
       "38536  Actually this paper https://academic.oup.com/i...   \n",
       "\n",
       "                      created_at lang retweeted_status        quoted_status  \\\n",
       "1864   2020-11-23T01:01:40+00:00   en              N/A                  N/A   \n",
       "2199   2020-12-03T21:36:00+00:00   en              N/A                  N/A   \n",
       "7461   2020-12-10T14:00:04+00:00   en              N/A                  N/A   \n",
       "8634   2020-12-11T11:45:00+00:00   en              N/A                  N/A   \n",
       "11377  2020-12-13T21:31:41+00:00   en              N/A                  N/A   \n",
       "11541  2020-12-14T00:17:21+00:00   en              N/A                  N/A   \n",
       "12922  2020-12-16T10:02:38+00:00   en              N/A                  N/A   \n",
       "14107  2020-12-17T16:42:46+00:00   en              N/A                  N/A   \n",
       "15009  2020-12-18T17:45:10+00:00   en              N/A                  N/A   \n",
       "15078  2020-12-18T22:46:13+00:00   en              N/A                  N/A   \n",
       "18088  2020-12-21T20:48:40+00:00   en              N/A                  N/A   \n",
       "19509  2020-12-23T16:09:24+00:00   en              N/A                  N/A   \n",
       "20029  2020-12-24T02:50:10+00:00   en              N/A                  N/A   \n",
       "21963  2020-12-28T17:54:56+00:00   en              N/A                  N/A   \n",
       "22940  2020-12-29T17:52:44+00:00   en              N/A                  N/A   \n",
       "23035  2020-12-29T18:47:12+00:00   en              N/A                  N/A   \n",
       "24364  2020-12-31T20:43:16+00:00   en              N/A                  N/A   \n",
       "26496  2021-01-02T23:08:59+00:00   en              N/A                  N/A   \n",
       "28347  2021-01-05T19:31:14+00:00   en              N/A                  N/A   \n",
       "30403  2021-01-08T13:55:12+00:00   en              N/A                  N/A   \n",
       "33977  2021-01-12T12:23:12+00:00   en              N/A                  N/A   \n",
       "35674  2021-01-14T12:55:46+00:00   en              N/A                  N/A   \n",
       "37428  2021-01-15T18:47:40+00:00   en              N/A                  N/A   \n",
       "38536  2021-01-18T12:27:38+00:00   en              N/A  1351097907152355332   \n",
       "\n",
       "       is_quote_status in_reply_to_status_id  contains_news  muted  \n",
       "1864                 0                   N/A              1      0  \n",
       "2199                 0                   N/A              1      0  \n",
       "7461                 0                   N/A              1      0  \n",
       "8634                 0   1337331378430611457              1      0  \n",
       "11377                0                   N/A              1      0  \n",
       "11541                0                   N/A              1      0  \n",
       "12922                0                   N/A              1      0  \n",
       "14107                0                   N/A              1      0  \n",
       "15009                0                   N/A              1      0  \n",
       "15078                0                   N/A              1      0  \n",
       "18088                0                   N/A              1      0  \n",
       "19509                0                   N/A              1      0  \n",
       "20029                0                   N/A              1      0  \n",
       "21963                0                   N/A              1      0  \n",
       "22940                0                   N/A              1      0  \n",
       "23035                0                   N/A              1      0  \n",
       "24364                0                   N/A              1      0  \n",
       "26496                0                   N/A              1      0  \n",
       "28347                0                   N/A              1      0  \n",
       "30403                0                   N/A              1      0  \n",
       "33977                0                   N/A              1      0  \n",
       "35674                0   1349584380654739457              1      0  \n",
       "37428                0                   N/A              1      0  \n",
       "38536                1                   N/A              1      0  "
      ]
     },
     "execution_count": 53,
     "metadata": {},
     "output_type": "execute_result"
    }
   ],
   "source": [
    "df[df.id.isin(seen) & (df.contains_news > 0) & (df.muted == 0)]"
   ]
  },
  {
   "cell_type": "code",
   "execution_count": 54,
   "metadata": {},
   "outputs": [
    {
     "data": {
      "text/html": [
       "<blockquote class=\"twitter-tweet\"><p lang=\"en\" dir=\"ltr\">Sex Pistols star Johnny Rotten bitten by a flea on his penis after rescuing squirrels <a href=\"https://t.co/UVRWVGeUHt\">https://t.co/UVRWVGeUHt</a> <a href=\"https://t.co/2wGuY4mLDW\">pic.twitter.com/2wGuY4mLDW</a></p>&mdash; 1 NEWS (@1NewsNZ) <a href=\"https://twitter.com/1NewsNZ/status/1330677864555896834?ref_src=twsrc%5Etfw\">November 23, 2020</a></blockquote>\n",
       "<script async src=\"https://platform.twitter.com/widgets.js\" charset=\"utf-8\"></script>\n"
      ],
      "text/plain": [
       "<__main__.Tweet at 0x7fbe4aa50250>"
      ]
     },
     "execution_count": 54,
     "metadata": {},
     "output_type": "execute_result"
    }
   ],
   "source": [
    "Tweet(embed_str(\"1330677864555896834\"))"
   ]
  },
  {
   "cell_type": "code",
   "execution_count": 55,
   "metadata": {},
   "outputs": [],
   "source": [
    "# I remember seeing this tweet, and  then I added `tvnz.co.nz` to domains containing news"
   ]
  },
  {
   "cell_type": "markdown",
   "metadata": {},
   "source": [
    "## Exploratory Data Analysis (EDA)"
   ]
  },
  {
   "cell_type": "code",
   "execution_count": 56,
   "metadata": {},
   "outputs": [],
   "source": [
    "# which accounts post most news?\n",
    "# which accounts post most?\n"
   ]
  },
  {
   "cell_type": "code",
   "execution_count": null,
   "metadata": {},
   "outputs": [],
   "source": []
  },
  {
   "cell_type": "markdown",
   "metadata": {},
   "source": [
    "\n",
    "\n",
    "## Annotation\n",
    "\n",
    "## Labeling\n",
    "## Spliting\n",
    "## Preprocessing\n"
   ]
  },
  {
   "cell_type": "markdown",
   "metadata": {},
   "source": [
    "# Modeling\n",
    "## Random\n",
    "## Rule-based\n",
    "## Simple ML\n",
    "## CNN\n",
    "## RNN\n",
    "## Transformers\n"
   ]
  },
  {
   "cell_type": "markdown",
   "metadata": {},
   "source": [
    "# Experiment tracking\n",
    "## Training\n",
    "## Tracking\n",
    "## Viewing\n",
    "## Loading"
   ]
  },
  {
   "cell_type": "markdown",
   "metadata": {},
   "source": [
    "# Optimization"
   ]
  },
  {
   "cell_type": "code",
   "execution_count": null,
   "metadata": {},
   "outputs": [],
   "source": []
  },
  {
   "cell_type": "code",
   "execution_count": null,
   "metadata": {},
   "outputs": [],
   "source": []
  },
  {
   "cell_type": "code",
   "execution_count": null,
   "metadata": {},
   "outputs": [],
   "source": []
  }
 ],
 "metadata": {
  "kernelspec": {
   "display_name": "Python 3",
   "language": "python",
   "name": "python3"
  },
  "language_info": {
   "codemirror_mode": {
    "name": "ipython",
    "version": 3
   },
   "file_extension": ".py",
   "mimetype": "text/x-python",
   "name": "python",
   "nbconvert_exporter": "python",
   "pygments_lexer": "ipython3",
   "version": "3.8.5"
  },
  "varInspector": {
   "cols": {
    "lenName": 16,
    "lenType": 16,
    "lenVar": 40
   },
   "kernels_config": {
    "python": {
     "delete_cmd_postfix": "",
     "delete_cmd_prefix": "del ",
     "library": "var_list.py",
     "varRefreshCmd": "print(var_dic_list())"
    },
    "r": {
     "delete_cmd_postfix": ") ",
     "delete_cmd_prefix": "rm(",
     "library": "var_list.r",
     "varRefreshCmd": "cat(var_dic_list()) "
    }
   },
   "position": {
    "height": "397.85px",
    "left": "692.067px",
    "right": "20px",
    "top": "120px",
    "width": "328.767px"
   },
   "types_to_exclude": [
    "module",
    "function",
    "builtin_function_or_method",
    "instance",
    "_Feature"
   ],
   "window_display": false
  }
 },
 "nbformat": 4,
 "nbformat_minor": 4
}
