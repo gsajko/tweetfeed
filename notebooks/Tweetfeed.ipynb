{
 "cells": [
  {
   "cell_type": "markdown",
   "metadata": {},
   "source": [
    "# tweetfeed"
   ]
  },
  {
   "cell_type": "markdown",
   "metadata": {},
   "source": [
    "# Data"
   ]
  },
  {
   "cell_type": "code",
   "execution_count": 1,
   "metadata": {},
   "outputs": [],
   "source": [
    "import os\n",
    "import pandas as pd\n",
    "import sys\n",
    "import re\n",
    "from urllib.parse import urlparse\n",
    "import numpy as np\n"
   ]
  },
  {
   "cell_type": "code",
   "execution_count": 2,
   "metadata": {},
   "outputs": [],
   "source": [
    "module_path = os.path.abspath(os.path.join(\"..\"))\n",
    "if module_path not in sys.path:\n",
    "    sys.path.append(module_path + \"/tweetfeed\")\n",
    "    \n",
    "from data import load_tweets,find_news\n",
    "from twitter_utils import get_collection_list, get_collection_id"
   ]
  },
  {
   "cell_type": "code",
   "execution_count": 3,
   "metadata": {},
   "outputs": [],
   "source": [
    "import tweepy\n",
    "#auth = tweepy.OAuthHandler(consumer_key, consumer_secret)\n",
    "api = tweepy.API(wait_on_rate_limit=True)\n",
    "\n",
    "class Tweet(object):\n",
    "    def __init__(self, embed_str=None):\n",
    "        self.embed_str = embed_str\n",
    "\n",
    "    def _repr_html_(self):\n",
    "        return self.embed_str\n",
    "    \n",
    "def embed_str(idx):\n",
    "    return api.get_oembed(idx)[\"html\"]"
   ]
  },
  {
   "cell_type": "code",
   "execution_count": 4,
   "metadata": {},
   "outputs": [],
   "source": [
    "# df = load_tweets(\"../home.db\", days=24)\n",
    "# df.to_pickle(\"tweetfeed.pkl\")"
   ]
  },
  {
   "cell_type": "code",
   "execution_count": 5,
   "metadata": {},
   "outputs": [
    {
     "data": {
      "text/plain": [
       "(55485, 9)"
      ]
     },
     "execution_count": 5,
     "metadata": {},
     "output_type": "execute_result"
    }
   ],
   "source": [
    "df = pd.read_pickle(\"tweetfeed.pkl\"); df.shape"
   ]
  },
  {
   "cell_type": "code",
   "execution_count": 6,
   "metadata": {},
   "outputs": [
    {
     "data": {
      "text/html": [
       "<div>\n",
       "<style scoped>\n",
       "    .dataframe tbody tr th:only-of-type {\n",
       "        vertical-align: middle;\n",
       "    }\n",
       "\n",
       "    .dataframe tbody tr th {\n",
       "        vertical-align: top;\n",
       "    }\n",
       "\n",
       "    .dataframe thead th {\n",
       "        text-align: right;\n",
       "    }\n",
       "</style>\n",
       "<table border=\"1\" class=\"dataframe\">\n",
       "  <thead>\n",
       "    <tr style=\"text-align: right;\">\n",
       "      <th></th>\n",
       "      <th>id</th>\n",
       "      <th>user</th>\n",
       "      <th>full_text</th>\n",
       "      <th>created_at</th>\n",
       "      <th>lang</th>\n",
       "      <th>retweeted_status</th>\n",
       "      <th>quoted_status</th>\n",
       "      <th>is_quote_status</th>\n",
       "      <th>in_reply_to_status_id</th>\n",
       "    </tr>\n",
       "  </thead>\n",
       "  <tbody>\n",
       "    <tr>\n",
       "      <th>0</th>\n",
       "      <td>5596520</td>\n",
       "      <td>713143</td>\n",
       "      <td>soo hungry need to find my wife and head to pf...</td>\n",
       "      <td>2007-02-20T02:43:19+00:00</td>\n",
       "      <td>en</td>\n",
       "      <td>N/A</td>\n",
       "      <td>N/A</td>\n",
       "      <td>0</td>\n",
       "      <td>N/A</td>\n",
       "    </tr>\n",
       "    <tr>\n",
       "      <th>1</th>\n",
       "      <td>154674522</td>\n",
       "      <td>7193842</td>\n",
       "      <td>Hofstadter’s Law: A task always takes longer t...</td>\n",
       "      <td>2007-07-17T20:45:46+00:00</td>\n",
       "      <td>en</td>\n",
       "      <td>N/A</td>\n",
       "      <td>N/A</td>\n",
       "      <td>0</td>\n",
       "      <td>N/A</td>\n",
       "    </tr>\n",
       "    <tr>\n",
       "      <th>2</th>\n",
       "      <td>412145582</td>\n",
       "      <td>4829901</td>\n",
       "      <td>Adobe Updater must update itself before instal...</td>\n",
       "      <td>2007-11-13T21:45:35+00:00</td>\n",
       "      <td>en</td>\n",
       "      <td>N/A</td>\n",
       "      <td>N/A</td>\n",
       "      <td>0</td>\n",
       "      <td>N/A</td>\n",
       "    </tr>\n",
       "    <tr>\n",
       "      <th>3</th>\n",
       "      <td>922321981</td>\n",
       "      <td>16298441</td>\n",
       "      <td>no</td>\n",
       "      <td>2008-09-15T17:25:20+00:00</td>\n",
       "      <td>und</td>\n",
       "      <td>N/A</td>\n",
       "      <td>N/A</td>\n",
       "      <td>0</td>\n",
       "      <td>N/A</td>\n",
       "    </tr>\n",
       "    <tr>\n",
       "      <th>4</th>\n",
       "      <td>2627602600</td>\n",
       "      <td>21454322</td>\n",
       "      <td>Went on a USO trip to Guantanamo Bay, Cuba a f...</td>\n",
       "      <td>2009-07-14T05:15:27+00:00</td>\n",
       "      <td>en</td>\n",
       "      <td>N/A</td>\n",
       "      <td>N/A</td>\n",
       "      <td>0</td>\n",
       "      <td>N/A</td>\n",
       "    </tr>\n",
       "  </tbody>\n",
       "</table>\n",
       "</div>"
      ],
      "text/plain": [
       "           id      user                                          full_text  \\\n",
       "0     5596520    713143  soo hungry need to find my wife and head to pf...   \n",
       "1   154674522   7193842  Hofstadter’s Law: A task always takes longer t...   \n",
       "2   412145582   4829901  Adobe Updater must update itself before instal...   \n",
       "3   922321981  16298441                                                 no   \n",
       "4  2627602600  21454322  Went on a USO trip to Guantanamo Bay, Cuba a f...   \n",
       "\n",
       "                  created_at lang retweeted_status quoted_status  \\\n",
       "0  2007-02-20T02:43:19+00:00   en              N/A           N/A   \n",
       "1  2007-07-17T20:45:46+00:00   en              N/A           N/A   \n",
       "2  2007-11-13T21:45:35+00:00   en              N/A           N/A   \n",
       "3  2008-09-15T17:25:20+00:00  und              N/A           N/A   \n",
       "4  2009-07-14T05:15:27+00:00   en              N/A           N/A   \n",
       "\n",
       "   is_quote_status in_reply_to_status_id  \n",
       "0                0                   N/A  \n",
       "1                0                   N/A  \n",
       "2                0                   N/A  \n",
       "3                0                   N/A  \n",
       "4                0                   N/A  "
      ]
     },
     "execution_count": 6,
     "metadata": {},
     "output_type": "execute_result"
    }
   ],
   "source": [
    "df.head()"
   ]
  },
  {
   "cell_type": "code",
   "execution_count": 11,
   "metadata": {},
   "outputs": [],
   "source": [
    "df = df.rename({\"full_text\" : \"full_text_short\"}, axis=1)"
   ]
  },
  {
   "cell_type": "code",
   "execution_count": 13,
   "metadata": {},
   "outputs": [
    {
     "data": {
      "text/html": [
       "<div>\n",
       "<style scoped>\n",
       "    .dataframe tbody tr th:only-of-type {\n",
       "        vertical-align: middle;\n",
       "    }\n",
       "\n",
       "    .dataframe tbody tr th {\n",
       "        vertical-align: top;\n",
       "    }\n",
       "\n",
       "    .dataframe thead th {\n",
       "        text-align: right;\n",
       "    }\n",
       "</style>\n",
       "<table border=\"1\" class=\"dataframe\">\n",
       "  <thead>\n",
       "    <tr style=\"text-align: right;\">\n",
       "      <th></th>\n",
       "      <th>id</th>\n",
       "      <th>user</th>\n",
       "      <th>full_text_short</th>\n",
       "      <th>created_at</th>\n",
       "      <th>lang</th>\n",
       "      <th>retweeted_status</th>\n",
       "      <th>quoted_status</th>\n",
       "      <th>is_quote_status</th>\n",
       "      <th>in_reply_to_status_id</th>\n",
       "    </tr>\n",
       "  </thead>\n",
       "  <tbody>\n",
       "    <tr>\n",
       "      <th>47</th>\n",
       "      <td>667817009363611648</td>\n",
       "      <td>93278929</td>\n",
       "      <td>@ArchMaher https://twitter.com/ArchMaher/statu...</td>\n",
       "      <td>2015-11-20T21:29:17+00:00</td>\n",
       "      <td>und</td>\n",
       "      <td>N/A</td>\n",
       "      <td>N/A</td>\n",
       "      <td>0</td>\n",
       "      <td>667816920742129664</td>\n",
       "    </tr>\n",
       "    <tr>\n",
       "      <th>48</th>\n",
       "      <td>667817093123801088</td>\n",
       "      <td>93278929</td>\n",
       "      <td>@ArchMaher https://twitter.com/ArchMaher/statu...</td>\n",
       "      <td>2015-11-20T21:29:37+00:00</td>\n",
       "      <td>und</td>\n",
       "      <td>N/A</td>\n",
       "      <td>N/A</td>\n",
       "      <td>0</td>\n",
       "      <td>667817009363611648</td>\n",
       "    </tr>\n",
       "    <tr>\n",
       "      <th>62</th>\n",
       "      <td>709737027743440896</td>\n",
       "      <td>93278929</td>\n",
       "      <td>@ArchMaher #مسجد في مدينة #جدة #تصميم #معماري ...</td>\n",
       "      <td>2016-03-15T13:44:28+00:00</td>\n",
       "      <td>und</td>\n",
       "      <td>N/A</td>\n",
       "      <td>N/A</td>\n",
       "      <td>0</td>\n",
       "      <td>709724587823652864</td>\n",
       "    </tr>\n",
       "    <tr>\n",
       "      <th>68</th>\n",
       "      <td>751021335480905730</td>\n",
       "      <td>3610845615</td>\n",
       "      <td>@keffiesuplex you need to find yourself a weal...</td>\n",
       "      <td>2016-07-07T11:53:34+00:00</td>\n",
       "      <td>en</td>\n",
       "      <td>N/A</td>\n",
       "      <td>N/A</td>\n",
       "      <td>0</td>\n",
       "      <td>751014338895417344</td>\n",
       "    </tr>\n",
       "    <tr>\n",
       "      <th>71</th>\n",
       "      <td>755026645069750272</td>\n",
       "      <td>381289719</td>\n",
       "      <td>1) When ISIS was still occupying parts of Trip...</td>\n",
       "      <td>2016-07-18T13:09:14+00:00</td>\n",
       "      <td>en</td>\n",
       "      <td>N/A</td>\n",
       "      <td>N/A</td>\n",
       "      <td>0</td>\n",
       "      <td>755018269501841408</td>\n",
       "    </tr>\n",
       "    <tr>\n",
       "      <th>...</th>\n",
       "      <td>...</td>\n",
       "      <td>...</td>\n",
       "      <td>...</td>\n",
       "      <td>...</td>\n",
       "      <td>...</td>\n",
       "      <td>...</td>\n",
       "      <td>...</td>\n",
       "      <td>...</td>\n",
       "      <td>...</td>\n",
       "    </tr>\n",
       "    <tr>\n",
       "      <th>55473</th>\n",
       "      <td>1351678195083468800</td>\n",
       "      <td>40426297</td>\n",
       "      <td>@collinofzion I'll take a cord of wood, thanks!</td>\n",
       "      <td>2021-01-19T23:49:29+00:00</td>\n",
       "      <td>en</td>\n",
       "      <td>N/A</td>\n",
       "      <td>N/A</td>\n",
       "      <td>0</td>\n",
       "      <td>1351544872738684929</td>\n",
       "    </tr>\n",
       "    <tr>\n",
       "      <th>55474</th>\n",
       "      <td>1351678756621082627</td>\n",
       "      <td>264043245</td>\n",
       "      <td>Dipert reckd</td>\n",
       "      <td>2021-01-19T23:51:43+00:00</td>\n",
       "      <td>en</td>\n",
       "      <td>N/A</td>\n",
       "      <td>N/A</td>\n",
       "      <td>0</td>\n",
       "      <td>1351678175798046723</td>\n",
       "    </tr>\n",
       "    <tr>\n",
       "      <th>55478</th>\n",
       "      <td>1351679374500642818</td>\n",
       "      <td>991093012804517888</td>\n",
       "      <td>@pilhuhn @mipsytipsy I got mine from https://w...</td>\n",
       "      <td>2021-01-19T23:54:10+00:00</td>\n",
       "      <td>en</td>\n",
       "      <td>N/A</td>\n",
       "      <td>N/A</td>\n",
       "      <td>0</td>\n",
       "      <td>1351572277196955651</td>\n",
       "    </tr>\n",
       "    <tr>\n",
       "      <th>55482</th>\n",
       "      <td>1351680121409728515</td>\n",
       "      <td>1717291</td>\n",
       "      <td>https://twitter.com/pkedrosky/status/135168012...</td>\n",
       "      <td>2021-01-19T23:57:08+00:00</td>\n",
       "      <td>und</td>\n",
       "      <td>N/A</td>\n",
       "      <td>N/A</td>\n",
       "      <td>0</td>\n",
       "      <td>1351679706379141121</td>\n",
       "    </tr>\n",
       "    <tr>\n",
       "      <th>55483</th>\n",
       "      <td>1351680498351939588</td>\n",
       "      <td>423622378</td>\n",
       "      <td>Here's one of mine 😭\\nhttps://youtu.be/vAoADCS...</td>\n",
       "      <td>2021-01-19T23:58:38+00:00</td>\n",
       "      <td>en</td>\n",
       "      <td>N/A</td>\n",
       "      <td>N/A</td>\n",
       "      <td>0</td>\n",
       "      <td>1351675567842717696</td>\n",
       "    </tr>\n",
       "  </tbody>\n",
       "</table>\n",
       "<p>13298 rows × 9 columns</p>\n",
       "</div>"
      ],
      "text/plain": [
       "                        id                user  \\\n",
       "47      667817009363611648            93278929   \n",
       "48      667817093123801088            93278929   \n",
       "62      709737027743440896            93278929   \n",
       "68      751021335480905730          3610845615   \n",
       "71      755026645069750272           381289719   \n",
       "...                    ...                 ...   \n",
       "55473  1351678195083468800            40426297   \n",
       "55474  1351678756621082627           264043245   \n",
       "55478  1351679374500642818  991093012804517888   \n",
       "55482  1351680121409728515             1717291   \n",
       "55483  1351680498351939588           423622378   \n",
       "\n",
       "                                         full_text_short  \\\n",
       "47     @ArchMaher https://twitter.com/ArchMaher/statu...   \n",
       "48     @ArchMaher https://twitter.com/ArchMaher/statu...   \n",
       "62     @ArchMaher #مسجد في مدينة #جدة #تصميم #معماري ...   \n",
       "68     @keffiesuplex you need to find yourself a weal...   \n",
       "71     1) When ISIS was still occupying parts of Trip...   \n",
       "...                                                  ...   \n",
       "55473    @collinofzion I'll take a cord of wood, thanks!   \n",
       "55474                                       Dipert reckd   \n",
       "55478  @pilhuhn @mipsytipsy I got mine from https://w...   \n",
       "55482  https://twitter.com/pkedrosky/status/135168012...   \n",
       "55483  Here's one of mine 😭\\nhttps://youtu.be/vAoADCS...   \n",
       "\n",
       "                      created_at lang retweeted_status quoted_status  \\\n",
       "47     2015-11-20T21:29:17+00:00  und              N/A           N/A   \n",
       "48     2015-11-20T21:29:37+00:00  und              N/A           N/A   \n",
       "62     2016-03-15T13:44:28+00:00  und              N/A           N/A   \n",
       "68     2016-07-07T11:53:34+00:00   en              N/A           N/A   \n",
       "71     2016-07-18T13:09:14+00:00   en              N/A           N/A   \n",
       "...                          ...  ...              ...           ...   \n",
       "55473  2021-01-19T23:49:29+00:00   en              N/A           N/A   \n",
       "55474  2021-01-19T23:51:43+00:00   en              N/A           N/A   \n",
       "55478  2021-01-19T23:54:10+00:00   en              N/A           N/A   \n",
       "55482  2021-01-19T23:57:08+00:00  und              N/A           N/A   \n",
       "55483  2021-01-19T23:58:38+00:00   en              N/A           N/A   \n",
       "\n",
       "       is_quote_status in_reply_to_status_id  \n",
       "47                   0    667816920742129664  \n",
       "48                   0    667817009363611648  \n",
       "62                   0    709724587823652864  \n",
       "68                   0    751014338895417344  \n",
       "71                   0    755018269501841408  \n",
       "...                ...                   ...  \n",
       "55473                0   1351544872738684929  \n",
       "55474                0   1351678175798046723  \n",
       "55478                0   1351572277196955651  \n",
       "55482                0   1351679706379141121  \n",
       "55483                0   1351675567842717696  \n",
       "\n",
       "[13298 rows x 9 columns]"
      ]
     },
     "execution_count": 13,
     "metadata": {},
     "output_type": "execute_result"
    }
   ],
   "source": [
    "df[df.in_reply_to_status_id != \"N/A\"]"
   ]
  },
  {
   "cell_type": "code",
   "execution_count": 14,
   "metadata": {},
   "outputs": [
    {
     "data": {
      "text/html": [
       "<div>\n",
       "<style scoped>\n",
       "    .dataframe tbody tr th:only-of-type {\n",
       "        vertical-align: middle;\n",
       "    }\n",
       "\n",
       "    .dataframe tbody tr th {\n",
       "        vertical-align: top;\n",
       "    }\n",
       "\n",
       "    .dataframe thead th {\n",
       "        text-align: right;\n",
       "    }\n",
       "</style>\n",
       "<table border=\"1\" class=\"dataframe\">\n",
       "  <thead>\n",
       "    <tr style=\"text-align: right;\">\n",
       "      <th></th>\n",
       "      <th>id</th>\n",
       "      <th>user</th>\n",
       "      <th>full_text_short</th>\n",
       "      <th>created_at</th>\n",
       "      <th>lang</th>\n",
       "      <th>retweeted_status</th>\n",
       "      <th>quoted_status</th>\n",
       "      <th>is_quote_status</th>\n",
       "      <th>in_reply_to_status_id</th>\n",
       "    </tr>\n",
       "  </thead>\n",
       "  <tbody>\n",
       "    <tr>\n",
       "      <th>85</th>\n",
       "      <td>811910511587717120</td>\n",
       "      <td>93278929</td>\n",
       "      <td>تكرّش حتى أمسى بلا رقبة #مظفر_النواب https://t...</td>\n",
       "      <td>2016-12-22T12:25:25+00:00</td>\n",
       "      <td>ar</td>\n",
       "      <td>N/A</td>\n",
       "      <td>811909512445788160</td>\n",
       "      <td>1</td>\n",
       "      <td>N/A</td>\n",
       "    </tr>\n",
       "    <tr>\n",
       "      <th>88</th>\n",
       "      <td>814113551778508801</td>\n",
       "      <td>3169212490</td>\n",
       "      <td>#modularity leads to #innovation  @carlissbald...</td>\n",
       "      <td>2016-12-28T14:19:30+00:00</td>\n",
       "      <td>en</td>\n",
       "      <td>N/A</td>\n",
       "      <td>814110461436235776</td>\n",
       "      <td>1</td>\n",
       "      <td>N/A</td>\n",
       "    </tr>\n",
       "    <tr>\n",
       "      <th>124</th>\n",
       "      <td>877261616512892929</td>\n",
       "      <td>1575023431</td>\n",
       "      <td>المكان اللى اتصور فيه فيلم ذيب ❤ . كنت هموت وا...</td>\n",
       "      <td>2017-06-20T20:27:22+00:00</td>\n",
       "      <td>ar</td>\n",
       "      <td>N/A</td>\n",
       "      <td>876927696881799168</td>\n",
       "      <td>1</td>\n",
       "      <td>N/A</td>\n",
       "    </tr>\n",
       "    <tr>\n",
       "      <th>125</th>\n",
       "      <td>877262100606971906</td>\n",
       "      <td>93278929</td>\n",
       "      <td>@mashaly_maha https://twitter.com/archmaher/st...</td>\n",
       "      <td>2017-06-20T20:29:18+00:00</td>\n",
       "      <td>ar</td>\n",
       "      <td>N/A</td>\n",
       "      <td>667816920742129664</td>\n",
       "      <td>1</td>\n",
       "      <td>877261616512892929</td>\n",
       "    </tr>\n",
       "    <tr>\n",
       "      <th>200</th>\n",
       "      <td>976182659901722629</td>\n",
       "      <td>294710260</td>\n",
       "      <td>In response to this @BryanVanNorden sent me th...</td>\n",
       "      <td>2018-03-20T19:44:17+00:00</td>\n",
       "      <td>en</td>\n",
       "      <td>N/A</td>\n",
       "      <td>975771064843276288</td>\n",
       "      <td>1</td>\n",
       "      <td>N/A</td>\n",
       "    </tr>\n",
       "    <tr>\n",
       "      <th>...</th>\n",
       "      <td>...</td>\n",
       "      <td>...</td>\n",
       "      <td>...</td>\n",
       "      <td>...</td>\n",
       "      <td>...</td>\n",
       "      <td>...</td>\n",
       "      <td>...</td>\n",
       "      <td>...</td>\n",
       "      <td>...</td>\n",
       "    </tr>\n",
       "    <tr>\n",
       "      <th>55458</th>\n",
       "      <td>1351675122751569921</td>\n",
       "      <td>48008938</td>\n",
       "      <td>Dishonesty? Stupidity? Ignorance? Lack of fore...</td>\n",
       "      <td>2021-01-19T23:37:16+00:00</td>\n",
       "      <td>en</td>\n",
       "      <td>N/A</td>\n",
       "      <td>1351618345456594955</td>\n",
       "      <td>1</td>\n",
       "      <td>N/A</td>\n",
       "    </tr>\n",
       "    <tr>\n",
       "      <th>55460</th>\n",
       "      <td>1351675212270596097</td>\n",
       "      <td>369931522</td>\n",
       "      <td>Tying up all the loose plot lines for the fina...</td>\n",
       "      <td>2021-01-19T23:37:38+00:00</td>\n",
       "      <td>en</td>\n",
       "      <td>N/A</td>\n",
       "      <td>1351670940896284674</td>\n",
       "      <td>1</td>\n",
       "      <td>N/A</td>\n",
       "    </tr>\n",
       "    <tr>\n",
       "      <th>55464</th>\n",
       "      <td>1351676085667319814</td>\n",
       "      <td>738538436</td>\n",
       "      <td>Becoming. https://twitter.com/idaho_blue/statu...</td>\n",
       "      <td>2021-01-19T23:41:06+00:00</td>\n",
       "      <td>en</td>\n",
       "      <td>N/A</td>\n",
       "      <td>1351534278014713861</td>\n",
       "      <td>1</td>\n",
       "      <td>N/A</td>\n",
       "    </tr>\n",
       "    <tr>\n",
       "      <th>55465</th>\n",
       "      <td>1351676175794360320</td>\n",
       "      <td>17595439</td>\n",
       "      <td>After more than a century of competition and c...</td>\n",
       "      <td>2021-01-19T23:41:27+00:00</td>\n",
       "      <td>en</td>\n",
       "      <td>N/A</td>\n",
       "      <td>1351663630765469701</td>\n",
       "      <td>1</td>\n",
       "      <td>N/A</td>\n",
       "    </tr>\n",
       "    <tr>\n",
       "      <th>55476</th>\n",
       "      <td>1351679144933863429</td>\n",
       "      <td>34270918</td>\n",
       "      <td>Love hearing memories &amp; stories like this. We ...</td>\n",
       "      <td>2021-01-19T23:53:15+00:00</td>\n",
       "      <td>en</td>\n",
       "      <td>N/A</td>\n",
       "      <td>1351649189957087237</td>\n",
       "      <td>1</td>\n",
       "      <td>N/A</td>\n",
       "    </tr>\n",
       "  </tbody>\n",
       "</table>\n",
       "<p>7440 rows × 9 columns</p>\n",
       "</div>"
      ],
      "text/plain": [
       "                        id        user  \\\n",
       "85      811910511587717120    93278929   \n",
       "88      814113551778508801  3169212490   \n",
       "124     877261616512892929  1575023431   \n",
       "125     877262100606971906    93278929   \n",
       "200     976182659901722629   294710260   \n",
       "...                    ...         ...   \n",
       "55458  1351675122751569921    48008938   \n",
       "55460  1351675212270596097   369931522   \n",
       "55464  1351676085667319814   738538436   \n",
       "55465  1351676175794360320    17595439   \n",
       "55476  1351679144933863429    34270918   \n",
       "\n",
       "                                         full_text_short  \\\n",
       "85     تكرّش حتى أمسى بلا رقبة #مظفر_النواب https://t...   \n",
       "88     #modularity leads to #innovation  @carlissbald...   \n",
       "124    المكان اللى اتصور فيه فيلم ذيب ❤ . كنت هموت وا...   \n",
       "125    @mashaly_maha https://twitter.com/archmaher/st...   \n",
       "200    In response to this @BryanVanNorden sent me th...   \n",
       "...                                                  ...   \n",
       "55458  Dishonesty? Stupidity? Ignorance? Lack of fore...   \n",
       "55460  Tying up all the loose plot lines for the fina...   \n",
       "55464  Becoming. https://twitter.com/idaho_blue/statu...   \n",
       "55465  After more than a century of competition and c...   \n",
       "55476  Love hearing memories & stories like this. We ...   \n",
       "\n",
       "                      created_at lang retweeted_status        quoted_status  \\\n",
       "85     2016-12-22T12:25:25+00:00   ar              N/A   811909512445788160   \n",
       "88     2016-12-28T14:19:30+00:00   en              N/A   814110461436235776   \n",
       "124    2017-06-20T20:27:22+00:00   ar              N/A   876927696881799168   \n",
       "125    2017-06-20T20:29:18+00:00   ar              N/A   667816920742129664   \n",
       "200    2018-03-20T19:44:17+00:00   en              N/A   975771064843276288   \n",
       "...                          ...  ...              ...                  ...   \n",
       "55458  2021-01-19T23:37:16+00:00   en              N/A  1351618345456594955   \n",
       "55460  2021-01-19T23:37:38+00:00   en              N/A  1351670940896284674   \n",
       "55464  2021-01-19T23:41:06+00:00   en              N/A  1351534278014713861   \n",
       "55465  2021-01-19T23:41:27+00:00   en              N/A  1351663630765469701   \n",
       "55476  2021-01-19T23:53:15+00:00   en              N/A  1351649189957087237   \n",
       "\n",
       "       is_quote_status in_reply_to_status_id  \n",
       "85                   1                   N/A  \n",
       "88                   1                   N/A  \n",
       "124                  1                   N/A  \n",
       "125                  1    877261616512892929  \n",
       "200                  1                   N/A  \n",
       "...                ...                   ...  \n",
       "55458                1                   N/A  \n",
       "55460                1                   N/A  \n",
       "55464                1                   N/A  \n",
       "55465                1                   N/A  \n",
       "55476                1                   N/A  \n",
       "\n",
       "[7440 rows x 9 columns]"
      ]
     },
     "execution_count": 14,
     "metadata": {},
     "output_type": "execute_result"
    }
   ],
   "source": [
    "df[df.quoted_status != \"N/A\"]"
   ]
  },
  {
   "cell_type": "code",
   "execution_count": null,
   "metadata": {},
   "outputs": [],
   "source": []
  },
  {
   "cell_type": "code",
   "execution_count": null,
   "metadata": {},
   "outputs": [],
   "source": []
  },
  {
   "cell_type": "markdown",
   "metadata": {},
   "source": [
    "### Retweets\n",
    "\n",
    "Retweets should be removed - tweets that are retweeted are in the database, and contain full text of a tweet, icluding links and urls. This is not a case for retweets. \n",
    "\n",
    "They have `RT ` in front of the tweet, and are often cut at the end.\n",
    "\n",
    "Retweets don't add anything to consversation, they just amplify signal."
   ]
  },
  {
   "cell_type": "code",
   "execution_count": null,
   "metadata": {},
   "outputs": [],
   "source": [
    "# Retweet\n",
    "df[df[\"id\"] == 1340085773203193856].iloc[0].full_text"
   ]
  },
  {
   "cell_type": "code",
   "execution_count": null,
   "metadata": {},
   "outputs": [],
   "source": [
    "# Retweeted tweet\n",
    "df[df[\"id\"] == 1339896134291091458].iloc[0].full_text"
   ]
  },
  {
   "cell_type": "code",
   "execution_count": null,
   "metadata": {},
   "outputs": [],
   "source": [
    "# filter out retweets - retweeted tweets are in the database\n",
    "# so RT only dup\n",
    "df = df[df[\"retweeted_status\"] == \"N/A\"] ; df.shape"
   ]
  },
  {
   "cell_type": "markdown",
   "metadata": {},
   "source": [
    "## Reviewed tweets"
   ]
  },
  {
   "cell_type": "code",
   "execution_count": null,
   "metadata": {},
   "outputs": [],
   "source": [
    "reviewed_df = pd.read_csv(\"../tweetfeed/data/seen.csv\"); reviewed_df.shape"
   ]
  },
  {
   "cell_type": "code",
   "execution_count": null,
   "metadata": {},
   "outputs": [],
   "source": [
    "reviewed_df[\"err_reason\"].value_counts()"
   ]
  },
  {
   "cell_type": "code",
   "execution_count": null,
   "metadata": {},
   "outputs": [],
   "source": [
    "deleted_tweets = reviewed_df[reviewed_df.err_reason == \"not_found\"].tweet_id.tolist()\n",
    "df = df[~df[\"id\"].isin(deleted_tweets)]; df.shape"
   ]
  },
  {
   "cell_type": "code",
   "execution_count": null,
   "metadata": {},
   "outputs": [],
   "source": [
    "### let's deal only with tweet that are in English"
   ]
  },
  {
   "cell_type": "code",
   "execution_count": null,
   "metadata": {},
   "outputs": [],
   "source": [
    "df = df[df[\"lang\"] == \"en\"]; df.shape"
   ]
  },
  {
   "cell_type": "markdown",
   "metadata": {},
   "source": [
    "## Augmentation"
   ]
  },
  {
   "cell_type": "markdown",
   "metadata": {},
   "source": [
    "### Finding news related tweets"
   ]
  },
  {
   "cell_type": "code",
   "execution_count": null,
   "metadata": {},
   "outputs": [],
   "source": [
    "with open(\"../tweetfeed/data/news_domains.txt\", \"r\") as f:\n",
    "    news_domains = json.loads(f.read())\n",
    "# df = find_news(df, news_domains); df.shape"
   ]
  },
  {
   "cell_type": "code",
   "execution_count": null,
   "metadata": {},
   "outputs": [],
   "source": [
    "df_news = df.copy()"
   ]
  },
  {
   "cell_type": "code",
   "execution_count": null,
   "metadata": {},
   "outputs": [],
   "source": [
    "def remove_tw_urls(tweet: str) -> str:\n",
    "    \"\"\"removes twitter links / urls from tweet\"\"\"\n",
    "    tweet = re.sub(r\"https://twitter.com/\\S+\", \"\", tweet)\n",
    "    tweet = re.sub(r\"http://twitter.com/\\S+\", \"\", tweet)\n",
    "    tweet = re.sub(r\"https://api.twitter.com/\\S+\", \"\", tweet)\n",
    "    tweet = re.sub(r\"http://api.twitter.com/\\S+\", \"\", tweet)\n",
    "    return tweet\n",
    "\n",
    "def rem_short_links(tweet: str) -> str:\n",
    "    \"\"\"removes some of short links (bit.ly, buff.ly, t.co) from tweets\"\"\"\n",
    "    tweet = re.sub(r\"https://bit.ly/\\S+\", \"\", tweet)\n",
    "    tweet = re.sub(r\"http://bit.ly/\\S+\", \"\", tweet)\n",
    "    tweet = re.sub(r\"https://buff.ly/\\S+\", \"\", tweet)\n",
    "    tweet = re.sub(r\"http://buff.ly/\\S+\", \"\", tweet)\n",
    "    tweet = re.sub(r\"https://t.co/\\S+\", \"\", tweet)\n",
    "    tweet = re.sub(r\"http://t.co/\\S+\", \"\", tweet)\n",
    "    return tweet"
   ]
  },
  {
   "cell_type": "code",
   "execution_count": null,
   "metadata": {},
   "outputs": [],
   "source": [
    "df_news[\"clean_text\"] = df_news[\"full_text\"].apply(remove_tw_urls).apply(rem_short_links)"
   ]
  },
  {
   "cell_type": "code",
   "execution_count": null,
   "metadata": {
    "scrolled": true
   },
   "outputs": [],
   "source": [
    "df_news[df_news[\"clean_text\"].str.contains(\"twitter\")].iloc[0].full_text"
   ]
  },
  {
   "cell_type": "code",
   "execution_count": null,
   "metadata": {},
   "outputs": [],
   "source": [
    "df_news[df_news[\"clean_text\"].str.contains(\"bit.ly\")]"
   ]
  },
  {
   "cell_type": "code",
   "execution_count": null,
   "metadata": {},
   "outputs": [],
   "source": [
    "def find_url(tweet: str) -> list:\n",
    "    \"\"\"find all urls in string and returns a list of all urls\"\"\"\n",
    "    return re.findall(r\"http\\S+\", tweet)"
   ]
  },
  {
   "cell_type": "code",
   "execution_count": null,
   "metadata": {},
   "outputs": [],
   "source": [
    "df_news[\"urls\"] = df_news[\"clean_text\"].apply(find_url) "
   ]
  },
  {
   "cell_type": "code",
   "execution_count": null,
   "metadata": {},
   "outputs": [],
   "source": [
    "df_news.drop([\"clean_text\"], axis=1, inplace=True)"
   ]
  },
  {
   "cell_type": "code",
   "execution_count": null,
   "metadata": {},
   "outputs": [],
   "source": [
    "def get_domain(url: str) -> str:\n",
    "    \"\"\"extracts domain from url, returns it\"\"\"\n",
    "    domain = urlparse(url).netloc.replace(\"www.\", \"\")\n",
    "    dot_split = domain.split(\".\")\n",
    "    if (len(dot_split) > 2) & (\n",
    "        dot_split[-1] == \"com\"\n",
    "    ):  # for links like \"edition.cnn.com\", but not like \"site.co.nz\"\n",
    "        return \".\".join(dot_split[1:])\n",
    "    else:\n",
    "        return domain\n",
    "def remove_empty_str(string_list: list) -> list:\n",
    "    \"\"\"removes items that are empty strings from the list\"\"\"\n",
    "    for i in string_list:\n",
    "        if len(string_list) == 0:\n",
    "            string_list.remove(i)\n",
    "    return string_list"
   ]
  },
  {
   "cell_type": "code",
   "execution_count": null,
   "metadata": {},
   "outputs": [],
   "source": [
    "df_news[\"domains\"] = df_news.urls.apply(lambda x: [get_domain(d) for d in x]).apply(\n",
    "    remove_empty_str\n",
    ")\n",
    "df_news.drop([\"urls\"], axis=1, inplace=True)"
   ]
  },
  {
   "cell_type": "code",
   "execution_count": null,
   "metadata": {},
   "outputs": [],
   "source": [
    "# get max value of domains, expand each one to new column (unpack from list)\n",
    "new_columns_list = []\n",
    "max_nr_dom = df_news.domains.str.len().max()\n",
    "for i in range(max_nr_dom):\n",
    "    new_columns_list.append(f\"domain{i+1}\")\n",
    "df_news.reset_index(drop=True, inplace=True)\n",
    "df_news[new_columns_list] = pd.DataFrame(df_news.domains.tolist())\n",
    "\n",
    "for col in new_columns_list:\n",
    "    df_news[col] = df_news[col].isin(news_domains)"
   ]
  },
  {
   "cell_type": "code",
   "execution_count": null,
   "metadata": {},
   "outputs": [],
   "source": [
    "df_news[[\n",
    "    \"id\", \"domains\", \"domain1\", \"domain2\", \"domain3\", \"domain4\", \"domain5\", \"domain6\"\n",
    "]].head(10)"
   ]
  },
  {
   "cell_type": "code",
   "execution_count": null,
   "metadata": {},
   "outputs": [],
   "source": [
    "df_news[df_news.domain1 == True][[\n",
    "    \"id\", \"domains\", \"domain1\", \"domain2\", \"domain3\", \"domain4\", \"domain5\", \"domain6\"\n",
    "]].head(10)"
   ]
  },
  {
   "cell_type": "code",
   "execution_count": null,
   "metadata": {},
   "outputs": [],
   "source": [
    "df_news[df_news.domain4 == True][[\n",
    "    \"id\", \"domains\", \"domain1\", \"domain2\", \"domain3\", \"domain4\", \"domain5\", \"domain6\"\n",
    "]].head(10) # max domains in tweet is 6, but max *news* domains is 4."
   ]
  },
  {
   "cell_type": "code",
   "execution_count": null,
   "metadata": {},
   "outputs": [],
   "source": [
    "df[df[\"id\"] == 1344730628407881729].iloc[0].full_text"
   ]
  },
  {
   "cell_type": "code",
   "execution_count": null,
   "metadata": {},
   "outputs": [],
   "source": [
    "most_links = (\n",
    "    df_news.domains.apply(lambda x: len(x)).sort_values(ascending=False).index[0]\n",
    ") #get index of tweet with most links"
   ]
  },
  {
   "cell_type": "code",
   "execution_count": null,
   "metadata": {},
   "outputs": [],
   "source": [
    "Tweet(embed_str(df_news.iloc[most_links][\"id\"]))"
   ]
  },
  {
   "cell_type": "code",
   "execution_count": null,
   "metadata": {},
   "outputs": [],
   "source": [
    "df_news.drop([\"domains\"], axis=1, inplace=True)\n",
    "# sum it all up\n",
    "df_news[\"contains_news\"] = df_news[new_columns_list].sum(axis=1)"
   ]
  },
  {
   "cell_type": "code",
   "execution_count": null,
   "metadata": {},
   "outputs": [],
   "source": [
    "df_news[\"contains_news\"].value_counts()"
   ]
  },
  {
   "cell_type": "code",
   "execution_count": null,
   "metadata": {},
   "outputs": [],
   "source": [
    "# we are interest in only a True-False, so let's change that.\n",
    "df_news[\"contains_news\"] = df_news.contains_news.apply(lambda x: x if x == 0 else 1)\n",
    "# now we can remove added columns\n",
    "df_news.drop(new_columns_list, axis=1, inplace=True)"
   ]
  },
  {
   "cell_type": "code",
   "execution_count": null,
   "metadata": {},
   "outputs": [],
   "source": [
    "df_news[\"contains_news\"].value_counts()"
   ]
  },
  {
   "cell_type": "code",
   "execution_count": null,
   "metadata": {},
   "outputs": [],
   "source": [
    "def find_news(df: pd.DataFrame, news_domains_list: list) -> pd.DataFrame:\n",
    "    \"\"\"Takes DataFrame, and list of domains of news sites.\n",
    "    Removes from DataFrame rows that contain links to sites from that list.\n",
    "    Args:\n",
    "        df (pd.DataFrame): DataFrame to be cleaned\n",
    "        news_domains_list (list): list of domains of news sites\n",
    "\n",
    "    Returns:\n",
    "        pd.DataFrame: DataFrame without tweets linking to news\n",
    "    \"\"\"\n",
    "    df = df.copy()\n",
    "    df[\"clean_text\"] = (\n",
    "        df[\"full_text\"].apply(remove_tw_urls).apply(rem_short_links)\n",
    "    )\n",
    "    df[\"clean_text\"] = df[\"clean_text\"].apply(rem_short_links)\n",
    "    df[\"urls\"] = df[\"clean_text\"].apply(find_url)\n",
    "    df.drop([\"clean_text\"], axis=1, inplace=True)\n",
    "    df[\"domains\"] = df.urls.apply(lambda x: [get_domain(d) for d in x])\n",
    "    df[\"domains\"] = df.domains.apply(remove_empty_str)\n",
    "    df.drop([\"urls\"], axis=1, inplace=True)\n",
    "\n",
    "    # get max value of domains, expand each one to new column (unpack from list)\n",
    "    new_columns_list = []\n",
    "    max_nr_dom = df.domains.str.len().max()\n",
    "    for i in range(max_nr_dom):\n",
    "        new_columns_list.append(f\"domain{i+1}\")\n",
    "    df.reset_index(drop=True, inplace=True)\n",
    "    df[new_columns_list] = pd.DataFrame(df.domains.tolist())\n",
    "\n",
    "    for col in new_columns_list:\n",
    "        df[col] = df[col].isin(news_domains_list)\n",
    "\n",
    "    df.drop([\"domains\"], axis=1, inplace=True)\n",
    "    # sum it all up\n",
    "    df[\"contains_news\"] = df[new_columns_list].sum(axis=1)\n",
    "    df[\"contains_news\"] = df.contains_news.apply(lambda x: x if x == 0 else 1)\n",
    "    # remove added columns\n",
    "    df.drop(new_columns_list, axis=1, inplace=True)\n",
    "\n",
    "    return df"
   ]
  },
  {
   "cell_type": "code",
   "execution_count": null,
   "metadata": {},
   "outputs": [],
   "source": [
    "df = find_news(df, news_domains); df.shape"
   ]
  },
  {
   "cell_type": "code",
   "execution_count": null,
   "metadata": {},
   "outputs": [],
   "source": [
    "df_news[\"contains_news\"].value_counts()"
   ]
  },
  {
   "cell_type": "markdown",
   "metadata": {},
   "source": [
    "## explore muted accounts, and muted words"
   ]
  },
  {
   "cell_type": "code",
   "execution_count": null,
   "metadata": {},
   "outputs": [],
   "source": [
    "with open(\"../tweetfeed/data/mute_list.txt\", \"r\") as f:\n",
    "    mute_list = json.loads(f.read())\n",
    "with open(\"../tweetfeed/data/mute_list_cs.txt\", \"r\") as f:\n",
    "    mute_list_cs = json.loads(f.read())\n",
    "with open(\"../tweetfeed/data/mutedacc.txt\", \"r\") as f:\n",
    "    mutedacc = json.loads(f.read())"
   ]
  },
  {
   "cell_type": "code",
   "execution_count": null,
   "metadata": {},
   "outputs": [],
   "source": [
    "mute_list_cs"
   ]
  },
  {
   "cell_type": "code",
   "execution_count": null,
   "metadata": {},
   "outputs": [],
   "source": [
    "mute_list[:4]"
   ]
  },
  {
   "cell_type": "code",
   "execution_count": null,
   "metadata": {},
   "outputs": [],
   "source": [
    "mutedacc[:5]"
   ]
  },
  {
   "cell_type": "code",
   "execution_count": null,
   "metadata": {},
   "outputs": [],
   "source": [
    "df_mute = df.copy()\n",
    "m_list = mute_list\n",
    "column_name = \"full_text\"\n",
    "for item in m_list:\n",
    "    df_mute[item] = df_mute[column_name].str.contains(item)\n",
    "df_mute[\"is_mute_list\"] = df_mute[mute_list].sum(axis=1)\n",
    "df_mute[\"is_mute_list\"] = df_mute[\"is_mute_list\"].apply(lambda x: x if x == 0 else 1)\n",
    "df_mute.drop(mute_list, axis=1, inplace=True)\n",
    "df_mute[df_mute.is_mute_list > 0].shape"
   ]
  },
  {
   "cell_type": "code",
   "execution_count": null,
   "metadata": {},
   "outputs": [],
   "source": [
    "def is_muted(df, mute_list, column_name, new_col, case=True):\n",
    "    df_mute = df.copy()\n",
    "    for item in mute_list:\n",
    "        df_mute[item] = df_mute[column_name].str.contains(item, case)\n",
    "    df_mute[new_col] = df_mute[mute_list].sum(axis=1)\n",
    "    df_mute[new_col] = df_mute[new_col].apply(lambda x: x if x == 0 else 1)\n",
    "    df_mute.drop(mute_list, axis=1, inplace=True)\n",
    "    return df_mute"
   ]
  },
  {
   "cell_type": "code",
   "execution_count": null,
   "metadata": {
    "scrolled": true
   },
   "outputs": [],
   "source": [
    "df = is_muted(df, mute_list, \"full_text\", \"is_mute_list\", case=False)\n",
    "df = is_muted(df, mute_list_cs, \"full_text\", \"is_mute_list_cs\")\n",
    "df[\"mutedacc\"] = np.where(df[\"user\"].isin(mutedacc), 1, 0)"
   ]
  },
  {
   "cell_type": "code",
   "execution_count": null,
   "metadata": {},
   "outputs": [],
   "source": [
    "columns_list = [\"is_mute_list\", \"is_mute_list_cs\", \"mutedacc\"]\n",
    "df[\"muted\"] = (\n",
    "    df[columns_list]\n",
    "    .sum(axis=1)\n",
    "    .apply(lambda x: x if x == 0 else 1)\n",
    ")\n",
    "df.drop(columns_list, axis=1, inplace=True)"
   ]
  },
  {
   "cell_type": "code",
   "execution_count": null,
   "metadata": {},
   "outputs": [],
   "source": [
    "df[[\"id\", \"user\", \"contains_news\", \"muted\"]].head(10)"
   ]
  },
  {
   "cell_type": "code",
   "execution_count": null,
   "metadata": {},
   "outputs": [],
   "source": [
    "df[(df.contains_news > 0) | (df.muted > 0)].shape #.copy and put into new dataframe"
   ]
  },
  {
   "cell_type": "code",
   "execution_count": null,
   "metadata": {},
   "outputs": [],
   "source": [
    "reviewed_df = pd.read_csv(\"../tweetfeed/data/seen.csv\"); reviewed_df.shape"
   ]
  },
  {
   "cell_type": "code",
   "execution_count": null,
   "metadata": {},
   "outputs": [],
   "source": [
    "Tweet(embed_str(\"177008089394970624\"))"
   ]
  },
  {
   "cell_type": "code",
   "execution_count": null,
   "metadata": {},
   "outputs": [],
   "source": [
    "seen = reviewed_df[reviewed_df.err_reason == \"no_errors\"].tweet_id.tolist(); len(seen)"
   ]
  },
  {
   "cell_type": "code",
   "execution_count": null,
   "metadata": {
    "scrolled": true
   },
   "outputs": [],
   "source": [
    "df[df.id.isin(seen) & (df.contains_news > 0) & (df.muted == 0)]"
   ]
  },
  {
   "cell_type": "code",
   "execution_count": null,
   "metadata": {},
   "outputs": [],
   "source": [
    "Tweet(embed_str(\"1330677864555896834\"))"
   ]
  },
  {
   "cell_type": "code",
   "execution_count": null,
   "metadata": {},
   "outputs": [],
   "source": [
    "# I remember seeing this tweet, and  then I added `tvnz.co.nz` to domains containing news"
   ]
  },
  {
   "cell_type": "code",
   "execution_count": null,
   "metadata": {},
   "outputs": [],
   "source": [
    "auth = \"../auth/auth.json\"\n",
    "owner_id = \"143058191\""
   ]
  },
  {
   "cell_type": "code",
   "execution_count": null,
   "metadata": {},
   "outputs": [],
   "source": [
    "not_relevant_list = get_collection_list(\n",
    "    get_collection_id(owner_id, \"not_relevant\", auth), auth\n",
    ")"
   ]
  },
  {
   "cell_type": "code",
   "execution_count": null,
   "metadata": {},
   "outputs": [],
   "source": [
    "not_relevant_list"
   ]
  },
  {
   "cell_type": "code",
   "execution_count": null,
   "metadata": {},
   "outputs": [],
   "source": [
    "df[\"not_relevant_list\"] = np.where(df[\"id\"].isin(not_relevant_list), 1, 0)"
   ]
  },
  {
   "cell_type": "code",
   "execution_count": null,
   "metadata": {},
   "outputs": [],
   "source": [
    "df[df.not_relevant_list > 0]"
   ]
  },
  {
   "cell_type": "code",
   "execution_count": null,
   "metadata": {},
   "outputs": [],
   "source": [
    "df[df[\"id\"] == 1330560915616526339]"
   ]
  },
  {
   "cell_type": "code",
   "execution_count": null,
   "metadata": {},
   "outputs": [],
   "source": [
    "# this shows, that I should do a concat of full_text of a tweet and tweets that are quoted, or replied to.\n",
    "# will do that after this iteration."
   ]
  },
  {
   "cell_type": "code",
   "execution_count": null,
   "metadata": {},
   "outputs": [],
   "source": []
  },
  {
   "cell_type": "markdown",
   "metadata": {},
   "source": [
    "## Exploratory Data Analysis (EDA)"
   ]
  },
  {
   "cell_type": "code",
   "execution_count": null,
   "metadata": {},
   "outputs": [],
   "source": [
    "# which accounts post most news?\n",
    "# which accounts post most?\n"
   ]
  },
  {
   "cell_type": "code",
   "execution_count": null,
   "metadata": {},
   "outputs": [],
   "source": []
  },
  {
   "cell_type": "markdown",
   "metadata": {},
   "source": [
    "\n",
    "\n",
    "## Annotation\n",
    "\n",
    "## Labeling\n",
    "## Spliting\n",
    "## Preprocessing\n"
   ]
  },
  {
   "cell_type": "markdown",
   "metadata": {},
   "source": [
    "# Modeling\n",
    "## Random\n",
    "## Rule-based\n",
    "## Simple ML\n",
    "## CNN\n",
    "## RNN\n",
    "## Transformers\n"
   ]
  },
  {
   "cell_type": "markdown",
   "metadata": {},
   "source": [
    "# Experiment tracking\n",
    "## Training\n",
    "## Tracking\n",
    "## Viewing\n",
    "## Loading"
   ]
  },
  {
   "cell_type": "markdown",
   "metadata": {},
   "source": [
    "# Optimization"
   ]
  },
  {
   "cell_type": "code",
   "execution_count": null,
   "metadata": {},
   "outputs": [],
   "source": []
  },
  {
   "cell_type": "code",
   "execution_count": null,
   "metadata": {},
   "outputs": [],
   "source": []
  },
  {
   "cell_type": "code",
   "execution_count": null,
   "metadata": {},
   "outputs": [],
   "source": []
  }
 ],
 "metadata": {
  "kernelspec": {
   "display_name": "Python 3",
   "language": "python",
   "name": "python3"
  },
  "language_info": {
   "codemirror_mode": {
    "name": "ipython",
    "version": 3
   },
   "file_extension": ".py",
   "mimetype": "text/x-python",
   "name": "python",
   "nbconvert_exporter": "python",
   "pygments_lexer": "ipython3",
   "version": "3.8.5"
  },
  "varInspector": {
   "cols": {
    "lenName": 16,
    "lenType": 16,
    "lenVar": 40
   },
   "kernels_config": {
    "python": {
     "delete_cmd_postfix": "",
     "delete_cmd_prefix": "del ",
     "library": "var_list.py",
     "varRefreshCmd": "print(var_dic_list())"
    },
    "r": {
     "delete_cmd_postfix": ") ",
     "delete_cmd_prefix": "rm(",
     "library": "var_list.r",
     "varRefreshCmd": "cat(var_dic_list()) "
    }
   },
   "position": {
    "height": "397.85px",
    "left": "692.067px",
    "right": "20px",
    "top": "120px",
    "width": "328.767px"
   },
   "types_to_exclude": [
    "module",
    "function",
    "builtin_function_or_method",
    "instance",
    "_Feature"
   ],
   "window_display": false
  }
 },
 "nbformat": 4,
 "nbformat_minor": 4
}
