{
 "cells": [
  {
   "cell_type": "code",
   "execution_count": 25,
   "metadata": {},
   "outputs": [],
   "source": [
    "from bs4 import BeautifulSoup\n",
    "from urllib.request import urlopen\n",
    "from urllib.parse import urlparse\n"
   ]
  },
  {
   "cell_type": "code",
   "execution_count": 101,
   "metadata": {},
   "outputs": [],
   "source": [
    "# url = \"https://macxima.medium.com/python-extracting-domain-name-from-urls-using-regular-expressions-7fa2fc13088e\"\n",
    "url = \"https://twitter.com/James_Kpatrick/status/320150923336892416/photo/1\""
   ]
  },
  {
   "cell_type": "code",
   "execution_count": 120,
   "metadata": {},
   "outputs": [],
   "source": [
    "def get_title(url):\n",
    "    soup = BeautifulSoup(urlopen(url))\n",
    "    return soup.title.get_text()\n",
    "\n",
    "def get_domain(url):\n",
    "    domain = urlparse(url).netloc\n",
    "    dot_split = domain.split(\".\")\n",
    "    if len(dot_split) > 2:\n",
    "        return \".\".join(dot_split[1:])\n",
    "    else:\n",
    "        return domain"
   ]
  },
  {
   "cell_type": "code",
   "execution_count": 116,
   "metadata": {},
   "outputs": [],
   "source": [
    "domain = urlparse(url).netloc"
   ]
  },
  {
   "cell_type": "code",
   "execution_count": 117,
   "metadata": {},
   "outputs": [
    {
     "data": {
      "text/plain": [
       "['twitter', 'com']"
      ]
     },
     "execution_count": 117,
     "metadata": {},
     "output_type": "execute_result"
    }
   ],
   "source": [
    "domain.split(\".\")"
   ]
  },
  {
   "cell_type": "code",
   "execution_count": null,
   "metadata": {},
   "outputs": [],
   "source": []
  },
  {
   "cell_type": "code",
   "execution_count": 118,
   "metadata": {},
   "outputs": [
    {
     "name": "stdout",
     "output_type": "stream",
     "text": [
      "error\n"
     ]
    }
   ],
   "source": [
    "try:\n",
    "    print(get_title(url))\n",
    "except:\n",
    "    print(\"error\")"
   ]
  },
  {
   "cell_type": "code",
   "execution_count": 119,
   "metadata": {},
   "outputs": [
    {
     "data": {
      "text/plain": [
       "'twitter.com'"
      ]
     },
     "execution_count": 119,
     "metadata": {},
     "output_type": "execute_result"
    }
   ],
   "source": [
    "get_domain(url)"
   ]
  },
  {
   "cell_type": "code",
   "execution_count": null,
   "metadata": {},
   "outputs": [],
   "source": [
    "# try on pandas"
   ]
  },
  {
   "cell_type": "code",
   "execution_count": 83,
   "metadata": {},
   "outputs": [],
   "source": [
    "import sqlite3\n",
    "import pandas as pd\n",
    "import re\n"
   ]
  },
  {
   "cell_type": "code",
   "execution_count": 72,
   "metadata": {},
   "outputs": [],
   "source": [
    "cnx = sqlite3.connect(\"../home.db\")\n",
    "df_tweets = pd.read_sql_query(\"SELECT id, full_text FROM tweets\", cnx)"
   ]
  },
  {
   "cell_type": "code",
   "execution_count": 73,
   "metadata": {},
   "outputs": [
    {
     "data": {
      "text/html": [
       "<div>\n",
       "<style scoped>\n",
       "    .dataframe tbody tr th:only-of-type {\n",
       "        vertical-align: middle;\n",
       "    }\n",
       "\n",
       "    .dataframe tbody tr th {\n",
       "        vertical-align: top;\n",
       "    }\n",
       "\n",
       "    .dataframe thead th {\n",
       "        text-align: right;\n",
       "    }\n",
       "</style>\n",
       "<table border=\"1\" class=\"dataframe\">\n",
       "  <thead>\n",
       "    <tr style=\"text-align: right;\">\n",
       "      <th></th>\n",
       "      <th>id</th>\n",
       "      <th>full_text</th>\n",
       "    </tr>\n",
       "  </thead>\n",
       "  <tbody>\n",
       "    <tr>\n",
       "      <th>0</th>\n",
       "      <td>70261648811761665</td>\n",
       "      <td>I wish I had kept my 1,700 BTC @ $0.06 instead...</td>\n",
       "    </tr>\n",
       "    <tr>\n",
       "      <th>1</th>\n",
       "      <td>303962112307363840</td>\n",
       "      <td>If corporate America built its own low orbit i...</td>\n",
       "    </tr>\n",
       "    <tr>\n",
       "      <th>2</th>\n",
       "      <td>320150923336892416</td>\n",
       "      <td>These two books contain the sum total of all h...</td>\n",
       "    </tr>\n",
       "    <tr>\n",
       "      <th>3</th>\n",
       "      <td>334391242395906048</td>\n",
       "      <td>I really do enjoy following @Aelkus.</td>\n",
       "    </tr>\n",
       "    <tr>\n",
       "      <th>4</th>\n",
       "      <td>380578576283611136</td>\n",
       "      <td>I'm just going to fill my van with dildos and ...</td>\n",
       "    </tr>\n",
       "    <tr>\n",
       "      <th>...</th>\n",
       "      <td>...</td>\n",
       "      <td>...</td>\n",
       "    </tr>\n",
       "    <tr>\n",
       "      <th>44126</th>\n",
       "      <td>1348695626112856065</td>\n",
       "      <td>There were business executives and elected off...</td>\n",
       "    </tr>\n",
       "    <tr>\n",
       "      <th>44127</th>\n",
       "      <td>1348695666659360772</td>\n",
       "      <td>Ten years ago today in Techmeme history📜, Appl...</td>\n",
       "    </tr>\n",
       "    <tr>\n",
       "      <th>44128</th>\n",
       "      <td>1348695907559038976</td>\n",
       "      <td>RT @80Level: Have a look at a wave shader for ...</td>\n",
       "    </tr>\n",
       "    <tr>\n",
       "      <th>44129</th>\n",
       "      <td>1348696173880758274</td>\n",
       "      <td>Many younger people on twitter will realise th...</td>\n",
       "    </tr>\n",
       "    <tr>\n",
       "      <th>44130</th>\n",
       "      <td>1348696253102764039</td>\n",
       "      <td>here we get to the part of the book where \"oh ...</td>\n",
       "    </tr>\n",
       "  </tbody>\n",
       "</table>\n",
       "<p>44131 rows × 2 columns</p>\n",
       "</div>"
      ],
      "text/plain": [
       "                        id                                          full_text\n",
       "0        70261648811761665  I wish I had kept my 1,700 BTC @ $0.06 instead...\n",
       "1       303962112307363840  If corporate America built its own low orbit i...\n",
       "2       320150923336892416  These two books contain the sum total of all h...\n",
       "3       334391242395906048               I really do enjoy following @Aelkus.\n",
       "4       380578576283611136  I'm just going to fill my van with dildos and ...\n",
       "...                    ...                                                ...\n",
       "44126  1348695626112856065  There were business executives and elected off...\n",
       "44127  1348695666659360772  Ten years ago today in Techmeme history📜, Appl...\n",
       "44128  1348695907559038976  RT @80Level: Have a look at a wave shader for ...\n",
       "44129  1348696173880758274  Many younger people on twitter will realise th...\n",
       "44130  1348696253102764039  here we get to the part of the book where \"oh ...\n",
       "\n",
       "[44131 rows x 2 columns]"
      ]
     },
     "execution_count": 73,
     "metadata": {},
     "output_type": "execute_result"
    }
   ],
   "source": [
    "df_tweets"
   ]
  },
  {
   "cell_type": "code",
   "execution_count": 76,
   "metadata": {},
   "outputs": [],
   "source": [
    "urls = df_tweets[df_tweets[\"full_text\"].str.contains(\"http\")]"
   ]
  },
  {
   "cell_type": "code",
   "execution_count": 122,
   "metadata": {},
   "outputs": [
    {
     "data": {
      "text/html": [
       "<div>\n",
       "<style scoped>\n",
       "    .dataframe tbody tr th:only-of-type {\n",
       "        vertical-align: middle;\n",
       "    }\n",
       "\n",
       "    .dataframe tbody tr th {\n",
       "        vertical-align: top;\n",
       "    }\n",
       "\n",
       "    .dataframe thead th {\n",
       "        text-align: right;\n",
       "    }\n",
       "</style>\n",
       "<table border=\"1\" class=\"dataframe\">\n",
       "  <thead>\n",
       "    <tr style=\"text-align: right;\">\n",
       "      <th></th>\n",
       "      <th>id</th>\n",
       "      <th>full_text</th>\n",
       "    </tr>\n",
       "  </thead>\n",
       "  <tbody>\n",
       "    <tr>\n",
       "      <th>2</th>\n",
       "      <td>320150923336892416</td>\n",
       "      <td>These two books contain the sum total of all h...</td>\n",
       "    </tr>\n",
       "    <tr>\n",
       "      <th>8</th>\n",
       "      <td>451159870306549761</td>\n",
       "      <td>Course slides from @Stanford and @stanfordsyms...</td>\n",
       "    </tr>\n",
       "    <tr>\n",
       "      <th>12</th>\n",
       "      <td>561051099423993856</td>\n",
       "      <td>This is my favorite drone picture ever, https:...</td>\n",
       "    </tr>\n",
       "    <tr>\n",
       "      <th>13</th>\n",
       "      <td>574518676575162369</td>\n",
       "      <td>Robert Capa's Omaha Beach by Dominique Bertail...</td>\n",
       "    </tr>\n",
       "    <tr>\n",
       "      <th>14</th>\n",
       "      <td>605933110958518272</td>\n",
       "      <td>Any assault on Mother Nature will be a suicide...</td>\n",
       "    </tr>\n",
       "    <tr>\n",
       "      <th>...</th>\n",
       "      <td>...</td>\n",
       "      <td>...</td>\n",
       "    </tr>\n",
       "    <tr>\n",
       "      <th>44120</th>\n",
       "      <td>1348695099211878400</td>\n",
       "      <td>I get the temptation to deride these people as...</td>\n",
       "    </tr>\n",
       "    <tr>\n",
       "      <th>44121</th>\n",
       "      <td>1348695219496235008</td>\n",
       "      <td>Head of an Italian Girl, 1878 #johnsingersarge...</td>\n",
       "    </tr>\n",
       "    <tr>\n",
       "      <th>44124</th>\n",
       "      <td>1348695315721973762</td>\n",
       "      <td>RT @counterfax: These Books Contain The Sum To...</td>\n",
       "    </tr>\n",
       "    <tr>\n",
       "      <th>44127</th>\n",
       "      <td>1348695666659360772</td>\n",
       "      <td>Ten years ago today in Techmeme history📜, Appl...</td>\n",
       "    </tr>\n",
       "    <tr>\n",
       "      <th>44129</th>\n",
       "      <td>1348696173880758274</td>\n",
       "      <td>Many younger people on twitter will realise th...</td>\n",
       "    </tr>\n",
       "  </tbody>\n",
       "</table>\n",
       "<p>25469 rows × 2 columns</p>\n",
       "</div>"
      ],
      "text/plain": [
       "                        id                                          full_text\n",
       "2       320150923336892416  These two books contain the sum total of all h...\n",
       "8       451159870306549761  Course slides from @Stanford and @stanfordsyms...\n",
       "12      561051099423993856  This is my favorite drone picture ever, https:...\n",
       "13      574518676575162369  Robert Capa's Omaha Beach by Dominique Bertail...\n",
       "14      605933110958518272  Any assault on Mother Nature will be a suicide...\n",
       "...                    ...                                                ...\n",
       "44120  1348695099211878400  I get the temptation to deride these people as...\n",
       "44121  1348695219496235008  Head of an Italian Girl, 1878 #johnsingersarge...\n",
       "44124  1348695315721973762  RT @counterfax: These Books Contain The Sum To...\n",
       "44127  1348695666659360772  Ten years ago today in Techmeme history📜, Appl...\n",
       "44129  1348696173880758274  Many younger people on twitter will realise th...\n",
       "\n",
       "[25469 rows x 2 columns]"
      ]
     },
     "execution_count": 122,
     "metadata": {},
     "output_type": "execute_result"
    }
   ],
   "source": [
    "urls"
   ]
  },
  {
   "cell_type": "code",
   "execution_count": 90,
   "metadata": {},
   "outputs": [],
   "source": [
    "def find_url(tweet):\n",
    "    return re.findall(\"http\\S+\", tweet)"
   ]
  },
  {
   "cell_type": "code",
   "execution_count": 93,
   "metadata": {},
   "outputs": [
    {
     "data": {
      "text/plain": [
       "['https://twitter.com/James_Kpatrick/status/320150923336892416/photo/1']"
      ]
     },
     "execution_count": 93,
     "metadata": {},
     "output_type": "execute_result"
    }
   ],
   "source": [
    "find_url(tweet)"
   ]
  },
  {
   "cell_type": "code",
   "execution_count": 97,
   "metadata": {},
   "outputs": [],
   "source": [
    "get_urls = find_url(tweet)"
   ]
  },
  {
   "cell_type": "code",
   "execution_count": 98,
   "metadata": {},
   "outputs": [
    {
     "data": {
      "text/plain": [
       "['https://twitter.com/James_Kpatrick/status/320150923336892416/photo/1']"
      ]
     },
     "execution_count": 98,
     "metadata": {},
     "output_type": "execute_result"
    }
   ],
   "source": [
    "get_urls"
   ]
  },
  {
   "cell_type": "code",
   "execution_count": 121,
   "metadata": {},
   "outputs": [
    {
     "data": {
      "text/plain": [
       "'twitter.com'"
      ]
     },
     "execution_count": 121,
     "metadata": {},
     "output_type": "execute_result"
    }
   ],
   "source": [
    "get_domain(url)"
   ]
  },
  {
   "cell_type": "code",
   "execution_count": 99,
   "metadata": {
    "scrolled": true
   },
   "outputs": [
    {
     "name": "stdout",
     "output_type": "stream",
     "text": [
      "\n"
     ]
    }
   ],
   "source": [
    "for i in get_urls:\n",
    "    print(get_domain(tweet))"
   ]
  },
  {
   "cell_type": "code",
   "execution_count": 125,
   "metadata": {},
   "outputs": [
    {
     "name": "stderr",
     "output_type": "stream",
     "text": [
      "<ipython-input-125-a4ad336a4272>:1: SettingWithCopyWarning: \n",
      "A value is trying to be set on a copy of a slice from a DataFrame.\n",
      "Try using .loc[row_indexer,col_indexer] = value instead\n",
      "\n",
      "See the caveats in the documentation: https://pandas.pydata.org/pandas-docs/stable/user_guide/indexing.html#returning-a-view-versus-a-copy\n",
      "  urls['urls'] = urls.full_text.apply(find_url)\n"
     ]
    }
   ],
   "source": [
    "urls['urls'] = urls.full_text.apply(find_url)"
   ]
  },
  {
   "cell_type": "code",
   "execution_count": 139,
   "metadata": {},
   "outputs": [
    {
     "data": {
      "text/plain": [
       "2        1\n",
       "8        1\n",
       "12       1\n",
       "13       2\n",
       "14       1\n",
       "        ..\n",
       "44120    1\n",
       "44121    1\n",
       "44124    1\n",
       "44127    1\n",
       "44129    1\n",
       "Name: urls, Length: 25469, dtype: int64"
      ]
     },
     "execution_count": 139,
     "metadata": {},
     "output_type": "execute_result"
    }
   ],
   "source": [
    "urls.urls.str.len()"
   ]
  },
  {
   "cell_type": "code",
   "execution_count": 141,
   "metadata": {},
   "outputs": [],
   "source": [
    "test_url = urls.urls[13]"
   ]
  },
  {
   "cell_type": "code",
   "execution_count": 142,
   "metadata": {},
   "outputs": [
    {
     "data": {
      "text/plain": [
       "['http://bandedessinee.blog.lemonde.fr/2014/06/06/robert-capa-entre-noir-et-blanc-et-clair-obscur/',\n",
       " 'https://twitter.com/JDMorvan/status/574518676575162369/photo/1']"
      ]
     },
     "execution_count": 142,
     "metadata": {},
     "output_type": "execute_result"
    }
   ],
   "source": [
    "test_url"
   ]
  },
  {
   "cell_type": "code",
   "execution_count": 145,
   "metadata": {},
   "outputs": [
    {
     "name": "stdout",
     "output_type": "stream",
     "text": [
      "blog.lemonde.fr\n",
      "twitter.com\n"
     ]
    }
   ],
   "source": [
    "for i in test_url:\n",
    "    print(get_domain(i))"
   ]
  },
  {
   "cell_type": "code",
   "execution_count": 169,
   "metadata": {},
   "outputs": [
    {
     "name": "stderr",
     "output_type": "stream",
     "text": [
      "<ipython-input-169-03cb393cef76>:1: SettingWithCopyWarning: \n",
      "A value is trying to be set on a copy of a slice from a DataFrame.\n",
      "Try using .loc[row_indexer,col_indexer] = value instead\n",
      "\n",
      "See the caveats in the documentation: https://pandas.pydata.org/pandas-docs/stable/user_guide/indexing.html#returning-a-view-versus-a-copy\n",
      "  urls['domains'] = urls.urls.apply(lambda x: [get_domain(d) for d in x])\n"
     ]
    }
   ],
   "source": [
    "urls['domains'] = urls.urls.apply(lambda x: [get_domain(d) for d in x])"
   ]
  },
  {
   "cell_type": "code",
   "execution_count": 170,
   "metadata": {
    "scrolled": false
   },
   "outputs": [
    {
     "name": "stdout",
     "output_type": "stream",
     "text": [
      "['twitter.com']\n"
     ]
    }
   ],
   "source": [
    "print(urls.iloc[2].domains)"
   ]
  },
  {
   "cell_type": "code",
   "execution_count": 171,
   "metadata": {},
   "outputs": [
    {
     "data": {
      "text/html": [
       "<div>\n",
       "<style scoped>\n",
       "    .dataframe tbody tr th:only-of-type {\n",
       "        vertical-align: middle;\n",
       "    }\n",
       "\n",
       "    .dataframe tbody tr th {\n",
       "        vertical-align: top;\n",
       "    }\n",
       "\n",
       "    .dataframe thead th {\n",
       "        text-align: right;\n",
       "    }\n",
       "</style>\n",
       "<table border=\"1\" class=\"dataframe\">\n",
       "  <thead>\n",
       "    <tr style=\"text-align: right;\">\n",
       "      <th></th>\n",
       "      <th>id</th>\n",
       "      <th>full_text</th>\n",
       "      <th>urls</th>\n",
       "      <th>domains</th>\n",
       "    </tr>\n",
       "  </thead>\n",
       "  <tbody>\n",
       "    <tr>\n",
       "      <th>2</th>\n",
       "      <td>320150923336892416</td>\n",
       "      <td>These two books contain the sum total of all h...</td>\n",
       "      <td>[https://twitter.com/James_Kpatrick/status/320...</td>\n",
       "      <td>[twitter.com]</td>\n",
       "    </tr>\n",
       "    <tr>\n",
       "      <th>8</th>\n",
       "      <td>451159870306549761</td>\n",
       "      <td>Course slides from @Stanford and @stanfordsyms...</td>\n",
       "      <td>[http://stanford.edu/~zdar/week1.pdf]</td>\n",
       "      <td>[stanford.edu]</td>\n",
       "    </tr>\n",
       "    <tr>\n",
       "      <th>12</th>\n",
       "      <td>561051099423993856</td>\n",
       "      <td>This is my favorite drone picture ever, https:...</td>\n",
       "      <td>[https://twitter.com/grahamvsworld/status/5610...</td>\n",
       "      <td>[twitter.com]</td>\n",
       "    </tr>\n",
       "    <tr>\n",
       "      <th>13</th>\n",
       "      <td>574518676575162369</td>\n",
       "      <td>Robert Capa's Omaha Beach by Dominique Bertail...</td>\n",
       "      <td>[http://bandedessinee.blog.lemonde.fr/2014/06/...</td>\n",
       "      <td>[blog.lemonde.fr, twitter.com]</td>\n",
       "    </tr>\n",
       "    <tr>\n",
       "      <th>14</th>\n",
       "      <td>605933110958518272</td>\n",
       "      <td>Any assault on Mother Nature will be a suicide...</td>\n",
       "      <td>[https://twitter.com/wrathofgnon/status/605933...</td>\n",
       "      <td>[twitter.com]</td>\n",
       "    </tr>\n",
       "    <tr>\n",
       "      <th>...</th>\n",
       "      <td>...</td>\n",
       "      <td>...</td>\n",
       "      <td>...</td>\n",
       "      <td>...</td>\n",
       "    </tr>\n",
       "    <tr>\n",
       "      <th>44120</th>\n",
       "      <td>1348695099211878400</td>\n",
       "      <td>I get the temptation to deride these people as...</td>\n",
       "      <td>[https://www.theatlantic.com/ideas/archive/202...</td>\n",
       "      <td>[theatlantic.com]</td>\n",
       "    </tr>\n",
       "    <tr>\n",
       "      <th>44121</th>\n",
       "      <td>1348695219496235008</td>\n",
       "      <td>Head of an Italian Girl, 1878 #johnsingersarge...</td>\n",
       "      <td>[https://twitter.com/artistsargent/status/1348...</td>\n",
       "      <td>[twitter.com]</td>\n",
       "    </tr>\n",
       "    <tr>\n",
       "      <th>44124</th>\n",
       "      <td>1348695315721973762</td>\n",
       "      <td>RT @counterfax: These Books Contain The Sum To...</td>\n",
       "      <td>[https://twitter.com/counterfax/status/1348695...</td>\n",
       "      <td>[twitter.com]</td>\n",
       "    </tr>\n",
       "    <tr>\n",
       "      <th>44127</th>\n",
       "      <td>1348695666659360772</td>\n",
       "      <td>Ten years ago today in Techmeme history📜, Appl...</td>\n",
       "      <td>[https://www.techmeme.com/110111/h2200]</td>\n",
       "      <td>[techmeme.com]</td>\n",
       "    </tr>\n",
       "    <tr>\n",
       "      <th>44129</th>\n",
       "      <td>1348696173880758274</td>\n",
       "      <td>Many younger people on twitter will realise th...</td>\n",
       "      <td>[https://www.theguardian.com/sport/2021/jan/11...</td>\n",
       "      <td>[theguardian.com]</td>\n",
       "    </tr>\n",
       "  </tbody>\n",
       "</table>\n",
       "<p>25469 rows × 4 columns</p>\n",
       "</div>"
      ],
      "text/plain": [
       "                        id                                          full_text  \\\n",
       "2       320150923336892416  These two books contain the sum total of all h...   \n",
       "8       451159870306549761  Course slides from @Stanford and @stanfordsyms...   \n",
       "12      561051099423993856  This is my favorite drone picture ever, https:...   \n",
       "13      574518676575162369  Robert Capa's Omaha Beach by Dominique Bertail...   \n",
       "14      605933110958518272  Any assault on Mother Nature will be a suicide...   \n",
       "...                    ...                                                ...   \n",
       "44120  1348695099211878400  I get the temptation to deride these people as...   \n",
       "44121  1348695219496235008  Head of an Italian Girl, 1878 #johnsingersarge...   \n",
       "44124  1348695315721973762  RT @counterfax: These Books Contain The Sum To...   \n",
       "44127  1348695666659360772  Ten years ago today in Techmeme history📜, Appl...   \n",
       "44129  1348696173880758274  Many younger people on twitter will realise th...   \n",
       "\n",
       "                                                    urls  \\\n",
       "2      [https://twitter.com/James_Kpatrick/status/320...   \n",
       "8                  [http://stanford.edu/~zdar/week1.pdf]   \n",
       "12     [https://twitter.com/grahamvsworld/status/5610...   \n",
       "13     [http://bandedessinee.blog.lemonde.fr/2014/06/...   \n",
       "14     [https://twitter.com/wrathofgnon/status/605933...   \n",
       "...                                                  ...   \n",
       "44120  [https://www.theatlantic.com/ideas/archive/202...   \n",
       "44121  [https://twitter.com/artistsargent/status/1348...   \n",
       "44124  [https://twitter.com/counterfax/status/1348695...   \n",
       "44127            [https://www.techmeme.com/110111/h2200]   \n",
       "44129  [https://www.theguardian.com/sport/2021/jan/11...   \n",
       "\n",
       "                              domains  \n",
       "2                       [twitter.com]  \n",
       "8                      [stanford.edu]  \n",
       "12                      [twitter.com]  \n",
       "13     [blog.lemonde.fr, twitter.com]  \n",
       "14                      [twitter.com]  \n",
       "...                               ...  \n",
       "44120               [theatlantic.com]  \n",
       "44121                   [twitter.com]  \n",
       "44124                   [twitter.com]  \n",
       "44127                  [techmeme.com]  \n",
       "44129               [theguardian.com]  \n",
       "\n",
       "[25469 rows x 4 columns]"
      ]
     },
     "execution_count": 171,
     "metadata": {},
     "output_type": "execute_result"
    }
   ],
   "source": [
    "urls"
   ]
  },
  {
   "cell_type": "code",
   "execution_count": 164,
   "metadata": {},
   "outputs": [],
   "source": [
    "url_list = urls.urls[13]"
   ]
  },
  {
   "cell_type": "code",
   "execution_count": 165,
   "metadata": {},
   "outputs": [
    {
     "data": {
      "text/plain": [
       "['blog.lemonde.fr', 'twitter.com']"
      ]
     },
     "execution_count": 165,
     "metadata": {},
     "output_type": "execute_result"
    }
   ],
   "source": [
    "[get_domain(d) for d in url_list]"
   ]
  },
  {
   "cell_type": "code",
   "execution_count": null,
   "metadata": {},
   "outputs": [],
   "source": []
  }
 ],
 "metadata": {
  "kernelspec": {
   "display_name": "Python 3",
   "language": "python",
   "name": "python3"
  },
  "language_info": {
   "codemirror_mode": {
    "name": "ipython",
    "version": 3
   },
   "file_extension": ".py",
   "mimetype": "text/x-python",
   "name": "python",
   "nbconvert_exporter": "python",
   "pygments_lexer": "ipython3",
   "version": "3.8.5"
  },
  "varInspector": {
   "cols": {
    "lenName": 16,
    "lenType": 16,
    "lenVar": 40
   },
   "kernels_config": {
    "python": {
     "delete_cmd_postfix": "",
     "delete_cmd_prefix": "del ",
     "library": "var_list.py",
     "varRefreshCmd": "print(var_dic_list())"
    },
    "r": {
     "delete_cmd_postfix": ") ",
     "delete_cmd_prefix": "rm(",
     "library": "var_list.r",
     "varRefreshCmd": "cat(var_dic_list()) "
    }
   },
   "types_to_exclude": [
    "module",
    "function",
    "builtin_function_or_method",
    "instance",
    "_Feature"
   ],
   "window_display": false
  }
 },
 "nbformat": 4,
 "nbformat_minor": 4
}
