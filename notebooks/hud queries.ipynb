{
 "cells": [
  {
   "cell_type": "markdown",
   "metadata": {},
   "source": [
    "## intro"
   ]
  },
  {
   "cell_type": "code",
   "execution_count": null,
   "metadata": {},
   "outputs": [],
   "source": [
    "import pprint\n",
    "pp = pprint.PrettyPrinter(indent=4)"
   ]
  },
  {
   "cell_type": "code",
   "execution_count": 1,
   "metadata": {},
   "outputs": [],
   "source": [
    "##################################\n",
    "#DO NOT CHANGE THIS\n",
    "!pip install -q -r requirements.txt\n",
    "from azure.identity import DefaultAzureCredential\n",
    "from azure.keyvault.secrets import SecretClient\n",
    "import psycopg2\n",
    "import pandas as pd\n",
    "import sqlalchemy\n",
    "from datetime import datetime, timezone, timedelta\n",
    "\n",
    "from sqlalchemy import create_engine \n",
    "from influxdb import InfluxDBClient, DataFrameClient\n",
    "\n",
    "\n",
    "client = SecretClient(\n",
    "    vault_url=\"https://learning2.vault.azure.net/\",\n",
    "    credential=DefaultAzureCredential(),\n",
    ")\n",
    "VAULT_SECRETS = {\n",
    "    s.name: client.get_secret(s.name).value\n",
    "    for s in client.list_properties_of_secrets()\n",
    "}\n",
    "\n",
    "postgres_str = \"postgresql://\"+VAULT_SECRETS['ovh-postgres-user']+\":\"+VAULT_SECRETS['ovh-postgres-pass']+\"@\"+VAULT_SECRETS['ovh-postgres-host']+\":5432/\"+ VAULT_SECRETS['ovh-postgres-name']\n",
    "\n",
    "cnx = create_engine(postgres_str)\n",
    "\n",
    "influx_cnx =  InfluxDBClient(host=VAULT_SECRETS['influxdb-host'], port=VAULT_SECRETS['influxdb-port'], username=VAULT_SECRETS['influxdb-user'], password=VAULT_SECRETS['influxdb-pass'],database='g_events', timeout=0.3)"
   ]
  },
  {
   "cell_type": "code",
   "execution_count": 2,
   "metadata": {},
   "outputs": [],
   "source": [
    "## DataFrameClient for getting dataframes\n",
    "influx_df =  DataFrameClient(host=VAULT_SECRETS['influxdb-host'], port=VAULT_SECRETS['influxdb-port'], username=VAULT_SECRETS['influxdb-user'], password=VAULT_SECRETS['influxdb-pass'],database='g_events', timeout=0.3)"
   ]
  },
  {
   "cell_type": "code",
   "execution_count": null,
   "metadata": {},
   "outputs": [],
   "source": [
    "#Test postgres query\n",
    "pd.read_sql_query('''SELECT username, first_name, last_name FROM users_user LIMIT 15;''', cnx)\n"
   ]
  },
  {
   "cell_type": "markdown",
   "metadata": {},
   "source": [
    "## variables"
   ]
  },
  {
   "cell_type": "code",
   "execution_count": 3,
   "metadata": {},
   "outputs": [],
   "source": [
    "user_sid = \"562a49dc-adb8-4a6d-920f-8302b3da7d75\" #we pick an user"
   ]
  },
  {
   "cell_type": "markdown",
   "metadata": {},
   "source": [
    "## queries"
   ]
  },
  {
   "cell_type": "markdown",
   "metadata": {},
   "source": [
    "### Activity score"
   ]
  },
  {
   "cell_type": "code",
   "execution_count": 18,
   "metadata": {},
   "outputs": [],
   "source": [
    "#Query\n",
    "\n",
    "query = f\"\"\"\n",
    "SELECT EXPONENTIAL_MOVING_AVERAGE(\"sum_activity\", 5) AS \"EMA5\"\n",
    "FROM (\n",
    "    SELECT (c_count + k_count+ s_count) AS \"sum_activity\" \n",
    "    FROM \"autogen\".\"activity\" \n",
    "    WHERE \"sid\" =~ /{user_sid}/\n",
    "    ORDER BY time DESC LIMIT 50\n",
    ") \n",
    "ORDER BY time DESC\n",
    "\"\"\"\n",
    "res = influx_cnx.query(query)\n",
    "#res "
   ]
  },
  {
   "cell_type": "code",
   "execution_count": 19,
   "metadata": {},
   "outputs": [
    {
     "name": "stdout",
     "output_type": "stream",
     "text": [
      "[   {'EMA5': 0.0, 'time': '2020-06-12T16:12:33Z'},\n",
      "    {'EMA5': 0.0, 'time': '2020-06-12T16:12:18Z'},\n",
      "    {'EMA5': 0.0, 'time': '2020-06-12T16:12:03Z'},\n",
      "    {'EMA5': 0.0, 'time': '2020-06-12T16:11:48Z'},\n",
      "    {'EMA5': 0.0, 'time': '2020-06-12T16:11:32Z'},\n",
      "    {'EMA5': 0.0, 'time': '2020-06-12T16:11:17Z'},\n",
      "    {'EMA5': 0.0, 'time': '2020-06-12T16:11:02Z'},\n",
      "    {'EMA5': 2.6666666666666665, 'time': '2020-06-12T16:10:47Z'},\n",
      "    {'EMA5': 13.111111111111109, 'time': '2020-06-12T16:10:32Z'},\n",
      "    {'EMA5': 8.74074074074074, 'time': '2020-06-12T16:10:18Z'},\n",
      "    {'EMA5': 5.827160493827161, 'time': '2020-06-12T16:10:03Z'},\n",
      "    {'EMA5': 3.8847736625514404, 'time': '2020-06-12T16:09:48Z'},\n",
      "    {'EMA5': 2.589849108367627, 'time': '2020-06-12T16:09:33Z'},\n",
      "    {'EMA5': 1.7265660722450846, 'time': '2020-06-12T16:09:18Z'},\n",
      "    {'EMA5': 1.15104404816339, 'time': '2020-06-12T16:09:03Z'},\n",
      "    {'EMA5': 0.7673626987755933, 'time': '2020-06-12T16:08:48Z'},\n",
      "    {'EMA5': 0.5115751325170622, 'time': '2020-06-12T16:08:33Z'},\n",
      "    {'EMA5': 0.3410500883447082, 'time': '2020-06-12T16:08:18Z'},\n",
      "    {'EMA5': 0.2273667255631388, 'time': '2020-06-12T16:08:03Z'},\n",
      "    {'EMA5': 0.15157781704209256, 'time': '2020-06-12T16:07:48Z'},\n",
      "    {'EMA5': 0.1010518780280617, 'time': '2020-06-12T16:07:33Z'},\n",
      "    {'EMA5': 0.06736791868537448, 'time': '2020-06-12T16:07:18Z'},\n",
      "    {'EMA5': 0.04491194579024965, 'time': '2020-06-12T16:07:03Z'},\n",
      "    {'EMA5': 0.02994129719349977, 'time': '2020-06-12T16:06:48Z'},\n",
      "    {'EMA5': 0.019960864795666514, 'time': '2020-06-12T16:06:32Z'},\n",
      "    {'EMA5': 0.6799739098637776, 'time': '2020-06-12T16:06:17Z'},\n",
      "    {'EMA5': 1.1199826065758516, 'time': '2020-06-12T16:06:02Z'},\n",
      "    {'EMA5': 0.7466550710505677, 'time': '2020-06-12T16:05:47Z'},\n",
      "    {'EMA5': 0.49777004736704517, 'time': '2020-06-12T16:05:32Z'},\n",
      "    {'EMA5': 0.3318466982446968, 'time': '2020-06-12T16:05:17Z'},\n",
      "    {'EMA5': 0.22123113216313123, 'time': '2020-06-12T16:05:02Z'},\n",
      "    {'EMA5': 0.14748742144208749, 'time': '2020-06-12T16:04:47Z'},\n",
      "    {'EMA5': 0.09832494762805832, 'time': '2020-06-12T16:04:32Z'},\n",
      "    {'EMA5': 0.06554996508537222, 'time': '2020-06-12T16:04:17Z'},\n",
      "    {'EMA5': 0.37703331005691476, 'time': '2020-06-12T16:04:02Z'},\n",
      "    {'EMA5': 1.251355540037943, 'time': '2020-06-12T16:03:47Z'},\n",
      "    {'EMA5': 0.8342370266919621, 'time': '2020-06-12T16:03:32Z'},\n",
      "    {'EMA5': 0.5561580177946415, 'time': '2020-06-12T16:03:17Z'},\n",
      "    {'EMA5': 0.37077201186309433, 'time': '2020-06-12T16:03:02Z'},\n",
      "    {'EMA5': 0.2471813412420629, 'time': '2020-06-12T16:02:47Z'},\n",
      "    {'EMA5': 0.16478756082804194, 'time': '2020-06-12T16:02:32Z'},\n",
      "    {'EMA5': 0.1098583738853613, 'time': '2020-06-12T16:02:17Z'},\n",
      "    {'EMA5': 0.0732389159235742, 'time': '2020-06-12T16:02:02Z'},\n",
      "    {'EMA5': 0.048825943949049475, 'time': '2020-06-12T16:01:47Z'},\n",
      "    {'EMA5': 0.03255062929936632, 'time': '2020-06-12T16:01:32Z'},\n",
      "    {'EMA5': 0.02170041953291088, 'time': '2020-06-12T16:01:17Z'}]\n"
     ]
    }
   ],
   "source": [
    "for i in res:\n",
    "    pp.pprint(i)"
   ]
  },
  {
   "cell_type": "code",
   "execution_count": 17,
   "metadata": {},
   "outputs": [
    {
     "data": {
      "text/plain": [
       "<matplotlib.axes._subplots.AxesSubplot at 0x7f70eeceaed0>"
      ]
     },
     "execution_count": 17,
     "metadata": {},
     "output_type": "execute_result"
    },
    {
     "data": {
      "image/png": "[encoded data removed]",
      "text/plain": [
       "<Figure size 432x288 with 1 Axes>"
      ]
     },
     "metadata": {
      "needs_background": "light"
     },
     "output_type": "display_data"
    }
   ],
   "source": [
    "res = influx_df.query(query)\n",
    "res[\"activity\"].plot()"
   ]
  },
  {
   "cell_type": "markdown",
   "metadata": {},
   "source": [
    "#### compare ema10 and ema5"
   ]
  },
  {
   "cell_type": "code",
   "execution_count": 26,
   "metadata": {
    "scrolled": true
   },
   "outputs": [],
   "source": [
    "# EMA10 has 2 minutes lag, but it is more smooth\n",
    "\n",
    "table = \"activity\"\n",
    "query = f\"\"\"\n",
    "SELECT EXPONENTIAL_MOVING_AVERAGE(\"sum_activity\", 5) AS \"EMA5\", EXPONENTIAL_MOVING_AVERAGE(\"sum_activity\", 10) AS \"EMA10\"  \n",
    "FROM (\n",
    "SELECT (c_count + k_count+ s_count) AS \"sum_activity\" FROM \"autogen\".\"{table}\" WHERE \"sid\" =~ /562a49dc/\n",
    "ORDER BY time DESC LIMIT 50\n",
    ") \n",
    "ORDER BY time DESC\n",
    "\"\"\"\n",
    "res = influx_df.query(query)\n",
    "df_task = res[table]"
   ]
  },
  {
   "cell_type": "code",
   "execution_count": 27,
   "metadata": {},
   "outputs": [
    {
     "data": {
      "text/plain": [
       "<matplotlib.axes._subplots.AxesSubplot at 0x7f70eea37f90>"
      ]
     },
     "execution_count": 27,
     "metadata": {},
     "output_type": "execute_result"
    },
    {
     "data": {
      "image/png": "[encoded data removed]",
      "text/plain": [
       "<Figure size 432x288 with 1 Axes>"
      ]
     },
     "metadata": {
      "needs_background": "light"
     },
     "output_type": "display_data"
    }
   ],
   "source": [
    "df_task.plot() #lag shown"
   ]
  },
  {
   "cell_type": "markdown",
   "metadata": {},
   "source": [
    "### Active / Not Active - at this moment"
   ]
  },
  {
   "cell_type": "code",
   "execution_count": 28,
   "metadata": {},
   "outputs": [
    {
     "data": {
      "text/plain": [
       "ResultSet({'('activity', None)': [{'time': '2020-06-12T16:14:03Z', 'EMA5': 5.133333333333333}]})"
      ]
     },
     "execution_count": 28,
     "metadata": {},
     "output_type": "execute_result"
    }
   ],
   "source": [
    "#Query based on EMA5\n",
    "query = f\"\"\"\n",
    "SELECT EXPONENTIAL_MOVING_AVERAGE(\"sum_activity\", 5) AS \"EMA5\"\n",
    "FROM (\n",
    "    SELECT (c_count + k_count+ s_count) AS \"sum_activity\" \n",
    "    FROM \"autogen\".\"activity\" \n",
    "    WHERE \"sid\" =~ /562a49dc/\n",
    "    ORDER BY time DESC LIMIT 50\n",
    ") \n",
    "ORDER BY time DESC LIMIT 1\n",
    "\"\"\"\n",
    "res = influx_cnx.query(query)\n",
    "res"
   ]
  },
  {
   "cell_type": "code",
   "execution_count": 29,
   "metadata": {},
   "outputs": [
    {
     "name": "stdout",
     "output_type": "stream",
     "text": [
      "Active = True\n"
     ]
    }
   ],
   "source": [
    "for results in res: \n",
    "    for i in results:\n",
    "        print(\"Active =\", i[\"EMA5\"] > 0.1)"
   ]
  },
  {
   "cell_type": "markdown",
   "metadata": {},
   "source": [
    "### Active / Not Active in last 5 min"
   ]
  },
  {
   "cell_type": "code",
   "execution_count": 33,
   "metadata": {
    "scrolled": true
   },
   "outputs": [],
   "source": [
    "#Query\n",
    "#this one is laging when it comes to NEW activity, depending on GROUP BY TIME (in this example lag of 10s)\n",
    "#but it shows, if user was active during last 5min\n",
    "table = \"activity\"\n",
    "query = f\"\"\"\n",
    "SELECT COUNT(sum_activity) FROM \n",
    "(\n",
    "    SELECT (c_count + k_count+ s_count) AS \"sum_activity\" \n",
    "    FROM \"g_events\".\"autogen\".\"{table}\" \n",
    "    WHERE \"sid\" =~ /{user_sid}/  \n",
    "    AND (c_count > 0 OR k_count > 0 OR s_count > 0) \n",
    "    ORDER BY time DESC LIMIT 100\n",
    ") \n",
    "\n",
    "GROUP BY time(10s) ORDER BY time DESC LIMIT 30\n",
    "\"\"\"\n",
    "\n",
    "res = influx_cnx.query(query)"
   ]
  },
  {
   "cell_type": "code",
   "execution_count": 34,
   "metadata": {},
   "outputs": [
    {
     "name": "stdout",
     "output_type": "stream",
     "text": [
      "Idle : False\n",
      "Active : True\n"
     ]
    }
   ],
   "source": [
    "sum_activity = 0\n",
    "for results in res: \n",
    "    for i in results:\n",
    "        sum_activity += i[\"count\"]\n",
    "print(\"Idle :\", sum_activity == 0)\n",
    "print(\"Active :\", sum_activity > 0)"
   ]
  },
  {
   "cell_type": "markdown",
   "metadata": {},
   "source": [
    "### consequtive days/ habit strength"
   ]
  },
  {
   "cell_type": "markdown",
   "metadata": {},
   "source": [
    "#### Based on task_submit event"
   ]
  },
  {
   "cell_type": "code",
   "execution_count": 35,
   "metadata": {
    "code_folding": []
   },
   "outputs": [],
   "source": [
    "# Activity during diff days.Based on task_submit event\n",
    "query = f\"\"\"\n",
    "SELECT COUNT(\"eid\") AS sum_activity \n",
    "FROM \"g_events\".\"autogen\".\"events\" \n",
    "WHERE \"sid\" =~ /{user_sid}/ AND \"event\" =~/subm/ \n",
    "GROUP BY time(1d)\n",
    "\"\"\"\n",
    "res = influx_df.query(query)\n",
    "df_task = res[\"events\"]"
   ]
  },
  {
   "cell_type": "code",
   "execution_count": 36,
   "metadata": {},
   "outputs": [
    {
     "data": {
      "text/plain": [
       "<matplotlib.axes._subplots.AxesSubplot at 0x7f70ee9a72d0>"
      ]
     },
     "execution_count": 36,
     "metadata": {},
     "output_type": "execute_result"
    },
    {
     "data": {
      "image/png": "[encoded data removed]",
      "text/plain": [
       "<Figure size 432x288 with 1 Axes>"
      ]
     },
     "metadata": {
      "needs_background": "light"
     },
     "output_type": "display_data"
    }
   ],
   "source": [
    "df_task.fillna(0).plot(kind=\"bar\")"
   ]
  },
  {
   "cell_type": "code",
   "execution_count": 42,
   "metadata": {},
   "outputs": [
    {
     "data": {
      "text/plain": [
       "<matplotlib.axes._subplots.AxesSubplot at 0x7f70ec4e6890>"
      ]
     },
     "execution_count": 42,
     "metadata": {},
     "output_type": "execute_result"
    },
    {
     "data": {
      "image/png": "[encoded data removed]",
      "text/plain": [
       "<Figure size 432x288 with 1 Axes>"
      ]
     },
     "metadata": {
      "needs_background": "light"
     },
     "output_type": "display_data"
    }
   ],
   "source": [
    "df_task.fillna(0).ewm(span=7).mean().plot(kind=\"line\") #smooth out version"
   ]
  },
  {
   "cell_type": "markdown",
   "metadata": {},
   "source": [
    "#### Based on \"activity\" table"
   ]
  },
  {
   "cell_type": "code",
   "execution_count": 38,
   "metadata": {},
   "outputs": [],
   "source": [
    "# Activity during diff days. Based on \"activity\" table\n",
    "\n",
    "query = f\"\"\"\n",
    "SELECT SUM(c_count) + SUM(k_count) + SUM(s_count) AS sum_activity from \"g_events\".\"autogen\".\"activity\" WHERE \"sid\" =~ /{user_sid}/ group by time(1d)\n",
    "\"\"\"\n",
    "\n",
    "res = influx_df.query(query)\n",
    "df_act_sum = res[table]"
   ]
  },
  {
   "cell_type": "code",
   "execution_count": 39,
   "metadata": {},
   "outputs": [
    {
     "data": {
      "text/plain": [
       "<matplotlib.axes._subplots.AxesSubplot at 0x7f70ee83d550>"
      ]
     },
     "execution_count": 39,
     "metadata": {},
     "output_type": "execute_result"
    },
    {
     "data": {
      "image/png": "[encoded data removed]",
      "text/plain": [
       "<Figure size 432x288 with 1 Axes>"
      ]
     },
     "metadata": {
      "needs_background": "light"
     },
     "output_type": "display_data"
    }
   ],
   "source": [
    "df_act_sum.fillna(0).plot(kind=\"bar\")"
   ]
  },
  {
   "cell_type": "code",
   "execution_count": 41,
   "metadata": {},
   "outputs": [
    {
     "name": "stderr",
     "output_type": "stream",
     "text": [
      "/home/sajo/anaconda3/lib/python3.7/site-packages/pandas/core/arrays/datetimes.py:1269: UserWarning: Converting to PeriodArray/Index representation will drop timezone information.\n",
      "  UserWarning,\n"
     ]
    },
    {
     "data": {
      "text/plain": [
       "<matplotlib.axes._subplots.AxesSubplot at 0x7f70ee682b90>"
      ]
     },
     "execution_count": 41,
     "metadata": {},
     "output_type": "execute_result"
    },
    {
     "data": {
      "image/png": "[encoded data removed]",
      "text/plain": [
       "<Figure size 432x288 with 1 Axes>"
      ]
     },
     "metadata": {
      "needs_background": "light"
     },
     "output_type": "display_data"
    }
   ],
   "source": [
    "df_act_sum.fillna(0).ewm(span=7).mean().plot(kind=\"line\") #smooth out version"
   ]
  },
  {
   "cell_type": "markdown",
   "metadata": {},
   "source": [
    "## WIP"
   ]
  },
  {
   "cell_type": "markdown",
   "metadata": {},
   "source": [
    "### Avg Submit attempts until success"
   ]
  },
  {
   "cell_type": "code",
   "execution_count": 43,
   "metadata": {},
   "outputs": [],
   "source": [
    "# this sum up ALL-TIME events, later this could be grouped by month/week/day\n",
    "# or filtered by particular tasks\n",
    "\n",
    "query1 = f\"\"\"\n",
    "SELECT COUNT(\"eid\") FROM \"autogen\".\"events\" WHERE \"sid\" =~ /{user_sid}/ AND \"event\" =~/subm/\n",
    "\"\"\"\n",
    "tasks_submitted = influx_cnx.query(query1)\n",
    "\n",
    "query2 = f\"\"\"\n",
    "SELECT COUNT(\"eid\") FROM \"autogen\".\"events\" WHERE \"sid\" =~ /{user_sid}/ AND \"event\" =~/end/\n",
    "\"\"\"\n",
    "tasks_ended = influx_cnx.query(query2)"
   ]
  },
  {
   "cell_type": "code",
   "execution_count": 44,
   "metadata": {},
   "outputs": [
    {
     "data": {
      "text/plain": [
       "8.25"
      ]
     },
     "execution_count": 44,
     "metadata": {},
     "output_type": "execute_result"
    }
   ],
   "source": [
    "for q in tasks_submitted:\n",
    "    ts = q[0][\"count\"]\n",
    "for q in tasks_ended:\n",
    "    te = q[0][\"count\"]\n",
    "    \n",
    "avg_sub_attepts = ts/te\n",
    "avg_sub_attepts"
   ]
  },
  {
   "cell_type": "markdown",
   "metadata": {},
   "source": [
    "#### using pandas"
   ]
  },
  {
   "cell_type": "markdown",
   "metadata": {},
   "source": [
    "using pandas, because you can't filter data by fields (eid is an field) in influxdb"
   ]
  },
  {
   "cell_type": "code",
   "execution_count": 45,
   "metadata": {},
   "outputs": [],
   "source": [
    "query1= f\"\"\"\n",
    "SELECT * FROM \"autogen\".\"events\" WHERE \"sid\" =~ /{user_sid}/ AND \"event\" =~/subm/\n",
    "\"\"\"\n",
    "res1 = influx_df.query(query1)\n",
    "df_task = res1[\"events\"]"
   ]
  },
  {
   "cell_type": "code",
   "execution_count": 46,
   "metadata": {},
   "outputs": [],
   "source": [
    "df_avg = pd.DataFrame()\n",
    "df_avg[\"submitted\"] = df_task[\"eid\"].value_counts()"
   ]
  },
  {
   "cell_type": "code",
   "execution_count": 47,
   "metadata": {},
   "outputs": [],
   "source": [
    "query2 = f\"\"\"\n",
    "SELECT * FROM \"autogen\".\"events\" WHERE \"sid\" =~ /{user_sid}/ AND \"event\" =~/end/\n",
    "\"\"\"\n",
    "res2 = influx_df.query(query2)\n",
    "df_task = res2[\"events\"]\n",
    "df_avg[\"finished\"] = df_task[\"eid\"].value_counts()"
   ]
  },
  {
   "cell_type": "code",
   "execution_count": 48,
   "metadata": {},
   "outputs": [],
   "source": [
    "df_avg[\"avg_per_task\"] = df_avg[\"submitted\"]/df_avg[\"finished\"]"
   ]
  },
  {
   "cell_type": "code",
   "execution_count": 49,
   "metadata": {},
   "outputs": [
    {
     "data": {
      "text/html": [
       "<div>\n",
       "<style scoped>\n",
       "    .dataframe tbody tr th:only-of-type {\n",
       "        vertical-align: middle;\n",
       "    }\n",
       "\n",
       "    .dataframe tbody tr th {\n",
       "        vertical-align: top;\n",
       "    }\n",
       "\n",
       "    .dataframe thead th {\n",
       "        text-align: right;\n",
       "    }\n",
       "</style>\n",
       "<table border=\"1\" class=\"dataframe\">\n",
       "  <thead>\n",
       "    <tr style=\"text-align: right;\">\n",
       "      <th></th>\n",
       "      <th>submitted</th>\n",
       "      <th>finished</th>\n",
       "      <th>avg_per_task</th>\n",
       "    </tr>\n",
       "  </thead>\n",
       "  <tbody>\n",
       "    <tr>\n",
       "      <td>5b3f8190-0d0e-49f1-8306-d1f27da64c72</td>\n",
       "      <td>9</td>\n",
       "      <td>1.0</td>\n",
       "      <td>9.0</td>\n",
       "    </tr>\n",
       "    <tr>\n",
       "      <td>a467eb45-de7c-432d-93fa-b9de76ddeac1</td>\n",
       "      <td>7</td>\n",
       "      <td>1.0</td>\n",
       "      <td>7.0</td>\n",
       "    </tr>\n",
       "    <tr>\n",
       "      <td>811a13dc-6636-4a28-8930-68c74fc2dcaa</td>\n",
       "      <td>5</td>\n",
       "      <td>NaN</td>\n",
       "      <td>NaN</td>\n",
       "    </tr>\n",
       "    <tr>\n",
       "      <td>d64c91bc-a4fe-4e41-8145-d41055857b8b</td>\n",
       "      <td>4</td>\n",
       "      <td>NaN</td>\n",
       "      <td>NaN</td>\n",
       "    </tr>\n",
       "    <tr>\n",
       "      <td>34debe74-4de2-4453-a9c0-d208bc1588b9</td>\n",
       "      <td>4</td>\n",
       "      <td>NaN</td>\n",
       "      <td>NaN</td>\n",
       "    </tr>\n",
       "    <tr>\n",
       "      <td>d827f036-befc-4701-b48a-0b9e25e3e24e</td>\n",
       "      <td>3</td>\n",
       "      <td>1.0</td>\n",
       "      <td>3.0</td>\n",
       "    </tr>\n",
       "    <tr>\n",
       "      <td>b83a5d3b-80f2-47f0-8424-27087132aba5</td>\n",
       "      <td>1</td>\n",
       "      <td>1.0</td>\n",
       "      <td>1.0</td>\n",
       "    </tr>\n",
       "  </tbody>\n",
       "</table>\n",
       "</div>"
      ],
      "text/plain": [
       "                                      submitted  finished  avg_per_task\n",
       "5b3f8190-0d0e-49f1-8306-d1f27da64c72          9       1.0           9.0\n",
       "a467eb45-de7c-432d-93fa-b9de76ddeac1          7       1.0           7.0\n",
       "811a13dc-6636-4a28-8930-68c74fc2dcaa          5       NaN           NaN\n",
       "d64c91bc-a4fe-4e41-8145-d41055857b8b          4       NaN           NaN\n",
       "34debe74-4de2-4453-a9c0-d208bc1588b9          4       NaN           NaN\n",
       "d827f036-befc-4701-b48a-0b9e25e3e24e          3       1.0           3.0\n",
       "b83a5d3b-80f2-47f0-8424-27087132aba5          1       1.0           1.0"
      ]
     },
     "execution_count": 49,
     "metadata": {},
     "output_type": "execute_result"
    }
   ],
   "source": [
    "df_avg"
   ]
  },
  {
   "cell_type": "code",
   "execution_count": 50,
   "metadata": {},
   "outputs": [
    {
     "data": {
      "text/plain": [
       "8.25"
      ]
     },
     "execution_count": 50,
     "metadata": {},
     "output_type": "execute_result"
    }
   ],
   "source": [
    "# all submitted vs task finished\n",
    "df_avg[\"submitted\"].sum()/df_avg[\"finished\"].sum()"
   ]
  },
  {
   "cell_type": "code",
   "execution_count": 51,
   "metadata": {},
   "outputs": [
    {
     "data": {
      "text/plain": [
       "5.0"
      ]
     },
     "execution_count": 51,
     "metadata": {},
     "output_type": "execute_result"
    }
   ],
   "source": [
    "# average for only completed tasks\n",
    "df_avg.dropna()[\"submitted\"].sum()/df_avg.dropna()[\"finished\"].sum()"
   ]
  },
  {
   "cell_type": "code",
   "execution_count": 52,
   "metadata": {},
   "outputs": [
    {
     "data": {
      "text/plain": [
       "5.0"
      ]
     },
     "execution_count": 52,
     "metadata": {},
     "output_type": "execute_result"
    }
   ],
   "source": [
    "# average for only completed tasks\n",
    "df_avg.dropna()[\"submitted\"].sum()/df_avg.dropna()[\"submitted\"].count()"
   ]
  },
  {
   "cell_type": "markdown",
   "metadata": {},
   "source": [
    "### Progress (inner LP / outer tasks)"
   ]
  },
  {
   "cell_type": "code",
   "execution_count": null,
   "metadata": {},
   "outputs": [],
   "source": []
  },
  {
   "cell_type": "markdown",
   "metadata": {},
   "source": [
    "## misc queries"
   ]
  },
  {
   "cell_type": "markdown",
   "metadata": {},
   "source": [
    "shows how many submit events user has\n",
    "\n",
    "`SELECT COUNT(\"eid\") FROM \"autogen\".\"events\" WHERE \"sid\" =~ /6f4b6/  AND \"event\" =~/subm/ GROUP BY \"event\"`\n",
    "\n",
    "show how many tasks ended user has\n",
    "\n",
    "`SELECT COUNT(\"eid\") FROM \"autogen\".\"events\" WHERE \"sid\" =~ /6f4b6/  AND \"event\" =~/end/ GROUP BY \"event\"`\n"
   ]
  },
  {
   "cell_type": "code",
   "execution_count": null,
   "metadata": {},
   "outputs": [],
   "source": [
    "print(df_task.fillna(0).ewm(span=7).mean())"
   ]
  },
  {
   "cell_type": "code",
   "execution_count": null,
   "metadata": {},
   "outputs": [],
   "source": [
    "df_task.fillna(0).ewm(span=7).mean().plot()"
   ]
  },
  {
   "cell_type": "code",
   "execution_count": null,
   "metadata": {},
   "outputs": [],
   "source": []
  }
 ],
 "metadata": {
  "file_extension": ".py",
  "kernelspec": {
   "display_name": "Python 3",
   "language": "python",
   "name": "python3"
  },
  "language_info": {
   "codemirror_mode": {
    "name": "ipython",
    "version": 3
   },
   "file_extension": ".py",
   "mimetype": "text/x-python",
   "name": "python",
   "nbconvert_exporter": "python",
   "pygments_lexer": "ipython3",
   "version": "3.8.3"
  },
  "mimetype": "text/x-python",
  "name": "python",
  "npconvert_exporter": "python",
  "pygments_lexer": "ipython3",
  "version": 3
 },
 "nbformat": 4,
 "nbformat_minor": 4
}
