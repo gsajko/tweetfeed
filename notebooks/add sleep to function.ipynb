{
 "cells": [
  {
   "cell_type": "code",
   "execution_count": 1,
   "metadata": {},
   "outputs": [],
   "source": [
    "import os\n",
    "from twitter_to_sqlite import utils\n",
    "import pandas as pd\n",
    "import time"
   ]
  },
  {
   "cell_type": "code",
   "execution_count": 2,
   "metadata": {},
   "outputs": [],
   "source": [
    "auth = json.load(open(\"../auth/auth.json\"))\n",
    "owner_id = \"143058191\"\n",
    "session = utils.session_for_auth(auth)"
   ]
  },
  {
   "cell_type": "code",
   "execution_count": 3,
   "metadata": {},
   "outputs": [],
   "source": [
    "tweets_df = pd.read_csv(\"seen.csv\")"
   ]
  },
  {
   "cell_type": "code",
   "execution_count": 14,
   "metadata": {},
   "outputs": [
    {
     "data": {
      "text/plain": [
       "<Response [200]>"
      ]
     },
     "execution_count": 14,
     "metadata": {},
     "output_type": "execute_result"
    }
   ],
   "source": [
    "c = \"to_process\"\n",
    "url = f\"https://api.twitter.com/1.1/collections/create.json?name={c}\"\n",
    "session.post(url)"
   ]
  },
  {
   "cell_type": "code",
   "execution_count": 15,
   "metadata": {},
   "outputs": [
    {
     "name": "stdout",
     "output_type": "stream",
     "text": [
      "custom-1351959730080645120 to_process\n",
      "custom-1351846441472372737 to_process\n",
      "custom-1351555076024893440 custom_newsfeed\n",
      "custom-1351093543385899011 not_relevant\n"
     ]
    }
   ],
   "source": [
    "url = f\"https://api.twitter.com/1.1/collections/list.json?user_id={owner_id}\"\n",
    "response = session.get(url)\n",
    "collections = response.json()[\"objects\"][\"timelines\"]\n",
    "for k in collections.keys():\n",
    "    print(k, collections[k][\"name\"])\n",
    "collections_list = [collections[k][\"name\"] for k in collections.keys()]"
   ]
  },
  {
   "cell_type": "code",
   "execution_count": 9,
   "metadata": {},
   "outputs": [
    {
     "data": {
      "text/html": [
       "<div>\n",
       "<style scoped>\n",
       "    .dataframe tbody tr th:only-of-type {\n",
       "        vertical-align: middle;\n",
       "    }\n",
       "\n",
       "    .dataframe tbody tr th {\n",
       "        vertical-align: top;\n",
       "    }\n",
       "\n",
       "    .dataframe thead th {\n",
       "        text-align: right;\n",
       "    }\n",
       "</style>\n",
       "<table border=\"1\" class=\"dataframe\">\n",
       "  <thead>\n",
       "    <tr style=\"text-align: right;\">\n",
       "      <th></th>\n",
       "      <th>tweet_id</th>\n",
       "      <th>err_reason</th>\n",
       "    </tr>\n",
       "  </thead>\n",
       "  <tbody>\n",
       "    <tr>\n",
       "      <th>0</th>\n",
       "      <td>1337875267096875015</td>\n",
       "      <td>NaN</td>\n",
       "    </tr>\n",
       "    <tr>\n",
       "      <th>1</th>\n",
       "      <td>1335698027537969155</td>\n",
       "      <td>NaN</td>\n",
       "    </tr>\n",
       "    <tr>\n",
       "      <th>2</th>\n",
       "      <td>1345699105385959435</td>\n",
       "      <td>not_found</td>\n",
       "    </tr>\n",
       "    <tr>\n",
       "      <th>3</th>\n",
       "      <td>1336874318882467842</td>\n",
       "      <td>NaN</td>\n",
       "    </tr>\n",
       "    <tr>\n",
       "      <th>4</th>\n",
       "      <td>1337717825629253633</td>\n",
       "      <td>not_found</td>\n",
       "    </tr>\n",
       "    <tr>\n",
       "      <th>...</th>\n",
       "      <td>...</td>\n",
       "      <td>...</td>\n",
       "    </tr>\n",
       "    <tr>\n",
       "      <th>1595</th>\n",
       "      <td>1337184446789931008</td>\n",
       "      <td>not_found</td>\n",
       "    </tr>\n",
       "    <tr>\n",
       "      <th>1596</th>\n",
       "      <td>1341250063876550656</td>\n",
       "      <td>NaN</td>\n",
       "    </tr>\n",
       "    <tr>\n",
       "      <th>1597</th>\n",
       "      <td>1336231355110322177</td>\n",
       "      <td>not_found</td>\n",
       "    </tr>\n",
       "    <tr>\n",
       "      <th>1598</th>\n",
       "      <td>1344289183456768002</td>\n",
       "      <td>NaN</td>\n",
       "    </tr>\n",
       "    <tr>\n",
       "      <th>1599</th>\n",
       "      <td>1344038663760576520</td>\n",
       "      <td>protected_tweet</td>\n",
       "    </tr>\n",
       "  </tbody>\n",
       "</table>\n",
       "<p>1600 rows × 2 columns</p>\n",
       "</div>"
      ],
      "text/plain": [
       "                 tweet_id       err_reason\n",
       "0     1337875267096875015              NaN\n",
       "1     1335698027537969155              NaN\n",
       "2     1345699105385959435        not_found\n",
       "3     1336874318882467842              NaN\n",
       "4     1337717825629253633        not_found\n",
       "...                   ...              ...\n",
       "1595  1337184446789931008        not_found\n",
       "1596  1341250063876550656              NaN\n",
       "1597  1336231355110322177        not_found\n",
       "1598  1344289183456768002              NaN\n",
       "1599  1344038663760576520  protected_tweet\n",
       "\n",
       "[1600 rows x 2 columns]"
      ]
     },
     "execution_count": 9,
     "metadata": {},
     "output_type": "execute_result"
    }
   ],
   "source": [
    "tweets_df"
   ]
  },
  {
   "cell_type": "code",
   "execution_count": 8,
   "metadata": {},
   "outputs": [],
   "source": [
    "tweet_list = tweets_df[\"tweet_id\"]"
   ]
  },
  {
   "cell_type": "code",
   "execution_count": 10,
   "metadata": {},
   "outputs": [],
   "source": [
    "def proccecing_list(collection_id, tweet_list):\n",
    "    \n",
    "    collection_id = collection_id\n",
    "    procc_list = []\n",
    "    for counter, tweet_id in enumerate(tweet_list):\n",
    "        if (counter+1) % 20 == 0:\n",
    "            print(f\"{(counter+1)} / {len(tweet_list)}\")\n",
    "        url = f\"https://api.twitter.com/1.1/collections/entries/add.json?tweet_id={tweet_id}&id={collection_id}\"\n",
    "        response = session.post(url)\n",
    "        \n",
    "    while response.reason != \"OK\":\n",
    "        print(response.reason)\n",
    "        if response.reason == \"Too Many Requests\":\n",
    "            sleep = 15\n",
    "            time.sleep(sleep)\n",
    "            print(f\"Rate limit error - waiting for {sleep} seconds\")\n",
    "        else:\n",
    "            if \"errors\" in response.json():\n",
    "                print(response.json()[\"errors\"][0][\"message\"])\n",
    "            elif \"error\" in response.json():\n",
    "                print(response.json()[\"error\"])\n",
    "            else:\n",
    "                print(response.json())\n",
    "            raise Exception(f\"Status code: {response.status_code}\")\n",
    "\n",
    "        if response.reason == \"OK\":\n",
    "            errors = response.json()[\"response\"][\"errors\"]\n",
    "            if len(errors) > 0:\n",
    "                procc_list.append({\"tweet_id\": tweet_id, \"err_reason\" : errors[0][\"reason\"]})\n",
    "            else:\n",
    "                procc_list.append({\"tweet_id\": tweet_id, \"err_reason\" : \"no_errors\"})\n",
    "\n",
    "    df = pd.DataFrame(procc_list)\n",
    "    print(df[\"err_reason\"].value_counts())\n",
    "    return df"
   ]
  },
  {
   "cell_type": "code",
   "execution_count": 23,
   "metadata": {},
   "outputs": [],
   "source": [
    "tweet_list = tweets_df[\"tweet_id\"].tolist()"
   ]
  },
  {
   "cell_type": "code",
   "execution_count": 87,
   "metadata": {},
   "outputs": [],
   "source": [
    "def err_handling(response, sleep=15):\n",
    "    while response.reason != \"OK\":\n",
    "        print(response.reason)\n",
    "        if response.reason == \"Too Many Requests\":\n",
    "            print(f\"Rate limit error - waiting for {sleep} seconds\")\n",
    "            time.sleep(sleep)\n",
    "        else:\n",
    "            if \"errors\" in response.json():\n",
    "                print(response.json()[\"errors\"][0][\"message\"])\n",
    "            elif \"error\" in response.json():\n",
    "                print(response.json()[\"error\"])\n",
    "            else:\n",
    "                print(response.json())\n",
    "            raise Exception(f\"Status code: {response.status_code}\")"
   ]
  },
  {
   "cell_type": "code",
   "execution_count": 88,
   "metadata": {},
   "outputs": [
    {
     "name": "stdout",
     "output_type": "stream",
     "text": [
      "Too Many Requests\n",
      "Rate limit error - waiting for 15 seconds\n",
      "Too Many Requests\n",
      "Rate limit error - waiting for 15 seconds\n",
      "Too Many Requests\n",
      "Rate limit error - waiting for 15 seconds\n",
      "Too Many Requests\n",
      "Rate limit error - waiting for 15 seconds\n",
      "Too Many Requests\n",
      "Rate limit error - waiting for 15 seconds\n",
      "Too Many Requests\n",
      "Rate limit error - waiting for 15 seconds\n",
      "Too Many Requests\n",
      "Rate limit error - waiting for 15 seconds\n",
      "Too Many Requests\n",
      "Rate limit error - waiting for 15 seconds\n",
      "Too Many Requests\n",
      "Rate limit error - waiting for 15 seconds\n",
      "Too Many Requests\n",
      "Rate limit error - waiting for 15 seconds\n",
      "Too Many Requests\n",
      "Rate limit error - waiting for 15 seconds\n",
      "Too Many Requests\n",
      "Rate limit error - waiting for 15 seconds\n",
      "Too Many Requests\n",
      "Rate limit error - waiting for 15 seconds\n",
      "Too Many Requests\n",
      "Rate limit error - waiting for 15 seconds\n",
      "Too Many Requests\n",
      "Rate limit error - waiting for 15 seconds\n"
     ]
    },
    {
     "ename": "KeyboardInterrupt",
     "evalue": "",
     "output_type": "error",
     "traceback": [
      "\u001b[0;31m---------------------------------------------------------------------------\u001b[0m",
      "\u001b[0;31mKeyboardInterrupt\u001b[0m                         Traceback (most recent call last)",
      "\u001b[0;32m<ipython-input-88-dcd5c791e63b>\u001b[0m in \u001b[0;36m<module>\u001b[0;34m\u001b[0m\n\u001b[1;32m      6\u001b[0m     \u001b[0murl\u001b[0m \u001b[0;34m=\u001b[0m \u001b[0;34mf\"https://api.twitter.com/1.1/collections/entries/add.json?tweet_id={tweet_id}&id={collection_id}\"\u001b[0m\u001b[0;34m\u001b[0m\u001b[0;34m\u001b[0m\u001b[0m\n\u001b[1;32m      7\u001b[0m     \u001b[0mresponse\u001b[0m \u001b[0;34m=\u001b[0m \u001b[0msession\u001b[0m\u001b[0;34m.\u001b[0m\u001b[0mpost\u001b[0m\u001b[0;34m(\u001b[0m\u001b[0murl\u001b[0m\u001b[0;34m)\u001b[0m\u001b[0;34m\u001b[0m\u001b[0;34m\u001b[0m\u001b[0m\n\u001b[0;32m----> 8\u001b[0;31m     \u001b[0merr_handling\u001b[0m\u001b[0;34m(\u001b[0m\u001b[0mresponse\u001b[0m\u001b[0;34m)\u001b[0m\u001b[0;34m\u001b[0m\u001b[0;34m\u001b[0m\u001b[0m\n\u001b[0m\u001b[1;32m      9\u001b[0m \u001b[0;34m\u001b[0m\u001b[0m\n\u001b[1;32m     10\u001b[0m     \u001b[0;32mif\u001b[0m \u001b[0mresponse\u001b[0m\u001b[0;34m.\u001b[0m\u001b[0mreason\u001b[0m \u001b[0;34m==\u001b[0m \u001b[0;34m\"OK\"\u001b[0m\u001b[0;34m:\u001b[0m\u001b[0;34m\u001b[0m\u001b[0;34m\u001b[0m\u001b[0m\n",
      "\u001b[0;32m<ipython-input-87-7c9bdec8bcaa>\u001b[0m in \u001b[0;36merr_handling\u001b[0;34m(response, sleep)\u001b[0m\n\u001b[1;32m      4\u001b[0m         \u001b[0;32mif\u001b[0m \u001b[0mresponse\u001b[0m\u001b[0;34m.\u001b[0m\u001b[0mreason\u001b[0m \u001b[0;34m==\u001b[0m \u001b[0;34m\"Too Many Requests\"\u001b[0m\u001b[0;34m:\u001b[0m\u001b[0;34m\u001b[0m\u001b[0;34m\u001b[0m\u001b[0m\n\u001b[1;32m      5\u001b[0m             \u001b[0mprint\u001b[0m\u001b[0;34m(\u001b[0m\u001b[0;34mf\"Rate limit error - waiting for {sleep} seconds\"\u001b[0m\u001b[0;34m)\u001b[0m\u001b[0;34m\u001b[0m\u001b[0;34m\u001b[0m\u001b[0m\n\u001b[0;32m----> 6\u001b[0;31m             \u001b[0mtime\u001b[0m\u001b[0;34m.\u001b[0m\u001b[0msleep\u001b[0m\u001b[0;34m(\u001b[0m\u001b[0msleep\u001b[0m\u001b[0;34m)\u001b[0m\u001b[0;34m\u001b[0m\u001b[0;34m\u001b[0m\u001b[0m\n\u001b[0m\u001b[1;32m      7\u001b[0m         \u001b[0;32melse\u001b[0m\u001b[0;34m:\u001b[0m\u001b[0;34m\u001b[0m\u001b[0;34m\u001b[0m\u001b[0m\n\u001b[1;32m      8\u001b[0m             \u001b[0;32mif\u001b[0m \u001b[0;34m\"errors\"\u001b[0m \u001b[0;32min\u001b[0m \u001b[0mresponse\u001b[0m\u001b[0;34m.\u001b[0m\u001b[0mjson\u001b[0m\u001b[0;34m(\u001b[0m\u001b[0;34m)\u001b[0m\u001b[0;34m:\u001b[0m\u001b[0;34m\u001b[0m\u001b[0;34m\u001b[0m\u001b[0m\n",
      "\u001b[0;31mKeyboardInterrupt\u001b[0m: "
     ]
    }
   ],
   "source": [
    "collection_id = \"custom-1351959730080645120\"\n",
    "procc_list = []\n",
    "for counter, tweet_id in enumerate(tweet_list):\n",
    "    if (counter+1) % 20 == 0:\n",
    "        print(f\"{(counter+1)} / {len(tweet_list)}\")\n",
    "    url = f\"https://api.twitter.com/1.1/collections/entries/add.json?tweet_id={tweet_id}&id={collection_id}\"\n",
    "    response = session.post(url)\n",
    "    err_handling(response)\n",
    "            \n",
    "    if response.reason == \"OK\":\n",
    "        errors = response.json()[\"response\"][\"errors\"]\n",
    "        if len(errors) > 0:\n",
    "            procc_list.append({\"tweet_id\": tweet_id, \"err_reason\" : errors[0][\"reason\"]})\n",
    "        else:\n",
    "            procc_list.append({\"tweet_id\": tweet_id, \"err_reason\" : \"no_errors\"})\n",
    "\n",
    "df = pd.DataFrame(procc_list)\n",
    "print(df[\"err_reason\"].value_counts())"
   ]
  },
  {
   "cell_type": "code",
   "execution_count": 91,
   "metadata": {},
   "outputs": [
    {
     "data": {
      "text/plain": [
       "''"
      ]
     },
     "execution_count": 91,
     "metadata": {},
     "output_type": "execute_result"
    }
   ],
   "source": [
    "response.text"
   ]
  },
  {
   "cell_type": "code",
   "execution_count": 73,
   "metadata": {},
   "outputs": [
    {
     "data": {
      "text/plain": [
       "{'errors': [{'code': 34, 'message': 'Sorry, that page does not exist.'}]}"
      ]
     },
     "execution_count": 73,
     "metadata": {},
     "output_type": "execute_result"
    }
   ],
   "source": [
    "response.json()"
   ]
  },
  {
   "cell_type": "code",
   "execution_count": 92,
   "metadata": {},
   "outputs": [
    {
     "name": "stdout",
     "output_type": "stream",
     "text": [
      "429\n",
      "{'cache-control': 'no-cache, no-store, must-revalidate, pre-check=0, post-check=0', 'content-length': '0', 'content-security-policy': \"default-src 'self'; connect-src 'self'; font-src 'self' https://*.twimg.com https://twitter.com https://ton.twitter.com data:; frame-src 'self' https://*.twimg.com https://twitter.com https://ton.twitter.com; img-src 'self' https://*.twimg.com https://twitter.com https://ton.twitter.com data:; media-src 'self' https://*.twimg.com https://twitter.com https://ton.twitter.com; object-src 'none'; script-src 'self' https://*.twimg.com https://twitter.com https://ton.twitter.com; style-src 'self' https://*.twimg.com https://twitter.com https://ton.twitter.com; report-uri https://twitter.com/i/csp_report?a=ORUW2ZLMNFXGK43FOJ3GSY3FFVQXA2I%3D&ro=false;\", 'content-type': 'text/html;charset=utf-8', 'date': 'Wed, 20 Jan 2021 19:09:55 GMT', 'expires': 'Tue, 31 Mar 1981 05:00:00 GMT', 'last-modified': 'Wed, 20 Jan 2021 19:09:55 GMT', 'pragma': 'no-cache', 'server': 'tsa_o', 'status': '429 Too Many Requests', 'strict-transport-security': 'max-age=631138519', 'x-access-level': 'read-write', 'x-connection-hash': 'faef0b134bdf627b670391d1230fd616', 'x-content-type-options': 'nosniff', 'x-frame-options': 'SAMEORIGIN', 'x-response-time': '125', 'x-transaction': '004c8ed800e58945', 'x-twitter-response-tags': 'BouncerCompliant', 'x-xss-protection': '0'}\n",
      "https://api.twitter.com/1.1/collections/entries/add.json?tweet_id=1337875267096875015&id=custom-1351959730080645120\n",
      "[]\n",
      "utf-8\n",
      "Too Many Requests\n",
      "429\n",
      "<RequestsCookieJar[]>\n",
      "0:00:00.214855\n",
      "<PreparedRequest [POST]>\n"
     ]
    }
   ],
   "source": [
    "response = session.post(url)\n",
    "print(response.status_code)\n",
    "print(response.headers)\n",
    "print(response.url)\n",
    "print(response.history)\n",
    "print(response.encoding)\n",
    "print(response.reason)\n",
    "print(response.status_code)\n",
    "print(response.cookies)\n",
    "print(response.elapsed)\n",
    "print(response.request)\n"
   ]
  },
  {
   "cell_type": "code",
   "execution_count": 59,
   "metadata": {},
   "outputs": [],
   "source": [
    "url = f\"https://api.twitter.com/1.1/collections/entries/add.json?tweet_id=1337875267096875015&id=custom-1351446441472372737\"\n",
    "response = session.post(url)"
   ]
  },
  {
   "cell_type": "code",
   "execution_count": 62,
   "metadata": {},
   "outputs": [
    {
     "data": {
      "text/plain": [
       "{'errors': [{'code': 34, 'message': 'Sorry, that page does not exist.'}]}"
      ]
     },
     "execution_count": 62,
     "metadata": {},
     "output_type": "execute_result"
    }
   ],
   "source": [
    "response.json()"
   ]
  },
  {
   "cell_type": "code",
   "execution_count": null,
   "metadata": {},
   "outputs": [],
   "source": [
    "_content', 'status_code', 'headers', 'url', 'history',\n",
    "        'encoding', 'reason', 'cookies', 'elapsed', 'request'"
   ]
  },
  {
   "cell_type": "code",
   "execution_count": 11,
   "metadata": {},
   "outputs": [],
   "source": [
    "# while respons is not ok = sleep for 60s\n"
   ]
  },
  {
   "cell_type": "code",
   "execution_count": 58,
   "metadata": {},
   "outputs": [
    {
     "name": "stdout",
     "output_type": "stream",
     "text": [
      "0\n",
      "Not Found\n"
     ]
    },
    {
     "ename": "KeyboardInterrupt",
     "evalue": "",
     "output_type": "error",
     "traceback": [
      "\u001b[0;31m---------------------------------------------------------------------------\u001b[0m",
      "\u001b[0;31mKeyboardInterrupt\u001b[0m                         Traceback (most recent call last)",
      "\u001b[0;32m<ipython-input-58-69ff62e8e7cc>\u001b[0m in \u001b[0;36m<module>\u001b[0;34m\u001b[0m\n\u001b[0;32m----> 1\u001b[0;31m \u001b[0mdf\u001b[0m \u001b[0;34m=\u001b[0m \u001b[0mproccecing_list\u001b[0m\u001b[0;34m(\u001b[0m\u001b[0;34m\"custom-1351846445472372737\"\u001b[0m\u001b[0;34m,\u001b[0m \u001b[0mtweet_list\u001b[0m\u001b[0;34m)\u001b[0m\u001b[0;34m\u001b[0m\u001b[0;34m\u001b[0m\u001b[0m\n\u001b[0m",
      "\u001b[0;32m<ipython-input-10-3fa3013dafc3>\u001b[0m in \u001b[0;36mproccecing_list\u001b[0;34m(collection_id, tweet_list)\u001b[0m\n\u001b[1;32m     11\u001b[0m             \u001b[0mprint\u001b[0m\u001b[0;34m(\u001b[0m\u001b[0mcounter\u001b[0m\u001b[0;34m)\u001b[0m\u001b[0;34m\u001b[0m\u001b[0;34m\u001b[0m\u001b[0m\n\u001b[1;32m     12\u001b[0m             \u001b[0mprint\u001b[0m\u001b[0;34m(\u001b[0m\u001b[0mresponse\u001b[0m\u001b[0;34m.\u001b[0m\u001b[0mreason\u001b[0m\u001b[0;34m)\u001b[0m\u001b[0;34m\u001b[0m\u001b[0;34m\u001b[0m\u001b[0m\n\u001b[0;32m---> 13\u001b[0;31m             \u001b[0mtime\u001b[0m\u001b[0;34m.\u001b[0m\u001b[0msleep\u001b[0m\u001b[0;34m(\u001b[0m\u001b[0;36m60\u001b[0m\u001b[0;34m)\u001b[0m\u001b[0;34m\u001b[0m\u001b[0;34m\u001b[0m\u001b[0m\n\u001b[0m\u001b[1;32m     14\u001b[0m \u001b[0;34m\u001b[0m\u001b[0m\n\u001b[1;32m     15\u001b[0m         \u001b[0;32mif\u001b[0m \u001b[0mresponse\u001b[0m\u001b[0;34m.\u001b[0m\u001b[0mreason\u001b[0m \u001b[0;34m==\u001b[0m \u001b[0;34m\"OK\"\u001b[0m\u001b[0;34m:\u001b[0m\u001b[0;34m\u001b[0m\u001b[0;34m\u001b[0m\u001b[0m\n",
      "\u001b[0;31mKeyboardInterrupt\u001b[0m: "
     ]
    }
   ],
   "source": [
    "df = proccecing_list(\"custom-1351846445472372737\", tweet_list)"
   ]
  },
  {
   "cell_type": "code",
   "execution_count": 21,
   "metadata": {},
   "outputs": [
    {
     "data": {
      "text/plain": [
       "(770, 2)"
      ]
     },
     "execution_count": 21,
     "metadata": {},
     "output_type": "execute_result"
    }
   ],
   "source": [
    "df.shape"
   ]
  },
  {
   "cell_type": "code",
   "execution_count": 22,
   "metadata": {},
   "outputs": [
    {
     "name": "stdout",
     "output_type": "stream",
     "text": [
      "20 / 840\n",
      "40 / 840\n",
      "60 / 840\n",
      "80 / 840\n",
      "100 / 840\n",
      "120 / 840\n",
      "140 / 840\n",
      "160 / 840\n",
      "180 / 840\n",
      "200 / 840\n",
      "220 / 840\n",
      "240 / 840\n",
      "260 / 840\n",
      "280 / 840\n",
      "300 / 840\n",
      "320 / 840\n",
      "340 / 840\n",
      "360 / 840\n",
      "380 / 840\n",
      "400 / 840\n",
      "420 / 840\n",
      "440 / 840\n",
      "460 / 840\n",
      "480 / 840\n",
      "500 / 840\n",
      "520 / 840\n",
      "540 / 840\n",
      "560 / 840\n",
      "580 / 840\n",
      "600 / 840\n",
      "620 / 840\n",
      "640 / 840\n",
      "660 / 840\n",
      "680 / 840\n",
      "700 / 840\n",
      "720 / 840\n",
      "740 / 840\n",
      "760 / 840\n",
      "780 / 840\n",
      "800 / 840\n",
      "820 / 840\n",
      "840 / 840\n",
      "                   616\n",
      "not_found          202\n",
      "protected_tweet     14\n",
      "duplicate            8\n",
      "Name: err_reason, dtype: int64\n"
     ]
    }
   ],
   "source": [
    "df2 = proccecing_list(\"custom-1351839030959288320\", tweet_list.tolist()[760:])"
   ]
  },
  {
   "cell_type": "code",
   "execution_count": 23,
   "metadata": {},
   "outputs": [
    {
     "data": {
      "text/html": [
       "<div>\n",
       "<style scoped>\n",
       "    .dataframe tbody tr th:only-of-type {\n",
       "        vertical-align: middle;\n",
       "    }\n",
       "\n",
       "    .dataframe tbody tr th {\n",
       "        vertical-align: top;\n",
       "    }\n",
       "\n",
       "    .dataframe thead th {\n",
       "        text-align: right;\n",
       "    }\n",
       "</style>\n",
       "<table border=\"1\" class=\"dataframe\">\n",
       "  <thead>\n",
       "    <tr style=\"text-align: right;\">\n",
       "      <th></th>\n",
       "      <th>tweet_id</th>\n",
       "      <th>err_reason</th>\n",
       "    </tr>\n",
       "  </thead>\n",
       "  <tbody>\n",
       "    <tr>\n",
       "      <th>0</th>\n",
       "      <td>1337875267096875015</td>\n",
       "      <td></td>\n",
       "    </tr>\n",
       "    <tr>\n",
       "      <th>1</th>\n",
       "      <td>1335698027537969155</td>\n",
       "      <td></td>\n",
       "    </tr>\n",
       "    <tr>\n",
       "      <th>2</th>\n",
       "      <td>1345699105385959435</td>\n",
       "      <td>not_found</td>\n",
       "    </tr>\n",
       "    <tr>\n",
       "      <th>3</th>\n",
       "      <td>1336874318882467842</td>\n",
       "      <td></td>\n",
       "    </tr>\n",
       "    <tr>\n",
       "      <th>4</th>\n",
       "      <td>1337717825629253633</td>\n",
       "      <td>not_found</td>\n",
       "    </tr>\n",
       "    <tr>\n",
       "      <th>...</th>\n",
       "      <td>...</td>\n",
       "      <td>...</td>\n",
       "    </tr>\n",
       "    <tr>\n",
       "      <th>765</th>\n",
       "      <td>1336759256041840645</td>\n",
       "      <td></td>\n",
       "    </tr>\n",
       "    <tr>\n",
       "      <th>766</th>\n",
       "      <td>755026645069750272</td>\n",
       "      <td></td>\n",
       "    </tr>\n",
       "    <tr>\n",
       "      <th>767</th>\n",
       "      <td>1336457867235364867</td>\n",
       "      <td></td>\n",
       "    </tr>\n",
       "    <tr>\n",
       "      <th>768</th>\n",
       "      <td>1339354804435341314</td>\n",
       "      <td></td>\n",
       "    </tr>\n",
       "    <tr>\n",
       "      <th>769</th>\n",
       "      <td>1336466296800649217</td>\n",
       "      <td></td>\n",
       "    </tr>\n",
       "  </tbody>\n",
       "</table>\n",
       "<p>770 rows × 2 columns</p>\n",
       "</div>"
      ],
      "text/plain": [
       "                tweet_id err_reason\n",
       "0    1337875267096875015           \n",
       "1    1335698027537969155           \n",
       "2    1345699105385959435  not_found\n",
       "3    1336874318882467842           \n",
       "4    1337717825629253633  not_found\n",
       "..                   ...        ...\n",
       "765  1336759256041840645           \n",
       "766   755026645069750272           \n",
       "767  1336457867235364867           \n",
       "768  1339354804435341314           \n",
       "769  1336466296800649217           \n",
       "\n",
       "[770 rows x 2 columns]"
      ]
     },
     "execution_count": 23,
     "metadata": {},
     "output_type": "execute_result"
    }
   ],
   "source": [
    "df"
   ]
  },
  {
   "cell_type": "code",
   "execution_count": 24,
   "metadata": {},
   "outputs": [
    {
     "data": {
      "text/html": [
       "<div>\n",
       "<style scoped>\n",
       "    .dataframe tbody tr th:only-of-type {\n",
       "        vertical-align: middle;\n",
       "    }\n",
       "\n",
       "    .dataframe tbody tr th {\n",
       "        vertical-align: top;\n",
       "    }\n",
       "\n",
       "    .dataframe thead th {\n",
       "        text-align: right;\n",
       "    }\n",
       "</style>\n",
       "<table border=\"1\" class=\"dataframe\">\n",
       "  <thead>\n",
       "    <tr style=\"text-align: right;\">\n",
       "      <th></th>\n",
       "      <th>tweet_id</th>\n",
       "      <th>err_reason</th>\n",
       "    </tr>\n",
       "  </thead>\n",
       "  <tbody>\n",
       "    <tr>\n",
       "      <th>0</th>\n",
       "      <td>1340113559712350211</td>\n",
       "      <td>not_found</td>\n",
       "    </tr>\n",
       "    <tr>\n",
       "      <th>1</th>\n",
       "      <td>1337484424909209601</td>\n",
       "      <td>duplicate</td>\n",
       "    </tr>\n",
       "    <tr>\n",
       "      <th>2</th>\n",
       "      <td>1345334329698877441</td>\n",
       "      <td>duplicate</td>\n",
       "    </tr>\n",
       "    <tr>\n",
       "      <th>3</th>\n",
       "      <td>1339020019951349762</td>\n",
       "      <td>duplicate</td>\n",
       "    </tr>\n",
       "    <tr>\n",
       "      <th>4</th>\n",
       "      <td>1337920190340681729</td>\n",
       "      <td>not_found</td>\n",
       "    </tr>\n",
       "    <tr>\n",
       "      <th>...</th>\n",
       "      <td>...</td>\n",
       "      <td>...</td>\n",
       "    </tr>\n",
       "    <tr>\n",
       "      <th>835</th>\n",
       "      <td>1337184446789931008</td>\n",
       "      <td>not_found</td>\n",
       "    </tr>\n",
       "    <tr>\n",
       "      <th>836</th>\n",
       "      <td>1341250063876550656</td>\n",
       "      <td></td>\n",
       "    </tr>\n",
       "    <tr>\n",
       "      <th>837</th>\n",
       "      <td>1336231355110322177</td>\n",
       "      <td>not_found</td>\n",
       "    </tr>\n",
       "    <tr>\n",
       "      <th>838</th>\n",
       "      <td>1344289183456768002</td>\n",
       "      <td></td>\n",
       "    </tr>\n",
       "    <tr>\n",
       "      <th>839</th>\n",
       "      <td>1344038663760576520</td>\n",
       "      <td>protected_tweet</td>\n",
       "    </tr>\n",
       "  </tbody>\n",
       "</table>\n",
       "<p>840 rows × 2 columns</p>\n",
       "</div>"
      ],
      "text/plain": [
       "                tweet_id       err_reason\n",
       "0    1340113559712350211        not_found\n",
       "1    1337484424909209601        duplicate\n",
       "2    1345334329698877441        duplicate\n",
       "3    1339020019951349762        duplicate\n",
       "4    1337920190340681729        not_found\n",
       "..                   ...              ...\n",
       "835  1337184446789931008        not_found\n",
       "836  1341250063876550656                 \n",
       "837  1336231355110322177        not_found\n",
       "838  1344289183456768002                 \n",
       "839  1344038663760576520  protected_tweet\n",
       "\n",
       "[840 rows x 2 columns]"
      ]
     },
     "execution_count": 24,
     "metadata": {},
     "output_type": "execute_result"
    }
   ],
   "source": [
    "df2"
   ]
  },
  {
   "cell_type": "code",
   "execution_count": 26,
   "metadata": {},
   "outputs": [],
   "source": [
    "frames = [df, df2]"
   ]
  },
  {
   "cell_type": "code",
   "execution_count": 27,
   "metadata": {},
   "outputs": [],
   "source": [
    "result = pd.concat(frames)"
   ]
  },
  {
   "cell_type": "code",
   "execution_count": 31,
   "metadata": {},
   "outputs": [],
   "source": [
    "result.drop_duplicates(subset=\"tweet_id\",  inplace=True)"
   ]
  },
  {
   "cell_type": "code",
   "execution_count": 32,
   "metadata": {},
   "outputs": [
    {
     "data": {
      "text/html": [
       "<div>\n",
       "<style scoped>\n",
       "    .dataframe tbody tr th:only-of-type {\n",
       "        vertical-align: middle;\n",
       "    }\n",
       "\n",
       "    .dataframe tbody tr th {\n",
       "        vertical-align: top;\n",
       "    }\n",
       "\n",
       "    .dataframe thead th {\n",
       "        text-align: right;\n",
       "    }\n",
       "</style>\n",
       "<table border=\"1\" class=\"dataframe\">\n",
       "  <thead>\n",
       "    <tr style=\"text-align: right;\">\n",
       "      <th></th>\n",
       "      <th>tweet_id</th>\n",
       "      <th>err_reason</th>\n",
       "    </tr>\n",
       "  </thead>\n",
       "  <tbody>\n",
       "    <tr>\n",
       "      <th>0</th>\n",
       "      <td>1337875267096875015</td>\n",
       "      <td></td>\n",
       "    </tr>\n",
       "    <tr>\n",
       "      <th>1</th>\n",
       "      <td>1335698027537969155</td>\n",
       "      <td></td>\n",
       "    </tr>\n",
       "    <tr>\n",
       "      <th>2</th>\n",
       "      <td>1345699105385959435</td>\n",
       "      <td>not_found</td>\n",
       "    </tr>\n",
       "    <tr>\n",
       "      <th>3</th>\n",
       "      <td>1336874318882467842</td>\n",
       "      <td></td>\n",
       "    </tr>\n",
       "    <tr>\n",
       "      <th>4</th>\n",
       "      <td>1337717825629253633</td>\n",
       "      <td>not_found</td>\n",
       "    </tr>\n",
       "    <tr>\n",
       "      <th>...</th>\n",
       "      <td>...</td>\n",
       "      <td>...</td>\n",
       "    </tr>\n",
       "    <tr>\n",
       "      <th>835</th>\n",
       "      <td>1337184446789931008</td>\n",
       "      <td>not_found</td>\n",
       "    </tr>\n",
       "    <tr>\n",
       "      <th>836</th>\n",
       "      <td>1341250063876550656</td>\n",
       "      <td></td>\n",
       "    </tr>\n",
       "    <tr>\n",
       "      <th>837</th>\n",
       "      <td>1336231355110322177</td>\n",
       "      <td>not_found</td>\n",
       "    </tr>\n",
       "    <tr>\n",
       "      <th>838</th>\n",
       "      <td>1344289183456768002</td>\n",
       "      <td></td>\n",
       "    </tr>\n",
       "    <tr>\n",
       "      <th>839</th>\n",
       "      <td>1344038663760576520</td>\n",
       "      <td>protected_tweet</td>\n",
       "    </tr>\n",
       "  </tbody>\n",
       "</table>\n",
       "<p>1600 rows × 2 columns</p>\n",
       "</div>"
      ],
      "text/plain": [
       "                tweet_id       err_reason\n",
       "0    1337875267096875015                 \n",
       "1    1335698027537969155                 \n",
       "2    1345699105385959435        not_found\n",
       "3    1336874318882467842                 \n",
       "4    1337717825629253633        not_found\n",
       "..                   ...              ...\n",
       "835  1337184446789931008        not_found\n",
       "836  1341250063876550656                 \n",
       "837  1336231355110322177        not_found\n",
       "838  1344289183456768002                 \n",
       "839  1344038663760576520  protected_tweet\n",
       "\n",
       "[1600 rows x 2 columns]"
      ]
     },
     "execution_count": 32,
     "metadata": {},
     "output_type": "execute_result"
    }
   ],
   "source": [
    "result"
   ]
  },
  {
   "cell_type": "code",
   "execution_count": 34,
   "metadata": {},
   "outputs": [
    {
     "data": {
      "text/plain": [
       "                   1187\n",
       "not_found           389\n",
       "protected_tweet      24\n",
       "Name: err_reason, dtype: int64"
      ]
     },
     "execution_count": 34,
     "metadata": {},
     "output_type": "execute_result"
    }
   ],
   "source": [
    "result[\"err_reason\"].value_counts()"
   ]
  },
  {
   "cell_type": "code",
   "execution_count": 35,
   "metadata": {},
   "outputs": [],
   "source": [
    "result.to_csv('seen.csv', index=False)"
   ]
  },
  {
   "cell_type": "code",
   "execution_count": null,
   "metadata": {},
   "outputs": [],
   "source": []
  },
  {
   "cell_type": "code",
   "execution_count": null,
   "metadata": {},
   "outputs": [],
   "source": []
  }
 ],
 "metadata": {
  "kernelspec": {
   "display_name": "Python 3",
   "language": "python",
   "name": "python3"
  },
  "language_info": {
   "codemirror_mode": {
    "name": "ipython",
    "version": 3
   },
   "file_extension": ".py",
   "mimetype": "text/x-python",
   "name": "python",
   "nbconvert_exporter": "python",
   "pygments_lexer": "ipython3",
   "version": "3.8.5"
  },
  "varInspector": {
   "cols": {
    "lenName": 16,
    "lenType": 16,
    "lenVar": 40
   },
   "kernels_config": {
    "python": {
     "delete_cmd_postfix": "",
     "delete_cmd_prefix": "del ",
     "library": "var_list.py",
     "varRefreshCmd": "print(var_dic_list())"
    },
    "r": {
     "delete_cmd_postfix": ") ",
     "delete_cmd_prefix": "rm(",
     "library": "var_list.r",
     "varRefreshCmd": "cat(var_dic_list()) "
    }
   },
   "types_to_exclude": [
    "module",
    "function",
    "builtin_function_or_method",
    "instance",
    "_Feature"
   ],
   "window_display": false
  }
 },
 "nbformat": 4,
 "nbformat_minor": 4
}
